{
 "cells": [
  {
   "cell_type": "markdown",
   "metadata": {},
   "source": [
    "# Python для анализа данных\n",
    "\n",
    "## Web-scraping: дополнительный материал\n",
    "\n",
    "*Автор: Ян Пиле, НИУ ВШЭ*  \n",
    "\n",
    "### Давайте немного расширим наши знания о методах в Python (библиотека Collections)"
   ]
  },
  {
   "cell_type": "markdown",
   "metadata": {},
   "source": [
    "**collections.Counter** - вид словаря, который позволяет нам считать количество неизменяемых объектов (в большинстве случаев, строк)."
   ]
  },
  {
   "cell_type": "code",
   "execution_count": 16,
   "metadata": {},
   "outputs": [
    {
     "data": {
      "text/plain": [
       "Counter({1: 6, 2: 3, 3: 6, 4: 2, 5: 1, 6: 1, 31: 1})"
      ]
     },
     "execution_count": 16,
     "metadata": {},
     "output_type": "execute_result"
    }
   ],
   "source": [
    "import collections\n",
    "\n",
    "lst = (1,2,3,4,2,2,3,4,5,6,3,3,3,3,31,1,1,1,1,1)\n",
    "a = collections.Counter(lst)\n",
    "a"
   ]
  },
  {
   "cell_type": "markdown",
   "metadata": {},
   "source": [
    "Метод most_common() возвращает словарь отсортированный по values в виде списка кортежей"
   ]
  },
  {
   "cell_type": "code",
   "execution_count": 7,
   "metadata": {},
   "outputs": [
    {
     "data": {
      "text/plain": [
       "[(1, 6), (3, 6), (2, 3), (4, 2), (5, 1), (6, 1), (31, 1)]"
      ]
     },
     "execution_count": 7,
     "metadata": {},
     "output_type": "execute_result"
    }
   ],
   "source": [
    "a.most_common()"
   ]
  },
  {
   "cell_type": "markdown",
   "metadata": {},
   "source": [
    "Метод most_common(1) возвращает моду вашего распределения (самое частое значение)"
   ]
  },
  {
   "cell_type": "code",
   "execution_count": 9,
   "metadata": {},
   "outputs": [
    {
     "data": {
      "text/plain": [
       "[(1, 6)]"
      ]
     },
     "execution_count": 9,
     "metadata": {},
     "output_type": "execute_result"
    }
   ],
   "source": [
    "a.most_common(1)"
   ]
  },
  {
   "cell_type": "markdown",
   "metadata": {},
   "source": [
    "**Наиболее часто употребляемые шаблоны для работы с Counter:**\n",
    "\n",
    "* sum(c.values()) - общее количество.\n",
    "* c.clear() - очистить счётчик.\n",
    "* list(c) - список уникальных элементов.\n",
    "* set(c) - преобразовать в множество.\n",
    "* dict(c) - преобразовать в словарь.\n",
    "* c.most_common()[:-n:-1] - n-1 наименее часто встречающихся элементов."
   ]
  },
  {
   "cell_type": "code",
   "execution_count": 17,
   "metadata": {},
   "outputs": [
    {
     "data": {
      "text/plain": [
       "{1: 6, 2: 3, 3: 6, 4: 2, 5: 1, 6: 1, 31: 1}"
      ]
     },
     "execution_count": 17,
     "metadata": {},
     "output_type": "execute_result"
    }
   ],
   "source": [
    "dict(a)"
   ]
  },
  {
   "cell_type": "markdown",
   "metadata": {},
   "source": [
    "А еще он умеет работать со строками"
   ]
  },
  {
   "cell_type": "code",
   "execution_count": 11,
   "metadata": {},
   "outputs": [
    {
     "data": {
      "text/plain": [
       "[('a', 5), ('b', 2), ('r', 2)]"
      ]
     },
     "execution_count": 11,
     "metadata": {},
     "output_type": "execute_result"
    }
   ],
   "source": [
    "collections.Counter('abracadabra').most_common(3)"
   ]
  },
  {
   "cell_type": "markdown",
   "metadata": {},
   "source": [
    "# И давайте еще задачек\n",
    "\n",
    "Взять с Википедии список нобелевских лауреатов по литературе и посчитать их распределение: \n",
    "* по странам\n",
    "* по языкам произведений\n",
    "\n",
    "Сколько авторов получили премию за мастерство в жанре:\n",
    "* романа\n",
    "* поэзии\n",
    "* короткого рассказа\n",
    "* драматического произведения\n",
    "\n",
    "Предлагаю решить задачу про языки и жанры, а задачу о странах попробуйте решить сами.\n",
    "\n",
    "Достанем html-текст страницы (мы уже такое делали)"
   ]
  },
  {
   "cell_type": "code",
   "execution_count": 20,
   "metadata": {},
   "outputs": [],
   "source": [
    "import requests\n",
    "nobel = requests.get('https://en.wikipedia.org/wiki/List_of_Nobel_laureates_in_Literature').text\n",
    "#print(nobel)"
   ]
  },
  {
   "cell_type": "markdown",
   "metadata": {},
   "source": [
    "Теперь обработаем выгруженный текст с помощью Beautiful Soup и \"развернем\" дерево тегов"
   ]
  },
  {
   "cell_type": "code",
   "execution_count": 22,
   "metadata": {},
   "outputs": [],
   "source": [
    "from bs4 import BeautifulSoup\n",
    "\n",
    "nobel_materials = BeautifulSoup(nobel,'lxml')\n",
    "\n",
    "#print(nobel_materials.prettify())"
   ]
  },
  {
   "cell_type": "markdown",
   "metadata": {},
   "source": [
    "Оказывается, что на странице целых 9 таблиц!"
   ]
  },
  {
   "cell_type": "code",
   "execution_count": 23,
   "metadata": {},
   "outputs": [
    {
     "data": {
      "text/plain": [
       "9"
      ]
     },
     "execution_count": 23,
     "metadata": {},
     "output_type": "execute_result"
    }
   ],
   "source": [
    "len(nobel_materials.find_all('table'))"
   ]
  },
  {
   "cell_type": "markdown",
   "metadata": {},
   "source": [
    "Но интересующая нас таьблица снова обладает свойством 'wikitable sortable'. По нему-то мы ее и идентифицируем"
   ]
  },
  {
   "cell_type": "code",
   "execution_count": 24,
   "metadata": {},
   "outputs": [],
   "source": [
    "My_nobel_materials = nobel_materials.find_all('table',{'class':'wikitable sortable'})\n",
    "# My_nobel_materials"
   ]
  },
  {
   "cell_type": "markdown",
   "metadata": {},
   "source": [
    "Превратим таблицу в список строк (каждая строка размечается тегом tr)"
   ]
  },
  {
   "cell_type": "code",
   "execution_count": 25,
   "metadata": {},
   "outputs": [],
   "source": [
    "rows = My_nobel_materials[0].find_all('tr')\n",
    "# rows"
   ]
  },
  {
   "cell_type": "markdown",
   "metadata": {},
   "source": [
    "В нулевом элементе списка будут лежат заголовки, а в первом - информация о первом нобелевском лауреате. Это Сюлли Прюдом. Отлично, именно о нем информацию мы и видим."
   ]
  },
  {
   "cell_type": "code",
   "execution_count": 26,
   "metadata": {},
   "outputs": [
    {
     "data": {
      "text/plain": [
       "<tr>\n",
       "<td>1901\n",
       "</td>\n",
       "<td><a class=\"image\" href=\"/wiki/File:Sully-Prudhomme.jpg\"><img alt=\"Sully-Prudhomme.jpg\" data-file-height=\"396\" data-file-width=\"280\" decoding=\"async\" height=\"106\" src=\"//upload.wikimedia.org/wikipedia/commons/thumb/3/39/Sully-Prudhomme.jpg/75px-Sully-Prudhomme.jpg\" srcset=\"//upload.wikimedia.org/wikipedia/commons/thumb/3/39/Sully-Prudhomme.jpg/113px-Sully-Prudhomme.jpg 1.5x, //upload.wikimedia.org/wikipedia/commons/thumb/3/39/Sully-Prudhomme.jpg/150px-Sully-Prudhomme.jpg 2x\" width=\"75\"/></a>\n",
       "</td>\n",
       "<td><a href=\"/wiki/Sully_Prudhomme\" title=\"Sully Prudhomme\">Sully Prudhomme</a>\n",
       "</td>\n",
       "<td data-sort-value=\"France\"><span class=\"flagicon\"><img alt=\"\" class=\"thumbborder\" data-file-height=\"600\" data-file-width=\"900\" decoding=\"async\" height=\"15\" src=\"//upload.wikimedia.org/wikipedia/commons/thumb/3/3a/Flag_of_France_%281794%E2%80%931815%2C_1830%E2%80%931958%29.svg/23px-Flag_of_France_%281794%E2%80%931815%2C_1830%E2%80%931958%29.svg.png\" srcset=\"//upload.wikimedia.org/wikipedia/commons/thumb/3/3a/Flag_of_France_%281794%E2%80%931815%2C_1830%E2%80%931958%29.svg/35px-Flag_of_France_%281794%E2%80%931815%2C_1830%E2%80%931958%29.svg.png 1.5x, //upload.wikimedia.org/wikipedia/commons/thumb/3/3a/Flag_of_France_%281794%E2%80%931815%2C_1830%E2%80%931958%29.svg/45px-Flag_of_France_%281794%E2%80%931815%2C_1830%E2%80%931958%29.svg.png 2x\" width=\"23\"/> </span><a href=\"/wiki/French_Third_Republic\" title=\"French Third Republic\">France</a>\n",
       "</td>\n",
       "<td><a href=\"/wiki/French_language\" title=\"French language\">French</a>\n",
       "</td>\n",
       "<td>\"in special recognition of his poetic composition, which gives evidence of <a class=\"mw-redirect\" href=\"/wiki/Lofty_idealism\" title=\"Lofty idealism\">lofty idealism</a>, artistic perfection and a rare combination of the qualities of both heart and intellect\"<sup class=\"reference\" id=\"cite_ref-Literature1901_14-0\"><a href=\"#cite_note-Literature1901-14\">[14]</a></sup>\n",
       "</td>\n",
       "<td>poetry, essay\n",
       "</td></tr>"
      ]
     },
     "execution_count": 26,
     "metadata": {},
     "output_type": "execute_result"
    }
   ],
   "source": [
    "rows[1]"
   ]
  },
  {
   "cell_type": "markdown",
   "metadata": {},
   "source": [
    "Теперь попробуем достать список  лет из столбца Year. Заметим, что в 1904 году премия была вручена двоим номинантам (на обоих в таблице визуально видна одна ячейка даты)"
   ]
  },
  {
   "cell_type": "code",
   "execution_count": 27,
   "metadata": {},
   "outputs": [],
   "source": [
    "Dates = []\n",
    "\n",
    "Dates.append(rows[0].find_all('th')[0].get_text().strip()) # отдельно добавляем заголовок"
   ]
  },
  {
   "cell_type": "code",
   "execution_count": 28,
   "metadata": {},
   "outputs": [
    {
     "name": "stdout",
     "output_type": "stream",
     "text": [
      "['Year', '1901', '1902', '1903', '1904', '', '1905', '1906', '1907', '1908', '1909', '1910', '1911', '1912', '1913', '1914', '1915', '1916', '1917', '', '1918', '1919', '1920', '1921', '1922', '1923', '1924', '1925', '1926', '1927', '1928', '1929', '1930', '1931', '1932', '1933', '1934', '1935', '1936', '1937', '1938', '1939', '1940', '1941', '1942', '1943', '1944', '1945', '1946', '1947', '1948', '1949', '1950', '1951', '1952', '1953', '1954', '1955', '1956', '1957', '1958', '1959', '1960', '1961', '1962', '1963', '1964', '1965', '1966', '', '1967', '1968', '1969', '1970', '1971', '1972', '1973', '1974', '', '1975', '1976', '1977', '1978', '1979', '1980', '1981', '1982', '1983', '1984', '1985', '1986', '1987', '1988', '1989', '1990', '1991', '1992', '1993', '1994', '1995', '1996', '1997', '1998', '1999', '2000', '2001', '2002', '2003', '2004', '2005', '2006', '2007', '2008', '2009', '2010', '2011', '2012', '2013', '2014', '2015', '2016', '2017', '2018 (awarded 2019)', '2019']\n"
     ]
    }
   ],
   "source": [
    "for row in rows[1:]: # начинаем со второго ряда таблицы, потому что 0 уже обработали выше\n",
    "    r = row.find_all('td') # находим все теги td для строки таблицы\n",
    "    Dates.append(r[0].get_text().strip())\n",
    "    \n",
    "    \n",
    "\n",
    "print(Dates)"
   ]
  },
  {
   "cell_type": "markdown",
   "metadata": {},
   "source": [
    "Почему-то у одного из лауреатов 1904 года дата отсутствует! Это связано с тем, что в таблице на самом деле неодинаковое число столбцов в каждой строке. Например, в записях, когда премия не вручалась, столбца всего два, а в годы, когда премию получало два человека, для второго человека поле Year отсутствует. Получается, что в случае пустого значения года нам нужно заполнять его предыдущим значением в списке (если у человека в таблице года нет, значитв этом году премия вручалась нескольким людям, а значит можно достать предыдущее значение и вставить его вместо пропущенного). Для этого введем переменную retained и будем хранить в ней предыдущее значение даты на случай пропущенного года."
   ]
  },
  {
   "cell_type": "code",
   "execution_count": 29,
   "metadata": {},
   "outputs": [
    {
     "name": "stdout",
     "output_type": "stream",
     "text": [
      "['Year', '1901', '1902', '1903', '1904', '1904', '1905', '1906', '1907', '1908', '1909', '1910', '1911', '1912', '1913', '1914', '1915', '1916', '1917', '1917', '1918', '1919', '1920', '1921', '1922', '1923', '1924', '1925', '1926', '1927', '1928', '1929', '1930', '1931', '1932', '1933', '1934', '1935', '1936', '1937', '1938', '1939', '1940', '1941', '1942', '1943', '1944', '1945', '1946', '1947', '1948', '1949', '1950', '1951', '1952', '1953', '1954', '1955', '1956', '1957', '1958', '1959', '1960', '1961', '1962', '1963', '1964', '1965', '1966', '1966', '1967', '1968', '1969', '1970', '1971', '1972', '1973', '1974', '1974', '1975', '1976', '1977', '1978', '1979', '1980', '1981', '1982', '1983', '1984', '1985', '1986', '1987', '1988', '1989', '1990', '1991', '1992', '1993', '1994', '1995', '1996', '1997', '1998', '1999', '2000', '2001', '2002', '2003', '2004', '2005', '2006', '2007', '2008', '2009', '2010', '2011', '2012', '2013', '2014', '2015', '2016', '2017', '2018 (awarded 2019)', '2019']\n"
     ]
    }
   ],
   "source": [
    "Dates = []\n",
    "\n",
    "Dates.append(rows[0].find_all('th')[0].get_text().strip()) # отдельно добавляем заголовок\n",
    "for row in rows[1:]: # начинаем со второго ряда таблицы, потому что 0 уже обработали выше\n",
    "    r = row.find_all('td') # находим все теги td для строки таблицы\n",
    "    if r[0].get_text().strip() != '':\n",
    "        Dates.append(r[0].get_text().strip())\n",
    "        retained = r[0].get_text().strip()\n",
    "    else:\n",
    "        Dates.append(retained)# сохраняем данные в наш список\n",
    "    \n",
    "\n",
    "print(Dates)"
   ]
  },
  {
   "cell_type": "markdown",
   "metadata": {},
   "source": [
    "А еще можно \"заткнуть\" дырку в дате с помощью проверки атрибута rowspan (дата распространяется на кол-во строк >1, в нашем случае - на 2). "
   ]
  },
  {
   "cell_type": "code",
   "execution_count": 30,
   "metadata": {},
   "outputs": [
    {
     "name": "stdout",
     "output_type": "stream",
     "text": [
      "['1901', '1902', '1903', '1904', '1904', '1905', '1906', '1907', '1908', '1909', '1910', '1911', '1912', '1913', '1914', '1915', '1916', '1917', '1917', '1918', '1919', '1920', '1921', '1922', '1923', '1924', '1925', '1926', '1927', '1928', '1929', '1930', '1931', '1932', '1933', '1934', '1935', '1936', '1937', '1938', '1939', '1940', '1941', '1942', '1943', '1944', '1945', '1946', '1947', '1948', '1949', '1950', '1951', '1952', '1953', '1954', '1955', '1956', '1957', '1958', '1959', '1960', '1961', '1962', '1963', '1964', '1965', '1966', '1966', '1967', '1968', '1969', '1970', '1971', '1972', '1973', '1974', '1974', '1975', '1976', '1977', '1978', '1979', '1980', '1981', '1982', '1983', '1984', '1985', '1986', '1987', '1988', '1989', '1990', '1991', '1992', '1993', '1994', '1995', '1996', '1997', '1998', '1999', '2000', '2001', '2002', '2003', '2004', '2005', '2006', '2007', '2008', '2009', '2010', '2011', '2012', '2013', '2014', '2015', '2016', '2017', '2018 (awarded 2019)', '2019']\n"
     ]
    }
   ],
   "source": [
    "soup = BeautifulSoup(requests.get('https://en.wikipedia.org/wiki/List_of_Nobel_laureates_in_Literature').text, 'lxml')\n",
    "tables = soup.find_all('table')\n",
    "year = []\n",
    "tmp=''\n",
    "for row in tables[0].find_all('tr')[1:]:\n",
    "    data=row.find_all('td')[0]\n",
    "    #Проверяем объединение столбцов\n",
    "    if int(data.attrs.get('rowspan',0))==2:\n",
    "        tmp=data.text.strip()\n",
    "        year.append(data.text.strip())\n",
    "    elif tmp=='':\n",
    "        year.append(data.text.strip())\n",
    "    else:\n",
    "        year.append(tmp)\n",
    "        tmp=''\n",
    "          \n",
    "print(year)"
   ]
  },
  {
   "cell_type": "markdown",
   "metadata": {},
   "source": [
    "Победа! Теперь попробуем отыскать языки произведений авторов. Сначала запишем название колонки (как всегда)"
   ]
  },
  {
   "cell_type": "code",
   "execution_count": 31,
   "metadata": {},
   "outputs": [
    {
     "data": {
      "text/plain": [
       "['Language(s)']"
      ]
     },
     "execution_count": 31,
     "metadata": {},
     "output_type": "execute_result"
    }
   ],
   "source": [
    "Language = []\n",
    "Language.append(rows[0].find_all('th')[4].get_text().strip()) # отдельно добавляем заголовок\n",
    "Language"
   ]
  },
  {
   "cell_type": "markdown",
   "metadata": {},
   "source": [
    "Ну а теперь попытаемся достать язык произведения"
   ]
  },
  {
   "cell_type": "code",
   "execution_count": 32,
   "metadata": {},
   "outputs": [
    {
     "ename": "IndexError",
     "evalue": "list index out of range",
     "output_type": "error",
     "traceback": [
      "\u001b[1;31m---------------------------------------------------------------------------\u001b[0m",
      "\u001b[1;31mIndexError\u001b[0m                                Traceback (most recent call last)",
      "\u001b[1;32m<ipython-input-32-9bebe6632091>\u001b[0m in \u001b[0;36m<module>\u001b[1;34m()\u001b[0m\n\u001b[0;32m      1\u001b[0m \u001b[1;32mfor\u001b[0m \u001b[0mrow\u001b[0m \u001b[1;32min\u001b[0m \u001b[0mrows\u001b[0m\u001b[1;33m[\u001b[0m\u001b[1;36m1\u001b[0m\u001b[1;33m:\u001b[0m\u001b[1;33m]\u001b[0m\u001b[1;33m:\u001b[0m \u001b[1;31m# начинаем со второго ряда таблицы, потому что 0 уже обработали выше\u001b[0m\u001b[1;33m\u001b[0m\u001b[0m\n\u001b[0;32m      2\u001b[0m     \u001b[0mr\u001b[0m \u001b[1;33m=\u001b[0m \u001b[0mrow\u001b[0m\u001b[1;33m.\u001b[0m\u001b[0mfind_all\u001b[0m\u001b[1;33m(\u001b[0m\u001b[1;34m'td'\u001b[0m\u001b[1;33m)\u001b[0m \u001b[1;31m# находим все теги td для строки таблицы\u001b[0m\u001b[1;33m\u001b[0m\u001b[0m\n\u001b[1;32m----> 3\u001b[1;33m     \u001b[0mLanguage\u001b[0m\u001b[1;33m.\u001b[0m\u001b[0mappend\u001b[0m\u001b[1;33m(\u001b[0m\u001b[0mr\u001b[0m\u001b[1;33m[\u001b[0m\u001b[1;36m4\u001b[0m\u001b[1;33m]\u001b[0m\u001b[1;33m.\u001b[0m\u001b[0mget_text\u001b[0m\u001b[1;33m(\u001b[0m\u001b[1;33m)\u001b[0m\u001b[1;33m.\u001b[0m\u001b[0mstrip\u001b[0m\u001b[1;33m(\u001b[0m\u001b[1;33m)\u001b[0m\u001b[1;33m)\u001b[0m\u001b[1;33m\u001b[0m\u001b[0m\n\u001b[0m\u001b[0;32m      4\u001b[0m \u001b[0mprint\u001b[0m\u001b[1;33m(\u001b[0m\u001b[0mLanguage\u001b[0m\u001b[1;33m)\u001b[0m\u001b[1;33m\u001b[0m\u001b[0m\n",
      "\u001b[1;31mIndexError\u001b[0m: list index out of range"
     ]
    }
   ],
   "source": [
    "for row in rows[1:]: # начинаем со второго ряда таблицы, потому что 0 уже обработали выше\n",
    "    r = row.find_all('td') # находим все теги td для строки таблицы\n",
    "    Language.append(r[4].get_text().strip()) \n",
    "print(Language)"
   ]
  },
  {
   "cell_type": "markdown",
   "metadata": {},
   "source": [
    "Ошибка! А дело в строках таблицы, соответствующих годам, когда премия не вручалась. В этих строках всего две колонки, а значит наша попытка достать язык произведения натыкается на IndexError. Ну, ничего, мы знакомы с конструкцией try-except, с ее помощью мы и обработаем наше исключение: Если исключения нет , будем доставать все как всегда, а если исключение сработало, то запишем в список заглушку \"Not awarded\""
   ]
  },
  {
   "cell_type": "code",
   "execution_count": 33,
   "metadata": {},
   "outputs": [
    {
     "name": "stdout",
     "output_type": "stream",
     "text": [
      "['Language(s)', 'French', 'German', 'Norwegian', 'Provençal', '\"in recognition of the numerous and brilliant compositions which, in an individual and original manner, have revived the great traditions of the Spanish drama\"[17]', 'Polish', 'Italian', 'English', 'German', 'Swedish', 'German', 'French', 'German', 'Bengali', 'French', 'German', 'Norwegian', 'Provençal', '\"in recognition of the numerous and brilliant compositions which, in an individual and original manner, have revived the great traditions of the Spanish drama\"[17]', 'Polish', 'Italian', 'English', 'German', 'Swedish', 'German', 'French', 'German', 'Bengali', 'Not awarded', 'French', 'Swedish', 'Danish', '\"for his authentic descriptions of present-day life in Denmark\"[29]', 'Not awarded', 'German', 'Norwegian', 'French', 'Spanish', 'English', 'Polish', 'English', 'Italian', 'French', 'Norwegian', 'German', 'English', 'Swedish', 'English', 'Russian', 'Italian', 'Not awarded', 'English', 'French', 'English', 'Finnish', 'Not awarded', 'Not awarded', 'Not awarded', 'Not awarded', 'Danish', 'Spanish', 'German', 'French', 'English', 'English', 'English', 'Swedish', 'French', 'English', 'English', 'Icelandic', 'Spanish', 'French', 'Russian', 'Italian', 'French', 'Serbo-Croatian', 'English', 'Greek', 'French', 'Russian', 'Hebrew', '\"for her outstanding lyrical and dramatic writing, which interprets Israel\\'s destiny with touching strength\"[73]', 'Spanish', 'Japanese', 'English and French', 'Russian', 'Spanish', 'German', 'English', 'Swedish', '\"for writings that catch the dewdrop and reflect the cosmos\"[81]', 'Italian', 'English', 'Spanish', 'Yiddish', 'Greek', 'Polish', 'German', 'Spanish', 'English', 'Czech', 'French', 'English', 'Russian and English', 'Arabic', 'Spanish', 'Spanish', 'English', 'English', 'English', 'Japanese', 'English', 'Polish', 'Italian', 'Portuguese', 'German', 'Chinese', 'English', 'Hungarian', 'English', 'German', 'English', 'Turkish', 'English', 'French', 'German', 'Spanish', 'Swedish', 'Chinese', 'English', 'French', 'Russian', 'English', 'English', 'Polish', 'German']\n"
     ]
    }
   ],
   "source": [
    "for row in rows[1:]: # начинаем со второго ряда таблицы, потому что 0 уже обработали выше\n",
    "    r = row.find_all('td') # находим все теги td для строки таблицы\n",
    "    try:\n",
    "        Language.append(r[4].get_text().strip()) \n",
    "    except IndexError:\n",
    "        Language.append('Not awarded')\n",
    "print(Language)"
   ]
  },
  {
   "cell_type": "markdown",
   "metadata": {},
   "source": [
    "На самом деле, мы снова сделали что-то не так. Вместо языка в записи второго лауреата 1904 года записалась \"причина\" выдачи премии, а именно - \"in recognition of the numerous and brilliant compositions which, in an individual and original manner, have revived the great traditions of the Spanish drama\". Это означает, что вместо искомой колонки мы почему-то выдали следующую! Дело в том, что если в один год премия выдавалась нескольким людям, год пишется только для первого из них. Для остальных поля Year просто нет. Поэтому когда мы вынимаем поле по индексу N для таких записей, нам нужно вынимать поле с индексом N-1 (поля Year-то нет!). Теперь давайте обернем все наше новое знание об обработке дат в таблице, наличии лет, когда премия не вручалась, а также наличии лет, когда премия вручалась нескольким номинантам, в функцию:\n",
    "\n",
    "Если мы пытаемся вынуть дату (первая колонка или нулевая в нотации Python), воспользуемся логикой с retained, которую мы реализовали выше. Если возникает IndexError, обработаем это с помощью try-except, а если в строке нет поля Year, будем вынимать N-1'ую запись вместо N'ой."
   ]
  },
  {
   "cell_type": "code",
   "execution_count": 34,
   "metadata": {},
   "outputs": [],
   "source": [
    "def get_column(table, column_number):\n",
    "    column = []\n",
    "    column.append(rows[0].find_all('th')[column_number-1].get_text().strip()) # заголовок\n",
    "    for row in table[1:]:\n",
    "        r = row.find_all('td') # находим все теги td для строки таблицы\n",
    "        try:\n",
    "            if r[0].get_text().strip() =='':\n",
    "                if column_number-1==0:\n",
    "                    column.append(retained)\n",
    "                else:\n",
    "                    column.append(r[column_number-2].get_text().strip())\n",
    "            else:\n",
    "                column.append(r[column_number-1].get_text().strip())\n",
    "                retained = r[column_number-1].get_text().strip()\n",
    "        except IndexError:\n",
    "            column.append('No award this year')   \n",
    "    return column"
   ]
  },
  {
   "cell_type": "markdown",
   "metadata": {},
   "source": [
    "Теперь опробуем функцию на пятой колонке таблицы - языке произведений."
   ]
  },
  {
   "cell_type": "code",
   "execution_count": 35,
   "metadata": {},
   "outputs": [
    {
     "data": {
      "text/plain": [
       "['Language(s)',\n",
       " 'French',\n",
       " 'German',\n",
       " 'Norwegian',\n",
       " 'Provençal',\n",
       " 'Spanish',\n",
       " 'Polish',\n",
       " 'Italian',\n",
       " 'English',\n",
       " 'German',\n",
       " 'Swedish',\n",
       " 'German',\n",
       " 'French',\n",
       " 'German',\n",
       " 'Bengali',\n",
       " 'No award this year',\n",
       " 'French',\n",
       " 'Swedish',\n",
       " 'Danish',\n",
       " 'Danish',\n",
       " 'No award this year',\n",
       " 'German',\n",
       " 'Norwegian',\n",
       " 'French',\n",
       " 'Spanish',\n",
       " 'English',\n",
       " 'Polish',\n",
       " 'English',\n",
       " 'Italian',\n",
       " 'French',\n",
       " 'Norwegian',\n",
       " 'German',\n",
       " 'English',\n",
       " 'Swedish',\n",
       " 'English',\n",
       " 'Russian',\n",
       " 'Italian',\n",
       " 'No award this year',\n",
       " 'English',\n",
       " 'French',\n",
       " 'English',\n",
       " 'Finnish',\n",
       " 'No award this year',\n",
       " 'No award this year',\n",
       " 'No award this year',\n",
       " 'No award this year',\n",
       " 'Danish',\n",
       " 'Spanish',\n",
       " 'German',\n",
       " 'French',\n",
       " 'English',\n",
       " 'English',\n",
       " 'English',\n",
       " 'Swedish',\n",
       " 'French',\n",
       " 'English',\n",
       " 'English',\n",
       " 'Icelandic',\n",
       " 'Spanish',\n",
       " 'French',\n",
       " 'Russian',\n",
       " 'Italian',\n",
       " 'French',\n",
       " 'Serbo-Croatian',\n",
       " 'English',\n",
       " 'Greek',\n",
       " 'French',\n",
       " 'Russian',\n",
       " 'Hebrew',\n",
       " 'German',\n",
       " 'Spanish',\n",
       " 'Japanese',\n",
       " 'English and French',\n",
       " 'Russian',\n",
       " 'Spanish',\n",
       " 'German',\n",
       " 'English',\n",
       " 'Swedish',\n",
       " 'Swedish',\n",
       " 'Italian',\n",
       " 'English',\n",
       " 'Spanish',\n",
       " 'Yiddish',\n",
       " 'Greek',\n",
       " 'Polish',\n",
       " 'German',\n",
       " 'Spanish',\n",
       " 'English',\n",
       " 'Czech',\n",
       " 'French',\n",
       " 'English',\n",
       " 'Russian and English',\n",
       " 'Arabic',\n",
       " 'Spanish',\n",
       " 'Spanish',\n",
       " 'English',\n",
       " 'English',\n",
       " 'English',\n",
       " 'Japanese',\n",
       " 'English',\n",
       " 'Polish',\n",
       " 'Italian',\n",
       " 'Portuguese',\n",
       " 'German',\n",
       " 'Chinese',\n",
       " 'English',\n",
       " 'Hungarian',\n",
       " 'English',\n",
       " 'German',\n",
       " 'English',\n",
       " 'Turkish',\n",
       " 'English',\n",
       " 'French',\n",
       " 'German',\n",
       " 'Spanish',\n",
       " 'Swedish',\n",
       " 'Chinese',\n",
       " 'English',\n",
       " 'French',\n",
       " 'Russian',\n",
       " 'English',\n",
       " 'English',\n",
       " 'Polish',\n",
       " 'German']"
      ]
     },
     "execution_count": 35,
     "metadata": {},
     "output_type": "execute_result"
    }
   ],
   "source": [
    "languages = get_column(rows,5)\n",
    "languages"
   ]
  },
  {
   "cell_type": "markdown",
   "metadata": {},
   "source": [
    "Теперь остается посчитать частоту для различных записей этого списка, но нужно не забыть отбросить заглушки и правильно посчитать частоты для атворов, писавших на нескольких языках. Для простоты, если автор, к примеру, писал на русском и английском, давайте посчитаем его дважды - в категорию \"английский язык\" и в категорию \"русский язык\". Для начала предлагаю превратить каждую запись в \"список языков\", на которых писал автор, выбросить заглушки и отбросить название поля(первую запись)"
   ]
  },
  {
   "cell_type": "code",
   "execution_count": 36,
   "metadata": {},
   "outputs": [
    {
     "data": {
      "text/plain": [
       "[['French'],\n",
       " ['German'],\n",
       " ['Norwegian'],\n",
       " ['Provençal'],\n",
       " ['Spanish'],\n",
       " ['Polish'],\n",
       " ['Italian'],\n",
       " ['English'],\n",
       " ['German'],\n",
       " ['Swedish'],\n",
       " ['German'],\n",
       " ['French'],\n",
       " ['German'],\n",
       " ['Bengali'],\n",
       " ['French'],\n",
       " ['Swedish'],\n",
       " ['Danish'],\n",
       " ['Danish'],\n",
       " ['German'],\n",
       " ['Norwegian'],\n",
       " ['French'],\n",
       " ['Spanish'],\n",
       " ['English'],\n",
       " ['Polish'],\n",
       " ['English'],\n",
       " ['Italian'],\n",
       " ['French'],\n",
       " ['Norwegian'],\n",
       " ['German'],\n",
       " ['English'],\n",
       " ['Swedish'],\n",
       " ['English'],\n",
       " ['Russian'],\n",
       " ['Italian'],\n",
       " ['English'],\n",
       " ['French'],\n",
       " ['English'],\n",
       " ['Finnish'],\n",
       " ['Danish'],\n",
       " ['Spanish'],\n",
       " ['German'],\n",
       " ['French'],\n",
       " ['English'],\n",
       " ['English'],\n",
       " ['English'],\n",
       " ['Swedish'],\n",
       " ['French'],\n",
       " ['English'],\n",
       " ['English'],\n",
       " ['Icelandic'],\n",
       " ['Spanish'],\n",
       " ['French'],\n",
       " ['Russian'],\n",
       " ['Italian'],\n",
       " ['French'],\n",
       " ['Serbo-Croatian'],\n",
       " ['English'],\n",
       " ['Greek'],\n",
       " ['French'],\n",
       " ['Russian'],\n",
       " ['Hebrew'],\n",
       " ['German'],\n",
       " ['Spanish'],\n",
       " ['Japanese'],\n",
       " ['English', 'French'],\n",
       " ['Russian'],\n",
       " ['Spanish'],\n",
       " ['German'],\n",
       " ['English'],\n",
       " ['Swedish'],\n",
       " ['Swedish'],\n",
       " ['Italian'],\n",
       " ['English'],\n",
       " ['Spanish'],\n",
       " ['Yiddish'],\n",
       " ['Greek'],\n",
       " ['Polish'],\n",
       " ['German'],\n",
       " ['Spanish'],\n",
       " ['English'],\n",
       " ['Czech'],\n",
       " ['French'],\n",
       " ['English'],\n",
       " ['Russian', 'English'],\n",
       " ['Arabic'],\n",
       " ['Spanish'],\n",
       " ['Spanish'],\n",
       " ['English'],\n",
       " ['English'],\n",
       " ['English'],\n",
       " ['Japanese'],\n",
       " ['English'],\n",
       " ['Polish'],\n",
       " ['Italian'],\n",
       " ['Portuguese'],\n",
       " ['German'],\n",
       " ['Chinese'],\n",
       " ['English'],\n",
       " ['Hungarian'],\n",
       " ['English'],\n",
       " ['German'],\n",
       " ['English'],\n",
       " ['Turkish'],\n",
       " ['English'],\n",
       " ['French'],\n",
       " ['German'],\n",
       " ['Spanish'],\n",
       " ['Swedish'],\n",
       " ['Chinese'],\n",
       " ['English'],\n",
       " ['French'],\n",
       " ['Russian'],\n",
       " ['English'],\n",
       " ['English'],\n",
       " ['Polish'],\n",
       " ['German']]"
      ]
     },
     "execution_count": 36,
     "metadata": {},
     "output_type": "execute_result"
    }
   ],
   "source": [
    "lang = [x.split(' and ') for x in languages[1:] if x!='No award this year']\n",
    "lang"
   ]
  },
  {
   "cell_type": "markdown",
   "metadata": {},
   "source": [
    "Теперь нам осталось \"распаковать\" все списки в один и загрузить итоговый список в Counter. Для распаковки вложенных списков любой сложности можно использовать функцию flatten."
   ]
  },
  {
   "cell_type": "code",
   "execution_count": 38,
   "metadata": {},
   "outputs": [
    {
     "data": {
      "text/plain": [
       "[('English', 30),\n",
       " ('French', 15),\n",
       " ('German', 14),\n",
       " ('Spanish', 11),\n",
       " ('Swedish', 7),\n",
       " ('Italian', 6),\n",
       " ('Russian', 6),\n",
       " ('Polish', 5),\n",
       " ('Norwegian', 3),\n",
       " ('Danish', 3),\n",
       " ('Greek', 2),\n",
       " ('Japanese', 2),\n",
       " ('Chinese', 2),\n",
       " ('Provençal', 1),\n",
       " ('Bengali', 1),\n",
       " ('Finnish', 1),\n",
       " ('Icelandic', 1),\n",
       " ('Serbo-Croatian', 1),\n",
       " ('Hebrew', 1),\n",
       " ('Yiddish', 1),\n",
       " ('Czech', 1),\n",
       " ('Arabic', 1),\n",
       " ('Portuguese', 1),\n",
       " ('Hungarian', 1),\n",
       " ('Turkish', 1)]"
      ]
     },
     "execution_count": 38,
     "metadata": {},
     "output_type": "execute_result"
    }
   ],
   "source": [
    "from collections import Counter\n",
    "from matplotlib.cbook import flatten\n",
    "\n",
    "Counter(list(flatten(lang))).most_common()"
   ]
  },
  {
   "cell_type": "markdown",
   "metadata": {},
   "source": [
    "И такую же задачу мы можем с легкостью решить для жанров литературы. Это колонка номер 7. Но жанров литературы может быть несколько и разделены они запятой. Давайте добавим это в наше списковое включение"
   ]
  },
  {
   "cell_type": "code",
   "execution_count": 39,
   "metadata": {},
   "outputs": [
    {
     "data": {
      "text/plain": [
       "[('novel', 75),\n",
       " ('poetry', 50),\n",
       " ('short story', 37),\n",
       " ('drama', 32),\n",
       " ('essay', 21),\n",
       " ('philosophy', 6),\n",
       " ('memoirs', 6),\n",
       " ('screenplay', 6),\n",
       " ('translation', 5),\n",
       " ('literary criticism', 4),\n",
       " ('history', 3),\n",
       " ('law', 1),\n",
       " ('philology', 1),\n",
       " ('music', 1),\n",
       " ('biography', 1),\n",
       " ('songwriting', 1)]"
      ]
     },
     "execution_count": 39,
     "metadata": {},
     "output_type": "execute_result"
    }
   ],
   "source": [
    "genres = get_column(rows,7)\n",
    "s = [list(map(lambda x:x.strip(),x.split(','))) for x in genres[1:] if x!='No award this year']\n",
    "Counter(list(flatten(s))).most_common()"
   ]
  },
  {
   "cell_type": "markdown",
   "metadata": {},
   "source": [
    "Большой map мне не очень нравится, поэтому сделать такую же штуку, можно, использовав регулярное выражение."
   ]
  },
  {
   "cell_type": "code",
   "execution_count": 40,
   "metadata": {},
   "outputs": [
    {
     "data": {
      "text/plain": [
       "[('novel', 75),\n",
       " ('poetry', 50),\n",
       " ('short story', 37),\n",
       " ('drama', 32),\n",
       " ('essay', 21),\n",
       " ('philosophy', 6),\n",
       " ('memoirs', 6),\n",
       " ('screenplay', 6),\n",
       " ('translation', 5),\n",
       " ('literary criticism', 4),\n",
       " ('history', 3),\n",
       " ('law', 1),\n",
       " ('philology', 1),\n",
       " ('music', 1),\n",
       " ('biography', 1),\n",
       " ('songwriting', 1)]"
      ]
     },
     "execution_count": 40,
     "metadata": {},
     "output_type": "execute_result"
    }
   ],
   "source": [
    "import re\n",
    "\n",
    "s = [re.split(r'\\s?,\\s+',x) for x in genres[1:] if x!='No award this year']\n",
    "Counter(list(flatten(s))).most_common()"
   ]
  }
 ],
 "metadata": {
  "colab": {
   "collapsed_sections": [],
   "name": "RISO_Exam.ipynb",
   "provenance": []
  },
  "kernelspec": {
   "display_name": "Python 3",
   "language": "python",
   "name": "python3"
  },
  "language_info": {
   "codemirror_mode": {
    "name": "ipython",
    "version": 3
   },
   "file_extension": ".py",
   "mimetype": "text/x-python",
   "name": "python",
   "nbconvert_exporter": "python",
   "pygments_lexer": "ipython3",
   "version": "3.6.5"
  }
 },
 "nbformat": 4,
 "nbformat_minor": 2
}
