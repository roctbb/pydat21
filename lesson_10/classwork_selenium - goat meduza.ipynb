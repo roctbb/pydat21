{
 "cells": [
  {
   "cell_type": "code",
   "execution_count": null,
   "metadata": {},
   "outputs": [],
   "source": [
    "import requests\n",
    "\n",
    "headers = {\n",
    "    \"user-agent\": \"Mozilla/5.0 (Windows NT 10.0; Win64; x64) AppleWebKit/537.36 (KHTML, like Gecko) Chrome/90.0.4430.212 Safari/537.36\",\n",
    "    \"Cookie\": \"_ym_uid=1620920840308513456; _ym_d=1620920840; _ym_isad=2; _ym_visorc=w; XSRF-TOKEN=eyJpdiI6Ik5CTUIrWGZLcmNSXC9qUFFwcVZ0bklBPT0iLCJ2YWx1ZSI6IkVcL1c1dVlTcUpSdVlwSkJPY3NBeUVhM1VrcGNWTHhHK1hiUTV1cE9aRmZ5OHNoZmhtTXlEKzJKNUdTb01MN0dGIiwibWFjIjoiNDRiYjQ0YTdjODU4ZTJjODIyNGQyZGE5NzQwMjRhNWNlY2FlZTU5NTQzMzI5MzFjN2FjMTIxNGI4YWY0OTY1MSJ9; laravel_session=eyJpdiI6IjR3eWF3TjRMSElxdkN5OHV3M2lIcEE9PSIsInZhbHVlIjoiUGJ4ZXA5SW92TEhKdGtya09zUVZcLzR2R1NpVlM3WmNYVlhyMGRZc2hNMTJRdVppejBSVHQzdmtmbmllT2h2aVYiLCJtYWMiOiIzMTNlOTAyNjlhMDczOTVjNTY0YzMxNjU1MWVlN2Y2ZGEwNmE2NTBiOTA4NzNiNjBjMTA3MWNhMWI0ZjMzNGI4In0%3D\"\n",
    "}\n",
    "\n",
    "answer = requests.get(\"https://geekclass.ru/insider/courses\", headers=headers)\n",
    "\n",
    "print(answer.text)"
   ]
  },
  {
   "cell_type": "code",
   "execution_count": null,
   "metadata": {},
   "outputs": [],
   "source": [
    "answer = requests.get(\"https://www.goat.com/sneakers\")\n",
    "\n",
    "print(answer.text)"
   ]
  },
  {
   "cell_type": "code",
   "execution_count": null,
   "metadata": {},
   "outputs": [],
   "source": [
    "!pip install selenium"
   ]
  },
  {
   "cell_type": "code",
   "execution_count": null,
   "metadata": {},
   "outputs": [],
   "source": [
    "from selenium.webdriver import Chrome\n",
    "from time import sleep\n",
    "\n",
    "browser = Chrome()\n",
    "browser.get(\"https://www.goat.com/sneakers?sortBy=PRICE_HIGH_LOW\")\n",
    "browser.find_element_by_class_name(\"fpAmCQ\").click()\n",
    "\n",
    "for Y in range(300, 5000, 300):\n",
    "    browser.execute_script(f\"window.scrollTo(0, {Y})\") \n",
    "    sleep(0.5)"
   ]
  },
  {
   "cell_type": "code",
   "execution_count": null,
   "metadata": {},
   "outputs": [],
   "source": [
    "browser.find_element_by_class_name(\"kFQUQM\").send_keys(\"adidas\")\n",
    "sleep(3)\n",
    "browser.find_element_by_class_name(\"kFQUQM\").send_keys(Keys.RETURN)\n",
    "sleep(10)\n",
    "\n",
    "for Y in range(300, 5000, 300):\n",
    "    browser.execute_script(f\"window.scrollTo(0, {Y})\") \n",
    "    sleep(0.5)"
   ]
  },
  {
   "cell_type": "code",
   "execution_count": null,
   "metadata": {},
   "outputs": [],
   "source": [
    "from bs4 import BeautifulSoup\n",
    "\n",
    "page = BeautifulSoup(browser.page_source)\n",
    "page.find_all(\"div\", class_=\"grid-cell\")"
   ]
  },
  {
   "cell_type": "code",
   "execution_count": 27,
   "metadata": {},
   "outputs": [],
   "source": [
    "from selenium.webdriver import Chrome\n",
    "from time import sleep\n",
    "\n",
    "browser = Chrome()\n",
    "browser.get(\"https://meduza.io\")\n",
    "browser.find_element_by_class_name(\"Header-itemSearch\").click()\n",
    "\n",
    "\n"
   ]
  },
  {
   "cell_type": "code",
   "execution_count": 28,
   "metadata": {},
   "outputs": [],
   "source": [
    "browser.find_element_by_class_name(\"SearchModal-field\").send_keys(\"Навальный\")"
   ]
  },
  {
   "cell_type": "code",
   "execution_count": 31,
   "metadata": {},
   "outputs": [
    {
     "name": "stdout",
     "output_type": "stream",
     "text": [
      "истории«Русская служба Би-би-си» рассказала о фиктивной смене владельца «дворца Путина» в 2011 году. За резиденцию заплатили всего 10 миллионов рублей4 часа назад\n",
      "Суд сократил до одних суток срок ареста Евгения Ройзмана по делу о митингах в поддержку Навального7 часов назад\n",
      "Алексей Навальный подал в суд на ИК-3 во Владимире — адвокатам запретили брать на встречи с ним ноутбуки и телефоны7 часов назад\n",
      "Команда Навального отказалась анонсировать новые митинги. «Протест вспыхнет спонтанно», — заявил Леонид Волков8 часов назад\n",
      "«Левада-центр»: 72% россиян слышали об апрельских протестах в поддержку Навального9 часов назад\n",
      "Суд оштрафовал Telegram на пять миллионов рублей за отказ удалить сообщения о митингах в поддержку Навальногодень назад\n",
      "истории«Медуза» — это вы Уже почти 80 тысяч человек финансируют «Медузу». Мы продолжаем делать свою работу только благодаря вам. И мы действуем только в ваших интересахдень назад\n",
      "Бывшего мэра Екатеринбурга Евгения Ройзмана арестовали на девять суток из-за акции в поддержку Навальногодень назад\n",
      "Bloomberg: Россия задерживает поставки «Спутника» в Северную Македонию — из-за того, что власти этой страны осудили преследование Навальногодень назад\n",
      "истории«Избрать Дегтярева надо — президент его поддержал» Как Кремль зачищает сторонников Сергея Фургала в Хабаровске и почему надеется сделать губернатором человека, которого там не любят2 дня назад\n",
      "новостиПосле стрельбы в Казани мурманским школам поручили составить список подозрительных учеников. Он оказался в открытом доступе Среди причин включения в список — участие в протестах за Навального2 дня назад\n",
      "Суд взыскал с Любови Соболь еще миллион рублей по искам Евгения Пригожина2 дня назад\n",
      "историиТвое имя в списке у какого-то эфэсбэшника на столе Следы взлома сайта «Свободу Навальному!» ведут к людям, связанным с администрацией президента и его управделами. Расследование «Медузы»2 дня назад\n",
      "истории«Отговаривать ее от того, что она считает правильным, бесполезно» Интервью матери активистки Ольги Мисик. Ей и другим участникам «Бессрочного протеста» вынесли приговор за акцию у Генпрокуратуры3 дня назад\n",
      "разбор«Негражданское общество» — главная опора российской власти Максим Трудолюбов рассказывает, как оно устроено. И советует книги о его расцвете и крахе в СССР и в Восточной Европе3 дня назад\n",
      "новостиГлава омского Минздрава Александр Мураховский пропал без вести на охоте. Через три дня он сам выбрался из леса3 дня назад\n",
      "Пропавшего без вести омского министра нашли живым3 дня назад\n",
      "Министр здравоохранения Омской области, бывший главврач больницы, где лежал Навальный, Александр Мураховский пропал без вести на охоте4 дня назад\n",
      "историиAmnesty International решила вернуть Алексею Навальному статус узника совести. Мы поговорили об этом с новым генсеком организации Аньес Калламар5 дней назад\n",
      "подкастыГоворят, что Россией теперь управляет Совет безопасности. Это правда? На что он влияет? А Путину он еще подчиняется?5 дней назад\n",
      "Amnesty International снова признала Алексея Навального узником совести6 дней назад\n",
      "новостиТелеграм-канал Sota сообщил о массовом отъезде соратников Навального в Грузию. Леонид Волков заявил, что это «чистой воды фейк-ньюс»6 дней назад\n",
      "Amnesty International вновь признает Навального узником совести6 дней назад\n",
      "историиПознакомьтесь с авторами свежих законопроектов против ФБК и сторонников Навального В основном это выходцы из силовых ведомств. Но есть среди них даже бывший союзник Леонида Волкова7 дней назад\n"
     ]
    }
   ],
   "source": [
    "from bs4 import BeautifulSoup\n",
    "\n",
    "page = BeautifulSoup(browser.page_source)\n",
    "\n",
    "for item in page.find_all(\"div\", class_=\"ChronologyItem-body\"):\n",
    "    print(item.get_text())"
   ]
  },
  {
   "cell_type": "code",
   "execution_count": null,
   "metadata": {},
   "outputs": [],
   "source": []
  }
 ],
 "metadata": {
  "kernelspec": {
   "display_name": "Python 3",
   "language": "python",
   "name": "python3"
  },
  "language_info": {
   "codemirror_mode": {
    "name": "ipython",
    "version": 3
   },
   "file_extension": ".py",
   "mimetype": "text/x-python",
   "name": "python",
   "nbconvert_exporter": "python",
   "pygments_lexer": "ipython3",
   "version": "3.7.3"
  }
 },
 "nbformat": 4,
 "nbformat_minor": 2
}
