{
 "cells": [
  {
   "cell_type": "markdown",
   "metadata": {},
   "source": [
    "# Python для анализа данных\n",
    "\n",
    "## Веб-скрэйпинг: сбор информации со страницы (дополнительный материал).\n",
    "\n",
    "*Автор: Татьяна Рогович, НИУ ВШЭ*\n",
    "\n",
    "В этом примере мы зайдем на сайт государственной думы и попробуем получить данные обо всех ее депутатах, в какой фракции и комитете он состоит, а также занимаю должность. Все это в итоге представим в виде DataFrame и сохраним как csv файл, для дальнейшей работы.\n",
    "\n",
    "Делаем все как обычно, заходим на сайт думы, используем requests и BeatifulSoup"
   ]
  },
  {
   "cell_type": "code",
   "execution_count": 1,
   "metadata": {},
   "outputs": [],
   "source": [
    "import requests\n",
    "from bs4 import BeautifulSoup\n",
    "import pandas as pd\n",
    "import re\n",
    "\n",
    "url = \"http://duma.gov.ru/duma/deputies/7/\"\n",
    "page = requests.get(url)\n",
    "\n",
    "text = page.text\n",
    "soup = BeautifulSoup(text, \"html.parser\")"
   ]
  },
  {
   "cell_type": "markdown",
   "metadata": {},
   "source": [
    "Имена депутатов будет хранить в deputates, комитеты в которых они состоят в commissions, должность в occupations и партию в party."
   ]
  },
  {
   "cell_type": "code",
   "execution_count": 2,
   "metadata": {},
   "outputs": [],
   "source": [
    "deputates = []\n",
    "commissions = []\n",
    "occupations = []\n",
    "party = []"
   ]
  },
  {
   "cell_type": "markdown",
   "metadata": {},
   "source": [
    "Депутатов много (487 человек) и скрейпинг может занимать прилично времени. Поэтому ограничим количество обработанных человек с помощью счетчика count и проверки. Для примера оставим 10 человек.\n",
    "\n",
    "Данные обо всхе депутатах находятся в теге \"a\" и с классом \"person__image-wrapper person__image-wrapper--s\"\n",
    "\n",
    "Найдем все такие теги"
   ]
  },
  {
   "cell_type": "code",
   "execution_count": 3,
   "metadata": {},
   "outputs": [],
   "source": [
    "count = 0    \n",
    "person = soup.find_all('a', class_ = \"person__image-wrapper person__image-wrapper--s\")"
   ]
  },
  {
   "cell_type": "markdown",
   "metadata": {},
   "source": [
    "Теперь для каждого депутата мы должны получить его имя и ссылку, по которой мы пройдем и выясним остальную информацию: комитет, должность и фракцию.\n",
    "\n",
    "К нашему счастью вместе с фото депутата в теге \"img\" хранится элемент  \"alt\" которой по наведению на фото, покажет в левом нижнем углу текст, который в нашем случае представляет собой Имя Фамилию и Отчество. Если бы не это, нам пришлось бы делать два поиска по тегам, т.к. имя хранится в одном теге, а фамилия и отчество в другом.\n",
    "\n",
    "В том же теге \"img\" хранится ссылка на страницу с этим конкретным депутатом. Получим ее из элемента \"href\". Поэтому не нужно делать новый поиск тега.\n",
    "\n",
    "Делаем обычный request к странице депутата, как мы делали в примере с PDF.\n",
    "\n",
    "На странице с депутатом нам нужно найти тег в котором хранится его комитет и фракция. Посмотрев исходный код страницы, находим нужные теги - \"a\" с классами link \"link--underline link--external\" и \"link link--underline person__description__link\". Сохраняем их по своим массивам\n",
    "\n",
    "Одна проблема, должность в комитете находится в строке с самим комитетом. Но к нашему счастью, они указываются в скобочках. Поэтому найдем индекс первого появления скобочек в строке с комитетом. Вырежем их и запишем в нужный массив. Точно также запишем комитет, обрезав у него конец строки"
   ]
  },
  {
   "cell_type": "code",
   "execution_count": 4,
   "metadata": {},
   "outputs": [
    {
     "data": {
      "text/plain": [
       "<a class=\"person__image-wrapper person__image-wrapper--s\" href=\"/duma/persons/99112936/\" itemprop=\"url\">\n",
       "<picture>\n",
       "<img alt=\"Авдеев Александр Александрович\" class=\"person__image person__image--s\" itemprop=\"image\" src=\"/media/persons/240x240/OM9mmw6lAZ1lhnpM1yYBIMAo1BaQgxnz.jpg\"/>\n",
       "</picture>\n",
       "</a>"
      ]
     },
     "execution_count": 4,
     "metadata": {},
     "output_type": "execute_result"
    }
   ],
   "source": [
    "person[0]"
   ]
  },
  {
   "cell_type": "code",
   "execution_count": 5,
   "metadata": {},
   "outputs": [
    {
     "name": "stdout",
     "output_type": "stream",
     "text": [
      "<img alt=\"Авдеев Александр Александрович\" class=\"person__image person__image--s\" itemprop=\"image\" src=\"/media/persons/240x240/OM9mmw6lAZ1lhnpM1yYBIMAo1BaQgxnz.jpg\"/>\n",
      "Авдеев Александр Александрович\n",
      "/duma/persons/99112936/\n",
      "[]\n",
      "http://duma.gov.ru//duma/persons/99112936/\n",
      "Комитет по контролю и Регламенту \n"
     ]
    }
   ],
   "source": [
    "for p in person:\n",
    "    print(p.find('img'))\n",
    "    name = p.find('img')\n",
    "    print(name.get('alt'))\n",
    "    print(p.get('href'))\n",
    "    print(deputates)\n",
    "    url_deput = \"http://duma.gov.ru/\" + p.get(\"href\")\n",
    "    print(url_deput)\n",
    "    page = requests.get(url_deput)\n",
    "    soup_deput = BeautifulSoup(page.text, \"html.parser\")\n",
    "    comm = soup_deput.find('a', class_ = \"link link--underline link--external\")\n",
    "    #print(comm)\n",
    "    t = comm.text.strip()\n",
    "    t_new = t[:t.find('(')]\n",
    "    print(t_new)\n",
    "    break"
   ]
  },
  {
   "cell_type": "code",
   "execution_count": 6,
   "metadata": {},
   "outputs": [
    {
     "data": {
      "text/plain": [
       "'('"
      ]
     },
     "execution_count": 6,
     "metadata": {},
     "output_type": "execute_result"
    }
   ],
   "source": [
    "t = comm.text.strip()\n",
    "t[t.find('(')]"
   ]
  },
  {
   "cell_type": "code",
   "execution_count": 7,
   "metadata": {},
   "outputs": [],
   "source": [
    "for p in person:  \n",
    "    \n",
    "    # Обрезаем скрейпинг, т.к. очень долго идет обработка\n",
    "    if count > 10:\n",
    "        break\n",
    "    \n",
    "    #Получаем имена\n",
    "    name = p.find('img', class_ = 'person__image person__image--s') # находим тег img и забираем из него значение alt\n",
    "    deputates.append(name.get(\"alt\"))\n",
    "    \n",
    "    # Получаем ссылку на депутата\n",
    "    url_deput = \"http://duma.gov.ru/\" + p.get(\"href\") # в нашем найденном теге уже есть нужная ссылка на депутата. Забираем ее\n",
    "    \n",
    "    # Делаем запрос\n",
    "    page = requests.get(url_deput)\n",
    "    soup_deput = BeautifulSoup(page.text, \"html.parser\")\n",
    "    \n",
    "    #Ищем комитет\n",
    "    comm = soup_deput.find('a', class_ = \"link link--underline link--external\")\n",
    "    t = comm.text.strip(\"\\n\")\n",
    "    # регулярным выражением убираем все непечатный символы\n",
    "    commissions.append(re.sub('\\W+',' ',t[:t.index(\"(\")-1]).strip()) # убираем должность\n",
    "    occupations.append(t[t.index(\"(\") + 1:t.index(\")\")]) #должность всегда в скобочках, \n",
    "                                                         #находим первые вхождени ( и )\n",
    "\n",
    "    # Поиск фракции\n",
    "    part = soup_deput.find('a', class_ = \"link link--underline person__description__link\")\n",
    "    party.append(part.text)\n",
    "\n",
    "    count += 1 # обновляем счетчик"
   ]
  },
  {
   "cell_type": "markdown",
   "metadata": {},
   "source": [
    "Все данные получены, осталось создать DataFrame и сохранить его в виде csv"
   ]
  },
  {
   "cell_type": "code",
   "execution_count": 8,
   "metadata": {},
   "outputs": [],
   "source": [
    "df = pd.DataFrame({'Депутат': deputates, 'Коммитет':commissions ,'Должность':occupations, 'Фракция': party})\n",
    "df.to_csv(\"Gos_duma.csv\")"
   ]
  },
  {
   "cell_type": "markdown",
   "metadata": {},
   "source": [
    "Можно посмотреть на первые несколького элементов используя команду df.head()"
   ]
  },
  {
   "cell_type": "code",
   "execution_count": 9,
   "metadata": {},
   "outputs": [
    {
     "data": {
      "text/html": [
       "<div>\n",
       "<style scoped>\n",
       "    .dataframe tbody tr th:only-of-type {\n",
       "        vertical-align: middle;\n",
       "    }\n",
       "\n",
       "    .dataframe tbody tr th {\n",
       "        vertical-align: top;\n",
       "    }\n",
       "\n",
       "    .dataframe thead th {\n",
       "        text-align: right;\n",
       "    }\n",
       "</style>\n",
       "<table border=\"1\" class=\"dataframe\">\n",
       "  <thead>\n",
       "    <tr style=\"text-align: right;\">\n",
       "      <th></th>\n",
       "      <th>Депутат</th>\n",
       "      <th>Коммитет</th>\n",
       "      <th>Должность</th>\n",
       "      <th>Фракция</th>\n",
       "    </tr>\n",
       "  </thead>\n",
       "  <tbody>\n",
       "    <tr>\n",
       "      <th>0</th>\n",
       "      <td>Авдеев Александр Александрович</td>\n",
       "      <td>Комитет по контролю и Регламенту</td>\n",
       "      <td>член комитета</td>\n",
       "      <td>«ЕДИНАЯ РОССИЯ»</td>\n",
       "    </tr>\n",
       "    <tr>\n",
       "      <th>1</th>\n",
       "      <td>Агаев Ваха Абуевич</td>\n",
       "      <td>Комитет по финансовому рынку</td>\n",
       "      <td>заместитель председателя комитета</td>\n",
       "      <td>КПРФ</td>\n",
       "    </tr>\n",
       "    <tr>\n",
       "      <th>2</th>\n",
       "      <td>Адучиев Батор Канурович</td>\n",
       "      <td>Комитет по аграрным вопросам</td>\n",
       "      <td>член комитета</td>\n",
       "      <td>«ЕДИНАЯ РОССИЯ»</td>\n",
       "    </tr>\n",
       "    <tr>\n",
       "      <th>3</th>\n",
       "      <td>Азимов Рахим Азизбоевич</td>\n",
       "      <td>Комитет по безопасности и противодействию корр...</td>\n",
       "      <td>член комитета</td>\n",
       "      <td>«ЕДИНАЯ РОССИЯ»</td>\n",
       "    </tr>\n",
       "    <tr>\n",
       "      <th>4</th>\n",
       "      <td>Аксаков Анатолий Геннадьевич</td>\n",
       "      <td>Комитет по финансовому рынку</td>\n",
       "      <td>Председатель комитета</td>\n",
       "      <td>СПРАВЕДЛИВАЯ РОССИЯ</td>\n",
       "    </tr>\n",
       "  </tbody>\n",
       "</table>\n",
       "</div>"
      ],
      "text/plain": [
       "                          Депутат  \\\n",
       "0  Авдеев Александр Александрович   \n",
       "1              Агаев Ваха Абуевич   \n",
       "2         Адучиев Батор Канурович   \n",
       "3         Азимов Рахим Азизбоевич   \n",
       "4    Аксаков Анатолий Геннадьевич   \n",
       "\n",
       "                                            Коммитет  \\\n",
       "0                   Комитет по контролю и Регламенту   \n",
       "1                       Комитет по финансовому рынку   \n",
       "2                       Комитет по аграрным вопросам   \n",
       "3  Комитет по безопасности и противодействию корр...   \n",
       "4                       Комитет по финансовому рынку   \n",
       "\n",
       "                           Должность              Фракция  \n",
       "0                      член комитета      «ЕДИНАЯ РОССИЯ»  \n",
       "1  заместитель председателя комитета                 КПРФ  \n",
       "2                      член комитета      «ЕДИНАЯ РОССИЯ»  \n",
       "3                      член комитета      «ЕДИНАЯ РОССИЯ»  \n",
       "4              Председатель комитета  СПРАВЕДЛИВАЯ РОССИЯ  "
      ]
     },
     "execution_count": 9,
     "metadata": {},
     "output_type": "execute_result"
    }
   ],
   "source": [
    "df.head()"
   ]
  }
 ],
 "metadata": {
  "colab": {
   "collapsed_sections": [
    "TXTlYgvASMRO",
    "2MZR16BcFQie",
    "8HaaopewSwxX",
    "gmwbXFgtzfLa",
    "pC8PEFYMxrhI",
    "ZxExEaxdZRLV"
   ],
   "name": "Scraping101.ipynb",
   "provenance": [],
   "version": "0.3.2"
  },
  "kernelspec": {
   "display_name": "Python 3",
   "language": "python",
   "name": "python3"
  },
  "language_info": {
   "codemirror_mode": {
    "name": "ipython",
    "version": 3
   },
   "file_extension": ".py",
   "mimetype": "text/x-python",
   "name": "python",
   "nbconvert_exporter": "python",
   "pygments_lexer": "ipython3",
   "version": "3.6.5"
  }
 },
 "nbformat": 4,
 "nbformat_minor": 2
}
