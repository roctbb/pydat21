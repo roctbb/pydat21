{
 "cells": [
  {
   "cell_type": "code",
   "execution_count": null,
   "metadata": {},
   "outputs": [],
   "source": [
    "import requests\n",
    "\n",
    "headers = {\n",
    "    \"user-agent\": \"Mozilla/5.0 (Windows NT 10.0; Win64; x64) AppleWebKit/537.36 (KHTML, like Gecko) Chrome/90.0.4430.212 Safari/537.36\"\n",
    "}\n",
    "\n",
    "answer = requests.get(\"https://www.dotabuff.com/heroes\", headers=headers)\n",
    "\n",
    "print(answer.text)"
   ]
  },
  {
   "cell_type": "code",
   "execution_count": null,
   "metadata": {},
   "outputs": [],
   "source": [
    "from bs4 import BeautifulSoup\n",
    "from tqdm import tqdm\n",
    "\n",
    "page = BeautifulSoup(answer.text)\n",
    "\n",
    "#page.find_all('div', {'class': 'hero'})\n",
    "for hero in page.find_all('div', class_=\"hero\"):\n",
    "    link = hero.get('style').lstrip('background: url(').rstrip(')')\n",
    "    name = hero.find('div', class_='name').get_text()\n",
    "    \n",
    "    print(link, '-', name, '-')\n"
   ]
  },
  {
   "cell_type": "code",
   "execution_count": null,
   "metadata": {},
   "outputs": [],
   "source": [
    "import os\n",
    "\n",
    "os.mkdir('heroes')"
   ]
  },
  {
   "cell_type": "code",
   "execution_count": null,
   "metadata": {},
   "outputs": [],
   "source": [
    "from bs4 import BeautifulSoup\n",
    "\n",
    "page = BeautifulSoup(answer.text)\n",
    "\n",
    "#page.find_all('div', {'class': 'hero'})\n",
    "for hero in page.find_all('div', class_=\"hero\"):\n",
    "    link = hero.get('style').lstrip('background: url(').rstrip(')')\n",
    "    name = hero.find('div', class_='name').get_text()\n",
    "    \n",
    "    \n",
    "    print(f'https://dotabuff.com{link}')\n",
    "    \n",
    "    photo_answer = requests.get(f\"https://dotabuff.com{link}\", headers=headers)\n",
    "    \n",
    "    # wb - тк открываем картинку - бинарный файл\n",
    "    with open(f'heroes/{name}.jpg', 'wb') as file:\n",
    "        # content - ответ в виде байтов\n",
    "        file.write(photo_answer.content)\n",
    "        # answer.text == answer.content.decode('utf8')\n"
   ]
  },
  {
   "cell_type": "code",
   "execution_count": null,
   "metadata": {},
   "outputs": [],
   "source": []
  }
 ],
 "metadata": {
  "kernelspec": {
   "display_name": "Python 3",
   "language": "python",
   "name": "python3"
  },
  "language_info": {
   "codemirror_mode": {
    "name": "ipython",
    "version": 3
   },
   "file_extension": ".py",
   "mimetype": "text/x-python",
   "name": "python",
   "nbconvert_exporter": "python",
   "pygments_lexer": "ipython3",
   "version": "3.7.3"
  }
 },
 "nbformat": 4,
 "nbformat_minor": 2
}
