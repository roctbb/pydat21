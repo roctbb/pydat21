{
 "cells": [
  {
   "cell_type": "markdown",
   "metadata": {},
   "source": [
    "Центр непрерывного образования\n",
    "\n",
    "# Программа «Python для автоматизации и анализа данных»\n",
    "\n",
    "*Ян Пиле, НИУ ВШЭ*\n",
    "\n",
    "## Openpyxl - библиотека для работы с Excel-файлами. "
   ]
  },
  {
   "cell_type": "markdown",
   "metadata": {},
   "source": [
    "Таблицы Excel - одна из тех вещей, с которыми вам, скорее всего, приходилось сталкиваться :). Возможно ваш начальник их любит, возможно они нужны отделу маркетинга, а возможно вы сами любите \"покрутить\" не слишком большие данные руками. Отличный способ немного автоматизировать свою работу - изучить библиотеку openpyxl.\n",
    "\n",
    "Для начала библиотеку надо установить. Сделать это можно, исполнив следующую строку.  \n",
    "!pip install openpyxl==3.0.0 (уточняем нужную версию)\n",
    "Ну а теперь вы уже можете создать маленький Excel-файл Hello, world :)"
   ]
  },
  {
   "cell_type": "code",
   "execution_count": 1,
   "metadata": {},
   "outputs": [
    {
     "name": "stdout",
     "output_type": "stream",
     "text": [
      "Requirement already satisfied: openpyxl==3.0.0 in c:\\users\\rogov\\anaconda3\\lib\\site-packages (3.0.0)\n",
      "Requirement already satisfied: jdcal in c:\\users\\rogov\\anaconda3\\lib\\site-packages (from openpyxl==3.0.0) (1.4)\n",
      "Requirement already satisfied: et-xmlfile in c:\\users\\rogov\\anaconda3\\lib\\site-packages (from openpyxl==3.0.0) (1.0.1)\n"
     ]
    },
    {
     "name": "stderr",
     "output_type": "stream",
     "text": [
      "WARNING: You are using pip version 19.1.1, however version 20.0.2 is available.\n",
      "You should consider upgrading via the 'python -m pip install --upgrade pip' command.\n"
     ]
    }
   ],
   "source": [
    "!pip install openpyxl==3.0.0"
   ]
  },
  {
   "cell_type": "code",
   "execution_count": 4,
   "metadata": {},
   "outputs": [
    {
     "name": "stdout",
     "output_type": "stream",
     "text": [
      "<Worksheet \"Sheet\">\n",
      "<Worksheet \"Sheet\">\n"
     ]
    }
   ],
   "source": [
    "from openpyxl import Workbook \n",
    "\n",
    "workbook = Workbook() # \"Сделали файл\"\n",
    "print(workbook.active)\n",
    "sheet = workbook.active # \"Создали вкладку\"\n",
    "print(sheet)\n",
    "\n",
    "sheet[\"A1\"] = \"hello\"  # В писали одно значение\n",
    "sheet[\"B1\"] = \"world!\" # Вписали другое значение\n",
    "\n",
    "workbook.save(filename=\"hello_world.xlsx\")  # Сохранили"
   ]
  },
  {
   "cell_type": "markdown",
   "metadata": {},
   "source": [
    "Мы только что создали xlsx-файл в Python. Теперь давайте попробуем открыть уже готовый xlsx-файл и провести с ним некие манипуляции."
   ]
  },
  {
   "cell_type": "code",
   "execution_count": 14,
   "metadata": {},
   "outputs": [
    {
     "data": {
      "text/plain": [
       "['sample_us', 'Sheet1']"
      ]
     },
     "execution_count": 14,
     "metadata": {},
     "output_type": "execute_result"
    }
   ],
   "source": [
    "from openpyxl import load_workbook\n",
    "workbook = load_workbook(filename=\"sample_us.xlsx\") #открыли файл\n",
    "workbook.sheetnames # Достали имена листов (если их несколько, будет список)"
   ]
  },
  {
   "cell_type": "code",
   "execution_count": 15,
   "metadata": {},
   "outputs": [
    {
     "data": {
      "text/plain": [
       "<Worksheet \"sample_us\">"
      ]
     },
     "execution_count": 15,
     "metadata": {},
     "output_type": "execute_result"
    }
   ],
   "source": [
    "workbook.active # Хранит информацию, какая вкладка активна в excel. Попробуйте попереключать ее и посмотреть, как изменится значение"
   ]
  },
  {
   "cell_type": "code",
   "execution_count": 16,
   "metadata": {},
   "outputs": [
    {
     "data": {
      "text/plain": [
       "<Worksheet \"sample_us\">"
      ]
     },
     "execution_count": 16,
     "metadata": {},
     "output_type": "execute_result"
    }
   ],
   "source": [
    "sheet = workbook['sample_us'] # включили первый лист\n",
    "sheet"
   ]
  },
  {
   "cell_type": "code",
   "execution_count": 17,
   "metadata": {},
   "outputs": [
    {
     "data": {
      "text/plain": [
       "'sample_us'"
      ]
     },
     "execution_count": 17,
     "metadata": {},
     "output_type": "execute_result"
    }
   ],
   "source": [
    "sheet.title # Достали его название"
   ]
  },
  {
   "cell_type": "markdown",
   "metadata": {},
   "source": [
    "Теперь попробуем поработать с ячейками. Обращаться к ним на листе можно почти как к элементу списка. Если мы хотим достать то, что лежит в самом поле (достать значение поля), нужно вызвать атрибут **.value**."
   ]
  },
  {
   "cell_type": "code",
   "execution_count": 18,
   "metadata": {},
   "outputs": [
    {
     "data": {
      "text/plain": [
       "<Cell 'sample_us'.A1>"
      ]
     },
     "execution_count": 18,
     "metadata": {},
     "output_type": "execute_result"
    }
   ],
   "source": [
    "sheet[\"A1\"] # это объект-поле A1"
   ]
  },
  {
   "cell_type": "code",
   "execution_count": 20,
   "metadata": {},
   "outputs": [
    {
     "data": {
      "text/plain": [
       "'marketplace'"
      ]
     },
     "execution_count": 20,
     "metadata": {},
     "output_type": "execute_result"
    }
   ],
   "source": [
    "sheet[\"A1\"].value # А это значение поля A1"
   ]
  },
  {
   "cell_type": "markdown",
   "metadata": {},
   "source": [
    "Обратите внимание, что значение возвращается сразу в верном формате (если этот формат был правильно выставлен в excel.)"
   ]
  },
  {
   "cell_type": "code",
   "execution_count": 24,
   "metadata": {},
   "outputs": [
    {
     "data": {
      "text/plain": [
       "5"
      ]
     },
     "execution_count": 24,
     "metadata": {},
     "output_type": "execute_result"
    }
   ],
   "source": [
    "sheet[\"H10\"].value # А это значение поля H10"
   ]
  },
  {
   "cell_type": "markdown",
   "metadata": {},
   "source": [
    "Чтобы вернуть значение ячейки, нужно применять **.value**. В противном случае функция вернет сам объект Cell. Также можно использовать метод **.cell ()**, чтобы получить ячейку, используя индексную нотацию. Не забудьте добавить **.value**, чтобы получить фактическое значение, а не объект Cell:"
   ]
  },
  {
   "cell_type": "code",
   "execution_count": 25,
   "metadata": {},
   "outputs": [
    {
     "name": "stdout",
     "output_type": "stream",
     "text": [
      "<Cell 'sample_us'.F10>\n",
      "Fisher-Price Octonauts Shellington's On-The-Go Pod Toy\n"
     ]
    }
   ],
   "source": [
    "print(sheet.cell(row=10, column=6))\n",
    "print(sheet.cell(row=10, column=6).value)"
   ]
  },
  {
   "cell_type": "markdown",
   "metadata": {},
   "source": [
    "У каждой ячейки есть атрибуты, которые содержат номера ряда и столбца."
   ]
  },
  {
   "cell_type": "code",
   "execution_count": 26,
   "metadata": {},
   "outputs": [
    {
     "name": "stdout",
     "output_type": "stream",
     "text": [
      "2\n",
      "8\n"
     ]
    }
   ],
   "source": [
    "print(sheet[\"H2\"].row)\n",
    "print(sheet['h2'].column) # кстати, буквы необязательно должны быть заглавные"
   ]
  },
  {
   "cell_type": "markdown",
   "metadata": {},
   "source": [
    "#### Импорт данных из Excel\n",
    "Теперь, когда мы изучили основы загрузки Excel, самое время приступить к интересной части: итерации и фактическому использованию значений в таблице. Например, данные можно перебирать, используя \"срезы\" вашего листа.\n"
   ]
  },
  {
   "cell_type": "code",
   "execution_count": 28,
   "metadata": {},
   "outputs": [
    {
     "data": {
      "text/plain": [
       "((<Cell 'sample_us'.A1>,),\n",
       " (<Cell 'sample_us'.A2>,),\n",
       " (<Cell 'sample_us'.A3>,),\n",
       " (<Cell 'sample_us'.A4>,),\n",
       " (<Cell 'sample_us'.A5>,))"
      ]
     },
     "execution_count": 28,
     "metadata": {},
     "output_type": "execute_result"
    }
   ],
   "source": [
    "sheet[\"A1:A5\"] # так выглядит колонка"
   ]
  },
  {
   "cell_type": "code",
   "execution_count": 29,
   "metadata": {},
   "outputs": [
    {
     "name": "stdout",
     "output_type": "stream",
     "text": [
      "marketplace\n",
      "US\n",
      "US\n",
      "US\n",
      "US\n"
     ]
    }
   ],
   "source": [
    "for cell in sheet[\"A1:A5\"]:\n",
    "    print(cell[0].value)"
   ]
  },
  {
   "cell_type": "code",
   "execution_count": 42,
   "metadata": {},
   "outputs": [
    {
     "data": {
      "text/plain": [
       "((<Cell 'sample_us'.A1>,\n",
       "  <Cell 'sample_us'.B1>,\n",
       "  <Cell 'sample_us'.C1>,\n",
       "  <Cell 'sample_us'.D1>,\n",
       "  <Cell 'sample_us'.E1>,\n",
       "  <Cell 'sample_us'.F1>,\n",
       "  <Cell 'sample_us'.G1>,\n",
       "  <Cell 'sample_us'.H1>),)"
      ]
     },
     "execution_count": 42,
     "metadata": {},
     "output_type": "execute_result"
    }
   ],
   "source": [
    "sheet[\"A1:H1\"] # а так ряд. Обртатие внимание на размерность"
   ]
  },
  {
   "cell_type": "code",
   "execution_count": 37,
   "metadata": {},
   "outputs": [
    {
     "name": "stdout",
     "output_type": "stream",
     "text": [
      "marketplace\n"
     ]
    }
   ],
   "source": [
    "for cell in sheet[\"A1:H1\"]:\n",
    "    print(cell[0].value)"
   ]
  },
  {
   "cell_type": "markdown",
   "metadata": {},
   "source": [
    "Видите, не сработало, как в примере с колонкой, потому что структура данных немного другая."
   ]
  },
  {
   "cell_type": "code",
   "execution_count": 43,
   "metadata": {},
   "outputs": [
    {
     "name": "stdout",
     "output_type": "stream",
     "text": [
      "(<Cell 'sample_us'.A1>, <Cell 'sample_us'.B1>, <Cell 'sample_us'.C1>, <Cell 'sample_us'.D1>, <Cell 'sample_us'.E1>, <Cell 'sample_us'.F1>, <Cell 'sample_us'.G1>, <Cell 'sample_us'.H1>)\n",
      "marketplace\n",
      "customer_id\n",
      "review_id\n",
      "product_id\n",
      "product_parent\n",
      "product_title\n",
      "product_category\n",
      "star_rating\n"
     ]
    }
   ],
   "source": [
    "for row in sheet[\"A1:H1\"]:\n",
    "    print(row) # развернули ряд\n",
    "    for cell in row: # и только теперь пошли по ячейкам\n",
    "        print(cell.value)"
   ]
  },
  {
   "cell_type": "markdown",
   "metadata": {},
   "source": [
    "А что делать со сложным срезом? "
   ]
  },
  {
   "cell_type": "code",
   "execution_count": 45,
   "metadata": {},
   "outputs": [
    {
     "data": {
      "text/plain": [
       "((<Cell 'sample_us'.A1>,\n",
       "  <Cell 'sample_us'.B1>,\n",
       "  <Cell 'sample_us'.C1>,\n",
       "  <Cell 'sample_us'.D1>,\n",
       "  <Cell 'sample_us'.E1>,\n",
       "  <Cell 'sample_us'.F1>,\n",
       "  <Cell 'sample_us'.G1>,\n",
       "  <Cell 'sample_us'.H1>),\n",
       " (<Cell 'sample_us'.A2>,\n",
       "  <Cell 'sample_us'.B2>,\n",
       "  <Cell 'sample_us'.C2>,\n",
       "  <Cell 'sample_us'.D2>,\n",
       "  <Cell 'sample_us'.E2>,\n",
       "  <Cell 'sample_us'.F2>,\n",
       "  <Cell 'sample_us'.G2>,\n",
       "  <Cell 'sample_us'.H2>),\n",
       " (<Cell 'sample_us'.A3>,\n",
       "  <Cell 'sample_us'.B3>,\n",
       "  <Cell 'sample_us'.C3>,\n",
       "  <Cell 'sample_us'.D3>,\n",
       "  <Cell 'sample_us'.E3>,\n",
       "  <Cell 'sample_us'.F3>,\n",
       "  <Cell 'sample_us'.G3>,\n",
       "  <Cell 'sample_us'.H3>))"
      ]
     },
     "execution_count": 45,
     "metadata": {},
     "output_type": "execute_result"
    }
   ],
   "source": [
    "sheet[\"A1:H3\"]"
   ]
  },
  {
   "cell_type": "code",
   "execution_count": 47,
   "metadata": {},
   "outputs": [
    {
     "name": "stdout",
     "output_type": "stream",
     "text": [
      "(<Cell 'sample_us'.A1>, <Cell 'sample_us'.B1>, <Cell 'sample_us'.C1>, <Cell 'sample_us'.D1>, <Cell 'sample_us'.E1>, <Cell 'sample_us'.F1>, <Cell 'sample_us'.G1>, <Cell 'sample_us'.H1>)\n",
      "marketplace\n",
      "customer_id\n",
      "review_id\n",
      "product_id\n",
      "product_parent\n",
      "product_title\n",
      "product_category\n",
      "star_rating\n",
      "(<Cell 'sample_us'.A2>, <Cell 'sample_us'.B2>, <Cell 'sample_us'.C2>, <Cell 'sample_us'.D2>, <Cell 'sample_us'.E2>, <Cell 'sample_us'.F2>, <Cell 'sample_us'.G2>, <Cell 'sample_us'.H2>)\n",
      "US\n",
      "18778586\n",
      "RDIJS7QYB6XNR\n",
      "B00EDBY7X8\n",
      "122952789\n",
      "Monopoly Junior Board Game\n",
      "Toys\n",
      "5\n",
      "(<Cell 'sample_us'.A3>, <Cell 'sample_us'.B3>, <Cell 'sample_us'.C3>, <Cell 'sample_us'.D3>, <Cell 'sample_us'.E3>, <Cell 'sample_us'.F3>, <Cell 'sample_us'.G3>, <Cell 'sample_us'.H3>)\n",
      "US\n",
      "24769659\n",
      "R36ED1U38IELG8\n",
      "B00D7JFOPC\n",
      "952062646\n",
      "56 Pieces of Wooden Train Track Compatible with All Major Train Brands\n",
      "Toys\n",
      "5\n"
     ]
    }
   ],
   "source": [
    "for row in sheet[\"A1:H3\"]:\n",
    "    print(row)\n",
    "    for cell in row: # и только теперь пошли по ячейкам\n",
    "        print(cell.value)"
   ]
  },
  {
   "cell_type": "markdown",
   "metadata": {},
   "source": [
    "Также двойной индексацией можно получать ячейку (колонка и ряд)"
   ]
  },
  {
   "cell_type": "code",
   "execution_count": 48,
   "metadata": {},
   "outputs": [
    {
     "data": {
      "text/plain": [
       "<Cell 'sample_us'.A2>"
      ]
     },
     "execution_count": 48,
     "metadata": {},
     "output_type": "execute_result"
    }
   ],
   "source": [
    "sheet[\"A\"][1]"
   ]
  },
  {
   "cell_type": "markdown",
   "metadata": {},
   "source": [
    "Можно получить всю колонку."
   ]
  },
  {
   "cell_type": "code",
   "execution_count": 49,
   "metadata": {},
   "outputs": [
    {
     "data": {
      "text/plain": [
       "(<Cell 'sample_us'.A1>,\n",
       " <Cell 'sample_us'.A2>,\n",
       " <Cell 'sample_us'.A3>,\n",
       " <Cell 'sample_us'.A4>,\n",
       " <Cell 'sample_us'.A5>,\n",
       " <Cell 'sample_us'.A6>,\n",
       " <Cell 'sample_us'.A7>,\n",
       " <Cell 'sample_us'.A8>,\n",
       " <Cell 'sample_us'.A9>,\n",
       " <Cell 'sample_us'.A10>,\n",
       " <Cell 'sample_us'.A11>,\n",
       " <Cell 'sample_us'.A12>,\n",
       " <Cell 'sample_us'.A13>,\n",
       " <Cell 'sample_us'.A14>,\n",
       " <Cell 'sample_us'.A15>,\n",
       " <Cell 'sample_us'.A16>,\n",
       " <Cell 'sample_us'.A17>,\n",
       " <Cell 'sample_us'.A18>,\n",
       " <Cell 'sample_us'.A19>,\n",
       " <Cell 'sample_us'.A20>,\n",
       " <Cell 'sample_us'.A21>,\n",
       " <Cell 'sample_us'.A22>,\n",
       " <Cell 'sample_us'.A23>,\n",
       " <Cell 'sample_us'.A24>,\n",
       " <Cell 'sample_us'.A25>,\n",
       " <Cell 'sample_us'.A26>,\n",
       " <Cell 'sample_us'.A27>,\n",
       " <Cell 'sample_us'.A28>,\n",
       " <Cell 'sample_us'.A29>,\n",
       " <Cell 'sample_us'.A30>,\n",
       " <Cell 'sample_us'.A31>,\n",
       " <Cell 'sample_us'.A32>,\n",
       " <Cell 'sample_us'.A33>,\n",
       " <Cell 'sample_us'.A34>,\n",
       " <Cell 'sample_us'.A35>,\n",
       " <Cell 'sample_us'.A36>,\n",
       " <Cell 'sample_us'.A37>,\n",
       " <Cell 'sample_us'.A38>,\n",
       " <Cell 'sample_us'.A39>,\n",
       " <Cell 'sample_us'.A40>,\n",
       " <Cell 'sample_us'.A41>,\n",
       " <Cell 'sample_us'.A42>,\n",
       " <Cell 'sample_us'.A43>,\n",
       " <Cell 'sample_us'.A44>,\n",
       " <Cell 'sample_us'.A45>,\n",
       " <Cell 'sample_us'.A46>,\n",
       " <Cell 'sample_us'.A47>,\n",
       " <Cell 'sample_us'.A48>,\n",
       " <Cell 'sample_us'.A49>,\n",
       " <Cell 'sample_us'.A50>)"
      ]
     },
     "execution_count": 49,
     "metadata": {},
     "output_type": "execute_result"
    }
   ],
   "source": [
    "sheet['A']"
   ]
  },
  {
   "cell_type": "markdown",
   "metadata": {},
   "source": [
    "Точно так же можно оперировать и со строками:"
   ]
  },
  {
   "cell_type": "code",
   "execution_count": 51,
   "metadata": {},
   "outputs": [
    {
     "data": {
      "text/plain": [
       "(<Cell 'sample_us'.A5>,\n",
       " <Cell 'sample_us'.B5>,\n",
       " <Cell 'sample_us'.C5>,\n",
       " <Cell 'sample_us'.D5>,\n",
       " <Cell 'sample_us'.E5>,\n",
       " <Cell 'sample_us'.F5>,\n",
       " <Cell 'sample_us'.G5>,\n",
       " <Cell 'sample_us'.H5>,\n",
       " <Cell 'sample_us'.I5>,\n",
       " <Cell 'sample_us'.J5>,\n",
       " <Cell 'sample_us'.K5>,\n",
       " <Cell 'sample_us'.L5>,\n",
       " <Cell 'sample_us'.M5>,\n",
       " <Cell 'sample_us'.N5>,\n",
       " <Cell 'sample_us'.O5>)"
      ]
     },
     "execution_count": 51,
     "metadata": {},
     "output_type": "execute_result"
    }
   ],
   "source": [
    "sheet[5] # вернет все ячейки, в которых есть значения"
   ]
  },
  {
   "cell_type": "markdown",
   "metadata": {},
   "source": [
    "Конечно же кроме такого вывода в виде кортежей можно использовать генераторы для прохода по строкам или столбцам. Для этого используются методы:\n",
    "\n",
    "* .iter_rows ()\n",
    "* .iter_cols ()\n",
    "\n",
    "Оба метода в качестве аргументов могут принимать:\n",
    "\n",
    "* min_row\n",
    "* max_row\n",
    "* min_col\n",
    "* max_col\n",
    "\n",
    "Чтобы ограничивать область применения. Нумерация, к слову, начинается с 1."
   ]
  },
  {
   "cell_type": "code",
   "execution_count": 62,
   "metadata": {},
   "outputs": [
    {
     "name": "stdout",
     "output_type": "stream",
     "text": [
      "(<Cell 'sample_us'.A1>, <Cell 'sample_us'.B1>, <Cell 'sample_us'.C1>)\n",
      "(<Cell 'sample_us'.A2>, <Cell 'sample_us'.B2>, <Cell 'sample_us'.C2>)\n"
     ]
    }
   ],
   "source": [
    "for row in sheet.iter_rows(min_row=1,\n",
    "                           max_row=2,\n",
    "                           min_col=1,\n",
    "                           max_col=3):\n",
    "     print(row)"
   ]
  },
  {
   "cell_type": "code",
   "execution_count": 63,
   "metadata": {},
   "outputs": [
    {
     "name": "stdout",
     "output_type": "stream",
     "text": [
      "(<Cell 'sample_us'.A1>, <Cell 'sample_us'.A2>)\n",
      "(<Cell 'sample_us'.B1>, <Cell 'sample_us'.B2>)\n",
      "(<Cell 'sample_us'.C1>, <Cell 'sample_us'.C2>)\n"
     ]
    }
   ],
   "source": [
    "for column in sheet.iter_cols(min_row=1,\n",
    "                              max_row=2,\n",
    "                              min_col=1,\n",
    "                              max_col=3):\n",
    "    print(column)"
   ]
  },
  {
   "cell_type": "markdown",
   "metadata": {},
   "source": [
    "Кроме того, у обеих функций есть аргумент values_only, который позволяет вместо полной информации о ячейке получать только ее значение."
   ]
  },
  {
   "cell_type": "code",
   "execution_count": 64,
   "metadata": {},
   "outputs": [
    {
     "name": "stdout",
     "output_type": "stream",
     "text": [
      "('marketplace', 'customer_id', 'review_id')\n",
      "('US', 18778586, 'RDIJS7QYB6XNR')\n"
     ]
    }
   ],
   "source": [
    "for value in sheet.iter_rows(min_row=1,\n",
    "                             max_row=2,\n",
    "                             min_col=1,\n",
    "                             max_col=3,\n",
    "                             values_only=True):\n",
    "    print(value)"
   ]
  },
  {
   "cell_type": "markdown",
   "metadata": {},
   "source": [
    "Если вы хотите выполнить итерацию по всему набору данных, вы также можете напрямую использовать атрибуты **.rows** или **.columns**, которые являются ярлыками для .iter_rows () и .iter_cols () без каких-либо аргументов:"
   ]
  },
  {
   "cell_type": "code",
   "execution_count": 65,
   "metadata": {},
   "outputs": [
    {
     "name": "stdout",
     "output_type": "stream",
     "text": [
      "(<Cell 'sample_us'.A1>, <Cell 'sample_us'.B1>, <Cell 'sample_us'.C1>, <Cell 'sample_us'.D1>, <Cell 'sample_us'.E1>, <Cell 'sample_us'.F1>, <Cell 'sample_us'.G1>, <Cell 'sample_us'.H1>, <Cell 'sample_us'.I1>, <Cell 'sample_us'.J1>, <Cell 'sample_us'.K1>, <Cell 'sample_us'.L1>, <Cell 'sample_us'.M1>, <Cell 'sample_us'.N1>, <Cell 'sample_us'.O1>)\n"
     ]
    }
   ],
   "source": [
    "for row in sheet.rows:\n",
    "    print(row)\n",
    "    break"
   ]
  },
  {
   "cell_type": "markdown",
   "metadata": {},
   "source": [
    "Также можно напрямую обратиться ко всем значениям."
   ]
  },
  {
   "cell_type": "code",
   "execution_count": 66,
   "metadata": {},
   "outputs": [
    {
     "name": "stdout",
     "output_type": "stream",
     "text": [
      "('marketplace', 'customer_id', 'review_id', 'product_id', 'product_parent', 'product_title', 'product_category', 'star_rating', 'helpful_votes', 'total_votes', 'vine', 'verified_purchase', 'review_headline', 'review_body', 'review_date')\n"
     ]
    }
   ],
   "source": [
    "for value in sheet.values:\n",
    "    print(value) # выводит кортеж ряда\n",
    "    break"
   ]
  },
  {
   "cell_type": "markdown",
   "metadata": {},
   "source": [
    "Достанем имена всех колонок:"
   ]
  },
  {
   "cell_type": "code",
   "execution_count": 67,
   "metadata": {},
   "outputs": [
    {
     "name": "stdout",
     "output_type": "stream",
     "text": [
      "('marketplace', 'customer_id', 'review_id', 'product_id', 'product_parent', 'product_title', 'product_category', 'star_rating', 'helpful_votes', 'total_votes', 'vine', 'verified_purchase', 'review_headline', 'review_body', 'review_date')\n"
     ]
    }
   ],
   "source": [
    "for value in sheet.iter_rows(min_row=1,\n",
    "                             max_row=1,\n",
    "                             values_only=True):\n",
    "    print(value)"
   ]
  },
  {
   "cell_type": "markdown",
   "metadata": {},
   "source": [
    "А теперь возьмем информацию только из колонок:\n",
    "    \n",
    "* product_id\n",
    "* product_parent\n",
    "* product_title\n",
    "* product_category\n"
   ]
  },
  {
   "cell_type": "code",
   "execution_count": 68,
   "metadata": {},
   "outputs": [
    {
     "name": "stdout",
     "output_type": "stream",
     "text": [
      "('B00EDBY7X8', 122952789, 'Monopoly Junior Board Game', 'Toys')\n"
     ]
    }
   ],
   "source": [
    "for value in sheet.iter_rows(min_row=2,\n",
    "                             min_col=4,\n",
    "                             max_col=7,\n",
    "                             values_only=True):\n",
    "    print(value)\n",
    "    break"
   ]
  },
  {
   "cell_type": "markdown",
   "metadata": {},
   "source": [
    "А теперь мы можем все это упаковать в json"
   ]
  },
  {
   "cell_type": "code",
   "execution_count": 69,
   "metadata": {},
   "outputs": [],
   "source": [
    "import json\n",
    "from openpyxl import load_workbook\n",
    "\n",
    "workbook = load_workbook(filename=\"sample_us.xlsx\")\n",
    "sheet = workbook.active\n",
    "\n",
    "products = {}\n",
    "\n",
    "# Используем values_only, потому что нужны только значения\n",
    "for row in sheet.iter_rows(min_row=2,\n",
    "                           min_col=4,\n",
    "                           max_col=7,\n",
    "                           values_only=True):\n",
    "    product_id = row[0]\n",
    "    product = {\n",
    "        \"parent\": row[1],\n",
    "        \"title\": row[2],\n",
    "        \"category\": row[3]\n",
    "    }\n",
    "    products[product_id] = product\n",
    "\n",
    "# print(json.dumps(products, indent=4))"
   ]
  },
  {
   "cell_type": "markdown",
   "metadata": {},
   "source": [
    "#### Как писать новую информацию в Excel"
   ]
  },
  {
   "cell_type": "code",
   "execution_count": 71,
   "metadata": {},
   "outputs": [],
   "source": [
    "from openpyxl import load_workbook\n",
    "\n",
    "# откроем наш первый ноутбук\n",
    "workbook = load_workbook(filename=\"hello_world.xlsx\")\n",
    "sheet = workbook.active\n",
    "\n",
    "# Запишем новую информацию\n",
    "sheet[\"C1\"] = \"writing ;)\"\n",
    "\n",
    "# Сохраним ноутбук\n",
    "workbook.save(filename=\"hello_world_append.xlsx\")"
   ]
  },
  {
   "cell_type": "markdown",
   "metadata": {},
   "source": [
    "#### Добавление/Удаление колонок и строк\n",
    "\n",
    "При ручной работе с файлами Excel очень часто приходится добавлять и удалять строки и столбцы. \n",
    "\n",
    "Openpyxl позволяет это делать с помощью методов:\n",
    "\n",
    "* .insert_rows()\n",
    "* .delete_rows()\n",
    "* .insert_cols()\n",
    "* .delete_cols()\n",
    "\n",
    "Каждый из этих методов принимает всего два аргумента:\n",
    "\n",
    "* idx\n",
    "* amount"
   ]
  },
  {
   "cell_type": "markdown",
   "metadata": {},
   "source": [
    "Создадим для удобства печатающую файлик функцию"
   ]
  },
  {
   "cell_type": "code",
   "execution_count": 72,
   "metadata": {},
   "outputs": [],
   "source": [
    "def print_rows():\n",
    "    for row in sheet.iter_rows(values_only=True):\n",
    "        print(row)"
   ]
  },
  {
   "cell_type": "code",
   "execution_count": 73,
   "metadata": {},
   "outputs": [
    {
     "name": "stdout",
     "output_type": "stream",
     "text": [
      "('hello', 'world!')\n"
     ]
    }
   ],
   "source": [
    "workbook = load_workbook(filename=\"hello_world.xlsx\")\n",
    "sheet = workbook.active\n",
    "print_rows()"
   ]
  },
  {
   "cell_type": "code",
   "execution_count": 74,
   "metadata": {},
   "outputs": [
    {
     "name": "stdout",
     "output_type": "stream",
     "text": [
      "(None, 'hello', 'world!')\n"
     ]
    }
   ],
   "source": [
    "# Вставим новую колонку перед колонкой 1 (\"A\")\n",
    "sheet.insert_cols(idx=1)\n",
    "print_rows()"
   ]
  },
  {
   "cell_type": "code",
   "execution_count": 75,
   "metadata": {},
   "outputs": [
    {
     "name": "stdout",
     "output_type": "stream",
     "text": [
      "(None, 'hello', None, None, None, None, None, 'world!')\n"
     ]
    }
   ],
   "source": [
    "# Вставим 5 колонок между колонкой  2 (\"B\") и колонкой 3 (\"C\")\n",
    "sheet.insert_cols(idx=3, amount=5)\n",
    "print_rows()"
   ]
  },
  {
   "cell_type": "code",
   "execution_count": 76,
   "metadata": {},
   "outputs": [
    {
     "name": "stdout",
     "output_type": "stream",
     "text": [
      "('hello', 'world!')\n"
     ]
    }
   ],
   "source": [
    "# Удалим эти безобразные пустые колонки\n",
    "sheet.delete_cols(idx=3, amount=5)\n",
    "sheet.delete_cols(idx=1)\n",
    "print_rows()\n"
   ]
  },
  {
   "cell_type": "code",
   "execution_count": 77,
   "metadata": {},
   "outputs": [
    {
     "name": "stdout",
     "output_type": "stream",
     "text": [
      "(None, None)\n",
      "('hello', 'world!')\n"
     ]
    }
   ],
   "source": [
    "# Вставим новую строку перед первой\n",
    "sheet.insert_rows(idx=1)\n",
    "print_rows()"
   ]
  },
  {
   "cell_type": "code",
   "execution_count": 78,
   "metadata": {},
   "outputs": [
    {
     "name": "stdout",
     "output_type": "stream",
     "text": [
      "(None, None)\n",
      "(None, None)\n",
      "(None, None)\n",
      "(None, None)\n",
      "('hello', 'world!')\n"
     ]
    }
   ],
   "source": [
    "#Вставим еще 3 строки в начале\n",
    "sheet.insert_rows(idx=1, amount=3)\n",
    "print_rows()"
   ]
  },
  {
   "cell_type": "code",
   "execution_count": 79,
   "metadata": {},
   "outputs": [
    {
     "name": "stdout",
     "output_type": "stream",
     "text": [
      "('hello', 'world!')\n"
     ]
    }
   ],
   "source": [
    "# Зачистим это безобразие\n",
    "sheet.delete_rows(idx=1, amount=4)\n",
    "print_rows()"
   ]
  },
  {
   "cell_type": "markdown",
   "metadata": {},
   "source": [
    "#### Добавление фильтров\n",
    "Вы можете использовать openpyxl для добавления фильтров и сортировок в ваш Excel-файл. Однако при открытии файла данные не будут переставлены в соответствии с этим отображением и фильтрами.\n",
    "\n",
    "Поначалу это может показаться довольно бесполезной функцией, но когда вы программно создаете электронную таблицу, которая будет отправлена и использована кем-то другим, все равно неплохо по крайней мере создать фильтры и позволить людям переиспользовать ее позже.\n",
    "\n",
    "Попробуем добавить некие фильтры в наш файл sample_us.xlsx:"
   ]
  },
  {
   "cell_type": "code",
   "execution_count": 80,
   "metadata": {},
   "outputs": [],
   "source": [
    "workbook = load_workbook(filename=\"sample_us.xlsx\") #открыли файл\n",
    "sheet = workbook.active"
   ]
  },
  {
   "cell_type": "code",
   "execution_count": 87,
   "metadata": {},
   "outputs": [
    {
     "data": {
      "text/plain": [
       "'A1:O50'"
      ]
     },
     "execution_count": 87,
     "metadata": {},
     "output_type": "execute_result"
    }
   ],
   "source": [
    "# проверим размерность таблички, используя метод \"dimensions\"\n",
    "sheet.dimensions"
   ]
  },
  {
   "cell_type": "code",
   "execution_count": 88,
   "metadata": {},
   "outputs": [],
   "source": [
    "sheet.auto_filter.ref = \"A1:O50\"\n",
    "workbook.save(filename=\"sample_with_filters.xlsx\")"
   ]
  },
  {
   "cell_type": "markdown",
   "metadata": {},
   "source": [
    "#### Добавление формул\n",
    "Формулы являются одной из самых мощных функций Excel.\n",
    "\n",
    "Они дают вам возможность применять конкретные математические формулы для диапазона ячеек. Использовать формулы с openpyxl так же просто, как редактировать значение ячейки.\n",
    "\n",
    "Так можно посмотреть список формул, поддерживаемых openpyxl:"
   ]
  },
  {
   "cell_type": "code",
   "execution_count": 89,
   "metadata": {},
   "outputs": [],
   "source": [
    "from openpyxl.utils import FORMULAE\n",
    "# FORMULAE"
   ]
  },
  {
   "cell_type": "markdown",
   "metadata": {},
   "source": [
    "Давайте добавим некоторые формулы в нашу электронную таблицу sample_us.xlsx.\n",
    "\n",
    "Начнем с чего-то простого, давайте проверим средний рейтинг звезд по 49 отзывам в таблице:"
   ]
  },
  {
   "cell_type": "code",
   "execution_count": 90,
   "metadata": {},
   "outputs": [],
   "source": [
    "# Star rating лежит в колонке \"H\"\n",
    "sheet[\"P2\"] = \"=AVERAGE(H2:H50)\"\n",
    "workbook.save(filename=\"sample_formulae.xlsx\")"
   ]
  },
  {
   "cell_type": "markdown",
   "metadata": {},
   "source": [
    "Можно использовать ту же методологию, чтобы добавить любые формулы в таблицу. Например, давайте посчитаем количество отзывов, которые получили оценки >0"
   ]
  },
  {
   "cell_type": "code",
   "execution_count": 92,
   "metadata": {},
   "outputs": [],
   "source": [
    "# \"Полезные\" оценки хранятся в колонке \"I\"\n",
    "sheet[\"P3\"] = '=COUNTIF(I2:I100, \">0\")'\n",
    "workbook.save(filename=\"sample_formulae.xlsx\")"
   ]
  },
  {
   "cell_type": "markdown",
   "metadata": {},
   "source": [
    "#### Условное форматирование\n",
    "Эта функция является одной из моих любимых, когда дело доходит до добавления стилей в Excel.\n",
    "\n",
    "Это гораздо более тонкий подход к стилю, поскольку он динамически применяет стили в зависимости от того, какие данные дежат в ячейке.\n",
    "\n",
    "В двух словах, условное форматирование позволяет вам указать список стилей, которые будут применяться к ячейке (или диапазону ячеек) в соответствии с конкретными условиями.\n",
    "\n",
    "Например, широко распространенным вариантом использования является наличие баланса, в котором все отрицательные итоги отмечены красным, а положительные - зеленым. Такое форматирование позволет намного удобнее выделить хорошие и плохие периоды.\n",
    "\n",
    "Без лишних слов давайте выберем нашу любимую электронную таблицу - sample_us.xlsx - и добавим условное форматирование.\n",
    "\n",
    "Начнем с добавления условия, которое добавляет красный фон ко всем обзорам менее чем с 3 звездами:"
   ]
  },
  {
   "cell_type": "code",
   "execution_count": 93,
   "metadata": {},
   "outputs": [],
   "source": [
    "from openpyxl.styles import PatternFill, colors\n",
    "from openpyxl.styles.differential import DifferentialStyle\n",
    "from openpyxl.formatting.rule import Rule\n",
    "\n",
    "red_background = PatternFill(bgColor=colors.RED)\n",
    "diff_style = DifferentialStyle(fill=red_background)\n",
    "rule = Rule(type=\"expression\", dxf=diff_style)\n",
    "rule.formula = [\"$H1<3\"]\n",
    "sheet.conditional_formatting.add(\"A1:O50\", rule)\n",
    "workbook.save(\"sample_conditional_formatting.xlsx\")"
   ]
  },
  {
   "cell_type": "markdown",
   "metadata": {},
   "source": [
    "С точки зрения кода, единственными новинками здесь являются объекты **DifferentialStyle** и **Rule**:\n",
    "\n",
    "**DifferentialStyle** используется для объединения нескольких стилей, таких как шрифты, границы, выравнивание и так далее.\n",
    "**Rule** отвечает за выбор ячеек и применение стилей, если ячейки соответствуют логике правила.\n",
    "Используя объект **Rule**, вы можете создавать многочисленные сценарии условного форматирования.\n",
    "\n",
    "Однако для простоты пакет openpyxl предлагает 3 встроенных формата, которые облегчают создание нескольких распространенных шаблонов условного форматирования. Эти встроенные модули:\n",
    "\n",
    "* ColorScale\n",
    "* IconSet\n",
    "* DataBar\n",
    "\n",
    "**ColorScale** дает вам возможность создавать цветовые градиенты:"
   ]
  },
  {
   "cell_type": "code",
   "execution_count": 94,
   "metadata": {},
   "outputs": [],
   "source": [
    "from openpyxl.formatting.rule import ColorScaleRule\n",
    "workbook = load_workbook(filename=\"sample_us.xlsx\") #открыли файл\n",
    "sheet = workbook.active\n",
    "color_scale_rule = ColorScaleRule(start_type=\"min\",\n",
    "                                  start_color=colors.RED,\n",
    "                                  end_type=\"max\",\n",
    "                                  end_color=colors.GREEN)\n",
    "\n",
    "# Давайте добавим градиент к колонке рейтинга \"H\"\n",
    "sheet.conditional_formatting.add(\"H2:H50\", color_scale_rule)\n",
    "workbook.save(filename=\"sample_conditional_formatting_color_scale.xlsx\")"
   ]
  },
  {
   "cell_type": "markdown",
   "metadata": {},
   "source": [
    "А еще можно третий цвет добавить!"
   ]
  },
  {
   "cell_type": "code",
   "execution_count": 95,
   "metadata": {},
   "outputs": [],
   "source": [
    "from openpyxl.formatting.rule import ColorScaleRule\n",
    "workbook = load_workbook(filename=\"sample_us.xlsx\") #открыли файл\n",
    "sheet = workbook.active\n",
    "color_scale_rule = ColorScaleRule(start_type=\"num\",\n",
    "                                  start_value=1,\n",
    "                                  start_color=colors.RED,\n",
    "                                  mid_type=\"num\",\n",
    "                                  mid_value=3,\n",
    "                                  mid_color=colors.YELLOW,\n",
    "                                  end_type=\"num\",\n",
    "                                  end_value=5,\n",
    "                                  end_color=colors.GREEN)\n",
    "\n",
    "# Давайте добавим градиент к колонке рейтинга \"H\"\n",
    "sheet.conditional_formatting.add(\"H2:H50\", color_scale_rule)\n",
    "workbook.save(filename=\"sample_conditional_formatting_color_scale_3.xlsx\")"
   ]
  },
  {
   "cell_type": "markdown",
   "metadata": {},
   "source": [
    "Элемент - **IconSet** позволяет добавить значок в ячейку в соответствии с ее значением.\n",
    "Весь список иконок можно посмотреть тут: https://openpyxl.readthedocs.io/en/stable/formatting.html#iconset"
   ]
  },
  {
   "cell_type": "code",
   "execution_count": 96,
   "metadata": {},
   "outputs": [],
   "source": [
    "from openpyxl.formatting.rule import IconSetRule\n",
    "workbook = load_workbook(filename=\"sample_us.xlsx\") #открыли файл\n",
    "sheet = workbook.active\n",
    "icon_set_rule = IconSetRule(\"5Arrows\", \"num\", [1, 2, 3, 4, 5])\n",
    "sheet.conditional_formatting.add(\"H2:H50\", icon_set_rule)\n",
    "workbook.save(\"sample_conditional_formatting_icon_set.xlsx\")"
   ]
  },
  {
   "cell_type": "markdown",
   "metadata": {},
   "source": [
    "А еще в ячейку можно поместить Progress Bar"
   ]
  },
  {
   "cell_type": "code",
   "execution_count": 97,
   "metadata": {},
   "outputs": [],
   "source": [
    "from openpyxl.formatting.rule import DataBarRule\n",
    "workbook = load_workbook(filename=\"sample_us.xlsx\") #открыли файл\n",
    "sheet = workbook.active\n",
    "data_bar_rule = DataBarRule(start_type=\"num\",\n",
    "                            start_value=1,\n",
    "                            end_type=\"num\",\n",
    "                            end_value=\"5\",\n",
    "                            color=colors.GREEN)\n",
    "sheet.conditional_formatting.add(\"H2:H50\", data_bar_rule)\n",
    "workbook.save(\"sample_conditional_formatting_data_bar.xlsx\")"
   ]
  },
  {
   "cell_type": "markdown",
   "metadata": {},
   "source": [
    "### Добавление рисунков\n",
    "Еще в Excel можно рисовать диаграммы и графики прямо из python.\n",
    "\n",
    "Графики - отличный способ быстро визуализировать и понимать множество данных. Существует множество различных типов графиков: гистограмма, круговая диаграмма, линейная диаграмма и т. д. openpyxl поддерживает многие из них.\n",
    "\n",
    "Здесь вы увидите только пару примеров диаграмм, потому что теория, лежащая в их основе, одинакова для каждого типа:\n",
    "\n",
    "Для любой диаграммы, которую вы хотите построить, вам нужно определить тип диаграммы: BarChart, LineChart и т.д., а также данные, которые будут использоваться для диаграммы.\n",
    "\n",
    "Прежде чем вы сможете построить свою диаграмму, вам необходимо определить, какие данные вы хотите на ней видеть. Иногда вы можете использовать набор данных как есть, но иногда вам нужно немного покрутить данные, чтобы получить дополнительную информацию.\n",
    "\n",
    "Давайте начнем с создания нового файла:"
   ]
  },
  {
   "cell_type": "code",
   "execution_count": 109,
   "metadata": {},
   "outputs": [],
   "source": [
    "from openpyxl import Workbook\n",
    "from openpyxl.chart import BarChart, Reference\n",
    "\n",
    "workbook = Workbook()\n",
    "sheet = workbook.active\n",
    "\n",
    "# Let's create some sample sales data\n",
    "rows = [\n",
    "    [\"Product\", \"Online\", \"Store\"],\n",
    "    [1, 30, 45],\n",
    "    [2, 40, 30],\n",
    "    [3, 40, 25],\n",
    "    [4, 50, 30],\n",
    "    [5, 30, 25],\n",
    "    [6, 25, 35],\n",
    "    [7, 20, 40],\n",
    " ]\n",
    "\n",
    "for row in rows:\n",
    "    sheet.append(row)"
   ]
  },
  {
   "cell_type": "markdown",
   "metadata": {},
   "source": [
    "Теперь вы сделаем гистограмму, которая отображает общее количество продаж продукта:"
   ]
  },
  {
   "cell_type": "code",
   "execution_count": 111,
   "metadata": {},
   "outputs": [],
   "source": [
    "chart = BarChart()\n",
    "data = Reference(worksheet=sheet,\n",
    "                 min_row=1,\n",
    "                 max_row=8,\n",
    "                 min_col=2,\n",
    "                 max_col=3)\n",
    "\n",
    "chart.add_data(data, titles_from_data=True)\n",
    "sheet.add_chart(chart, \"E2\")\n",
    "\n",
    "workbook.save(\"chart.xlsx\")"
   ]
  },
  {
   "cell_type": "markdown",
   "metadata": {},
   "source": [
    "Немного поменяем данные и нарисуем график:"
   ]
  },
  {
   "cell_type": "code",
   "execution_count": 112,
   "metadata": {},
   "outputs": [],
   "source": [
    "import random\n",
    "from openpyxl import Workbook\n",
    "from openpyxl.chart import LineChart, Reference\n",
    "\n",
    "workbook = Workbook()\n",
    "sheet = workbook.active\n",
    "\n",
    "# Создадим данные\n",
    "rows = [\n",
    "    [\"\", \"January\", \"February\", \"March\", \"April\",\n",
    "    \"May\", \"June\", \"July\", \"August\", \"September\",\n",
    "     \"October\", \"November\", \"December\"],\n",
    "    [1],\n",
    "    [2],\n",
    "    [3],\n",
    "]\n",
    "\n",
    "for row in rows:\n",
    "    sheet.append(row)\n",
    "\n",
    "for row in sheet.iter_rows(min_row=2,\n",
    "                           max_row=4,\n",
    "                           min_col=2,\n",
    "                           max_col=13):\n",
    "    for cell in row:\n",
    "        cell.value = random.randrange(5, 100)"
   ]
  },
  {
   "cell_type": "markdown",
   "metadata": {},
   "source": [
    "С помощью приведенного выше кода мы сгенерировали случайные данные о продажах 3 различных продуктов за год.\n",
    "Теперь можно нарисовать график:"
   ]
  },
  {
   "cell_type": "code",
   "execution_count": 113,
   "metadata": {},
   "outputs": [],
   "source": [
    "chart = LineChart()\n",
    "data = Reference(worksheet=sheet,\n",
    "                 min_row=2,\n",
    "                 max_row=4,\n",
    "                 min_col=1,\n",
    "                 max_col=13)\n",
    "\n",
    "chart.add_data(data, from_rows=True, titles_from_data=True)\n",
    "sheet.add_chart(chart, \"C6\")\n",
    "\n",
    "workbook.save(\"line_chart.xlsx\")"
   ]
  },
  {
   "cell_type": "markdown",
   "metadata": {},
   "source": [
    "Здесь следует иметь в виду, что при добавлении данных вы используете from_rows = True. Этот аргумент делает график построчно, а не столбец за столбцом.\n",
    "\n",
    "В данных примера вы видите, что у каждого продукта есть строка с 12 значениями (1 столбец в месяц). Поэтому мы используем from_rows. Если не передать этот аргумент, по умолчанию график попытается построить график по столбцу, и вы получите ежемесячное сравнение продаж."
   ]
  },
  {
   "cell_type": "code",
   "execution_count": 115,
   "metadata": {},
   "outputs": [],
   "source": [
    "chart = LineChart()\n",
    "data = Reference(worksheet=sheet,\n",
    "                 min_row=1,\n",
    "                 max_row=4,\n",
    "                 min_col=2,\n",
    "                 max_col=13)\n",
    "\n",
    "chart.add_data(data, from_rows=False, titles_from_data=True)\n",
    "sheet.add_chart(chart, \"C6\")\n",
    "\n",
    "workbook.save(\"line_chart.xlsx\")"
   ]
  },
  {
   "cell_type": "markdown",
   "metadata": {},
   "source": [
    "Другое отличие, связанное с изменением аргумента выше, заключается в том, что наша ссылка теперь начинается с первого столбца, min_col = 1, а не со второго. Это изменение необходимо, поскольку в диаграмме теперь ожидается, что в первом столбце будут заголовки.\n",
    "\n",
    "Есть еще несколько пунктов, которые можно изменить в стиле диаграммы. Например, можно добавить определенные категории на график и подписать оси:"
   ]
  }
 ],
 "metadata": {
  "kernelspec": {
   "display_name": "Python 3",
   "language": "python",
   "name": "python3"
  },
  "language_info": {
   "codemirror_mode": {
    "name": "ipython",
    "version": 3
   },
   "file_extension": ".py",
   "mimetype": "text/x-python",
   "name": "python",
   "nbconvert_exporter": "python",
   "pygments_lexer": "ipython3",
   "version": "3.6.5"
  }
 },
 "nbformat": 4,
 "nbformat_minor": 2
}
