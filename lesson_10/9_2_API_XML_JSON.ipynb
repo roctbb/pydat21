{
 "cells": [
  {
   "cell_type": "markdown",
   "metadata": {},
   "source": [
    "# Python для анализа данных\n",
    "\n",
    "## Использование API. Работа с форматами XML и JSON\n",
    "\n",
    "*На основе лекции Ильи Щурова, НИУ ВШЭ*  \n",
    "*Дополнения: Татьяна Рогович, НИУ ВШЭ*  \n"
   ]
  },
  {
   "cell_type": "markdown",
   "metadata": {},
   "source": [
    "# XML"
   ]
  },
  {
   "cell_type": "markdown",
   "metadata": {},
   "source": [
    "До этого мы с вами собирали данные вручную, обращаясь к html страницам, размеченным для отображения в браузере. Но данные также можно собирать и через API — application program interface. Обычный интерфейс — это способ взаимодействия человека с программой, а API — одной программы с другой. Например, вашего скрипта на Python с удалённым веб-сервером. \n",
    "\n",
    "![](https://www.py4e.com/images/soa.svg)  \n",
    "*Source: Python for Everybody, Chuck Severance*\n",
    "\n",
    "Для хранения веб-страниц, которые читают люди, используется язык HTML. Для хранения произвольных структурированных данных, которыми обмениваются между собой программы, используются другие языки — в частности, язык XML, похожий на HTML. Вернее было бы сказать, что XML это метаязык, то есть способ описания языков. В отличие от HTML, набор тегов в XML-документе может быть произвольным (и определяется разработчиком конкретного диалекта XML). Например, если бы мы хотели описать в виде XML некоторую студенческую группу, это могло бы выглядеть так:\n",
    "\n",
    "```xml\n",
    "<group>\n",
    "    <number>134</number>\n",
    "    <student>\n",
    "        <firstname>Виталий</firstname>\n",
    "        <lastname>Иванов</lastname>\n",
    "    </student>\n",
    "    <student>\n",
    "        <firstname>Мария</firstname>\n",
    "        <lastname>Петрова</lastname>\n",
    "    </student>\n",
    "</group>\n",
    "```\n",
    "\n",
    "Так как xml будут обмениваться программы, то существуют правила, которым должны удовлетворять ваши данные, чтобы структуру, созданную на Python, потом смог декодировать (десериализовать), например, JS.  \n",
    "[Подробнее про XML Schema](https://ru.wikipedia.org/wiki/XML_Schema_(W3C)"
   ]
  },
  {
   "cell_type": "markdown",
   "metadata": {},
   "source": [
    "Для обработки XML-файлов можно использовать тот же пакет *Beautiful Soup*, который мы уже использовали для работы с HTML. Единственное различие — нужно указать дополнительный параметр `feautres=\"xml\"` при вызове функции `BeautifulSoup` — чтобы он не искал в документе HTML-теги."
   ]
  },
  {
   "cell_type": "code",
   "execution_count": 1,
   "metadata": {},
   "outputs": [],
   "source": [
    "group = \"\"\"<group>\n",
    "<number>134</number>\n",
    "<student>\n",
    "<firstname>Виталий</firstname>\n",
    "<lastname>Иванов</lastname>\n",
    "</student>\n",
    "<student>\n",
    "<firstname>Мария</firstname>\n",
    "<lastname>Петрова</lastname>\n",
    "</student>\n",
    "</group>\"\"\""
   ]
  },
  {
   "cell_type": "code",
   "execution_count": 2,
   "metadata": {},
   "outputs": [
    {
     "name": "stdout",
     "output_type": "stream",
     "text": [
      "<?xml version=\"1.0\" encoding=\"utf-8\"?>\n",
      "<group>\n",
      " <number>\n",
      "  134\n",
      " </number>\n",
      " <student>\n",
      "  <firstname>\n",
      "   Виталий\n",
      "  </firstname>\n",
      "  <lastname>\n",
      "   Иванов\n",
      "  </lastname>\n",
      " </student>\n",
      " <student>\n",
      "  <firstname>\n",
      "   Мария\n",
      "  </firstname>\n",
      "  <lastname>\n",
      "   Петрова\n",
      "  </lastname>\n",
      " </student>\n",
      "</group>\n"
     ]
    }
   ],
   "source": [
    "from bs4 import BeautifulSoup\n",
    "\n",
    "obj = BeautifulSoup(group, features=\"xml\")\n",
    "print(obj.prettify())"
   ]
  },
  {
   "cell_type": "markdown",
   "metadata": {},
   "source": [
    "Номер группы можно найти, например, вот так - для каждого объекта через точку указываем его атрибут, в который надо спуститься. Кстати, иногда xml представляют не деревом, а именно путями (path representation). Например, код ниже можно представить так: group\\number"
   ]
  },
  {
   "cell_type": "code",
   "execution_count": 3,
   "metadata": {},
   "outputs": [
    {
     "data": {
      "text/plain": [
       "'134'"
      ]
     },
     "execution_count": 3,
     "metadata": {},
     "output_type": "execute_result"
    }
   ],
   "source": [
    "obj.group.number.text # последний атрибут текст, точно также как делали в html"
   ]
  },
  {
   "cell_type": "markdown",
   "metadata": {},
   "source": [
    "Но это работает только тогда, когда тэг уникальный. В других случаях, парсер всегда будет попадать в первый child-тэг, который он встретил по пути вниз."
   ]
  },
  {
   "cell_type": "code",
   "execution_count": 4,
   "metadata": {},
   "outputs": [
    {
     "data": {
      "text/plain": [
       "'Иванов'"
      ]
     },
     "execution_count": 4,
     "metadata": {},
     "output_type": "execute_result"
    }
   ],
   "source": [
    "obj.group.student.lastname.text # до Петровой так не добраться"
   ]
  },
  {
   "cell_type": "markdown",
   "metadata": {},
   "source": [
    "Перечислить всех студентов можно с помощью цикла (похожая структура у нас была и в обработке html)."
   ]
  },
  {
   "cell_type": "code",
   "execution_count": 5,
   "metadata": {},
   "outputs": [
    {
     "name": "stdout",
     "output_type": "stream",
     "text": [
      "Иванов Виталий\n",
      "Петрова Мария\n"
     ]
    }
   ],
   "source": [
    "for student in obj.group.find_all('student'):\n",
    "    print(student.lastname.text, student.firstname.text)"
   ]
  },
  {
   "cell_type": "markdown",
   "metadata": {},
   "source": [
    "По сути, главное отличие xml от html, что работать вы будете не со стандартизированными структурами. Поэтому перед работой придется поиграть в детективов - запросить данные и внимательно изучить расположение узлов, чтобы понять, какие тэги вас интересуют.\n",
    "\n",
    "XML легко представить в виде дерева, где есть главный узел (parent) и его \"дети\".\n",
    "\n",
    "![](https://www.py4e.com/images/xml-tree.svg)  \n",
    "*Источник: Python for Everybody, C.Severance*"
   ]
  },
  {
   "cell_type": "markdown",
   "metadata": {},
   "source": [
    "Кроме BS парсить xml можно и с помощью других библиотек. Например, ElementTree.\n"
   ]
  },
  {
   "cell_type": "code",
   "execution_count": 6,
   "metadata": {},
   "outputs": [],
   "source": [
    "import xml.etree.ElementTree as ET\n"
   ]
  },
  {
   "cell_type": "code",
   "execution_count": 7,
   "metadata": {},
   "outputs": [
    {
     "data": {
      "text/plain": [
       "[<Element 'number' at 0x0000017489B43D68>,\n",
       " <Element 'student' at 0x0000017489B43E08>,\n",
       " <Element 'student' at 0x0000017489B43EF8>]"
      ]
     },
     "execution_count": 7,
     "metadata": {},
     "output_type": "execute_result"
    }
   ],
   "source": [
    "tree = ET.fromstring(group)\n",
    "list(tree) # посмотрим, что внутри"
   ]
  },
  {
   "cell_type": "markdown",
   "metadata": {},
   "source": [
    "Cинтаксис очень похож на BS. Добрались до первой фамилии."
   ]
  },
  {
   "cell_type": "code",
   "execution_count": 8,
   "metadata": {},
   "outputs": [
    {
     "data": {
      "text/plain": [
       "'Иванов'"
      ]
     },
     "execution_count": 8,
     "metadata": {},
     "output_type": "execute_result"
    }
   ],
   "source": [
    "tree.find('student').find('lastname').text"
   ]
  },
  {
   "cell_type": "code",
   "execution_count": 9,
   "metadata": {},
   "outputs": [
    {
     "name": "stdout",
     "output_type": "stream",
     "text": [
      "Иванов\n",
      "Петрова\n"
     ]
    }
   ],
   "source": [
    "for element in tree.findall('student'):\n",
    "    print(element.find('lastname').text)"
   ]
  },
  {
   "cell_type": "markdown",
   "metadata": {},
   "source": [
    "Можно немного упростить код, включив дочерний тэг в findall."
   ]
  },
  {
   "cell_type": "code",
   "execution_count": 10,
   "metadata": {},
   "outputs": [
    {
     "name": "stdout",
     "output_type": "stream",
     "text": [
      "Иванов\n",
      "Петрова\n"
     ]
    }
   ],
   "source": [
    "for element in tree.findall('student/lastname'):\n",
    "    print(element.text)"
   ]
  },
  {
   "cell_type": "markdown",
   "metadata": {},
   "source": [
    "# Задача\n",
    "По ссылке данные в формате xml.\n",
    "http://py4e-data.dr-chuck.net/comments_42.xml\n",
    "\n",
    "Посчитайте все комментарии в этом документе (поля count)."
   ]
  },
  {
   "cell_type": "code",
   "execution_count": 11,
   "metadata": {},
   "outputs": [
    {
     "name": "stdout",
     "output_type": "stream",
     "text": [
      "2553\n"
     ]
    }
   ],
   "source": [
    "import requests\n",
    "data = requests.get('http://py4e-data.dr-chuck.net/comments_42.xml').text\n",
    "\n",
    "tree = ET.fromstring(data)\n",
    "\n",
    "total = 0\n",
    "for element in tree.findall('comments/comment/count'):\n",
    "    total += int(element.text)\n",
    "    \n",
    "print(total)"
   ]
  },
  {
   "cell_type": "markdown",
   "metadata": {},
   "source": [
    "# Реальный пример: wiki API"
   ]
  },
  {
   "cell_type": "markdown",
   "metadata": {},
   "source": [
    "Допустим, нам потребовалось получить список всех статей из некоторой категории в Википедии. Мы могли бы открыть эту категорию в браузере и дальше действовать теми методами, которые обсуждались выше. Однако, на наше счастье разработчики Википедии сделали удобное API. Чтобы научиться с ним работать, придётся познакомиться с [документацией](https://www.mediawiki.org/wiki/API:Main_page) (так будет с любым API), но это кажется сложным только в первый раз. Ну хорошо, в первые 10 раз. Или 20. Потом будет проще.\n",
    "\n",
    "Многие API будут требовать токена (например, ваш google логин-пароль для работы с гугл-документами), но мы сейчас работаем с открытым интерфейсом.\n",
    "\n",
    "Итак, приступим. Взаимодействие с сервером при помощи API происходит с помощью отправки специальным образом сформированных запросов и получения ответа в одном из машинночитаемых форматов. Нас будет интересовать формат XML, хотя бывают и другие (позже мы познакомимся с JSON). А вот такой запрос мы можем отправить:\n",
    "\n",
    "'https://en.wikipedia.org/w/api.php?action=query&list=categorymembers&cmtitle=Category%3APhysics&format=xml'\n",
    "\n",
    "[Документация действия query](https://en.wikipedia.org/w/api.php?action=help&modules=query)\n",
    "\n",
    "Строка `https://en.wikipedia.org/w/api.php` (до знака вопроса) — это *точка входа* в API. Всё, что идёт после знака вопроса — это, собственно, запрос. Он представляет собой что-то вроде словаря и состоит из пар «ключ=значение», разделяемых амперсандом `&`. Некоторые символы приходится кодировать специальным образом.\n",
    "\n",
    "Например, в адресе выше сказано, что мы хотим сделать запрос (`action=query`), перечислить элементы категории `list=categorymembers`, в качестве категории, которая нас интересует, указана `Category:Physics` (`cmtitle=Category:Physics`) и указаны некоторые другие параметры. Если кликнуть по этой ссылке, откроется примерно такая штука:\n",
    "\n",
    "```xml\n",
    "<?xml version=\"1.0\"?>\n",
    "<api batchcomplete=\"\">\n",
    "  <continue cmcontinue=\"2015-05-30 19:37:50|1653925\" continue=\"-||\" />\n",
    "  <query>\n",
    "    <categorymembers>\n",
    "      <cm pageid=\"24293838\" ns=\"0\" title=\"Wigner rotation\" />\n",
    "      <cm pageid=\"48583145\" ns=\"0\" title=\"Northwest Nuclear Consortium\" />\n",
    "      <cm pageid=\"48407923\" ns=\"0\" title=\"Hume Feldman\" />\n",
    "      <cm pageid=\"48249441\" ns=\"0\" title=\"Phase Stretch Transform\" />\n",
    "      <cm pageid=\"47723069\" ns=\"0\" title=\"Epicatalysis\" />\n",
    "      <cm pageid=\"2237966\" ns=\"14\" title=\"Category:Surface science\" />\n",
    "      <cm pageid=\"2143601\" ns=\"14\" title=\"Category:Interaction\" />\n",
    "      <cm pageid=\"10844347\" ns=\"14\" title=\"Category:Physical systems\" />\n",
    "      <cm pageid=\"18726608\" ns=\"14\" title=\"Category:Physical quantities\" />\n",
    "      <cm pageid=\"22688097\" ns=\"0\" title=\"Branches of physics\" />\n",
    "    </categorymembers>\n",
    "  </query>\n",
    "</api>\n",
    "```"
   ]
  },
  {
   "cell_type": "markdown",
   "metadata": {},
   "source": [
    "Мы видим здесь разные теги, и видим, что нас интересуют теги `<cm>`, находящиеся внутри тега `<categorymembers>`.\n",
    "\n",
    "Давайте сделаем соответствующий запрос с помощью Python. Для этого нам понадобится уже знакомый модуль `requests`."
   ]
  },
  {
   "cell_type": "code",
   "execution_count": 18,
   "metadata": {
    "collapsed": true
   },
   "outputs": [],
   "source": [
    "url = \"https://en.wikipedia.org/w/api.php\"\n",
    "params = {\n",
    "    'action':'query',\n",
    "    'list':'categorymembers',\n",
    "    'cmtitle': 'Category:Physics',\n",
    "    'format': 'xml'\n",
    "}\n",
    "\n",
    "g = requests.get(url, params=params)"
   ]
  },
  {
   "cell_type": "code",
   "execution_count": 21,
   "metadata": {},
   "outputs": [
    {
     "data": {
      "text/plain": [
       "'https://en.wikipedia.org/w/api.php?action=query&list=categorymembers&cmtitle=Category%3APhysics&format=xml'"
      ]
     },
     "execution_count": 21,
     "metadata": {},
     "output_type": "execute_result"
    }
   ],
   "source": [
    "g.url # посмотрим, как скомпилировалась ссылка"
   ]
  },
  {
   "cell_type": "markdown",
   "metadata": {},
   "source": [
    "Как видно, список параметров мы передаем в виде обычного словаря. Посмотрим, что получилось."
   ]
  },
  {
   "cell_type": "code",
   "execution_count": 13,
   "metadata": {},
   "outputs": [
    {
     "data": {
      "text/plain": [
       "True"
      ]
     },
     "execution_count": 13,
     "metadata": {},
     "output_type": "execute_result"
    }
   ],
   "source": [
    "g.ok"
   ]
  },
  {
   "cell_type": "code",
   "execution_count": 14,
   "metadata": {
    "collapsed": false
   },
   "outputs": [
    {
     "data": {
      "text/plain": [
       "\u001b[1;31mType:\u001b[0m        property\n",
       "\u001b[1;31mString form:\u001b[0m <property object at 0x0000017489DF3688>\n",
       "\u001b[1;31mDocstring:\u001b[0m  \n",
       "Returns True if :attr:`status_code` is less than 400.\n",
       "\n",
       "This attribute checks if the status code of the response is between\n",
       "400 and 600 to see if there was a client error or a server error. If\n",
       "the status code, is between 200 and 400, this will return True. This\n",
       "is **not** a check to see if the response code is ``200 OK``.\n"
      ]
     },
     "metadata": {},
     "output_type": "display_data"
    }
   ],
   "source": [
    "?g.ok # возвращает ошибку, если сервер или клиент не отвечает"
   ]
  },
  {
   "cell_type": "markdown",
   "metadata": {},
   "source": [
    "Всё хорошо. Теперь используем *Beautiful Soup* для обработки этого XML."
   ]
  },
  {
   "cell_type": "code",
   "execution_count": 15,
   "metadata": {
    "collapsed": false
   },
   "outputs": [],
   "source": [
    "data = BeautifulSoup(g.text, features='xml')"
   ]
  },
  {
   "cell_type": "code",
   "execution_count": 16,
   "metadata": {
    "collapsed": false
   },
   "outputs": [
    {
     "name": "stdout",
     "output_type": "stream",
     "text": [
      "<?xml version=\"1.0\" encoding=\"utf-8\"?>\n",
      "<api batchcomplete=\"\">\n",
      " <continue cmcontinue=\"page|2f394b292d044131412b4b294331011201dc11|49885288\" continue=\"-||\"/>\n",
      " <query>\n",
      "  <categorymembers>\n",
      "   <cm ns=\"0\" pageid=\"22939\" title=\"Physics\"/>\n",
      "   <cm ns=\"0\" pageid=\"24489\" title=\"Outline of physics\"/>\n",
      "   <cm ns=\"100\" pageid=\"1653925\" title=\"Portal:Physics\"/>\n",
      "   <cm ns=\"0\" pageid=\"55503653\" title=\"Camelback potential\"/>\n",
      "   <cm ns=\"0\" pageid=\"5816420\" title=\"Center of curvature\"/>\n",
      "   <cm ns=\"0\" pageid=\"2664158\" title=\"Center of percussion\"/>\n",
      "   <cm ns=\"0\" pageid=\"62446002\" title=\"Chemical gardening\"/>\n",
      "   <cm ns=\"0\" pageid=\"48520204\" title=\"Computational anatomy\"/>\n",
      "   <cm ns=\"0\" pageid=\"53790076\" title=\"Conformon\"/>\n",
      "   <cm ns=\"0\" pageid=\"55823152\" title=\"Diffeomorphometry\"/>\n",
      "  </categorymembers>\n",
      " </query>\n",
      "</api>\n"
     ]
    }
   ],
   "source": [
    "print(data.prettify())"
   ]
  },
  {
   "cell_type": "markdown",
   "metadata": {},
   "source": [
    "Найдём все вхождения тега `<cm>` и выведем их атрибут `title`:"
   ]
  },
  {
   "cell_type": "code",
   "execution_count": 17,
   "metadata": {
    "collapsed": false
   },
   "outputs": [
    {
     "name": "stdout",
     "output_type": "stream",
     "text": [
      "Physics\n",
      "Outline of physics\n",
      "Portal:Physics\n",
      "Camelback potential\n",
      "Center of curvature\n",
      "Center of percussion\n",
      "Chemical gardening\n",
      "Computational anatomy\n",
      "Conformon\n",
      "Diffeomorphometry\n"
     ]
    }
   ],
   "source": [
    "for cm in data.api.query.categorymembers(\"cm\"):\n",
    "    print(cm['title'])"
   ]
  },
  {
   "cell_type": "markdown",
   "metadata": {},
   "source": [
    "Можно было упростить поиск `<cm>`, не указывая «полный путь» к ним:"
   ]
  },
  {
   "cell_type": "code",
   "execution_count": 56,
   "metadata": {
    "collapsed": false
   },
   "outputs": [
    {
     "name": "stdout",
     "output_type": "stream",
     "text": [
      "Physics\n",
      "Outline of physics\n",
      "Portal:Physics\n",
      "Camelback potential\n",
      "Center of percussion\n",
      "Chemical gardening\n",
      "Computational anatomy\n",
      "Conformon\n",
      "Diffeomorphometry\n",
      "Dirac membrane\n"
     ]
    }
   ],
   "source": [
    "for cm in data(\"cm\"):\n",
    "    print(cm['title'])"
   ]
  },
  {
   "cell_type": "markdown",
   "metadata": {},
   "source": [
    "По умолчанию сервер вернул нам список из 10 элементов. Если мы хотим больше, нужно воспользоваться элементом `continue` — это своего рода гиперссылка на следующие 10 элементов."
   ]
  },
  {
   "cell_type": "code",
   "execution_count": 24,
   "metadata": {
    "collapsed": false
   },
   "outputs": [
    {
     "data": {
      "text/plain": [
       "'page|2f394b292d044131412b4b294331011201dc11|49885288'"
      ]
     },
     "execution_count": 24,
     "metadata": {},
     "output_type": "execute_result"
    }
   ],
   "source": [
    "data.find(\"continue\")['cmcontinue']"
   ]
  },
  {
   "cell_type": "markdown",
   "metadata": {},
   "source": [
    "Мне пришлось использовать метод `find()` вместо того, чтобы просто написать `data.continue`, потому что `continue` в Python имеет специальный смысл.\n",
    "\n",
    "Теперь добавим `cmcontinue` в наш запрос и выполним его ещё раз:"
   ]
  },
  {
   "cell_type": "code",
   "execution_count": 25,
   "metadata": {
    "collapsed": true
   },
   "outputs": [],
   "source": [
    "params['cmcontinue'] = data.find(\"continue\")['cmcontinue']"
   ]
  },
  {
   "cell_type": "code",
   "execution_count": 26,
   "metadata": {
    "collapsed": false
   },
   "outputs": [
    {
     "name": "stdout",
     "output_type": "stream",
     "text": [
      "Dirac membrane\n",
      "Dispersive medium\n",
      "Dollar (reactivity)\n",
      "Elitzur–Vaidman bomb tester\n",
      "Energy well\n",
      "Fixed-field alternating gradient accelerator\n",
      "Front (physics)\n",
      "Gapped Hamiltonian\n",
      "Harmonic\n",
      "Homeokinetics\n"
     ]
    }
   ],
   "source": [
    "g = requests.get(url, params=params)\n",
    "data = BeautifulSoup(g.text, features='xml')\n",
    "for cm in data.api.query.categorymembers(\"cm\"):\n",
    "    print(cm['title'])"
   ]
  },
  {
   "cell_type": "markdown",
   "metadata": {},
   "source": [
    "Мы получили следующие 10 элементов из категории. Продолжая таким образом, можно выкачать её даже целиком (правда, для этого потребуется много времени).\n",
    "\n",
    "Аналогичным образом реализована работа с разнообразными другими API, имеющимися на разных сайтах. Где-то API является полностью открытым (как в Википедии), где-то вам потребуется зарегистрироваться и получить application id и какой-нибудь ключ для доступа к API, где-то попросят даже заплатить (например, автоматический поиск в Google стоит что-то вроде 5 долларов за 100 запросов). Есть API, которые позволяют только читать информацию, а бывают и такие, которые позволяют её править. Например, можно написать скрипт, который будет автоматически сохранять какую-то информацию в Google Spreadsheets. Всякий раз при использовании API вам придётся изучить его документацию, но это в любом случае проще, чем обрабатывать HTML-код. Иногда удаётся упростить доступ к API, используя специальные библиотеки."
   ]
  },
  {
   "cell_type": "markdown",
   "metadata": {},
   "source": [
    "# JSON\n",
    "\n",
    "Другой популярный формат, в котором клиент может отдать вам данные - json. JSON расшифровывается как JavaScript Object Notation и изначально возник как подмножество языка JavaScript (пусть вас не вводит в заблуждение название, этот язык ничего не имеет общего с Java), используемое для описания объектов, но впоследствии стал использоваться и в других языках программирования, включая Python. Различные API могут поддерживать либо XML, либо JSON, либо и то, и другое, так что нам полезно научиться работать с обоими типами данных (например, wiki api могла бы выгрузить нам данные и в формате json при соответствующем запросе)."
   ]
  },
  {
   "cell_type": "code",
   "execution_count": 27,
   "metadata": {},
   "outputs": [
    {
     "data": {
      "text/plain": [
       "True"
      ]
     },
     "execution_count": 27,
     "metadata": {},
     "output_type": "execute_result"
    }
   ],
   "source": [
    "url = \"https://en.wikipedia.org/w/api.php\"\n",
    "params = {\n",
    "    'action':'query',\n",
    "    'list':'categorymembers',\n",
    "    'cmtitle': 'Category:Physics',\n",
    "    'format': 'json' # поменяли формат на json\n",
    "}\n",
    "\n",
    "j = requests.get(url, params=params)\n",
    "j.ok"
   ]
  },
  {
   "cell_type": "code",
   "execution_count": 28,
   "metadata": {},
   "outputs": [
    {
     "data": {
      "text/plain": [
       "'{\"batchcomplete\":\"\",\"continue\":{\"cmcontinue\":\"page|2f394b292d044131412b4b294331011201dc11|49885288\",\"continue\":\"-||\"},\"query\":{\"categorymembers\":[{\"pageid\":22939,\"ns\":0,\"title\":\"Physics\"},{\"pageid\":24489,\"ns\":0,\"title\":\"Outline of physics\"},{\"pageid\":1653925,\"ns\":100,\"title\":\"Portal:Physics\"},{\"pageid\":55503653,\"ns\":0,\"title\":\"Camelback potential\"},{\"pageid\":5816420,\"ns\":0,\"title\":\"Center of curvature\"},{\"pageid\":2664158,\"ns\":0,\"title\":\"Center of percussion\"},{\"pageid\":62446002,\"ns\":0,\"title\":\"Chemical gardening\"},{\"pageid\":48520204,\"ns\":0,\"title\":\"Computational anatomy\"},{\"pageid\":53790076,\"ns\":0,\"title\":\"Conformon\"},{\"pageid\":55823152,\"ns\":0,\"title\":\"Diffeomorphometry\"}]}}'"
      ]
     },
     "execution_count": 28,
     "metadata": {},
     "output_type": "execute_result"
    }
   ],
   "source": [
    "j.text"
   ]
  },
  {
   "cell_type": "markdown",
   "metadata": {},
   "source": [
    "Посмотрим, что достали. Уже сразу видно, что структура у данных совсем другая.\n",
    "\n",
    "JSON очень похож на описание объекта в Python и смысл квадратных и фигурных скобок такой же. Правда, есть и отличия: например, в Python одинарные и двойные кавычки ничем не отличаются, а в JSON можно использовать только двойные. Мы видим, что полученный нами JSON представляет собой словарь, значения которого — строки или числа, а также списки или словари, значения которых в свою очередь также могут быть строками, числами, списками, словарями и т.д. То есть получается такая довольно сложная структура данных.\n",
    "\n",
    "В данный момент тот факт, что перед нами сложная структура данных, видим только мы — с точки зрения Python, j.text это просто такая строка. Однако в модуле requests есть метод, позволяющий сразу выдать питоновский объект (словарь или список), если результат запроса возвращён в формате JSON. Так что нам не придётся использовать никакие дополнительные библиотеки."
   ]
  },
  {
   "cell_type": "code",
   "execution_count": 29,
   "metadata": {},
   "outputs": [],
   "source": [
    "j_data = j.json()"
   ]
  },
  {
   "cell_type": "code",
   "execution_count": 30,
   "metadata": {},
   "outputs": [
    {
     "data": {
      "text/plain": [
       "{'batchcomplete': '',\n",
       " 'continue': {'cmcontinue': 'page|2f394b292d044131412b4b294331011201dc11|49885288',\n",
       "  'continue': '-||'},\n",
       " 'query': {'categorymembers': [{'pageid': 22939, 'ns': 0, 'title': 'Physics'},\n",
       "   {'pageid': 24489, 'ns': 0, 'title': 'Outline of physics'},\n",
       "   {'pageid': 1653925, 'ns': 100, 'title': 'Portal:Physics'},\n",
       "   {'pageid': 55503653, 'ns': 0, 'title': 'Camelback potential'},\n",
       "   {'pageid': 5816420, 'ns': 0, 'title': 'Center of curvature'},\n",
       "   {'pageid': 2664158, 'ns': 0, 'title': 'Center of percussion'},\n",
       "   {'pageid': 62446002, 'ns': 0, 'title': 'Chemical gardening'},\n",
       "   {'pageid': 48520204, 'ns': 0, 'title': 'Computational anatomy'},\n",
       "   {'pageid': 53790076, 'ns': 0, 'title': 'Conformon'},\n",
       "   {'pageid': 55823152, 'ns': 0, 'title': 'Diffeomorphometry'}]}}"
      ]
     },
     "execution_count": 30,
     "metadata": {},
     "output_type": "execute_result"
    }
   ],
   "source": [
    "j_data # получили честный питоновский словарь"
   ]
  },
  {
   "cell_type": "markdown",
   "metadata": {},
   "source": [
    "Содержательная информация хранится по ключу 'query'. А уже внутри есть ключ 'categorymembers', значением которого является список всех категорий. Каждая категория отображается в виде словаря, записями которого являются разные параметры категории (например, 'title' соответствует названию, а pageid — внутреннему идентификатору в системе).\n",
    "\n"
   ]
  },
  {
   "cell_type": "code",
   "execution_count": 31,
   "metadata": {},
   "outputs": [
    {
     "data": {
      "text/plain": [
       "list"
      ]
     },
     "execution_count": 31,
     "metadata": {},
     "output_type": "execute_result"
    }
   ],
   "source": [
    "type(j_data['query']['categorymembers']) # привычный нам список"
   ]
  },
  {
   "cell_type": "code",
   "execution_count": 32,
   "metadata": {},
   "outputs": [
    {
     "name": "stdout",
     "output_type": "stream",
     "text": [
      "Physics\n",
      "Outline of physics\n",
      "Portal:Physics\n",
      "Camelback potential\n",
      "Center of curvature\n",
      "Center of percussion\n",
      "Chemical gardening\n",
      "Computational anatomy\n",
      "Conformon\n",
      "Diffeomorphometry\n"
     ]
    }
   ],
   "source": [
    "for cm in j_data['query']['categorymembers']: # пройдемся по нему привычным нам циклом\n",
    "    print(cm['title'])"
   ]
  },
  {
   "cell_type": "markdown",
   "metadata": {},
   "source": [
    "Преимущества JSON в том, что мы получаем готовый объект Python и нет необходимости использовать какие-то дополнительные библиотеки для того, чтобы с ним работать. Недостатком является то же самое: зачастую поиск информации в XML-файле может проводиться более эффективно, чем в JSON. Продемонстрируем это на уже рассмотренном примере. Чтобы получить список всех тегов <cm>, в которых хранилась информация об элементах категории в XML, мы использовали полный «путь»:\n",
    "\n",
    "```python\n",
    "for cm in data.api.query.categorymembers(\"cm\"):\n",
    "    print(cm['title'])\n",
    "```\n",
    "\n",
    "Однако, это можно бы сделать (в данном случае) гораздо короче. Если посмотреть на XML, то можно заметить, что в нём нет других тегов <cm>, кроме тех, которые нам нужны. С другой стороны, Beautiful Soup ищет все теги с данным именем, а не только те, которые являются потомками первого уровня для данного тега. Таким образом, код выше можно было бы переписать более коротко:"
   ]
  },
  {
   "cell_type": "code",
   "execution_count": 33,
   "metadata": {},
   "outputs": [
    {
     "name": "stdout",
     "output_type": "stream",
     "text": [
      "Dirac membrane\n",
      "Dispersive medium\n",
      "Dollar (reactivity)\n",
      "Elitzur–Vaidman bomb tester\n",
      "Energy well\n",
      "Fixed-field alternating gradient accelerator\n",
      "Front (physics)\n",
      "Gapped Hamiltonian\n",
      "Harmonic\n",
      "Homeokinetics\n"
     ]
    }
   ],
   "source": [
    "for cm in data(\"cm\"):\n",
    "    print(cm['title'])"
   ]
  },
  {
   "cell_type": "markdown",
   "metadata": {},
   "source": [
    "Конечно data(\"cm\") выглядит короче, чем q['query']['categorymembers']. В JSON мы не можем использовать подобные методы. Так что у обоих форматов есть свои плюсы и минусы."
   ]
  },
  {
   "cell_type": "markdown",
   "metadata": {},
   "source": [
    "## JSON (парсинг VK)\n",
    "\n",
    "Как уже говорилось выше, не все API открытые. Так, чтобы достать информацию из vk вам придется сгенерировать токен с помощью вашего аккаунта (мы выложим отдельный блокнот как это сделать, для тех, кому будет интересно). API VK отдает данные в json. Структура тут будет посложнее, чем то, что мы уже видели, поэтому давайте еще потренируемся."
   ]
  },
  {
   "cell_type": "markdown",
   "metadata": {},
   "source": [
    "Теперь научимся еще и загружать JSON файл с диска. Для этого нам понадобится модуль json."
   ]
  },
  {
   "cell_type": "code",
   "execution_count": 34,
   "metadata": {},
   "outputs": [],
   "source": [
    "import json\n",
    "with open('vk.json',  'r', encoding='Utf-8') as json_data:\n",
    "    res_loaded = json.load(json_data) # считываем данные с помощью функции .load()"
   ]
  },
  {
   "cell_type": "markdown",
   "metadata": {},
   "source": [
    "Здесь у нас выгрузка постов со стены группы ВШЭ."
   ]
  },
  {
   "cell_type": "code",
   "execution_count": 35,
   "metadata": {},
   "outputs": [
    {
     "data": {
      "text/plain": [
       "[{'id': 32494,\n",
       "  'from_id': -132,\n",
       "  'owner_id': -132,\n",
       "  'date': 1541422799,\n",
       "  'marked_as_ads': 0,\n",
       "  'post_type': 'post',\n",
       "  'text': '',\n",
       "  'attachments': [{'type': 'link',\n",
       "    'link': {'url': 'http://family.hse.ru/event/view/2271',\n",
       "     'title': 'День карьеры факультета бизнеса и менеджмента',\n",
       "     'caption': 'family.hse.ru',\n",
       "     'description': '',\n",
       "     'photo': {'id': 456239093,\n",
       "      'album_id': -2,\n",
       "      'owner_id': 100,\n",
       "      'photo_75': 'https://pp.userapi.com/c850336/v850336548/628ea/TwPjzdADVZ4.jpg',\n",
       "      'photo_130': 'https://pp.userapi.com/c850336/v850336548/628eb/gMSUSljxiC8.jpg',\n",
       "      'photo_604': 'https://pp.userapi.com/c850336/v850336548/628ec/kIMEO_f_3JQ.jpg',\n",
       "      'width': 150,\n",
       "      'height': 80,\n",
       "      'text': '',\n",
       "      'date': 1541422799}}}],\n",
       "  'post_source': {'type': 'vk'},\n",
       "  'comments': {'count': 0, 'can_post': 1, 'groups_can_post': True},\n",
       "  'likes': {'count': 6, 'user_likes': 0, 'can_like': 1, 'can_publish': 1},\n",
       "  'reposts': {'count': 2, 'user_reposted': 0},\n",
       "  'views': {'count': 2832}},\n",
       " {'id': 32493,\n",
       "  'from_id': -132,\n",
       "  'owner_id': -132,\n",
       "  'date': 1541076555,\n",
       "  'marked_as_ads': 0,\n",
       "  'post_type': 'post',\n",
       "  'text': 'На Шаболовке 7 ноября в 18:30 ауд 5215 состоится встреча с представителем оргкомитета симпозиума, Lars John. Авторы лучших эссе получат возможность участвовать в симпозиуме в Швейцарии, а автор cамого лучшего эссе получит значительный денежный приз. Приглашаем всех студентов магистратуры, студентов 4 курса и аспирантов принять участие в этой встрече. \\n \\nTo all grad/postgrad and 4th year undergraduate students: compete until 1 Feb 2019 and qualify as a Leader of Tomorrow for the #49sgs (8–10 May 2019) in Switzerland, all expenses paid. Create an impact and win CHF 20,000. Leaders who have attended in the past include Niall Ferguson, Jack Ma, Christine Lagarde, Paul Polman, Anders Fogh Rasmussen, Ratan Tata, Muhammad Yunus, and many more. Register now at www.symp.sg/apply',\n",
       "  'post_source': {'type': 'vk'},\n",
       "  'comments': {'count': 0, 'can_post': 1, 'groups_can_post': True},\n",
       "  'likes': {'count': 2, 'user_likes': 0, 'can_like': 1, 'can_publish': 1},\n",
       "  'reposts': {'count': 1, 'user_reposted': 0},\n",
       "  'views': {'count': 3943}}]"
      ]
     },
     "execution_count": 35,
     "metadata": {},
     "output_type": "execute_result"
    }
   ],
   "source": [
    "res_loaded['items'][:2]"
   ]
  },
  {
   "cell_type": "code",
   "execution_count": 45,
   "metadata": {},
   "outputs": [
    {
     "data": {
      "text/plain": [
       "dict_keys(['count', 'items'])"
      ]
     },
     "execution_count": 45,
     "metadata": {},
     "output_type": "execute_result"
    }
   ],
   "source": [
    "res_loaded.keys()"
   ]
  },
  {
   "cell_type": "markdown",
   "metadata": {},
   "source": [
    "Ключами являются `count` и `items`. Нужные нам объекты (текст постов, id автора, дата и время публикации и проч.) находятся в `items`."
   ]
  },
  {
   "cell_type": "code",
   "execution_count": 39,
   "metadata": {},
   "outputs": [
    {
     "data": {
      "text/plain": [
       "{'id': 32494,\n",
       " 'from_id': -132,\n",
       " 'owner_id': -132,\n",
       " 'date': 1541422799,\n",
       " 'marked_as_ads': 0,\n",
       " 'post_type': 'post',\n",
       " 'text': '',\n",
       " 'attachments': [{'type': 'link',\n",
       "   'link': {'url': 'http://family.hse.ru/event/view/2271',\n",
       "    'title': 'День карьеры факультета бизнеса и менеджмента',\n",
       "    'caption': 'family.hse.ru',\n",
       "    'description': '',\n",
       "    'photo': {'id': 456239093,\n",
       "     'album_id': -2,\n",
       "     'owner_id': 100,\n",
       "     'photo_75': 'https://pp.userapi.com/c850336/v850336548/628ea/TwPjzdADVZ4.jpg',\n",
       "     'photo_130': 'https://pp.userapi.com/c850336/v850336548/628eb/gMSUSljxiC8.jpg',\n",
       "     'photo_604': 'https://pp.userapi.com/c850336/v850336548/628ec/kIMEO_f_3JQ.jpg',\n",
       "     'width': 150,\n",
       "     'height': 80,\n",
       "     'text': '',\n",
       "     'date': 1541422799}}}],\n",
       " 'post_source': {'type': 'vk'},\n",
       " 'comments': {'count': 0, 'can_post': 1, 'groups_can_post': True},\n",
       " 'likes': {'count': 6, 'user_likes': 0, 'can_like': 1, 'can_publish': 1},\n",
       " 'reposts': {'count': 2, 'user_reposted': 0},\n",
       " 'views': {'count': 2832}}"
      ]
     },
     "execution_count": 39,
     "metadata": {},
     "output_type": "execute_result"
    }
   ],
   "source": [
    "res_loaded['items'][0] # первый элемент items - первый пост со всей информацией о нем"
   ]
  },
  {
   "cell_type": "markdown",
   "metadata": {},
   "source": [
    "Помимо текста поста можно найти много всего интересного. Например, тип поста (`post_type`), дата (`date`), id поста (`id`), лайки (`likes`, которые включают информацию о том, могут ли пользователи лайкать пост и публиковать его, а также собственно число лайков), репосты (`reposts`, которые включают число репостов), число просмотров (`views`), комментарии (`comments`, которые включают информацию о том, могут ли пользователи комментировать пост, и число комментариев), и так далее.\n",
    "\n",
    "Давайте остановимся на тексте поста, id автора, id поста и дате публикации. Чтобы извлечь соответствующую информацию, сохраним `items` и извлечем из них нужные поля:"
   ]
  },
  {
   "cell_type": "code",
   "execution_count": 40,
   "metadata": {},
   "outputs": [
    {
     "data": {
      "text/plain": [
       "[[-132, 32494, '', 1541422799],\n",
       " [-132,\n",
       "  32493,\n",
       "  'На Шаболовке 7 ноября в 18:30 ауд 5215 состоится встреча с представителем оргкомитета симпозиума, Lars John. Авторы лучших эссе получат возможность участвовать в симпозиуме в Швейцарии, а автор cамого лучшего эссе получит значительный денежный приз. Приглашаем всех студентов магистратуры, студентов 4 курса и аспирантов принять участие в этой встрече. \\n \\nTo all grad/postgrad and 4th year undergraduate students: compete until 1 Feb 2019 and qualify as a Leader of Tomorrow for the #49sgs (8–10 May 2019) in Switzerland, all expenses paid. Create an impact and win CHF 20,000. Leaders who have attended in the past include Niall Ferguson, Jack Ma, Christine Lagarde, Paul Polman, Anders Fogh Rasmussen, Ratan Tata, Muhammad Yunus, and many more. Register now at www.symp.sg/apply',\n",
       "  1541076555],\n",
       " [-132, 32492, '', 1540743239],\n",
       " [-132, 32491, '', 1540551399]]"
      ]
     },
     "execution_count": 40,
     "metadata": {},
     "output_type": "execute_result"
    }
   ],
   "source": [
    "items = res_loaded['items']\n",
    "full_list = []\n",
    "\n",
    "for item in items:\n",
    "    l = [item['from_id'], item['id'], item['text'], item['date']] # нужные поля\n",
    "    full_list.append(l) # добавляем в список списков full_list\n",
    "# несколько элементов списка\n",
    "full_list[0:4]"
   ]
  },
  {
   "cell_type": "markdown",
   "metadata": {},
   "source": [
    "Видно, что в двух первых постах текста не обнаружено, там только картинки, ссылки и репосты.\n",
    "\n",
    "Из этого списка списков можно легко сделать датафрейм `pandas`."
   ]
  },
  {
   "cell_type": "markdown",
   "metadata": {},
   "source": [
    "Но если у ссылок, репостов и картинок нет текста, то наш DataFrame будет выглядет неполноценно. Поэтому добавим условие, что если текст отсутсвует, вставим в DataFrame строку с этой отметкой."
   ]
  },
  {
   "cell_type": "code",
   "execution_count": 41,
   "metadata": {},
   "outputs": [],
   "source": [
    "# опять выберем только нужные поля\n",
    "full_list = []\n",
    "for item in items:\n",
    "    if item['text'] == \"\":\n",
    "        l = [item['from_id'], item['id'], \"Картинка, ссылка или репост\", item['date']]\n",
    "    else:\n",
    "        l = [item['from_id'], item['id'], item['text'], item['date']]\n",
    "    full_list.append(l)"
   ]
  },
  {
   "cell_type": "markdown",
   "metadata": {},
   "source": [
    "Оставлось превратить обновленный список `items` (список списков) в датафрейм. Импортируем `pandas`."
   ]
  },
  {
   "cell_type": "code",
   "execution_count": 42,
   "metadata": {},
   "outputs": [],
   "source": [
    "import pandas as pd"
   ]
  },
  {
   "cell_type": "markdown",
   "metadata": {},
   "source": [
    "Создадим датафрейм:"
   ]
  },
  {
   "cell_type": "code",
   "execution_count": 43,
   "metadata": {},
   "outputs": [
    {
     "data": {
      "text/html": [
       "<div>\n",
       "<style scoped>\n",
       "    .dataframe tbody tr th:only-of-type {\n",
       "        vertical-align: middle;\n",
       "    }\n",
       "\n",
       "    .dataframe tbody tr th {\n",
       "        vertical-align: top;\n",
       "    }\n",
       "\n",
       "    .dataframe thead th {\n",
       "        text-align: right;\n",
       "    }\n",
       "</style>\n",
       "<table border=\"1\" class=\"dataframe\">\n",
       "  <thead>\n",
       "    <tr style=\"text-align: right;\">\n",
       "      <th></th>\n",
       "      <th>0</th>\n",
       "      <th>1</th>\n",
       "      <th>2</th>\n",
       "      <th>3</th>\n",
       "    </tr>\n",
       "  </thead>\n",
       "  <tbody>\n",
       "    <tr>\n",
       "      <th>0</th>\n",
       "      <td>-132</td>\n",
       "      <td>32494</td>\n",
       "      <td>Картинка, ссылка или репост</td>\n",
       "      <td>1541422799</td>\n",
       "    </tr>\n",
       "    <tr>\n",
       "      <th>1</th>\n",
       "      <td>-132</td>\n",
       "      <td>32493</td>\n",
       "      <td>На Шаболовке 7 ноября в 18:30 ауд 5215 состоит...</td>\n",
       "      <td>1541076555</td>\n",
       "    </tr>\n",
       "    <tr>\n",
       "      <th>2</th>\n",
       "      <td>-132</td>\n",
       "      <td>32492</td>\n",
       "      <td>Картинка, ссылка или репост</td>\n",
       "      <td>1540743239</td>\n",
       "    </tr>\n",
       "    <tr>\n",
       "      <th>3</th>\n",
       "      <td>-132</td>\n",
       "      <td>32491</td>\n",
       "      <td>Картинка, ссылка или репост</td>\n",
       "      <td>1540551399</td>\n",
       "    </tr>\n",
       "    <tr>\n",
       "      <th>4</th>\n",
       "      <td>-132</td>\n",
       "      <td>32488</td>\n",
       "      <td>Картинка, ссылка или репост</td>\n",
       "      <td>1540302306</td>\n",
       "    </tr>\n",
       "    <tr>\n",
       "      <th>5</th>\n",
       "      <td>-132</td>\n",
       "      <td>32486</td>\n",
       "      <td>26-28 октября в Москве пройдет крупнейший в Ро...</td>\n",
       "      <td>1539863523</td>\n",
       "    </tr>\n",
       "    <tr>\n",
       "      <th>6</th>\n",
       "      <td>-132</td>\n",
       "      <td>32485</td>\n",
       "      <td>Картинка, ссылка или репост</td>\n",
       "      <td>1539781575</td>\n",
       "    </tr>\n",
       "    <tr>\n",
       "      <th>7</th>\n",
       "      <td>-132</td>\n",
       "      <td>32484</td>\n",
       "      <td>Картинка, ссылка или репост</td>\n",
       "      <td>1539718883</td>\n",
       "    </tr>\n",
       "    <tr>\n",
       "      <th>8</th>\n",
       "      <td>-132</td>\n",
       "      <td>32481</td>\n",
       "      <td>Картинка, ссылка или репост</td>\n",
       "      <td>1539088885</td>\n",
       "    </tr>\n",
       "    <tr>\n",
       "      <th>9</th>\n",
       "      <td>-132</td>\n",
       "      <td>32480</td>\n",
       "      <td>Будущим магистрам! Новая программа Факультета ...</td>\n",
       "      <td>1539088745</td>\n",
       "    </tr>\n",
       "  </tbody>\n",
       "</table>\n",
       "</div>"
      ],
      "text/plain": [
       "     0      1                                                  2           3\n",
       "0 -132  32494                        Картинка, ссылка или репост  1541422799\n",
       "1 -132  32493  На Шаболовке 7 ноября в 18:30 ауд 5215 состоит...  1541076555\n",
       "2 -132  32492                        Картинка, ссылка или репост  1540743239\n",
       "3 -132  32491                        Картинка, ссылка или репост  1540551399\n",
       "4 -132  32488                        Картинка, ссылка или репост  1540302306\n",
       "5 -132  32486  26-28 октября в Москве пройдет крупнейший в Ро...  1539863523\n",
       "6 -132  32485                        Картинка, ссылка или репост  1539781575\n",
       "7 -132  32484                        Картинка, ссылка или репост  1539718883\n",
       "8 -132  32481                        Картинка, ссылка или репост  1539088885\n",
       "9 -132  32480  Будущим магистрам! Новая программа Факультета ...  1539088745"
      ]
     },
     "execution_count": 43,
     "metadata": {},
     "output_type": "execute_result"
    }
   ],
   "source": [
    "df = pd.DataFrame(full_list)\n",
    "df.head(10)"
   ]
  },
  {
   "cell_type": "markdown",
   "metadata": {},
   "source": [
    "Ура! Осталось только дать внятные названия столбцам и разобраться, почему дата представлена в таком виде. что делать со столбцами, мы уже знаем."
   ]
  },
  {
   "cell_type": "code",
   "execution_count": 51,
   "metadata": {},
   "outputs": [
    {
     "data": {
      "text/html": [
       "<div>\n",
       "<style scoped>\n",
       "    .dataframe tbody tr th:only-of-type {\n",
       "        vertical-align: middle;\n",
       "    }\n",
       "\n",
       "    .dataframe tbody tr th {\n",
       "        vertical-align: top;\n",
       "    }\n",
       "\n",
       "    .dataframe thead th {\n",
       "        text-align: right;\n",
       "    }\n",
       "</style>\n",
       "<table border=\"1\" class=\"dataframe\">\n",
       "  <thead>\n",
       "    <tr style=\"text-align: right;\">\n",
       "      <th></th>\n",
       "      <th>From_id</th>\n",
       "      <th>Id</th>\n",
       "      <th>Text</th>\n",
       "      <th>Date_Unix</th>\n",
       "    </tr>\n",
       "  </thead>\n",
       "  <tbody>\n",
       "    <tr>\n",
       "      <th>0</th>\n",
       "      <td>-132</td>\n",
       "      <td>32494</td>\n",
       "      <td>Картинка, ссылка или репост</td>\n",
       "      <td>1541422799</td>\n",
       "    </tr>\n",
       "    <tr>\n",
       "      <th>1</th>\n",
       "      <td>-132</td>\n",
       "      <td>32493</td>\n",
       "      <td>На Шаболовке 7 ноября в 18:30 ауд 5215 состоит...</td>\n",
       "      <td>1541076555</td>\n",
       "    </tr>\n",
       "    <tr>\n",
       "      <th>2</th>\n",
       "      <td>-132</td>\n",
       "      <td>32492</td>\n",
       "      <td>Картинка, ссылка или репост</td>\n",
       "      <td>1540743239</td>\n",
       "    </tr>\n",
       "    <tr>\n",
       "      <th>3</th>\n",
       "      <td>-132</td>\n",
       "      <td>32491</td>\n",
       "      <td>Картинка, ссылка или репост</td>\n",
       "      <td>1540551399</td>\n",
       "    </tr>\n",
       "    <tr>\n",
       "      <th>4</th>\n",
       "      <td>-132</td>\n",
       "      <td>32488</td>\n",
       "      <td>Картинка, ссылка или репост</td>\n",
       "      <td>1540302306</td>\n",
       "    </tr>\n",
       "    <tr>\n",
       "      <th>5</th>\n",
       "      <td>-132</td>\n",
       "      <td>32486</td>\n",
       "      <td>26-28 октября в Москве пройдет крупнейший в Ро...</td>\n",
       "      <td>1539863523</td>\n",
       "    </tr>\n",
       "    <tr>\n",
       "      <th>6</th>\n",
       "      <td>-132</td>\n",
       "      <td>32485</td>\n",
       "      <td>Картинка, ссылка или репост</td>\n",
       "      <td>1539781575</td>\n",
       "    </tr>\n",
       "    <tr>\n",
       "      <th>7</th>\n",
       "      <td>-132</td>\n",
       "      <td>32484</td>\n",
       "      <td>Картинка, ссылка или репост</td>\n",
       "      <td>1539718883</td>\n",
       "    </tr>\n",
       "    <tr>\n",
       "      <th>8</th>\n",
       "      <td>-132</td>\n",
       "      <td>32481</td>\n",
       "      <td>Картинка, ссылка или репост</td>\n",
       "      <td>1539088885</td>\n",
       "    </tr>\n",
       "    <tr>\n",
       "      <th>9</th>\n",
       "      <td>-132</td>\n",
       "      <td>32480</td>\n",
       "      <td>Будущим магистрам! Новая программа Факультета ...</td>\n",
       "      <td>1539088745</td>\n",
       "    </tr>\n",
       "  </tbody>\n",
       "</table>\n",
       "</div>"
      ],
      "text/plain": [
       "   From_id     Id                                               Text  \\\n",
       "0     -132  32494                        Картинка, ссылка или репост   \n",
       "1     -132  32493  На Шаболовке 7 ноября в 18:30 ауд 5215 состоит...   \n",
       "2     -132  32492                        Картинка, ссылка или репост   \n",
       "3     -132  32491                        Картинка, ссылка или репост   \n",
       "4     -132  32488                        Картинка, ссылка или репост   \n",
       "5     -132  32486  26-28 октября в Москве пройдет крупнейший в Ро...   \n",
       "6     -132  32485                        Картинка, ссылка или репост   \n",
       "7     -132  32484                        Картинка, ссылка или репост   \n",
       "8     -132  32481                        Картинка, ссылка или репост   \n",
       "9     -132  32480  Будущим магистрам! Новая программа Факультета ...   \n",
       "\n",
       "    Date_Unix  \n",
       "0  1541422799  \n",
       "1  1541076555  \n",
       "2  1540743239  \n",
       "3  1540551399  \n",
       "4  1540302306  \n",
       "5  1539863523  \n",
       "6  1539781575  \n",
       "7  1539718883  \n",
       "8  1539088885  \n",
       "9  1539088745  "
      ]
     },
     "execution_count": 51,
     "metadata": {},
     "output_type": "execute_result"
    }
   ],
   "source": [
    "df.columns = ['From_id', 'Id', 'Text', 'Date_Unix']\n",
    "df.head(10)"
   ]
  },
  {
   "cell_type": "markdown",
   "metadata": {},
   "source": [
    "С датой все интереснее. То, что указано в столбце `date`, это дата в виде UNIX-времени (POSIX-времени). Это число секунд, прошедших с 1 января 1970 года. Несмотря на то, что такой формат даты-времени кажется необычным, он довольно широко распространен в разных системах и приложениях. Этот факт, конечно, радует, но хочется получить дату в более человеческом формате. Давайте напишем функцию для перевода UNIX-времени в формат год-месяц-день-часы-минуты-секунды. Для этого нам понадобится модуль datetime."
   ]
  },
  {
   "cell_type": "code",
   "execution_count": 52,
   "metadata": {},
   "outputs": [],
   "source": [
    "from datetime import datetime"
   ]
  },
  {
   "cell_type": "code",
   "execution_count": 53,
   "metadata": {},
   "outputs": [],
   "source": [
    "def date_norm(date):\n",
    "    d = datetime.fromtimestamp(date) # timestamp - UNIX-время в виде строки\n",
    "    str_d = d.strftime(\"%Y-%m-%d %H:%M:%S\") # %Y-%m-%d %H:%M:%S - год-месяц-день, часы:минуты:секунды\n",
    "    date_norm, time_norm = str_d.split(' ') # разобьем результат на части, отделим дату от времени\n",
    "    return date_norm, time_norm"
   ]
  },
  {
   "cell_type": "markdown",
   "metadata": {},
   "source": [
    "Применим нашу функцию к элементам столбца date и создадим новый ‒ `date_norm`."
   ]
  },
  {
   "cell_type": "code",
   "execution_count": 54,
   "metadata": {},
   "outputs": [],
   "source": [
    "df['Date_Norm'] = df.Date_Unix.apply(date_norm)"
   ]
  },
  {
   "cell_type": "code",
   "execution_count": 55,
   "metadata": {},
   "outputs": [
    {
     "data": {
      "text/html": [
       "<div>\n",
       "<style scoped>\n",
       "    .dataframe tbody tr th:only-of-type {\n",
       "        vertical-align: middle;\n",
       "    }\n",
       "\n",
       "    .dataframe tbody tr th {\n",
       "        vertical-align: top;\n",
       "    }\n",
       "\n",
       "    .dataframe thead th {\n",
       "        text-align: right;\n",
       "    }\n",
       "</style>\n",
       "<table border=\"1\" class=\"dataframe\">\n",
       "  <thead>\n",
       "    <tr style=\"text-align: right;\">\n",
       "      <th></th>\n",
       "      <th>From_id</th>\n",
       "      <th>Id</th>\n",
       "      <th>Text</th>\n",
       "      <th>Date_Unix</th>\n",
       "      <th>Date_Norm</th>\n",
       "    </tr>\n",
       "  </thead>\n",
       "  <tbody>\n",
       "    <tr>\n",
       "      <th>0</th>\n",
       "      <td>-132</td>\n",
       "      <td>32494</td>\n",
       "      <td>Картинка, ссылка или репост</td>\n",
       "      <td>1541422799</td>\n",
       "      <td>(2018-11-05, 15:59:59)</td>\n",
       "    </tr>\n",
       "    <tr>\n",
       "      <th>1</th>\n",
       "      <td>-132</td>\n",
       "      <td>32493</td>\n",
       "      <td>На Шаболовке 7 ноября в 18:30 ауд 5215 состоит...</td>\n",
       "      <td>1541076555</td>\n",
       "      <td>(2018-11-01, 15:49:15)</td>\n",
       "    </tr>\n",
       "    <tr>\n",
       "      <th>2</th>\n",
       "      <td>-132</td>\n",
       "      <td>32492</td>\n",
       "      <td>Картинка, ссылка или репост</td>\n",
       "      <td>1540743239</td>\n",
       "      <td>(2018-10-28, 19:13:59)</td>\n",
       "    </tr>\n",
       "    <tr>\n",
       "      <th>3</th>\n",
       "      <td>-132</td>\n",
       "      <td>32491</td>\n",
       "      <td>Картинка, ссылка или репост</td>\n",
       "      <td>1540551399</td>\n",
       "      <td>(2018-10-26, 13:56:39)</td>\n",
       "    </tr>\n",
       "    <tr>\n",
       "      <th>4</th>\n",
       "      <td>-132</td>\n",
       "      <td>32488</td>\n",
       "      <td>Картинка, ссылка или репост</td>\n",
       "      <td>1540302306</td>\n",
       "      <td>(2018-10-23, 16:45:06)</td>\n",
       "    </tr>\n",
       "  </tbody>\n",
       "</table>\n",
       "</div>"
      ],
      "text/plain": [
       "   From_id     Id                                               Text  \\\n",
       "0     -132  32494                        Картинка, ссылка или репост   \n",
       "1     -132  32493  На Шаболовке 7 ноября в 18:30 ауд 5215 состоит...   \n",
       "2     -132  32492                        Картинка, ссылка или репост   \n",
       "3     -132  32491                        Картинка, ссылка или репост   \n",
       "4     -132  32488                        Картинка, ссылка или репост   \n",
       "\n",
       "    Date_Unix               Date_Norm  \n",
       "0  1541422799  (2018-11-05, 15:59:59)  \n",
       "1  1541076555  (2018-11-01, 15:49:15)  \n",
       "2  1540743239  (2018-10-28, 19:13:59)  \n",
       "3  1540551399  (2018-10-26, 13:56:39)  \n",
       "4  1540302306  (2018-10-23, 16:45:06)  "
      ]
     },
     "execution_count": 55,
     "metadata": {},
     "output_type": "execute_result"
    }
   ],
   "source": [
    "df.head()"
   ]
  },
  {
   "cell_type": "markdown",
   "metadata": {},
   "source": [
    "Можно было, конечно, не разбивать на части дату и время, сохранять одной строкой. А можно написать функции, которые будут отделять дату от времени ‒ извлекать их из кортежа в date_norm."
   ]
  },
  {
   "cell_type": "code",
   "execution_count": 56,
   "metadata": {},
   "outputs": [],
   "source": [
    "def get_date(date):\n",
    "    return date[0]\n",
    "\n",
    "def get_time(date):\n",
    "    return date[1]"
   ]
  },
  {
   "cell_type": "code",
   "execution_count": 57,
   "metadata": {},
   "outputs": [
    {
     "data": {
      "text/html": [
       "<div>\n",
       "<style scoped>\n",
       "    .dataframe tbody tr th:only-of-type {\n",
       "        vertical-align: middle;\n",
       "    }\n",
       "\n",
       "    .dataframe tbody tr th {\n",
       "        vertical-align: top;\n",
       "    }\n",
       "\n",
       "    .dataframe thead th {\n",
       "        text-align: right;\n",
       "    }\n",
       "</style>\n",
       "<table border=\"1\" class=\"dataframe\">\n",
       "  <thead>\n",
       "    <tr style=\"text-align: right;\">\n",
       "      <th></th>\n",
       "      <th>From_id</th>\n",
       "      <th>Id</th>\n",
       "      <th>Text</th>\n",
       "      <th>Date_Unix</th>\n",
       "      <th>Date_Norm</th>\n",
       "      <th>Date</th>\n",
       "      <th>Time</th>\n",
       "    </tr>\n",
       "  </thead>\n",
       "  <tbody>\n",
       "    <tr>\n",
       "      <th>0</th>\n",
       "      <td>-132</td>\n",
       "      <td>32494</td>\n",
       "      <td>Картинка, ссылка или репост</td>\n",
       "      <td>1541422799</td>\n",
       "      <td>(2018-11-05, 15:59:59)</td>\n",
       "      <td>2018-11-05</td>\n",
       "      <td>15:59:59</td>\n",
       "    </tr>\n",
       "    <tr>\n",
       "      <th>1</th>\n",
       "      <td>-132</td>\n",
       "      <td>32493</td>\n",
       "      <td>На Шаболовке 7 ноября в 18:30 ауд 5215 состоит...</td>\n",
       "      <td>1541076555</td>\n",
       "      <td>(2018-11-01, 15:49:15)</td>\n",
       "      <td>2018-11-01</td>\n",
       "      <td>15:49:15</td>\n",
       "    </tr>\n",
       "    <tr>\n",
       "      <th>2</th>\n",
       "      <td>-132</td>\n",
       "      <td>32492</td>\n",
       "      <td>Картинка, ссылка или репост</td>\n",
       "      <td>1540743239</td>\n",
       "      <td>(2018-10-28, 19:13:59)</td>\n",
       "      <td>2018-10-28</td>\n",
       "      <td>19:13:59</td>\n",
       "    </tr>\n",
       "    <tr>\n",
       "      <th>3</th>\n",
       "      <td>-132</td>\n",
       "      <td>32491</td>\n",
       "      <td>Картинка, ссылка или репост</td>\n",
       "      <td>1540551399</td>\n",
       "      <td>(2018-10-26, 13:56:39)</td>\n",
       "      <td>2018-10-26</td>\n",
       "      <td>13:56:39</td>\n",
       "    </tr>\n",
       "    <tr>\n",
       "      <th>4</th>\n",
       "      <td>-132</td>\n",
       "      <td>32488</td>\n",
       "      <td>Картинка, ссылка или репост</td>\n",
       "      <td>1540302306</td>\n",
       "      <td>(2018-10-23, 16:45:06)</td>\n",
       "      <td>2018-10-23</td>\n",
       "      <td>16:45:06</td>\n",
       "    </tr>\n",
       "  </tbody>\n",
       "</table>\n",
       "</div>"
      ],
      "text/plain": [
       "   From_id     Id                                               Text  \\\n",
       "0     -132  32494                        Картинка, ссылка или репост   \n",
       "1     -132  32493  На Шаболовке 7 ноября в 18:30 ауд 5215 состоит...   \n",
       "2     -132  32492                        Картинка, ссылка или репост   \n",
       "3     -132  32491                        Картинка, ссылка или репост   \n",
       "4     -132  32488                        Картинка, ссылка или репост   \n",
       "\n",
       "    Date_Unix               Date_Norm        Date      Time  \n",
       "0  1541422799  (2018-11-05, 15:59:59)  2018-11-05  15:59:59  \n",
       "1  1541076555  (2018-11-01, 15:49:15)  2018-11-01  15:49:15  \n",
       "2  1540743239  (2018-10-28, 19:13:59)  2018-10-28  19:13:59  \n",
       "3  1540551399  (2018-10-26, 13:56:39)  2018-10-26  13:56:39  \n",
       "4  1540302306  (2018-10-23, 16:45:06)  2018-10-23  16:45:06  "
      ]
     },
     "execution_count": 57,
     "metadata": {},
     "output_type": "execute_result"
    }
   ],
   "source": [
    "df['Date'] = df.Date_Norm.map(get_date)\n",
    "df['Time'] = df.Date_Norm.map(get_time)\n",
    "df.head()"
   ]
  },
  {
   "cell_type": "markdown",
   "metadata": {},
   "source": [
    "Всё! Материалы о разных методах и функциях для `vk.api` можно найти в [официальной документации](https://vk.com/dev/manuals)."
   ]
  }
 ],
 "metadata": {
  "kernelspec": {
   "display_name": "Python 3",
   "language": "python",
   "name": "python3"
  },
  "language_info": {
   "codemirror_mode": {
    "name": "ipython",
    "version": 3
   },
   "file_extension": ".py",
   "mimetype": "text/x-python",
   "name": "python",
   "nbconvert_exporter": "python",
   "pygments_lexer": "ipython3",
   "version": "3.6.5"
  }
 },
 "nbformat": 4,
 "nbformat_minor": 2
}
