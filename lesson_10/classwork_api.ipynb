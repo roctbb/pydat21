{
 "cells": [
  {
   "cell_type": "code",
   "execution_count": null,
   "metadata": {},
   "outputs": [],
   "source": [
    "import requests\n",
    "import json\n",
    "\n",
    "TOKEN = 'fb27aacca82ec1ca52dc7bcd34011646'\n",
    "\n",
    "answer = requests.get(f\"https://apidata.mos.ru/v1/datasets?api_key={TOKEN}\")\n",
    "\n",
    "#categories = json.loads(answer.text)\n",
    "categories = answer.json()\n"
   ]
  },
  {
   "cell_type": "code",
   "execution_count": 6,
   "metadata": {},
   "outputs": [
    {
     "data": {
      "text/plain": [
       "[{'Id': 2624,\n",
       "  'VersionNumber': 1,\n",
       "  'ReleaseNumber': 70,\n",
       "  'Caption': 'Религиозные объекты Русской православной церкви',\n",
       "  'CategoryId': 321,\n",
       "  'DepartmentId': 322,\n",
       "  'PublishDate': '08.08.2016',\n",
       "  'FullDescription': None,\n",
       "  'Keywords': 'вера, часовня, церковь, храм, собор, православие',\n",
       "  'ContainsGeodata': True,\n",
       "  'ContainsAccEnvData': False,\n",
       "  'IsForeign': False,\n",
       "  'IsSeasonal': False,\n",
       "  'Season': '0',\n",
       "  'IsArchive': False,\n",
       "  'IsNew': False,\n",
       "  'LastUpdateDate': '08.08.2016',\n",
       "  'SefUrl': '7704253498-religioznye-obekty-russkoy-pravoslavnoy-tserkvi',\n",
       "  'IdentificationNumber': '7704253498-RussianOrthodoxChurchObjects'}]"
      ]
     },
     "execution_count": 6,
     "metadata": {},
     "output_type": "execute_result"
    }
   ],
   "source": [
    "list(filter(lambda category: 'Религи' in category['Caption'], categories))"
   ]
  },
  {
   "cell_type": "code",
   "execution_count": 7,
   "metadata": {},
   "outputs": [
    {
     "name": "stdout",
     "output_type": "stream",
     "text": [
      "{'global_id': 171600237, 'Number': 1, 'Cells': {'global_id': 171600237, 'Name': 'Успенский собор', 'AdmArea': 'Центральный административный округ', 'District': 'Тверской район', 'Address': 'Кремль', 'MetroStation': 'Библиотека имени Ленина', 'MetroLine': 'Сокольническая линия', 'PublicPhone': [{'PublicPhone': '(495) 695-37-76'}], 'WebSite': 'assumption-cathedral.kreml.ru', 'geoData': {'coordinates': [37.617071, 55.751012], 'type': 'Point'}}}\n"
     ]
    }
   ],
   "source": [
    "\n",
    "answer = requests.get(f\"https://apidata.mos.ru/v1/datasets/2624/rows?api_key={TOKEN}\")\n",
    "\n",
    "#categories = json.loads(answer.text)\n",
    "churches = answer.json()\n",
    "print(churches[0])"
   ]
  },
  {
   "cell_type": "code",
   "execution_count": 8,
   "metadata": {},
   "outputs": [
    {
     "name": "stdout",
     "output_type": "stream",
     "text": [
      "Collecting vk\n",
      "  Downloading https://files.pythonhosted.org/packages/9f/fd/698ba8b622ba57d7d936aaf7bf8256fec4e7e2e1c2f3b36fc04381df5281/vk-2.0.2.tar.gz\n",
      "Requirement already satisfied: requests<3.0,>=2.8 in c:\\users\\student\\anaconda3\\lib\\site-packages (from vk) (2.22.0)\n",
      "Requirement already satisfied: idna<2.9,>=2.5 in c:\\users\\student\\anaconda3\\lib\\site-packages (from requests<3.0,>=2.8->vk) (2.8)\n",
      "Requirement already satisfied: certifi>=2017.4.17 in c:\\users\\student\\anaconda3\\lib\\site-packages (from requests<3.0,>=2.8->vk) (2019.6.16)\n",
      "Requirement already satisfied: chardet<3.1.0,>=3.0.2 in c:\\users\\student\\anaconda3\\lib\\site-packages (from requests<3.0,>=2.8->vk) (3.0.4)\n",
      "Requirement already satisfied: urllib3!=1.25.0,!=1.25.1,<1.26,>=1.21.1 in c:\\users\\student\\anaconda3\\lib\\site-packages (from requests<3.0,>=2.8->vk) (1.24.2)\n",
      "Building wheels for collected packages: vk\n",
      "  Building wheel for vk (setup.py): started\n",
      "  Building wheel for vk (setup.py): finished with status 'done'\n",
      "  Stored in directory: C:\\Users\\Student\\AppData\\Local\\pip\\Cache\\wheels\\4c\\48\\d1\\09749ec47d9a30d166122773811f4ccb406f5234f2d84fd29d\n",
      "Successfully built vk\n",
      "Installing collected packages: vk\n",
      "Successfully installed vk-2.0.2\n"
     ]
    }
   ],
   "source": [
    "!pip install vk"
   ]
  },
  {
   "cell_type": "code",
   "execution_count": 9,
   "metadata": {},
   "outputs": [],
   "source": [
    "VK_TOKEN = \"\""
   ]
  },
  {
   "cell_type": "code",
   "execution_count": 19,
   "metadata": {},
   "outputs": [
    {
     "name": "stdout",
     "output_type": "stream",
     "text": [
      "https://sun9-37.userapi.com/impg/Edh92ddjMjwaqwPGpVNSvxxvO9ub7abFAHmJQw/I01_N52X2QM.jpg?size=1440x1920&quality=96&sign=edc6ffe0d377020791a7aaf746e54d41&c_uniq_tag=Upmer8qXVAbHU_Tz3JkKPRT6SfUlC207ufTRsDGxzKU&type=album\n",
      "https://sun9-40.userapi.com/impg/6UeqHJKF4h7A-tGaykd44GO5ihvWMoND9UbwGw/CJQ9ptIzUXU.jpg?size=1200x1600&quality=96&sign=492cba212786a39fb0a5d1b7f3d2ceff&c_uniq_tag=E4TUWHdRn0539gRO60JpQ-P6XP83e8Lc8bbj2MDfUO4&type=album\n",
      "https://sun9-35.userapi.com/impg/qrhZIXZiTFKdhvOcaRpP6CxSJTXcbr7c2aYRrw/fkDAjRTJ7_E.jpg?size=2160x2160&quality=96&sign=91fc9a401922fc175cf47068c554134d&c_uniq_tag=zWCZ0An699LgTVypDwFwNR9rmlobu4hoF_mrHtG9-Ns&type=album\n",
      "https://sun9-75.userapi.com/impg/TX-F-8JV3edwVCdT1JPl18KAf-UifnxGXNzzBA/StkLVpG5ZiM.jpg?size=1388x1852&quality=96&sign=b23730efaac55bfa1c8ea1b8d11d32b7&c_uniq_tag=7cMwqPbYc1d8-mB6tRLjg8UulOlMl9wVamw99m7aE8I&type=album\n",
      "https://sun9-35.userapi.com/impg/BCEhflNzWYTXLlcK7vfHh0NZWaXup6_O1fvR1w/yc0AlSLCB70.jpg?size=1196x1600&quality=96&sign=22c31106db3a67e803e51e9e2802e147&c_uniq_tag=P3c6OyuOBIVS5lDziov3QnlWR-gi7J_PTGoVldDLf1g&type=album\n",
      "https://sun9-26.userapi.com/impg/cH8l9f5WIvObI7JCdQHuEHmeB9DcBfdERNHqWA/tghzo7ZiOUA.jpg?size=1196x1600&quality=96&sign=1cf1c7b3354c6b91544e7fc926b48f31&c_uniq_tag=PvU1lIltb3wyr5yYZ3vkdiN8SNDGiRkv74pvB71bgY4&type=album\n",
      "https://sun9-14.userapi.com/impg/Sp3n5PDbioKN3GNgFdN_ZE0W7XNqxwQI_eu87w/xhRTq8u66-I.jpg?size=1200x801&quality=96&sign=8add2f80e70e3403c34a28bad38efe05&c_uniq_tag=OKsoHdF8mlYPc5e04al_aoxlJyIQ9jXi7VgaEaf84rQ&type=album\n",
      "https://sun9-46.userapi.com/impg/nj5_bCZBgTChqnDpsaHto1AfYDbK_gzsSJNGYA/z788og2tGCU.jpg?size=1600x1200&quality=96&sign=9a844cc1190c315bc0595368e613d4f5&c_uniq_tag=sEpKY-SQwREuCWDlaExY-kge9RUd_pKbHq8E0xpDS00&type=album\n",
      "https://sun9-16.userapi.com/impg/luyHWKiouiwg3AuPhMm5p4abiE2EbjkKbshZ5A/LPBbQL_6vac.jpg?size=1600x1200&quality=96&sign=43093f0015f23539047d0e0bc646c9d6&c_uniq_tag=qZHNurGRv2yYaWnr6pMKjwhX_LgLS6djkSUElbjr69M&type=album\n",
      "https://sun9-39.userapi.com/impg/Kl7dJlq8xh7xlaq_6Ee_anv7Ao3J9Uq0GcLiLQ/MXs4lQrUiao.jpg?size=1600x1200&quality=96&sign=b36794887978a27ec8e1c5b4079145c1&c_uniq_tag=mFxAvI33efgKYPmcA9mjBZpCPcQizfKazOhKZkkx2W8&type=album\n",
      "https://sun9-22.userapi.com/impg/G6uLcSwkAYC8MwPm20sW56LgiEaOKiRgoEo5Cw/5KfaNoa9o8w.jpg?size=1620x2160&quality=96&sign=9ee23924e86185497f04ff34376d7bb9&c_uniq_tag=qQZixdUxoXrdkE7e2slYdxt6fYmUjoMjtzrJcdW6518&type=album\n",
      "https://sun9-59.userapi.com/impg/cLTAXKoWrgKHQVMcUEfQvycroEYLX_3YBiRNSw/7gZ322yYzQk.jpg?size=1200x1600&quality=96&sign=7d397e4b833dac34cb879ee73476b048&c_uniq_tag=UYc3AP72KAkQyUCkgAiOf5i-BOg6LsNkbup1yC_2ZGU&type=album\n",
      "https://sun9-75.userapi.com/impg/Ae8qv8hRD4HCdQcV0nXkGG0cCmlQRlXw7t8AVg/lnlHdnSpzCE.jpg?size=1266x1688&quality=96&sign=93bf0b6b650556ae33f6bbcef0268085&c_uniq_tag=A7u_P-F44lV0GhIfWN_mB4yEyav_zpl8qj6hyPY6fto&type=album\n",
      "https://sun9-30.userapi.com/impg/SURPFteVns5JHKHpzlQ2zfka2yxCvJPMz2VvRA/8fBv8ydZErQ.jpg?size=1104x1472&quality=96&sign=867a10c97f91c998ce616f0b7340e628&c_uniq_tag=rnrUzkGug6tVUvcphK79vsiduTj1MEjhtK132mJPEwE&type=album\n",
      "https://sun9-47.userapi.com/impg/EnAybBjwD-gd4lVQrQLLMAh81uchgVnweUQ4KA/riEw2t52rUQ.jpg?size=1104x1472&quality=96&sign=d3b36e093c0079701fda5d065a2c7b1f&c_uniq_tag=XoBXs1tgyy3VB0N3JDvHax8wWo__dx5dBl6cPaOSIL8&type=album\n",
      "https://sun9-40.userapi.com/impg/MbqxeP6hpT5GPBqzJdGyB6jcsr9I9pH_-i0nJQ/JCB2UvehnBI.jpg?size=1440x1920&quality=96&sign=008532e53726273e7638e2ee375c27b7&c_uniq_tag=ErEAKuiIGeWt7F5SM0NuLCReELU51zu06oSzimsxtUo&type=album\n",
      "https://sun9-64.userapi.com/impg/rK1BDtZimBx3PcrnzNVN1qyviy-7oT4Yh1wUtw/HWTSRo_RcDw.jpg?size=1198x1600&quality=96&sign=7b19997f409c82063d587e18310dab9e&c_uniq_tag=hOPkEKWOn_5472M_LmcfU59dtGxaOtAS_XNVX8QuZlU&type=album\n",
      "https://sun9-41.userapi.com/impg/9q_w0RoFOsojD_2Psidj5d6lSM5UV-TM4RUCSA/wJ3vK13FZuc.jpg?size=1081x1600&quality=96&sign=5b4aabda374166f66447e9b979b2e0f2&c_uniq_tag=BiOKQjIslDrHv7ALdrGRdk74qiwOLsDUdmeKYOesiVY&type=album\n",
      "https://sun9-45.userapi.com/impg/OkoGxwLizZkKDsyDzEE_asbfZ3DpJG8GaN3D7g/B9dGfYFwIRs.jpg?size=1468x1600&quality=96&sign=0f6dd0291c38491971e7d1779c658605&c_uniq_tag=YGl-_uf-mu_RMTH1KS35g6mswzmUeVtTlgl6avpu8Fg&type=album\n",
      "https://sun9-18.userapi.com/impg/gQoWZUpCqyqCf1D3oMkLNJodXjLfsSB-Qr9CFg/MoVWbXdpqac.jpg?size=1195x1600&quality=96&sign=6873e6eb9c73ee7b1e5d071622709b6f&c_uniq_tag=4aSJVO1BL6X5P1aWoGyHEqNJrSwHLNZh8N4n6K5fb74&type=album\n",
      "https://sun9-62.userapi.com/impg/WEeUKpgC1_ehwBJjud64RwcnnafKliXxXmM5CA/UJxff2B8Znw.jpg?size=1198x1600&quality=96&sign=5a9178a9d02335e05580394a1b7d5eca&c_uniq_tag=_eQz2IVi5SiNSuxMLCyrsbay26w6aeDpGNAgplJv2GQ&type=album\n",
      "https://sun9-72.userapi.com/impg/YZ1DiBKQswOC3YjaZ6ZnJMBA_Q5CjCIEjM7vCQ/Bivmv11qNy0.jpg?size=1600x1403&quality=96&sign=f03ca0b75da21103795e64d1760e8368&c_uniq_tag=RzvuX13Y_G8JIA0AkgRoM4r_U3NmERmjW30H1mWjpGk&type=album\n",
      "https://sun9-69.userapi.com/impg/-dFbMeHk3MoSLdWMiDKP0zNMary5_OgPp2knYw/3FZ3Wlgfaoc.jpg?size=803x1600&quality=96&sign=18cdcea4b396d1ae012971545298de96&c_uniq_tag=BVG0KBjmU8fo3g7YQSAjkCu6ujUEWLwax_ognWyMd5k&type=album\n",
      "https://sun9-34.userapi.com/impg/WqltM7txE_W3ydCRa6gz0W0F5sA9WfrTFdDXwQ/JJcwZYfH75w.jpg?size=1600x1600&quality=96&sign=3511506e1e60c79995f1e18941fba2a2&c_uniq_tag=d71s9_urdwkF5fIInZuinWmMpNZ_W_S5xG565iFvC8U&type=album\n",
      "https://sun9-51.userapi.com/impg/tVX6POnY5SwgHIBIOo2LVWk9XG8ALLQYbr_Hmg/KmsJWv6wTW0.jpg?size=1600x1200&quality=96&sign=5310d0a0d89f335ccb20b5a3085b55e0&c_uniq_tag=0OYYpDFIvb_xkfXXrxAFxJDePtK0aFitUBEldp-hQB4&type=album\n",
      "https://sun9-64.userapi.com/impg/WtUMmvzZma6JMwKz8LPONRWH3Hm47I8EV1Y1LQ/DpQDhRyBFso.jpg?size=736x1600&quality=96&sign=4d7dee65d484befabc533902efc67399&c_uniq_tag=VeDYM7z_TORTCRcNJ9o2Sd0xenvm5U9BzgGy7fanDkY&type=album\n",
      "https://sun9-69.userapi.com/impg/WfWpc57UcqRByijyy8ydGGpkichzh3DAzLIovw/uVm0UnGwvCM.jpg?size=768x509&quality=96&sign=b27dd1a58650571bab780b9736696cc8&c_uniq_tag=A-Ex3IhwQW3FqEMbfavEk9-lY6LO6-J5_uefCneaXgE&type=album\n",
      "https://sun9-32.userapi.com/impg/6WGFOAjOJMVZFrjfLIXZg0bv9pMD8uzgQxHokA/Mo-o7ZTlNwc.jpg?size=1038x1386&quality=96&sign=0688e96b5e17371764ac07cccef9d264&c_uniq_tag=mY8eb5BEIUam14lFXa_2Giq5782ybW1p3UhhfD60cpA&type=album\n",
      "https://sun9-33.userapi.com/impg/54XVAZbboj7kJ06ncY9Zr012uP1LiIGUF7eGRA/8EJ3kcFSY0w.jpg?size=1052x1386&quality=96&sign=3b8bb96ff95af40d153a18a1b4a374c6&c_uniq_tag=U4qnTQ6aE32PoiyxhVf7x2GWeWid_wiH5P2AkcN4S6Q&type=album\n",
      "https://sun9-36.userapi.com/impg/a0-ITBqrcCA8KgvOX-7vJZD4tUu7aPzctFaI1w/fhigAjlsmgw.jpg?size=1440x1920&quality=96&sign=d6e201883034c5b0d7f14e5c772f5586&c_uniq_tag=67c2mrIJv9g1bDHI4YX3kc23nnZGWn3uRB0UxWTAu0M&type=album\n",
      "https://sun9-11.userapi.com/impg/Ebr6TnJt0PFYphofd_WWMqvkw9mCWzbPxx0DuA/BgPJwRRRrqg.jpg?size=719x719&quality=96&sign=41131796521168388a685e19715b7442&c_uniq_tag=6BG7nDbRAvvqE23VSLmX9NGSVH8WGGHWPRO1ECtVjso&type=album\n",
      "https://sun9-64.userapi.com/impg/YOvKxNXXcwRoG99X_UfLmArFj7lb3pDo-O3VIA/rfCuam_HQXg.jpg?size=720x480&quality=96&sign=4918baf27c1babc15d827f3cdd52fe58&c_uniq_tag=19wmwqukaTuo_jGIS30B7hmyRr9lj9G6V8QlgfXz8tA&type=album\n",
      "https://sun9-48.userapi.com/impg/isiZ3-23rOU-vihoPPkp3B9-KYziGrUUYja0DQ/S_3FJxOnjAA.jpg?size=972x2160&quality=96&sign=d01652d65626b3c22dc95a44ee7f76c2&c_uniq_tag=9gzsyNOsx78ALS_4aI0YUMy_euM5GYdSirtx_nESeI0&type=album\n",
      "https://sun9-6.userapi.com/impg/9GCiZb3u1pWP7jv_DB1SJIsjeUnXhfhsIcDzPQ/lItwPC_a_Kg.jpg?size=1104x1472&quality=96&sign=b373e5d2514b09f008423144bd4f9b92&c_uniq_tag=cik1j1pi-_IIb1Skwth55IZnRpq5Sg6zYCtb_B9oMIs&type=album\n",
      "https://sun9-19.userapi.com/impg/e6K9sBbExy6iKmqGQONuF15WgE05nEzO5IdoMw/Sps2wtGw4uw.jpg?size=1600x1200&quality=96&sign=ebf97fbd44fd02ac20c25a8d9b5f6a66&c_uniq_tag=59OmzyyXeSHjGbi3e8kmJX457eYJu-j59OfX00uDVpE&type=album\n",
      "https://sun9-41.userapi.com/impg/wDqC8Tvpke0FHbaipTV3mw9mDp0ubhXmtChRng/rOay-_PcUkE.jpg?size=1600x1200&quality=96&sign=c3292eee0cc87d5a6cefd357589e63ae&c_uniq_tag=P4V8oPly9DbCUldAWOTnRqi3y1GNAG72bV9wbqTAzxs&type=album\n",
      "https://sun9-67.userapi.com/impg/GPzAm-hf_wW6bQxkmouWmIP7qCCSVFSC-OiSvA/83mOnDQ2rRc.jpg?size=1600x1200&quality=96&sign=6b71e4540c787f8c15368ef94071dad3&c_uniq_tag=q2Gqqdk1bjRNt1bPZw3ErMfjVWaZ0wFTX8bbUB4PjEE&type=album\n",
      "https://sun9-22.userapi.com/impg/vqN9eWIb-0WtWzPJXz3qwUkvhB14LXLAUhrjAQ/t1c_0yGkgVw.jpg?size=1600x1200&quality=96&sign=859811105d2d10cbfc3099f1bd5d06c1&c_uniq_tag=G1IDpprHlXrt_SC_0hMIZD0T7qQlot9557mGp3rMakk&type=album\n",
      "https://sun9-32.userapi.com/impg/tIlvf-LhpR6iX9zwR6v9RMD9ri770_wznnESPQ/8uuNFHmvam4.jpg?size=2560x1920&quality=96&sign=06743596c249fd043cfa0b64b86644e1&c_uniq_tag=qtj4P1Exunqfvso1GGFFWmsT-low3OVybPWDBbIAyvo&type=album\n",
      "https://sun9-18.userapi.com/impg/XDGQCyjcB7f9Aq9vdMsLAZhecugXoHSzT_-ehA/3qK9aLo0h34.jpg?size=1215x2160&quality=96&sign=034143643ba384047f53daaa2195acdc&c_uniq_tag=c7tdY8j9fMXRQ2gldKh0WcppHQCszw2gOcMPXVW2mUM&type=album\n",
      "https://sun9-35.userapi.com/impg/8QROUsOFtXlBhg_OztCH_p7k12usZu1Ob3q3wA/A2zfkBkZgaQ.jpg?size=1215x2160&quality=96&sign=7d9922f2707a1bab9b6baa78efc7d5fd&c_uniq_tag=Og7Q_VeZZ9LWeQ3SkWA5-pKa3p5WKBl5MN8SgZEO62k&type=album\n",
      "https://sun9-76.userapi.com/impg/iC8W3Bv2_v4IhS_NUXeOc_PM-qo0Uj4_ZzRSUA/8wDY3hy27Is.jpg?size=1215x2160&quality=96&sign=e72030049d7aa53eff2791b0e62c5231&c_uniq_tag=OLbI47ZoHKOIo6Q1Zd0kOr-XNo4n3xW8jRk9UcbnpxU&type=album\n",
      "https://sun9-48.userapi.com/impg/oqEXQMzqdxXMxASAXkmTDodfoT0NEQAxxXWw2Q/kL0_3l3PJRQ.jpg?size=1215x2160&quality=96&sign=c3c673b7f64e53c43280e78775251d85&c_uniq_tag=InP9EUX5Wp7C2XmdNpN4Yvv_pkTf5oVCemp92ANAtG0&type=album\n",
      "https://sun9-44.userapi.com/impg/1Gb9c654RuACGNSbhBtav9tfGDCOLca4U02YfQ/T_qh-Q_HC2c.jpg?size=1215x2160&quality=96&sign=9341987f2d3128d3aff8201058b11064&c_uniq_tag=7I1jd5ywbHz2WmO1JsdkyaqaKP3Oz_M8H8si156qq-U&type=album\n",
      "https://sun9-45.userapi.com/impg/366ssQSUyONiFSbYaK9G9bNM3T1_yJxRSroBRQ/WIDOHMKjn5o.jpg?size=1215x2160&quality=96&sign=bb16a03bb57a31e01e180ea9ed16b8e6&c_uniq_tag=UWdxVGOGkLO4bEeeii51uziMROSBoy-wxPO-rX9YzbI&type=album\n",
      "https://sun9-50.userapi.com/impg/7v18FY3VitU2TU5EMp1t0iUb3L2wwyUNwKV2HA/89VMaTjRtdA.jpg?size=1215x2160&quality=96&sign=2c86ec12a248de86c58f1d875d89c7e3&c_uniq_tag=3OBPAlpSKJLkjr3D_13AZ4V0EqFgtGyd88QvY3glXJM&type=album\n",
      "https://sun9-64.userapi.com/impg/UinZ1iMMnNNVNPIeLfk0RXJJSX7wUCPn1E3gtQ/9R6lweKfTGo.jpg?size=1215x2160&quality=96&sign=94a6b7d41b928f96f9c70b21d19da1cc&c_uniq_tag=Qh0b1ywrAtTus2bW8DNfKi7eTIMZKykwt_ixsv-cE68&type=album\n",
      "https://sun9-70.userapi.com/impg/1nIlK6NWG4MjLvRY3NLBS9S0HDZSyTG-Q7nz-Q/-JyBCH5JOTM.jpg?size=1215x2160&quality=96&sign=8abfcb73e073de88795ea233c1012116&c_uniq_tag=llRELSABbJPxF1NpPWnHDgRywIUGlmm8t1pSGWgnPLQ&type=album\n",
      "https://sun9-53.userapi.com/impg/yOUYNOHdyzZl8vk-nbEm6a_kLtLFVj9rau7i0A/44dD6aQdijY.jpg?size=1600x1196&quality=96&sign=a0ad62ffdffa7b7013fd6d1c0a866619&c_uniq_tag=98GKQnBkHOeaQkVjRwvF0tfJ6XqeA9Zgs0R68W4y-G8&type=album\n",
      "https://sun9-4.userapi.com/impg/_kfP2Zs15FRFtZefF6qM-vimMuAhmxS36YutWw/lz5-aGXLDEI.jpg?size=1196x1600&quality=96&sign=821bd646a75b7d88df65d617db848ded&c_uniq_tag=0uAxKX4vr5Hfb1m4jOdXUVjXs62bsTTSkxVyTXFGR7I&type=album\n",
      "https://sun9-1.userapi.com/impg/q5wuv8nxKewlcuiSfh1Kvl4WCdkdqRCE069c7g/F2XbCLlodu4.jpg?size=1600x1196&quality=96&sign=6561e7219cfb3ec8c83e4eb2307cecc8&c_uniq_tag=SqCzwvPKquWhJiv1n2kyyIghQdXKMxN1fCci39ZMgq4&type=album\n",
      "https://sun9-72.userapi.com/impg/9vNwr35B5Fw4qHJxqQZLUKp0P65znMl6NgUJTQ/I8DOa6zqGsE.jpg?size=1200x1600&quality=96&sign=043ea65fbf4b98face013dbdbd0c6bc0&c_uniq_tag=vA4Un6tMWWm5RxWhH5R6ZF4t49RrIqpR_wO-852A10A&type=album\n",
      "https://sun9-52.userapi.com/impg/uO-WyaNXFN6qdT53JnihLsnzK8Z8uYsum1T-aw/YGy5YXVNGao.jpg?size=1200x1600&quality=96&sign=eb30f55ce47ee50101a47931682eecba&c_uniq_tag=0F3iodr48i02bthBJC6e1ch71rMMinf7NY7HDN7eUSY&type=album\n",
      "https://sun9-59.userapi.com/impg/txNddtCGjSXRyLCg2yCh4u07ci2Kkfyi1eB-wQ/fJG7iRu4qAs.jpg?size=1200x1600&quality=96&sign=c48514eeb1b243f7a7a7d3ddc81d0188&c_uniq_tag=oPuMNsGoNO2rWkyGo5yrhkVsNDCG2h_Ae4YtnS6m4UI&type=album\n",
      "https://sun9-15.userapi.com/impg/G4atjiPoHgoh3Z0zmwEleKpw6maIoA4VT-gIvg/CLI1C6XoHeM.jpg?size=1920x1440&quality=96&sign=f5188fec049854f447e8bb6b7254bcd9&c_uniq_tag=57V4gna2wfMUkY8dMv99bWjNxQDj1mXW3Ttkg_qQ5Rc&type=album\n",
      "https://sun9-29.userapi.com/impg/THRjpLZ9jEBT3G9PU8Y_tfQxTzvl0M7OR5wbIQ/Pq_7xkkHfAU.jpg?size=960x998&quality=96&sign=a4aa3268818b1c061b1e025e741e8863&c_uniq_tag=2zFb-wSoGXDhLZoNko7k3w3L1-psl3NR56GVDzI5ks0&type=album\n",
      "https://sun9-5.userapi.com/impg/oZQpOKKlTpPYr_L0tLh2if4jsj5Pd9Lym4bc1w/smTUm1JN2x0.jpg?size=1388x1852&quality=96&sign=69960bd0531ead052eae2e2a23df2393&c_uniq_tag=Fsh3U5fzkMrju_EcSLE13GoBTxF_5oiz-ndEGwk-CO4&type=album\n",
      "https://sun9-71.userapi.com/impg/l2ueYa7Jl1bNfkZqzZAYtqoT11LwezwEXqSxTA/lf05EfSSORc.jpg?size=1920x1083&quality=96&sign=580eb9111a28098959c34dabb9d298b5&c_uniq_tag=4Oye2_TMh1EkKKy9j-n7erkbEc4ZMwdxFDrJsRTppUw&type=album\n",
      "https://sun9-29.userapi.com/impg/KL_gH2PVF_8XmOjeDZewEJREk1ze0x1z7RZJeA/HVV0ZlrwigA.jpg?size=992x1322&quality=96&sign=7e1a8ce62e825b0cc10b8d4ae0170300&c_uniq_tag=5I3mjBvg0D3C6XG0bVqsikKqfjOno0_C71zTBdYzqP4&type=album\n",
      "https://sun9-58.userapi.com/impg/G-KPvp98RhdZRsPuTMiaUjyqwp9VwCvP9DBIcw/jXlwNGDccEA.jpg?size=1200x1600&quality=96&sign=5bedb0e4afeb62850ac277a75bb4ce2a&c_uniq_tag=7iArjAGqLbvg9JfQ64APKY34Nm2EiZXlkXGTZhvLq04&type=album\n",
      "https://sun9-19.userapi.com/impg/K8L7ll0D_-wSfjj3r--HeZ4A9OhJjOtdWvtS5g/VHq2grAaHcQ.jpg?size=960x1280&quality=96&sign=9616fa2e92060b27ddae28e9798750eb&c_uniq_tag=oqKrs_4fhmm5frz9oImm6Pit31KoYQ5MOzv58TTSOzY&type=album\n"
     ]
    }
   ],
   "source": [
    "import vk\n",
    "\n",
    "session = vk.Session(access_token=VK_TOKEN)\n",
    "api = vk.API(session)\n",
    "\n",
    "x, y = churches[0]['Cells']['geoData']['coordinates']\n",
    "\n",
    "photos = api.photos.search(lat=y, long=x, radius=100, v='5.130')\n",
    "\n",
    "for photo in photos['items']:\n",
    "    print(sorted(photo['sizes'], key=lambda s: -s['height'])[0]['url'])"
   ]
  },
  {
   "cell_type": "code",
   "execution_count": null,
   "metadata": {},
   "outputs": [],
   "source": []
  }
 ],
 "metadata": {
  "kernelspec": {
   "display_name": "Python 3",
   "language": "python",
   "name": "python3"
  },
  "language_info": {
   "codemirror_mode": {
    "name": "ipython",
    "version": 3
   },
   "file_extension": ".py",
   "mimetype": "text/x-python",
   "name": "python",
   "nbconvert_exporter": "python",
   "pygments_lexer": "ipython3",
   "version": "3.7.3"
  }
 },
 "nbformat": 4,
 "nbformat_minor": 2
}
