{
 "cells": [
  {
   "cell_type": "markdown",
   "metadata": {},
   "source": [
    "# Python для анализа данных\n",
    "\n",
    "## Web-scraping: поисковые запросы с Selenium\n",
    "\n",
    "*Автор: Алла Тамбовцева, НИУ ВШЭ*  "
   ]
  },
  {
   "cell_type": "markdown",
   "metadata": {},
   "source": [
    "Посмотрим на другие примеры использования `selenium`. \n",
    "\n",
    "**Пример.** Зайдем на сайт книжного магазина и найдем все книги про Python. Загрузим библиотеку, веб-драйвер и откроем страницу в браузере через Python."
   ]
  },
  {
   "cell_type": "code",
   "execution_count": 13,
   "metadata": {},
   "outputs": [],
   "source": [
    "from selenium import webdriver as wb\n",
    "br = wb.Chrome(r\"chromedriver.exe\")\n",
    "\n",
    "# открываем страницу в Chrome в автоматическом режиме\n",
    "br.get(\"http://www.biblio-globus.ru/\")"
   ]
  },
  {
   "cell_type": "markdown",
   "metadata": {},
   "source": [
    "Найдем с помощью CSS Selector'а (*SelectorGadget*) поле для ввода названия книги или автора. "
   ]
  },
  {
   "cell_type": "code",
   "execution_count": 14,
   "metadata": {},
   "outputs": [],
   "source": [
    "field = br.find_element_by_css_selector(\"#search_string\")"
   ]
  },
  {
   "cell_type": "markdown",
   "metadata": {},
   "source": [
    "Сохраним запрос:"
   ]
  },
  {
   "cell_type": "code",
   "execution_count": 15,
   "metadata": {},
   "outputs": [],
   "source": [
    "topic = \"Python\"  "
   ]
  },
  {
   "cell_type": "markdown",
   "metadata": {},
   "source": [
    "Введем запрос в поле для поиска (`.send_keys`) и подождем чуть-чуть:"
   ]
  },
  {
   "cell_type": "code",
   "execution_count": 16,
   "metadata": {},
   "outputs": [],
   "source": [
    "field.send_keys(topic)\n",
    "br.implicitly_wait(2)  # подождем пару секунд"
   ]
  },
  {
   "cell_type": "markdown",
   "metadata": {},
   "source": [
    "Теперь найдем кнопку для поиска (значок *лупа* рядом со строкой поиска) через CSS Selector:"
   ]
  },
  {
   "cell_type": "code",
   "execution_count": 17,
   "metadata": {},
   "outputs": [],
   "source": [
    "submit = br.find_element_by_css_selector(\"#search_submit\")"
   ]
  },
  {
   "cell_type": "markdown",
   "metadata": {},
   "source": [
    "Кликнем на нее:"
   ]
  },
  {
   "cell_type": "code",
   "execution_count": 18,
   "metadata": {},
   "outputs": [],
   "source": [
    "submit.click()"
   ]
  },
  {
   "cell_type": "markdown",
   "metadata": {},
   "source": [
    "Сохраним первую страницу с результатами в переменную `page1`."
   ]
  },
  {
   "cell_type": "code",
   "execution_count": 19,
   "metadata": {},
   "outputs": [],
   "source": [
    "page1 = br.page_source"
   ]
  },
  {
   "cell_type": "code",
   "execution_count": 20,
   "metadata": {},
   "outputs": [
    {
     "data": {
      "text/plain": [
       "'<html xmlns=\"http://www.w3.org/1999/xhtml\"><head><title>\\n\\t\\n\\tРезультаты поиска по запросу: «Python»\\n\\n</title><meta http-equiv=\"Content-Type\" content=\"application/xhtml+xml; charset=utf-8\"><meta name=\"description\"><meta name=\"keywords\"><meta name=\"robots\">\\n\\t<link rel=\"stylesheet\" type=\"text/css\" href=\"/search/Content/Site.css\" media=\"screen\">\\n    <link rel=\"stylesheet\" type=\"text/css\" href=\"/search/Content/jquery-ui-1.8.16.custom.css\" media=\"screen\">\\n    <link rel=\"stylesheet\" href=\"https://use.fontawesome.com/releases/v5.7.0/css/all.css\" integrity=\"sha384-lZN37f5QGtY3VHgisS14W3ExzMWZxybE1SJSEsQp9S+oqd12jhcu+A56Ebc1zFSJ\" crossorigin=\"anonymous\">\\n    <link rel=\"stylesheet\" type=\"text/css\" href=\"/search/Content/eventCalendar_theme_responsive.css\" media=\"screen\">\\n    <link rel=\"stylesheet\" type=\"text/css\" href=\"/search/Content/eventCalendar.css\" media=\"screen\">\\n    <link rel=\"stylesheet\" href=\"/search/Content/owl/assets/owl.carousel.css\">\\n    <link rel=\"stylesheet\" href=\"/search/Content/owl/assets/owl.theme.default.css\">\\n\\n    <link rel=\"stylesheet\" type=\"text/css\" href=\"/search/Content/jstree.css\" media=\"screen\">\\n    \\n    <script async=\"\" src=\"https://buttons-config.sharethis.com/js/5bfbed37a0286b00115a8f0d.js\"></script><script src=\"https://code.jquery.com/jquery-1.11.2.min.js\" type=\"text/javascript\"></script>\\n    <script src=\"/search/Scripts/jquery-ui-1.8.16.custom.min.js\" type=\"text/javascript\"></script> \\n    <script src=\"/search/Scripts/jquery.eventCalendar.min.js\" type=\"text/javascript\"></script>\\n\\t<script src=\"//platform-api.sharethis.com/js/sharethis.js#property=5bfbed37a0286b00115a8f0d&amp;product=inline-follow-buttons\"></script>\\n    \\n    <script src=\"/search/Scripts/jstree.js\" type=\"text/javascript\"></script> \\n    \\n\\n\\n    <!-- Include js plugin -->\\n    <script src=\"/search/Content/owl/owl.carousel.js\"></script>\\n\\n    <script type=\"text/javascript\">\\n        $(document).ready(function () {\\n\\n\\n            $(\"#html_1\").jstree().bind(\"select_node.jstree\", function (e, data) {\\n                data.instance.toggle_node(data.node);\\n                var href = data.node.a_attr.href;\\n                document.location.href = href;\\n            });\\n\\n            $(\"#html_2\").jstree().bind(\"select_node.jstree\", function (e, data) {\\n                data.instance.toggle_node(data.node);\\n                var href = data.node.a_attr.href;\\n                document.location.href = href;\\n            });\\n\\n            $(\"#html_3\").jstree().bind(\"select_node.jstree\", function (e, data) {\\n                data.instance.toggle_node(data.node);\\n                var href = data.node.a_attr.href;\\n                document.location.href = href;\\n            });\\n\\n            $(\"#html_4\").jstree().bind(\"select_node.jstree\", function (e, data) {\\n                data.instance.toggle_node(data.node);\\n                var href = data.node.a_attr.href;\\n                document.location.href = href;\\n            });\\n\\n            $(\"#html_5\").jstree().bind(\"select_node.jstree\", function (e, data) {\\n                data.instance.toggle_node(data.node);\\n                var href = data.node.a_attr.href;\\n                document.location.href = href;\\n            });\\n\\n\\n            $(\"#html_6\").jstree().bind(\"select_node.jstree\", function (e, data) {\\n                data.instance.toggle_node(data.node);\\n                var href = data.node.a_attr.href;\\n                document.location.href = href;\\n            });\\n\\n            $(\"#html_7\").jstree().bind(\"select_node.jstree\", function (e, data) {\\n                data.instance.toggle_node(data.node);\\n                var href = data.node.a_attr.href;\\n                document.location.href = href;\\n            });\\n\\n            $(\"#html_8\").jstree().bind(\"select_node.jstree\", function (e, data) {\\n                data.instance.toggle_node(data.node);\\n                var href = data.node.a_attr.href;\\n                document.location.href = href;\\n            });\\n\\n            $(\"#html_9\").jstree().bind(\"select_node.jstree\", function (e, data) {\\n                data.instance.toggle_node(data.node);\\n                var href = data.node.a_attr.href;\\n                document.location.href = href;\\n            });\\n\\n            $(\"#html_10\").jstree().bind(\"select_node.jstree\", function (e, data) {\\n                data.instance.toggle_node(data.node);\\n                var href = data.node.a_attr.href;\\n                document.location.href = href;\\n            });\\n\\n            $(\"#html_11\").jstree().bind(\"select_node.jstree\", function (e, data) {\\n                data.instance.toggle_node(data.node);\\n                var href = data.node.a_attr.href;\\n                document.location.href = href;\\n            });\\n        \\n            $(\"#owl-example\").owlCarousel({\\n                items: 1,\\n                thumbs: true,\\n                nav: false,\\n                dots: false,\\n                loop: true,\\n                autoplay: true,\\n                thumbsPrerendered: true\\n            });\\n\\n            $(\"#events\").on(\\'click\\', \\'.switch_btn\\', function () {\\n                var currentId = this.id.replace(\"event_\", \"\");\\n                var full_desrc = \\'#full_description_\\' + currentId;\\n                var desrc = \\'#description_\\' + currentId;\\n                $(full_desrc).slideToggle(\"slow\");\\n                //$(desrc).slideToggle(\"slow\");\\n                var btn_text_id = \\'#event_\\' + currentId;\\n                var btn_text = $(btn_text_id).html();\\n                if (btn_text == \\'<div class=\"event_less\">Свернуть</div>\\') {\\n                    $(btn_text_id).html(\\'<div class=\"event_more\">Подробнее</div>\\');\\n                }\\n                else {\\n                    $(btn_text_id).html(\\'<div class=\"event_less\">Свернуть</div>\\');\\n                }\\n            });\\n        });\\n    </script>\\n    \\n    <style>\\n        .ui-autocomplete-loading {\\n            background: white url(\"images/ui-anim_basic_16x16.gif\") right center no-repeat;\\n        }\\n    </style>\\n\\n<!--\\n  <script type=\"text/javascript\">\\n      $(function () {\\n          $(\"#search_field\").autocomplete({\\n              source: function (request, response) {\\n                  $.ajax({\\n                      url: \"/search/Catalog/GetSearchString\",\\n                      type: \"POST\",\\n                      dataType: \"json\",\\n                      data: {query: request.term, maxResult: 10},\\n \\t                  success: function (data) {\\n \\t                        response($.map(data, function (item) {\\n \\t                            return { label: item.Value, value: item.Value, id: item.TypeId }\\n \\t                        }))\\n \\t                  }\\n                  });\\n              },\\n              minLength: 3,\\n              select: function( event, ui ) {\\n                if(ui.item)\\n                {\\n                    window.location = \\'http://www.biblio-globus.ru/service/catalog/products?query=\\' + encodeURIComponent(ui.item.value) + \\'&page=1\\';\\n                }\\n              }\\n          });\\n      });\\n  </script>\\n -->\\n \\n</head>\\n\\n<body>\\n<table class=\"wrapper\">\\n<tbody><tr>\\n    <td class=\"left_column\"><div align=\"center\"><a href=\"http://www.biblio-globus.ru/\" id=\"logo\">\\n    <img src=\"/search/Content/Images/logo.jpg\" alt=\"\"></a></div>\\n        <div class=\"column_top_wrapper\">\\n            <div class=\"column_top\"></div>\\n        </div>\\n    </td>\\n    <td class=\"top_bg\">\\n        <div id=\"header_photo\">\\n        \\n        </div>\\n        <div class=\"top_nav\">\\n            <table width=\"100%\">\\n                <tbody><tr>\\n                    <td><a href=\"http://www.bgshop.ru/\" target=\"_blank\" id=\"ecommerce_button\"></a></td>\\n                    <!-- <td><a href=\"http://www.biblio-globus.ru/content.aspx?page_id=5\" id=\"departments_button\"></a></td> -->\\n\\t\\t\\t\\t\\t<td><a href=\"http://digest.biblio-globus.ru/\" id=\"digest_button\"></a></td>\\n                    <td><a href=\"http://www.biblio-globus.ru/content.aspx?page_id=40\" id=\"shops_button\"></a></td>\\n                    <td><a href=\"http://www.biblio-globus.ru/content.aspx?page_id=14\" id=\"vendors_button\"></a></td>\\n                    <td><a href=\"http://www.biblio-globus.ru/content.aspx?page_id=306\" id=\"services_button\"></a></td>\\n                    <td><a href=\"http://www.biblio-globus.ru/content.aspx?page_id=15\" id=\"company_button\"></a></td>\\n                </tr>\\n            </tbody></table>\\n        </div>\\n    </td>\\n</tr>\\n<tr>\\n\\n\\n    <td class=\"left_column\" valign=\"top\">\\n\\n \\n\\n    <table width=\"100%\" border=\"0\" cellspacing=\"0\" cellpadding=\"0\" id=\"Table2\">\\n  <tbody><tr>\\n    <td valign=\"top\" align=\"center\" width=\"18%\">\\n\\n<br></td></tr>\\n  <tr>\\n    <td valign=\"top\" align=\"center\" width=\"18%\">\\n      \\n<div class=\"left_nav_divider\"></div>\\n          \\n          </td></tr>\\n\\t\\t\\t<tr>\\n\\t\\t\\t\\t<td width=\"18%\" align=\"center\" valign=\"top\"><img src=\"http://www.biblio-globus.ru/img/1px.gif\" width=\"195\" height=\"1\"><br>\\n\\n<table width=\"80%\" border=\"0\" cellspacing=\"0\" cellpadding=\"3\" id=\"Table3\">\\n<tbody>\\t\\t\\n<tr><td colspan=\"3\" class=\"zag1\" style=\"color:#9e2721;\" align=\"left\">АКТУАЛЬНОЕ</td></tr>\\n<tr align=\"left\">\\n<td width=\"5%\"><img src=\"http://www.biblio-globus.ru/img/strl.gif\" width=\"5\" height=\"5\"></td>\\n<td><a href=\"http://www.biblio-globus.ru/search/calendar/events\" class=\"menu\">Литературная афиша</a></td>\\n</tr>\\n<tr align=\"left\">\\n<td width=\"5%\"><img src=\"http://www.biblio-globus.ru/img/strl.gif\" width=\"5\" height=\"5\"></td>\\n<td><a href=\"http://www.biblio-globus.ru/content.aspx?page_id=89\" class=\"menu\">Лидеры продаж</a></td>\\n</tr>\\n<tr align=\"left\">\\n<td width=\"5%\"><img src=\"http://www.biblio-globus.ru/img/strl.gif\" width=\"5\" height=\"5\"></td>\\n<td><a href=\"http://www.biblio-globus.ru/content.aspx?page_id=121\" class=\"menu\">Акции</a>\\n</td>\\n</tr>\\n<tr align=\"left\">\\n<td width=\"5%\" height=\"23\"><img src=\"http://www.biblio-globus.ru/img/strl.gif\" width=\"5\" height=\"5\"></td>\\n<td height=\"23\"><a href=\"/media_news.aspx?type=exp&amp;header=Скоро в продаже\" class=\"menu\">Скоро в продаже </a>\\n</td>\\n</tr>\\t\\t\\t\\t\\t\\t\\t\\t\\n<tr align=\"left\">\\n<td><img src=\"http://www.biblio-globus.ru/img/strl.gif\" width=\"5\" height=\"5\"></td>\\n<td><a href=\"http://www.biblio-globus.ru/content.aspx?page_id=29\" class=\"menu\">Библио-новости</a></td>\\n</tr>\\t\\t\\t\\t\\t\\n<tr align=\"left\">\\n<td width=\"5%\"><img src=\"http://www.biblio-globus.ru/img/strl.gif\" width=\"5\" height=\"5\"></td>\\n<td><a href=\"http://digest.biblio-globus.ru/\" class=\"menu\">Журнал</a></td>\\n</tr>\\n<tr align=\"left\">\\n<td><img src=\"http://www.biblio-globus.ru/img/strl.gif\" width=\"5\" height=\"5\"></td>\\n<td><a href=\"http://www.biblio-globus.ru/content.aspx?page_id=315\" class=\"menu\">Яркие события</a></td>\\n</tr>\\n\\n<tr align=\"left\">\\n<td><img src=\"http://www.biblio-globus.ru/img/strl.gif\" width=\"5\" height=\"5\"></td>\\n<td><a href=\"http://www.biblio-globus.ru/content.aspx?page_id=214\" class=\"menu\">Литературная гостиная им. И.Д. Сытина</a></td>\\n</tr>\\n</tbody>\\n</table>\\n\\t\\t\\t\\t\\t\\n<table width=\"100%\" border=\"0\" cellspacing=\"0\" cellpadding=\"0\" id=\"Table4\">\\n<tbody>\\n\\n<tr align=\"center\">\\n<td>\\n<div class=\"left_nav_divider\"></div>\\n</td>\\n</tr>\\n\\n<tr align=\"center\">\\n<td>\\n\\n<table width=\"80%\" border=\"0\" cellpadding=\"3\" cellspacing=\"0\" id=\"Table6\">\\n<tbody>\\n\\n<tr><td colspan=\"3\" class=\"zag1\" style=\"color:#9e2721;\" align=\"left\">КНИГИ И ДРУГИЕ ТОВАРЫ</td></tr>\\n\\t\\t\\t\\t\\t\\t\\n<tr align=\"left\">\\n<td width=\"5%\"><img src=\"http://www.biblio-globus.ru/img/strl.gif\" width=\"5\" height=\"5\"></td>\\n<td><a href=\"http://catalog.biblio-globus.ru/\" class=\"menu\">Каталог</a></td>\\n</tr>\\n\\n<tr align=\"left\">\\n<td width=\"5%\"><img src=\"http://www.biblio-globus.ru/img/strl.gif\" width=\"5\" height=\"5\"></td>\\n<td><a href=\"http://www.biblio-globus.ru/content.aspx?page_id=85\" class=\"menu\">Антиквариат и коллекционирование</a></td>\\n</tr>\\n\\n<tr>\\n<td width=\"5%\"><img alt=\"\" src=\"/img/strl.gif\"></td>\\n<td><a class=\"menu\" href=\"/content.aspx?page_id=11\">Канцелярские и офисные товары</a></td></tr>\\n<tr>\\n<td width=\"5%\"><img alt=\"\" src=\"/img/strl.gif\"></td>\\n<td><a class=\"menu\" href=\"/content.aspx?page_id=65\">Аудиокниги</a></td></tr>\\n<tr>\\n<td width=\"5%\"><img alt=\"\" src=\"/img/strl.gif\"></td>\\n<td><a class=\"menu\" href=\"/content.aspx?page_id=10\">Товары декоративно-прикладного творчества</a></td></tr>\\n<tr>\\n<td width=\"5%\"><img alt=\"\" src=\"/img/strl.gif\"></td>\\n<td><a class=\"menu\" href=\"/content.aspx?page_id=82\">Флористика и товары для дома</a></td></tr>\\n\\t\\t\\t\\t\\t\\t\\t\\n</tbody>\\n</table>\\n\\t\\t\\t\\t\\t\\t\\t</td>\\n\\t\\t\\t\\t\\t\\t</tr>\\n\\t\\t\\t\\t\\t\\t<tr align=\"center\" height=\"15\">\\n\\t\\t\\t\\t\\t\\t\\t<td height=\"10\">\\n<div class=\"left_nav_divider\"></div>\\n\\t\\t\\t\\t\\t\\t\\t</td>\\n\\t\\t\\t\\t\\t\\t</tr>\\n\\t\\t\\t\\t\\t\\t<tr align=\"center\">\\n\\t\\t\\t\\t\\t\\t\\t<td>\\n\\n\\t\\t\\t\\t\\t\\t\\t\\n<table width=\"80%\" border=\"0\" cellpadding=\"3\" cellspacing=\"0\" id=\"Table8\">\\n\\t\\t\\t\\t\\t\\t\\t\\t\\t<tbody>\\n<tr height=\"5\">\\n<td height=\"5\"></td>\\n<td height=\"5\"></td>\\n</tr>\\n\\n<tr><td colspan=\"3\" class=\"zag1\" style=\"color:#72be3f;\" align=\"left\">УСЛУГИ</td></tr>\\n\\n\\n<tr align=\"left\">\\n<td width=\"5%\"><img src=\"http://www.biblio-globus.ru/img/strl.gif\" width=\"5\" height=\"5\"></td>\\n<td><a href=\"http://www.biblio-globus.ru/profile/dc?utm_source=biblio_globus&amp;utm_medium=banner&amp;utm_campaign=activation_banner\" class=\"menu\">Активация клубной (дисконтной) карты <sup style=\"color:red\">new</sup></a></td>\\n</tr>\\n\\n<tr align=\"left\">\\n<td width=\"5%\"><img src=\"http://www.biblio-globus.ru/img/strl.gif\" width=\"5\" height=\"5\"></td>\\n<td><a href=\"http://www.biblio-globus.ru/content.aspx?page_id=306\" class=\"menu\">Услуги</a></td>\\n</tr>\\n\\n<tr align=\"left\">\\n<td><img src=\"http://www.biblio-globus.ru/img/strl.gif\" width=\"5\" height=\"5\"> </td>\\n<td><a href=\"http://www.biblio-globus.ru/content.aspx?page_id=46\" class=\"menu\"><b>Личный кабинет</b></a></td>\\n</tr>\\n\\n<tr align=\"left\">\\n<td width=\"5%\"><img src=\"http://www.biblio-globus.ru/img/strl.gif\" width=\"5\" height=\"5\"> </td>\\n<td><a href=\"http://www.biblio-globus.ru/content.aspx?page_id=50\" class=\"menu\">Клубная (дисконтная) карта </a></td>\\n</tr>\\n\\t\\t\\t\\t\\t\\t\\t\\t\\t\\n<tr align=\"left\">\\n<td width=\"5%\"><img src=\"http://www.biblio-globus.ru/img/strl.gif\" width=\"5\" height=\"5\"> </td>\\n<td><a href=\"http://www.biblio-globus.ru/content.aspx?page_id=104\" class=\"menu\">Подарочная карта</a></td>\\n</tr>\\n\\n<tr>\\n<td><img src=\"http://www.biblio-globus.ru/img/strl.gif\" width=\"5\" height=\"5\"></td>\\n<td><a href=\"http://service.biblio-globus.ru/librariancabinet/\" target=\"_blank\" class=\"menu\">Кабинет юридического лица</a></td>\\n</tr>\\n\\t\\t\\t\\t\\t\\t\\n<tr>\\n<td><img src=\"http://www.biblio-globus.ru/img/strl.gif\" width=\"5\" height=\"5\"></td>\\n<td align=\"left\"><a href=\"http://www.biblio-globus.ru/content.aspx?page_id=31\" class=\"menu\">Персональное и корпоративное обслуживание</a></td>\\n</tr>\\n\\n<tr>\\n<td><img src=\"http://www.biblio-globus.ru/img/strl.gif\" width=\"5\" height=\"5\"></td>\\n<td align=\"left\"><a href=\"http://www.biblio-globus.ru/content.aspx?page_id=38\" class=\"menu\">Опрос для наших покупателей</a></td>\\n</tr>\\n\\t\\t\\t\\t\\t\\t\\t\\t\\n\\n</tbody></table>\\n\\t\\t\\t\\t\\t\\t\\t</td>\\n\\t\\t\\t\\t\\t\\t</tr>\\n\\t\\t\\t\\t\\t\\t\\n\\n\\n<tr align=\"center\" height=\"5\">\\n\\t\\t\\t\\t\\t\\t\\t<td height=\"5\">\\n<div class=\"left_nav_divider\" style=\"margin:10px 0 10px !important;\"></div>\\n\\t\\t\\t\\t\\t\\t\\t</td>\\n\\t\\t\\t\\t\\t\\t</tr>\\n\\n\\t\\t\\t\\t\\t\\t<tr align=\"center\">\\n\\t\\t\\t\\t\\t\\t\\t<td>\\n<table width=\"80%\" border=\"0\" cellpadding=\"3\" cellspacing=\"0\" id=\"Table11\">\\t\\t\\t\\t\\t\\t\\t\\t\\t\\n<tbody>\\n<tr>\\n<td colspan=\"3\" class=\"zag1\" style=\"color:#f36e25;\" align=\"left\"><a style=\"color:#f36e25;\" href=\"http://www.biblio-globus.ru/content.aspx?page_id=308\">НАШИ ПАРТНЕРЫ</a>\\n</td>\\n</tr>\\t\\t\\t\\t\\t\\t\\t\\n</tbody>\\n</table>\\n\\t\\t\\t\\t\\t\\t\\t</td>\\n\\t\\t\\t\\t\\t\\t\\n\\t\\t\\t\\t\\t\\t</tr>\\n\\t\\t\\t\\t\\t\\t<tr align=\"center\" height=\"5\">\\n\\t\\t\\t\\t\\t\\t\\t<td height=\"5\">\\n<div class=\"left_nav_divider\" style=\"margin:10px 0 10px !important;\"></div>\\n\\t\\t\\t\\t\\t\\t\\t</td>\\n\\t\\t\\t\\t\\t\\t</tr>\\n\\t\\t\\t\\t\\t\\t<tr align=\"center\">\\n\\t\\t\\t\\t\\t\\t\\t<td height=\"1\"></td>\\n\\t\\t\\t\\t\\t\\t</tr>\\n\\t\\t\\t\\t\\t\\t\\n\\t\\t\\t\\t\\t\\t\\n\\t\\t\\t\\t\\t\\t<tr align=\"center\">\\n\\t\\t\\t\\t\\t\\t\\t<td>\\n\\t\\t\\t\\t\\t\\t\\t\\t\\t\\t\\t\\t\\t\\t\\t\\t<table width=\"80%\" border=\"0\" cellpadding=\"3\" cellspacing=\"0\" id=\"Table13\">\\n\\t\\t\\t\\t\\t\\t\\t\\t\\t<tbody>\\n\\n<tr><td colspan=\"3\" class=\"zag1\" style=\"color:#9e2721;\" align=\"left\">О КОМПАНИИ</td></tr>\\n\\n<tr align=\"left\">\\n\\t<td><img src=\"http://www.biblio-globus.ru/img/strl.gif\" width=\"5\" height=\"5\"></td>\\n\\t<td><a href=\"http://www.biblio-globus.ru/career/\" class=\"menu\">Вакансии</a></td>\\n</tr>\\n\\n<tr align=\"left\">\\n\\t<td width=\"5%\"><img src=\"http://www.biblio-globus.ru/img/strl.gif\" width=\"5\" height=\"5\"></td>\\n\\t<td><a href=\"http://www.biblio-globus.ru/content.aspx?page_id=220\" class=\"menu\">Пресс-служба</a></td>\\n</tr>\\t\\n\\n<tr align=\"left\">\\n\\t<td width=\"5%\"><img src=\"http://www.biblio-globus.ru/img/strl.gif\" width=\"5\" height=\"5\"></td>\\n\\t<td><a href=\"http://www.biblio-globus.ru/content.aspx?page_id=513\" class=\"menu\">Наши гости о нас</a></td>\\n</tr>\\n\\n<tr align=\"left\">\\n\\t<td width=\"5%\"><img src=\"http://www.biblio-globus.ru/img/strl.gif\" width=\"5\" height=\"5\"></td>\\n\\t<td><a href=\"http://www.biblio-globus.ru/content.aspx?page_id=36\" class=\"menu\">СМИ о нас</a></td>\\n</tr>\\n                                    \\n<tr align=\"left\">\\n\\t<td width=\"9\"><img src=\"http://www.biblio-globus.ru/img/strl.gif\" width=\"5\" height=\"5\" align=\"absMiddle\"></td>\\n\\t<td><a href=\"http://www.biblio-globus.ru/content.aspx?page_id=103\" class=\"menu\">Карта магазина</a></td>\\n</tr>\\t\\t\\t\\t\\t\\t\\t\\t\\n                                    \\n<tr align=\"left\">\\n\\t<td width=\"9\">\\t\\t<img src=\"http://www.biblio-globus.ru/img/strl.gif\" width=\"5\" height=\"5\" align=\"absMiddle\"></td>\\n\\t<td><a href=\"http://www.biblio-globus.ru/comments.aspx\" class=\"menu\">Ваше мнение</a></td>\\n</tr>\\n\\t\\t\\t\\t\\t\\t\\t\\n\\n<tr height=\"5\">\\n\\t\\t\\t\\t\\t\\t\\t\\t\\t\\t<td width=\"9\" height=\"5\"></td>\\n\\t\\t\\t\\t\\t\\t\\t\\t\\t\\t<td height=\"5\"></td>\\n\\t\\t\\t\\t\\t\\t\\t\\t\\t</tr>\\n\\t\\t\\t\\t\\t\\t\\t\\t\\n</tbody></table>\\n\\t\\t\\t\\t\\t\\t\\t</td>\\n\\t\\t\\t\\t\\t\\t</tr>\\n\\t\\t\\t\\t\\t\\t<tr align=\"center\">\\n\\t\\t<td>\\n\\t\\t\\n\\t\\t\\n\\t\\t\\n\\t\\t\\n\\t\\t\\n\\t\\t\\n\\t\\t<div align=\"left\" style=\"width:170px; margin-left:10px; margin-top:40px;\">\\n\\t\\t<div style=\"width:170px; padding:0; font-family:Tahoma; font-size:11px; text-align:left; height:24px; margin-left:0px; margin-right:0; margin-top:0; margin-bottom:20px\"><img alt=\"\" src=\"http://www.biblio-globus.ru/images/social/social_title.jpg\"></div>\\n\\t\\t\\n\\t\\t<img style=\"vertical-align:middle; margin:0 10px 0 0;\" src=\"http://www.biblio-globus.ru/images/_today/vk_bgbg.jpg\" alt=\"Библио Глобус\" border=\"0\"><a href=\"http://vk.com/biblioglobus_msk\" target=\"_blank\" class=\"social_vkontakte\"> \\n\\t\\tмы в Вконтакте</a>\\t\\n\\t\\t<a href=\"http://www.facebook.com/biblio.globus/\" target=\"_blank\" class=\"social_facebook\"> \\n\\t\\tмы в Facebook</a>\\t\\t\\n\\t\\t<a href=\"http://twitter.com/Biblio_Globus/\" target=\"_blank\" class=\"social_twitter\"> \\n\\t\\tмы в Twitter</a>\\n\\t\\t\\n<a href=\"https://instagram.com/biblio.globus/\" target=\"_blank\" class=\"social_inst\"> \\n\\t\\tмы в Instagram</a>\\n\\n<a href=\"https://ok.ru/group/55673286951161\" target=\"_blank\" class=\"social_ok\">мы в Одноклассниках</a>\\n\\n        <!--\\n\\t\\t<a href=\"http://biblio-globus.livejournal.com/\" target=\"_blank\" class=\"social_lj\"> \\n\\t\\tмы в ЖЖ</a>\\n\\t\\t-->\\n        <!--<a href=\"http://f5.ru/biblio-globus/\" target=\"_blank\" class=\"social_f5\"> мы в F5</a>-->\\n\\t\\t<a href=\"http://www.youtube.com/user/BiblioGlobusStore/\" target=\"_blank\" class=\"social_you\"> \\n\\t\\tмы в YouTube</a>\\n\\t\\t<!--<a href=\"http://biblio-globus.rutube.ru/\" target=\"_blank\" style=\"\" class=\"social_ru\"> \\n\\t\\tмы в RuTube</a>-->\\n\\t\\t<!--<a href=\"http://bibli0-globus.livejournal.com/\" target=\"_blank\" style=\"\" class=\"social_lj_2\"> \\n\\t\\tблог философского клуба</a>-->\\n<!--\\n\\t\\t<a style=\"display:block; height:20px; margin:15px 0 0 0;\" target=\"_blank\" href=\"http://www.tripadvisor.ru/Attraction_Review-g298484-d2342155-Reviews-Biblio_Globus-Moscow_Central_Russia.html\">\\n\\t\\t<img style=\"vertical-align:middle; margin:0 10px 0 0;\" src=\"http://www.biblio-globus.ru/images/tripadvisor.jpg\" alt=\"Библио Глобус\" border=\"0\">мы на TripAdvisor\\n\\t\\t</a> -->\\n\\n\\n\\t\\t</div>\\t\\n\\t\\t\\n\\t\\t\\n\\t\\t<br><br><a href=\"http://www.biblio-globus.ru/content.aspx?page_id=328\" style=\"width:170px; text-align:left; height:24px;  margin-top:30px;\"><img src=\"http://www.biblio-globus.ru/images/nashi_nagr.jpg\" alt=\"\" border=\"0\"></a>\\n\\t\\t\\n\\t\\t\\n\\t\\t<div style=\"width:170px; padding:0; margin:15px 0 20px 0px; font-family:Tahoma; font-size:11px; text-align:left;\">\\n\\t\\t  <img style=\"border:2px solid #ccc; margin-bottom:3px;\" src=\"http://www.biblio-globus.ru/images/1_16042010.jpg\" alt=\"\"><br>\\n\\t\\t  <b>Благодарность Президента РФ</b> за большой вклад в развитие \\n\\t\\t\\tотечественной книжной торговли и активную культурно-просветительскую \\n\\t\\t\\tдеятельность.\\n\\t\\t</div>\\t\\n\\t\\t\\n\\t\\t<div style=\"width:174px; padding:0; font-family:Tahoma; font-size:11px; text-align:left; height:316px; margin-left:0px; margin-right:0; margin-top:0; margin-bottom:20px\">\\n\\t\\t  <img style=\"border:2px solid #ccc; margin-bottom:3px;\" src=\"http://www.biblio-globus.ru/images/_today/Record28122011.jpg\" alt=\"\"><br>\\n          Внесен в Российскую <b>«Книгу рекордов и достижений»</b> в номинации \\n\\t\\t\\t«Самое большое количество издательской продукции, проданное в \\n\\t\\t\\tрозницу за один день»<br><br>\\n\\t\\t\\t<a href=\"http://www.biblio-globus.ru/content.aspx?page_id=328\">Посмотреть все награды &gt;&gt;</a>\\n        </div>\\n\\t\\t<!--<div style=\"width:170px; padding:0; margin:0 0 20px 0px; font-family:Tahoma; font-size:11px; text-align:left;\">\\n\\t\\t  <img style=\"border:2px solid #ccc; margin-bottom:3px;\" src=\"http://www.biblio-globus.ru/images/3_16042010.jpg\" alt=\"\" /><br>\\n          Обладатель титула <b>«Супербрэнд года»</b> в разделе \\n\\t\\t\\t«Специализированный магазин». \\n        </div>\\t \\n\\t\\t<div style=\"width:170px; padding:0; margin:0 0 20px 0px; font-family:Tahoma; font-size:11px; text-align:left;\">\\n\\t\\t  <img style=\"border:2px solid #ccc; margin-bottom:3px;\" src=\"http://www.biblio-globus.ru/images/05122011_diplom.jpg\" alt=\"\" /><br>\\n          Победитель конкурса <b>«Лучший книжный магазин города Москвы» </b>\\n        </div>--></td>\\n\\t\\t</tr></tbody></table><br>\\n\\t\\t\\t\\t</td>\\n\\t\\t\\t</tr></tbody></table>\\n    \\n    <!--\\n\\n \\t<a class=\"left_nav highlight nav_1\" href=\"http://www.guildbook.ru/\">Гильдия книжников</a>\\n\\t<a class=\"left_nav highlight\" href=\"http://www.idbg.ru/\">Издательский дом «Библио-Глобус»</a>\\n\\t<a class=\"left_nav highlight\" href=\"http://www.biblio-globus.ru/content.aspx?page_id=29\">Библиотекам</a>\\n\\t<a class=\"left_nav highlight\" href=\"http://www.biblio-globus.ru/content.aspx?page_id=205\">Информационные киоски</a>\\n\\t<a class=\"left_nav highlight nav_2\" href=\"http://www.biblio-globus.ru/content.aspx?page_id=85\">Антиквариат и коллекционирование</a>\\n\\t<a class=\"left_nav highlight\" href=\"http://www.biblio-globus.ru/content.aspx?page_id=31\">VIP-обслуживание</a>\\n\\t<a class=\"left_nav highlight\" href=\"http://www.biblio-globus.ru/content.aspx?page_id=306\">Услуги</a>\\n    <a class=\"left_nav highlight nav_3\" href=\"http://www.biblio-globus.ru/search/presents/catalog/1/1\">Выбираем подарок</a>\\n\\n\\t<a class=\"left_nav highlight\" href=\"http://www.biblio-globus.ru/career/\">Вакансии</a>\\n    <div class=\"left_nav_divider\"></div>\\n\\n \\t<a class=\"left_nav nav_4\" href=\"http://www.biblio-globus.ru/content.aspx?page_id=121\">Акции</a>\\n\\t<a class=\"left_nav nav_5\" href=\"http://www.biblio-globus.ru/content.aspx?page_id=56\">График мероприятий</a>\\n\\t<a class=\"left_nav nav_6\" href=\"http://www.biblio-globus.ru/content.aspx?page_id=214\">Клубы</a>\\n\\n    <a class=\"left_nav\" href=\"http://www.biblio-globus.ru/content.aspx?page_id=420\">Дипломатический клуб</a>\\n    <a class=\"left_nav\" href=\"http://www.biblio-globus.ru/content.aspx?page_id=421\">Клуб «Друзей Швейцарии»</a>\\n\\n\\t<a class=\"left_nav\" href=\"http://www.biblio-globus.ru/content.aspx?page_id=133\">Творческая мастерская</a>\\n\\t<a class=\"left_nav nav_7\" href=\"http://www.biblio-globus.ru/content.aspx?page_id=182\">Наши гости</a>\\n\\t<a class=\"left_nav\" href=\"http://www.biblio-globus.ru/news.aspx\">Новости Библио-Глобуса</a>\\n\\t<a class=\"left_nav\" href=\"http://www.biblio-globus.ru/inter_analytics.aspx\">Новости книжного рынка. <br />Новости культуры</a>\\n\\t<a class=\"left_nav nav_8\" href=\"http://www.biblio-globus.ru/content.aspx?page_id=331\">Только в Библио-Глобусе</a>\\n\\t<a class=\"left_nav\" href=\"http://www.biblio-globus.ru/content.aspx?page_id=147\">Литературное обозрение</a>\\n    <a class=\"left_nav nav_9\" href=\"http://www.biblio-globus.ru/content.aspx?page_id=220\">Пресс-служба</a>\\n\\t<a class=\"left_nav\" href=\"http://www.biblio-globus.ru/forum/\">Наш форум</a>\\n\\n    <div class=\"left_nav_divider\"></div>\\n\\n \\t<a class=\"left_nav nav_10\" href=\"http://www.biblio-globus.ru/content.aspx?page_id=89\">Лидеры продаж</a>\\n\\t<a class=\"left_nav\" href=\"http://www.biblio-globus.ru/media_news.aspx?type=exp&header=%D1%EA%EE%F0%EE%20%E2%20%EF%F0%EE%E4%E0%E6%E5\">Скоро в продаже</a>\\n\\n    <div class=\"left_nav_divider\"></div>\\n\\n \\t<a class=\"left_nav nav_11\" href=\"http://www.biblio-globus.ru/content.aspx?page_id=50\">Дисконтная карта</a>\\n\\t<a class=\"left_nav\" href=\"http://www.biblio-globus.ru/content.aspx?page_id=104\">Подарочная карта</a>\\n\\t<a class=\"left_nav nav_12\" href=\"http://www.biblio-globus.ru/profile\">Личный кабинет</a>\\n\\n    <div class=\"left_nav_divider\"></div>\\n\\n \\t<a class=\"left_nav nav_13\" href=\"http://www.biblio-globus.ru/content.aspx?page_id=275\">Благотворительность</a>\\n\\t<a class=\"left_nav nav_14\" href=\"http://www.biblio-globus.ru/content.aspx?page_id=118\">Наши информационные партнеры</a>\\n\\t<a class=\"left_nav\" href=\"http://www.biblio-globus.ru/comments.aspx\">Ваше мнение</a>\\n\\t<a class=\"left_nav\" href=\"http://www.biblio-globus.ru/content.aspx?page_id=160\">Продаются стеллажи</a>\\n\\n    <div class=\"left_nav_divider\"></div>\\n\\n    <div align=\"left\" style=\"width:170px; margin-left:30px; margin-top:40px;\">\\n\\t    <div style=\"width:170px; padding:0; font-family:Tahoma; font-size:11px; text-align:left; height:24px; margin-left:0px; margin-right:0; margin-top:0; margin-bottom:20px\">\\n            <img alt=\"\" src=\"http://www.biblio-globus.ru/images/social/social_title.jpg\">\\n        </div>\\n\\t\\t<img style=\"vertical-align:middle; margin:0 10px 0 0;\" src=\"http://www.biblio-globus.ru/images/_today/vk_bgbg.jpg\" alt=\"Библио Глобус\" border=\"0\" /><a href=\"http://vk.com/biblioglobus_msk\" target=\"_blank\" class=\"social_vkontakte\"> \\n\\t\\tмы в Вконтакте</a>\\t\\n\\t\\t<a href=\"http://www.facebook.com/biblio.globus/\" target=\"_blank\" class=\"social_facebook\"> \\n\\t\\tмы в Facebook</a>\\t\\t\\n\\t\\t<a href=\"http://twitter.com/Biblio_Globus/\" target=\"_blank\" class=\"social_twitter\"> \\n\\t\\tмы в Twitter</a>\\n\\t\\t<a href=\"http://biblio-globus.livejournal.com/\" target=\"_blank\" class=\"social_lj\"> \\n\\t\\tмы в ЖЖ</a>\\n\\t\\t<a href=\"http://www.youtube.com/user/BiblioGlobusStore/\" target=\"_blank\" class=\"social_you\"> \\n\\t\\tмы в YouTube</a>\\n\\t\\t<a href=\"http://biblio-globus.rutube.ru/\" target=\"_blank\" style=\"\" class=\"social_ru\"> \\n\\t\\tмы в RuTube</a>\\n\\n\\t\\t<a style=\"display:block; height:20px; margin:15px 0 0 0;\" target=\"_blank\" href=\"http://www.tripadvisor.ru/Attraction_Review-g298484-d2342155-Reviews-Biblio_Globus-Moscow_Central_Russia.html\">\\n\\t\\t<img style=\"vertical-align:middle; margin:0 10px 0 0;\" src=\"http://www.biblio-globus.ru/images/tripadvisor.jpg\" alt=\"Библио Глобус\" border=\"0\" />мы \\n\\t\\tна TripAdvisor\\n\\t\\t</a>\\n\\t</div>\\t\\n\\n\\t<div style=\"margin:10px 0 20px 20px;\">\\n\\t\\t<div style=\"width:170px; padding:0; font-family:Tahoma; font-size:11px; text-align:left; height:24px; margin-left:0px; margin-right:0; margin-top:60px; margin-bottom:0px\">\\n\\t\\t\\t<img src=\"http://www.biblio-globus.ru/images/nashi_nagr.jpg\" alt=\"\" />\\n\\t\\t</div>\\n\\t\\t<div style=\"width:170px; padding:0; margin:15px 0 20px 0px; font-family:Tahoma; font-size:11px; text-align:left;\">\\n\\t\\t\\t  <img style=\"border:2px solid #ccc; margin-bottom:3px;\" src=\"http://www.biblio-globus.ru/images/1_16042010.jpg\" alt=\"\" /><br>\\n\\t\\t\\t  <b>Благодарность Президента РФ</b> за большой вклад в развитие \\n\\t\\t\\t\\tотечественной книжной торговли и активную культурно-просветительскую \\n\\t\\t\\t\\tдеятельность.\\n\\t\\t</div>\\t\\t\\n\\t\\t<div style=\"width:170px; padding:0; margin:0 0 20px 0px; font-family:Tahoma; font-size:11px; text-align:left;\">\\n\\t\\t\\t  <img style=\"border:2px solid #ccc; margin-bottom:3px;\" src=\"http://www.biblio-globus.ru/images/28122011_rec.jpg\" alt=\"\" /><br>\\n\\t\\t\\t  Внесен в Российскую <b>«Книгу рекордов и достижений»</b> в номинации \\n\\t\\t\\t\\t«Самое большое количество издательской продукции, проданное в \\n\\t\\t\\t\\tрозницу за один день»\\n\\t\\t</div>\\t\\t\\t\\t\\n\\t\\t<div style=\"width:170px; padding:0; margin:0 0 20px 0px; font-family:Tahoma; font-size:11px; text-align:left;\">\\n\\t\\t\\t  <img style=\"border:2px solid #ccc; margin-bottom:3px;\" src=\"http://www.biblio-globus.ru/images/3_16042010.jpg\" alt=\"\" /><br>\\n\\t\\t\\t  Обладатель титула <b>«Супербрэнд года»</b> в разделе \\n\\t\\t\\t\\t«Специализированный магазин».\\n\\t\\t</div>\\t    \\n\\t\\t<div style=\"width:170px; padding:0; margin:0 0 20px 0px; font-family:Tahoma; font-size:11px; text-align:left;\">\\n\\t\\t\\t  <img style=\"border:2px solid #ccc; margin-bottom:3px;\" src=\"http://www.biblio-globus.ru/images/05122011_diplom.jpg\" alt=\"\" /><br>\\n\\t\\t\\t  Победитель конкурса <b>«Лучший книжный магазин города Москвы» </b>\\n\\t\\t</div>\\t\\n\\t</div>\\n-->\\n\\n    <div class=\"decor2_wrapper\">\\n        <div class=\"decor2\"></div>\\n    </div>\\n\\n    </td>\\n    <td class=\"column_right\" valign=\"top\">\\n        <div class=\"content\">\\n            \\n\\n<div id=\"main_wrapper\">\\n    <!-- Поиск по сайту -->\\n<div class=\"header_1\">Поиск в книжном магазине «Библио-Глобус»</div>\\n\\n<form action=\"/search/Catalog/Products\" name=\"\" method=\"post\">\\n    <table cellpadding=\"0\" cellspacing=\"0\" width=\"100%\">\\n        <tbody><tr>\\n            <td><input type=\"text\" name=\"query\" id=\"search_field\" value=\"Python\"></td>\\n            <td align=\"right\" width=\"63\"><input type=\"submit\" id=\"search_button\" value=\"\"></td>\\n        </tr>\\n    </tbody></table>\\n</form>\\n\\n    <div class=\"header_1_2\">Результаты поиска</div>\\n    <div class=\"info\">Вы искали: «<b>Python</b>»<br> \\n    Найдено наименований: <b>99</b></div>\\n\\n    <table cellpadding=\"0\" cellspacing=\"0\" width=\"100%\">\\n        \\n        <tbody><tr>\\n        <td width=\"100\" valign=\"top\">\\n        <div class=\"type\">Книга</div>\\n            <a href=\"/search/catalog/details/10632642\" class=\"preview_image\">\\n                \\n                    <div class=\"bestseller\">Лидер продаж</div>\\n                \\n\\n                <img src=\"http://static.biblio-globus.ru/images/ImageHandler.ashx?fileName=10632642.jpg&amp;width=80\" alt=\"\">\\n            </a>\\n        </td>\\n        <td valign=\"top\">\\n            <div class=\"details_1\">\\n                <div class=\"author\">М.Лутц</div>\\n                <a href=\"/search/catalog/details/10632642\" class=\"name\">Изучаем Python, том 2,</a>\\n                   \\n                \\n                    <div class=\"title_data green\">\\n                        В наличии\\n                    </div>\\n                \\n                    <div class=\"placement\"><b>Расположение в торговом зале:</b> <br>Уровень 1, зал № 07, секция 07, шкаф 72, полка 04</div>\\n                \\n                <div class=\"title_data price\">Цена: <span>2769,00</span> руб.</div>\\n\\t\\t\\n\\n            </div>\\n        </td>\\n        <td valign=\"top\" width=\"270\">\\n        \\n            <a class=\"place\" target=\"_blank\" href=\"http://www.biblio-globus.ru/content.aspx?page_id=103\">Посмотреть место в зале</a>\\n        \\n            <a class=\"im\" target=\"_blank\" href=\"https://www.bgshop.ru/catalog/getfulldescription?id=10632642\">Заказать в интернет-магазине</a>\\n        \\n        </td>\\n        </tr>\\n        <tr>\\n            <td colspan=\"3\">\\n                <div class=\"divider\"></div>\\n            </td>\\n        </tr>\\n        \\n        <tr>\\n        <td width=\"100\" valign=\"top\">\\n        <div class=\"type\">Офисные</div>\\n            <a href=\"/search/catalog/details/10621766\" class=\"preview_image\">\\n                \\n                    <div class=\"bestseller\">Лидер продаж</div>\\n                \\n\\n                <img src=\"http://static.biblio-globus.ru/images/ImageHandler.ashx?fileName=10621766.jpg&amp;width=80\" alt=\"\">\\n            </a>\\n        </td>\\n        <td valign=\"top\">\\n            <div class=\"details_1\">\\n                <div class=\"author\"></div>\\n                <a href=\"/search/catalog/details/10621766\" class=\"name\">Сумка-шоппер ErichKrause® 10L Python Print</a>\\n                   \\n                \\n                    <div class=\"title_data green\">\\n                        В наличии\\n                    </div>\\n                \\n                    <div class=\"placement\"><b>Расположение в торговом зале:</b> <br>Уровень 1, зал № 09, секция 01, шкаф 01, полка 01</div>\\n                \\n                <div class=\"title_data price\">Цена: <span>419,00</span> руб.</div>\\n\\t\\t\\n\\n            </div>\\n        </td>\\n        <td valign=\"top\" width=\"270\">\\n        \\n            <a class=\"place\" target=\"_blank\" href=\"http://www.biblio-globus.ru/content.aspx?page_id=103\">Посмотреть место в зале</a>\\n        \\n            <a class=\"im\" target=\"_blank\" href=\"https://www.bgshop.ru/catalog/getfulldescription?id=10621766\">Заказать в интернет-магазине</a>\\n        \\n        </td>\\n        </tr>\\n        <tr>\\n            <td colspan=\"3\">\\n                <div class=\"divider\"></div>\\n            </td>\\n        </tr>\\n        \\n        <tr>\\n        <td width=\"100\" valign=\"top\">\\n        <div class=\"type\">Книга</div>\\n            <a href=\"/search/catalog/details/10597875\" class=\"preview_image\">\\n                \\n                    <div class=\"bestseller\">Лидер продаж</div>\\n                \\n\\n                <img src=\"http://static.biblio-globus.ru/images/ImageHandler.ashx?fileName=10597875.jpg&amp;width=80\" alt=\"\">\\n            </a>\\n        </td>\\n        <td valign=\"top\">\\n            <div class=\"details_1\">\\n                <div class=\"author\">М.  Лутц</div>\\n                <a href=\"/search/catalog/details/10597875\" class=\"name\">Изучаем Python, том 1</a>\\n                   \\n                \\n                    <div class=\"title_data green\">\\n                        В наличии\\n                    </div>\\n                \\n                    <div class=\"placement\"><b>Расположение в торговом зале:</b> <br>Уровень 1, зал № 07, секция 07, шкаф 72, полка 04</div>\\n                \\n                <div class=\"title_data price\">Цена: <span>2769,00</span> руб.</div>\\n\\t\\t\\n\\n            </div>\\n        </td>\\n        <td valign=\"top\" width=\"270\">\\n        \\n            <a class=\"place\" target=\"_blank\" href=\"http://www.biblio-globus.ru/content.aspx?page_id=103\">Посмотреть место в зале</a>\\n        \\n            <a class=\"im\" target=\"_blank\" href=\"https://www.bgshop.ru/catalog/getfulldescription?id=10597875\">Заказать в интернет-магазине</a>\\n        \\n        </td>\\n        </tr>\\n        <tr>\\n            <td colspan=\"3\">\\n                <div class=\"divider\"></div>\\n            </td>\\n        </tr>\\n        \\n        <tr>\\n        <td width=\"100\" valign=\"top\">\\n        <div class=\"type\">Книга</div>\\n            <a href=\"/search/catalog/details/10410028\" class=\"preview_image\">\\n                \\n                    <div class=\"bestseller\">Лидер продаж</div>\\n                \\n\\n                <img src=\"http://static.biblio-globus.ru/images/ImageHandler.ashx?fileName=10410028.jpg&amp;width=80\" alt=\"\">\\n            </a>\\n        </td>\\n        <td valign=\"top\">\\n            <div class=\"details_1\">\\n                <div class=\"author\">П. Бэрри</div>\\n                <a href=\"/search/catalog/details/10410028\" class=\"name\">Изучаем программирование на Python</a>\\n                   \\n                \\n                    <div class=\"title_data green\">\\n                        В наличии\\n                    </div>\\n                \\n                    <div class=\"placement\"><b>Расположение в торговом зале:</b> <br>Уровень 1, зал № 07, секция 07, шкаф 72, полка 08</div>\\n                \\n                <div class=\"title_data price\">Цена: <span>1359,00</span> руб.</div>\\n\\t\\t\\n\\n            </div>\\n        </td>\\n        <td valign=\"top\" width=\"270\">\\n        \\n            <a class=\"place\" target=\"_blank\" href=\"http://www.biblio-globus.ru/content.aspx?page_id=103\">Посмотреть место в зале</a>\\n        \\n            <a class=\"im\" target=\"_blank\" href=\"https://www.bgshop.ru/catalog/getfulldescription?id=10410028\">Заказать в интернет-магазине</a>\\n        \\n        </td>\\n        </tr>\\n        <tr>\\n            <td colspan=\"3\">\\n                <div class=\"divider\"></div>\\n            </td>\\n        </tr>\\n        \\n        <tr>\\n        <td width=\"100\" valign=\"top\">\\n        <div class=\"type\">Книга</div>\\n            <a href=\"/search/catalog/details/10508455\" class=\"preview_image\">\\n                \\n                    <div class=\"bestseller\">Лидер продаж</div>\\n                \\n\\n                <img src=\"http://static.biblio-globus.ru/images/ImageHandler.ashx?fileName=10508455.jpg&amp;width=80\" alt=\"\">\\n            </a>\\n        </td>\\n        <td valign=\"top\">\\n            <div class=\"details_1\">\\n                <div class=\"author\">Б. Любанович</div>\\n                <a href=\"/search/catalog/details/10508455\" class=\"name\">Простой Python. Современный стиль программирования</a>\\n                   \\n                \\n                    <div class=\"title_data green\">\\n                        В наличии\\n                    </div>\\n                \\n                    <div class=\"placement\"><b>Расположение в торговом зале:</b> <br>Уровень 1, зал № 07, секция 07, шкаф 72, полка 05</div>\\n                \\n                <div class=\"title_data price\">Цена: <span>1529,00</span> руб.</div>\\n\\t\\t\\n\\n            </div>\\n        </td>\\n        <td valign=\"top\" width=\"270\">\\n        \\n            <a class=\"place\" target=\"_blank\" href=\"http://www.biblio-globus.ru/content.aspx?page_id=103\">Посмотреть место в зале</a>\\n        \\n            <a class=\"im\" target=\"_blank\" href=\"https://www.bgshop.ru/catalog/getfulldescription?id=10508455\">Заказать в интернет-магазине</a>\\n        \\n        </td>\\n        </tr>\\n        <tr>\\n            <td colspan=\"3\">\\n                <div class=\"divider\"></div>\\n            </td>\\n        </tr>\\n        \\n        <tr>\\n        <td width=\"100\" valign=\"top\">\\n        <div class=\"type\">Книга</div>\\n            <a href=\"/search/catalog/details/10327064\" class=\"preview_image\">\\n                \\n                    <div class=\"bestseller\">Лидер продаж</div>\\n                \\n\\n                <img src=\"http://static.biblio-globus.ru/images/ImageHandler.ashx?fileName=10327064.jpg&amp;width=80\" alt=\"\">\\n            </a>\\n        </td>\\n        <td valign=\"top\">\\n            <div class=\"details_1\">\\n                <div class=\"author\">Р. Седжвик</div>\\n                <a href=\"/search/catalog/details/10327064\" class=\"name\">Программирование на языке Python</a>\\n                   \\n                \\n                    <div class=\"title_data green\">\\n                        В наличии\\n                    </div>\\n                \\n                    <div class=\"placement\"><b>Расположение в торговом зале:</b> <br>Уровень 1, зал № 07, секция 07, шкаф 72, полка 07</div>\\n                \\n                <div class=\"title_data price\">Цена: <span>2219,00</span> руб.</div>\\n\\t\\t\\n\\n            </div>\\n        </td>\\n        <td valign=\"top\" width=\"270\">\\n        \\n            <a class=\"place\" target=\"_blank\" href=\"http://www.biblio-globus.ru/content.aspx?page_id=103\">Посмотреть место в зале</a>\\n        \\n            <a class=\"im\" target=\"_blank\" href=\"https://www.bgshop.ru/catalog/getfulldescription?id=10327064\">Заказать в интернет-магазине</a>\\n        \\n        </td>\\n        </tr>\\n        <tr>\\n            <td colspan=\"3\">\\n                <div class=\"divider\"></div>\\n            </td>\\n        </tr>\\n        \\n        <tr>\\n        <td width=\"100\" valign=\"top\">\\n        <div class=\"type\">Книга</div>\\n            <a href=\"/search/catalog/details/10375126\" class=\"preview_image\">\\n                \\n                    <div class=\"bestseller\">Лидер продаж</div>\\n                \\n\\n                <img src=\"http://static.biblio-globus.ru/images/ImageHandler.ashx?fileName=10375126.jpg&amp;width=80\" alt=\"\">\\n            </a>\\n        </td>\\n        <td valign=\"top\">\\n            <div class=\"details_1\">\\n                <div class=\"author\">Дж. Бриггс</div>\\n                <a href=\"/search/catalog/details/10375126\" class=\"name\">Python для детей : самоучитель по программированию</a>\\n                   \\n                \\n                    <div class=\"title_data green\">\\n                        В наличии\\n                    </div>\\n                \\n                    <div class=\"placement\"><b>Расположение в торговом зале:</b> <br>Уровень 1, зал № 07, секция 07, шкаф 72, полка 03</div>\\n                \\n                <div class=\"title_data price\">Цена: <span>1069,00</span> руб.</div>\\n\\t\\t\\n\\n            </div>\\n        </td>\\n        <td valign=\"top\" width=\"270\">\\n        \\n            <a class=\"place\" target=\"_blank\" href=\"http://www.biblio-globus.ru/content.aspx?page_id=103\">Посмотреть место в зале</a>\\n        \\n            <a class=\"im\" target=\"_blank\" href=\"https://www.bgshop.ru/catalog/getfulldescription?id=10375126\">Заказать в интернет-магазине</a>\\n        \\n        </td>\\n        </tr>\\n        <tr>\\n            <td colspan=\"3\">\\n                <div class=\"divider\"></div>\\n            </td>\\n        </tr>\\n        \\n        <tr>\\n        <td width=\"100\" valign=\"top\">\\n        <div class=\"type\">Книга</div>\\n            <a href=\"/search/catalog/details/10645085\" class=\"preview_image\">\\n                \\n                    <div class=\"bestseller\">Лидер продаж</div>\\n                \\n\\n                <img src=\"http://static.biblio-globus.ru/images/ImageHandler.ashx?fileName=10645085.jpg&amp;width=80\" alt=\"\">\\n            </a>\\n        </td>\\n        <td valign=\"top\">\\n            <div class=\"details_1\">\\n                <div class=\"author\">З. Шоу </div>\\n                <a href=\"/search/catalog/details/10645085\" class=\"name\">Легкий способ выучить Python 3 еще глубже</a>\\n                   \\n                \\n                    <div class=\"title_data green\">\\n                        В наличии\\n                    </div>\\n                \\n                    <div class=\"placement\"><b>Расположение в торговом зале:</b> <br>Уровень 1, зал № 07, секция 07, шкаф 72, полка 06</div>\\n                \\n                <div class=\"title_data price\">Цена: <span>739,00</span> руб.</div>\\n\\t\\t\\n\\n            </div>\\n        </td>\\n        <td valign=\"top\" width=\"270\">\\n        \\n            <a class=\"place\" target=\"_blank\" href=\"http://www.biblio-globus.ru/content.aspx?page_id=103\">Посмотреть место в зале</a>\\n        \\n            <a class=\"im\" target=\"_blank\" href=\"https://www.bgshop.ru/catalog/getfulldescription?id=10645085\">Заказать в интернет-магазине</a>\\n        \\n        </td>\\n        </tr>\\n        <tr>\\n            <td colspan=\"3\">\\n                <div class=\"divider\"></div>\\n            </td>\\n        </tr>\\n        \\n        <tr>\\n        <td width=\"100\" valign=\"top\">\\n        <div class=\"type\">Книга</div>\\n            <a href=\"/search/catalog/details/10569978\" class=\"preview_image\">\\n                \\n                    <div class=\"bestseller\">Лидер продаж</div>\\n                \\n\\n                <img src=\"http://static.biblio-globus.ru/images/ImageHandler.ashx?fileName=10569978.jpg&amp;width=80\" alt=\"\">\\n            </a>\\n        </td>\\n        <td valign=\"top\">\\n            <div class=\"details_1\">\\n                <div class=\"author\">С. Паттанаяк</div>\\n                <a href=\"/search/catalog/details/10569978\" class=\"name\">Глубокое обучение и TensorFlow для профессионалов. Математический подход к построению систем искусственного интеллекта на Python</a>\\n                   \\n                \\n                    <div class=\"title_data green\">\\n                        В наличии\\n                    </div>\\n                \\n                    <div class=\"placement\"><b>Расположение в торговом зале:</b> <br>Уровень 1, зал № 07, секция 07, шкаф 72, полка 05</div>\\n                \\n                <div class=\"title_data price\">Цена: <span>1659,00</span> руб.</div>\\n\\t\\t\\n\\n            </div>\\n        </td>\\n        <td valign=\"top\" width=\"270\">\\n        \\n            <a class=\"place\" target=\"_blank\" href=\"http://www.biblio-globus.ru/content.aspx?page_id=103\">Посмотреть место в зале</a>\\n        \\n            <a class=\"im\" target=\"_blank\" href=\"https://www.bgshop.ru/catalog/getfulldescription?id=10569978\">Заказать в интернет-магазине</a>\\n        \\n        </td>\\n        </tr>\\n        <tr>\\n            <td colspan=\"3\">\\n                <div class=\"divider\"></div>\\n            </td>\\n        </tr>\\n        \\n        <tr>\\n        <td width=\"100\" valign=\"top\">\\n        <div class=\"type\">Книга</div>\\n            <a href=\"/search/catalog/details/10487932\" class=\"preview_image\">\\n                \\n                    <div class=\"bestseller\">Лидер продаж</div>\\n                \\n\\n                <img src=\"http://static.biblio-globus.ru/images/ImageHandler.ashx?fileName=10487932.jpg&amp;width=80\" alt=\"\">\\n            </a>\\n        </td>\\n        <td valign=\"top\">\\n            <div class=\"details_1\">\\n                <div class=\"author\">Дж. В. Плас</div>\\n                <a href=\"/search/catalog/details/10487932\" class=\"name\">Python для сложных задач: наука о данных и машинное обучение</a>\\n                   \\n                \\n                    <div class=\"title_data green\">\\n                        В наличии\\n                    </div>\\n                \\n                    <div class=\"placement\"><b>Расположение в торговом зале:</b> <br>Уровень 1, зал № 07, секция 07, шкаф 72, полка 06</div>\\n                \\n                <div class=\"title_data price\">Цена: <span>1749,00</span> руб.</div>\\n\\t\\t\\n\\n            </div>\\n        </td>\\n        <td valign=\"top\" width=\"270\">\\n        \\n            <a class=\"place\" target=\"_blank\" href=\"http://www.biblio-globus.ru/content.aspx?page_id=103\">Посмотреть место в зале</a>\\n        \\n            <a class=\"im\" target=\"_blank\" href=\"https://www.bgshop.ru/catalog/getfulldescription?id=10487932\">Заказать в интернет-магазине</a>\\n        \\n        </td>\\n        </tr>\\n        <tr>\\n            <td colspan=\"3\">\\n                <div class=\"divider\"></div>\\n            </td>\\n        </tr>\\n        \\n        </tbody></table>\\n        <ul class=\"pagination\"><div class=\"current_page\">1<span class=\"left_corner\"></span></div><a class=\"page\" href=\"products?query=Python&amp;page=2\">2<span class=\"left_corner\"></span></a><a class=\"page\" href=\"products?query=Python&amp;page=3\">3<span class=\"left_corner\"></span></a><a class=\"next_page\" href=\"products?query=Python&amp;page=2\">Следующая</a><a class=\"next_page\" href=\"products?query=Python&amp;page=10\">Последняя</a> </ul>\\n        \\n    </div>\\n\\n            <div class=\"clearer\"></div>\\n        </div>\\n    </td>\\n</tr>\\n<tr>\\n    <!-- footer -->\\n    \\n    <td colspan=\"2\">\\n        <table class=\"footer\">\\n            <tbody><tr>\\n                <td width=\"217\" valign=\"top\">\\n&nbsp;\\n                </td>\\n                <td valign=\"top\">\\n                    <div class=\"footer_part_1\">\\n                        2020 OOO Торговый Дом «БИБЛИО-ГЛОБУС»\\n                        <br><br>\\n                        телефон: (495) 781-1900<br>\\n                        e-mail: <a href=\"mailto:web.logist@bgshop.ru\">mail@biblio-globus.ru</a>\\n                        <br><br>\\n                        Адрес: Мясницкая ул., д. 6/3, стр. 1.<br>\\n                        Проезд до станций метро: \"Лубянка\",<br>\\n                        \"Кузнецкий мост\", \"Китай-город\".\\n                        <br><br>\\n                        <!-- <a href=\"http://www.biblio-globus.ru/content.aspx?page_id=40\">карта проезда</a> -->\\n                        \\n                    </div>\\n                </td>\\n                <td valign=\"top\">\\n                    <div class=\"footer_part_2\">\\n                        Часы работы:\\n                        <br><br>\\n                        Будни: 9.00 - 22.00<br>\\n                        Суббота: 10.00 - 21.00<br>\\n                        Воскресенье: 10.00 - 21.00<br>\\n                        Без перерыва.\\n                        <br><br>\\n                        <a href=\"http://www.biblio-globus.ru/content.aspx?page_id=103\">карта магазина</a>\\n                    </div>\\n                </td>\\n                <td valign=\"top\">\\n                    <div class=\"footer_part_3\">\\n                        Справки о наличии книг:\\n                        <br><br>\\n                        7 (495) 781-19-00<br>\\n                        7 (495) 624-46-80<br>\\n                        <br><br>\\n                        Интернет-магазин:<br>\\n                        <a href=\"http://www.bgshop.ru/\" target=\"_blank\">www.bgshop.ru</a><br>\\n\\t\\t\\t\\t\\t\\t<!--\\n\\t\\t\\t\\t\\t\\tПрием заказов на курьерскую доставку и самовывоз<br />\\n\\t\\t\\t\\t\\t\\tС 10.00-19.00<br />\\n\\t\\t\\t\\t\\t\\tтелефон Call-центра интернет-магазина:<br />(495)&nbsp;781-19-12&nbsp;доб.&nbsp;(2307;&nbsp;2348)\\n\\t\\t\\t\\t\\t\\t-->\\n\\t\\t\\t\\t\\t\\t\\n                    </div>\\n                </td>\\n            </tr>\\n        </tbody></table>\\n    </td>\\n    <!-- footer -->\\n</tr>\\n</tbody></table>\\n\\n\\n\\n<iframe src=\"https://c.sharethis.mgr.consensu.org/portal-v2.html\" id=\"st_gdpr_iframe\" title=\"GDPR Consent Management\" style=\"width: 0px; height: 0px; position: absolute; left: -5000px;\"></iframe></body></html>'"
      ]
     },
     "execution_count": 20,
     "metadata": {},
     "output_type": "execute_result"
    }
   ],
   "source": [
    "page1"
   ]
  },
  {
   "cell_type": "markdown",
   "metadata": {},
   "source": [
    "Теперь обработаем эту страницу через `BeautifulSoup`:"
   ]
  },
  {
   "cell_type": "code",
   "execution_count": 21,
   "metadata": {},
   "outputs": [],
   "source": [
    "from bs4 import BeautifulSoup"
   ]
  },
  {
   "cell_type": "code",
   "execution_count": 22,
   "metadata": {},
   "outputs": [],
   "source": [
    "soup1 = BeautifulSoup(page1, 'lxml')"
   ]
  },
  {
   "cell_type": "markdown",
   "metadata": {},
   "source": [
    "Найдем все названия книг на этой странице. По исходному коду можно увидеть, что они имеют тэг `a` с атрибутом `class`, равным `name`:"
   ]
  },
  {
   "cell_type": "code",
   "execution_count": 23,
   "metadata": {},
   "outputs": [
    {
     "data": {
      "text/plain": [
       "[<a class=\"name\" href=\"/search/catalog/details/10632642\">Изучаем Python, том 2,</a>,\n",
       " <a class=\"name\" href=\"/search/catalog/details/10621766\">Сумка-шоппер ErichKrause® 10L Python Print</a>,\n",
       " <a class=\"name\" href=\"/search/catalog/details/10597875\">Изучаем Python, том 1</a>,\n",
       " <a class=\"name\" href=\"/search/catalog/details/10410028\">Изучаем программирование на Python</a>,\n",
       " <a class=\"name\" href=\"/search/catalog/details/10508455\">Простой Python. Современный стиль программирования</a>,\n",
       " <a class=\"name\" href=\"/search/catalog/details/10327064\">Программирование на языке Python</a>,\n",
       " <a class=\"name\" href=\"/search/catalog/details/10375126\">Python для детей : самоучитель по программированию</a>,\n",
       " <a class=\"name\" href=\"/search/catalog/details/10645085\">Легкий способ выучить Python 3 еще глубже</a>,\n",
       " <a class=\"name\" href=\"/search/catalog/details/10569978\">Глубокое обучение и TensorFlow для профессионалов. Математический подход к построению систем искусственного интеллекта на Python</a>,\n",
       " <a class=\"name\" href=\"/search/catalog/details/10487932\">Python для сложных задач: наука о данных и машинное обучение</a>]"
      ]
     },
     "execution_count": 23,
     "metadata": {},
     "output_type": "execute_result"
    }
   ],
   "source": [
    "soup1.find_all('a', {'class':'name'})"
   ]
  },
  {
   "cell_type": "markdown",
   "metadata": {},
   "source": [
    "С помощью списковых включений выберем из ссылок с тэгом `<a>` текст (так мы уже делали, и не раз)."
   ]
  },
  {
   "cell_type": "code",
   "execution_count": 24,
   "metadata": {},
   "outputs": [],
   "source": [
    "books1 = [b.text for b in soup1.find_all('a', {'class':'name'})]"
   ]
  },
  {
   "cell_type": "code",
   "execution_count": 25,
   "metadata": {},
   "outputs": [
    {
     "data": {
      "text/plain": [
       "['Изучаем Python, том 2,',\n",
       " 'Сумка-шоппер ErichKrause® 10L Python Print',\n",
       " 'Изучаем Python, том 1',\n",
       " 'Изучаем программирование на Python',\n",
       " 'Простой Python. Современный стиль программирования',\n",
       " 'Программирование на языке Python',\n",
       " 'Python для детей : самоучитель по программированию',\n",
       " 'Легкий способ выучить Python 3 еще глубже',\n",
       " 'Глубокое обучение и TensorFlow для профессионалов. Математический подход к построению систем искусственного интеллекта на Python',\n",
       " 'Python для сложных задач: наука о данных и машинное обучение']"
      ]
     },
     "execution_count": 25,
     "metadata": {},
     "output_type": "execute_result"
    }
   ],
   "source": [
    "books1"
   ]
  },
  {
   "cell_type": "markdown",
   "metadata": {},
   "source": [
    "Теперь аналогичным образом сгрузим информацию об авторах:"
   ]
  },
  {
   "cell_type": "code",
   "execution_count": 26,
   "metadata": {},
   "outputs": [],
   "source": [
    "authors1 = [a.text for a in soup1.find_all('div', {'class': 'author'})]"
   ]
  },
  {
   "cell_type": "markdown",
   "metadata": {},
   "source": [
    "Сгрузим расположение:"
   ]
  },
  {
   "cell_type": "code",
   "execution_count": 27,
   "metadata": {},
   "outputs": [],
   "source": [
    "place1 = [p.text for p in soup1.find_all('div', {'class':'placement'})]"
   ]
  },
  {
   "cell_type": "code",
   "execution_count": 28,
   "metadata": {},
   "outputs": [
    {
     "data": {
      "text/plain": [
       "['Расположение в торговом зале: Уровень 1, зал № 07, секция 07, шкаф 72, полка 04',\n",
       " 'Расположение в торговом зале: Уровень 1, зал № 09, секция 01, шкаф 01, полка 01',\n",
       " 'Расположение в торговом зале: Уровень 1, зал № 07, секция 07, шкаф 72, полка 04',\n",
       " 'Расположение в торговом зале: Уровень 1, зал № 07, секция 07, шкаф 72, полка 08',\n",
       " 'Расположение в торговом зале: Уровень 1, зал № 07, секция 07, шкаф 72, полка 05',\n",
       " 'Расположение в торговом зале: Уровень 1, зал № 07, секция 07, шкаф 72, полка 07',\n",
       " 'Расположение в торговом зале: Уровень 1, зал № 07, секция 07, шкаф 72, полка 03',\n",
       " 'Расположение в торговом зале: Уровень 1, зал № 07, секция 07, шкаф 72, полка 06',\n",
       " 'Расположение в торговом зале: Уровень 1, зал № 07, секция 07, шкаф 72, полка 05',\n",
       " 'Расположение в торговом зале: Уровень 1, зал № 07, секция 07, шкаф 72, полка 06']"
      ]
     },
     "execution_count": 28,
     "metadata": {},
     "output_type": "execute_result"
    }
   ],
   "source": [
    "place1"
   ]
  },
  {
   "cell_type": "markdown",
   "metadata": {},
   "source": [
    "И, конечно, цену:"
   ]
  },
  {
   "cell_type": "code",
   "execution_count": 29,
   "metadata": {},
   "outputs": [],
   "source": [
    "price1 = [p.text for p in soup1.find_all('div', \n",
    "                                         {'class':'title_data price'})]"
   ]
  },
  {
   "cell_type": "code",
   "execution_count": 30,
   "metadata": {},
   "outputs": [
    {
     "data": {
      "text/plain": [
       "['Цена: 2769,00 руб.',\n",
       " 'Цена: 419,00 руб.',\n",
       " 'Цена: 2769,00 руб.',\n",
       " 'Цена: 1359,00 руб.',\n",
       " 'Цена: 1529,00 руб.',\n",
       " 'Цена: 2219,00 руб.',\n",
       " 'Цена: 1069,00 руб.',\n",
       " 'Цена: 739,00 руб.',\n",
       " 'Цена: 1659,00 руб.',\n",
       " 'Цена: 1749,00 руб.']"
      ]
     },
     "execution_count": 30,
     "metadata": {},
     "output_type": "execute_result"
    }
   ],
   "source": [
    "price1"
   ]
  },
  {
   "cell_type": "markdown",
   "metadata": {},
   "source": [
    "Осталось пройтись по всем страницам, которые были выданы в результате поиска. Для примера перейдем на страницу 2 и на этом остановимся."
   ]
  },
  {
   "cell_type": "code",
   "execution_count": 31,
   "metadata": {},
   "outputs": [],
   "source": [
    "next_p = br.find_element_by_css_selector('.next_page')"
   ]
  },
  {
   "cell_type": "code",
   "execution_count": 32,
   "metadata": {},
   "outputs": [],
   "source": [
    "next_p.click()"
   ]
  },
  {
   "cell_type": "markdown",
   "metadata": {},
   "source": [
    "Проделаем то же самое, что и с первой страницей. По-хорошему нужно написать функцию, которая будет искать на странице названия книг, их расположение и цену. Но оставим это в качестве задания читателю :)"
   ]
  },
  {
   "cell_type": "code",
   "execution_count": 33,
   "metadata": {},
   "outputs": [],
   "source": [
    "page2 = br.page_source\n",
    "soup2 = BeautifulSoup(page2, 'lxml')\n",
    "books2 = [b.text for b in soup2.find_all('a', {'class':'name'})]\n",
    "author2 = [a.text for a in soup2.find_all('div', {'class': 'author'})]\n",
    "place2 = [p.text for p in soup2.find_all('div', {'class':'placement'})]\n",
    "price2 = [p.text for p in soup2.find_all('div', {'class':'title_data price'})]"
   ]
  },
  {
   "cell_type": "markdown",
   "metadata": {},
   "source": [
    "Расширим списки результатов с первой страницы данными, полученными со второй страницы, используя метод `.extend()`."
   ]
  },
  {
   "cell_type": "code",
   "execution_count": 34,
   "metadata": {},
   "outputs": [],
   "source": [
    "books1.extend(books2)\n",
    "authors1.extend(books2)\n",
    "place1.extend(place2)\n",
    "price1.extend(price2)"
   ]
  },
  {
   "cell_type": "markdown",
   "metadata": {},
   "source": [
    "Осталось импортировать библиотеку `pandas` и создать датафрейм."
   ]
  },
  {
   "cell_type": "code",
   "execution_count": 35,
   "metadata": {},
   "outputs": [],
   "source": [
    "import pandas as pd"
   ]
  },
  {
   "cell_type": "markdown",
   "metadata": {},
   "source": [
    "Для разнообразия создадим датафрейм не из списка списков, а из словаря. Ключами словаря будут названия столбцов в таблице, а значениями – списки с сохраненной информацией (названия книг, цены и проч.)."
   ]
  },
  {
   "cell_type": "code",
   "execution_count": 36,
   "metadata": {},
   "outputs": [],
   "source": [
    "df = pd.DataFrame({'book': books1, 'author': authors1,\n",
    "                   'placement': place1, 'price': price1})"
   ]
  },
  {
   "cell_type": "code",
   "execution_count": 37,
   "metadata": {},
   "outputs": [
    {
     "data": {
      "text/html": [
       "<div>\n",
       "<style scoped>\n",
       "    .dataframe tbody tr th:only-of-type {\n",
       "        vertical-align: middle;\n",
       "    }\n",
       "\n",
       "    .dataframe tbody tr th {\n",
       "        vertical-align: top;\n",
       "    }\n",
       "\n",
       "    .dataframe thead th {\n",
       "        text-align: right;\n",
       "    }\n",
       "</style>\n",
       "<table border=\"1\" class=\"dataframe\">\n",
       "  <thead>\n",
       "    <tr style=\"text-align: right;\">\n",
       "      <th></th>\n",
       "      <th>book</th>\n",
       "      <th>author</th>\n",
       "      <th>placement</th>\n",
       "      <th>price</th>\n",
       "    </tr>\n",
       "  </thead>\n",
       "  <tbody>\n",
       "    <tr>\n",
       "      <th>0</th>\n",
       "      <td>Изучаем Python, том 2,</td>\n",
       "      <td>М.Лутц</td>\n",
       "      <td>Расположение в торговом зале: Уровень 1, зал №...</td>\n",
       "      <td>Цена: 2769,00 руб.</td>\n",
       "    </tr>\n",
       "    <tr>\n",
       "      <th>1</th>\n",
       "      <td>Сумка-шоппер ErichKrause® 10L Python Print</td>\n",
       "      <td></td>\n",
       "      <td>Расположение в торговом зале: Уровень 1, зал №...</td>\n",
       "      <td>Цена: 419,00 руб.</td>\n",
       "    </tr>\n",
       "    <tr>\n",
       "      <th>2</th>\n",
       "      <td>Изучаем Python, том 1</td>\n",
       "      <td>М.  Лутц</td>\n",
       "      <td>Расположение в торговом зале: Уровень 1, зал №...</td>\n",
       "      <td>Цена: 2769,00 руб.</td>\n",
       "    </tr>\n",
       "    <tr>\n",
       "      <th>3</th>\n",
       "      <td>Изучаем программирование на Python</td>\n",
       "      <td>П. Бэрри</td>\n",
       "      <td>Расположение в торговом зале: Уровень 1, зал №...</td>\n",
       "      <td>Цена: 1359,00 руб.</td>\n",
       "    </tr>\n",
       "    <tr>\n",
       "      <th>4</th>\n",
       "      <td>Простой Python. Современный стиль программиров...</td>\n",
       "      <td>Б. Любанович</td>\n",
       "      <td>Расположение в торговом зале: Уровень 1, зал №...</td>\n",
       "      <td>Цена: 1529,00 руб.</td>\n",
       "    </tr>\n",
       "  </tbody>\n",
       "</table>\n",
       "</div>"
      ],
      "text/plain": [
       "                                                book        author  \\\n",
       "0                             Изучаем Python, том 2,        М.Лутц   \n",
       "1         Сумка-шоппер ErichKrause® 10L Python Print                 \n",
       "2                              Изучаем Python, том 1      М.  Лутц   \n",
       "3                 Изучаем программирование на Python      П. Бэрри   \n",
       "4  Простой Python. Современный стиль программиров...  Б. Любанович   \n",
       "\n",
       "                                           placement               price  \n",
       "0  Расположение в торговом зале: Уровень 1, зал №...  Цена: 2769,00 руб.  \n",
       "1  Расположение в торговом зале: Уровень 1, зал №...   Цена: 419,00 руб.  \n",
       "2  Расположение в торговом зале: Уровень 1, зал №...  Цена: 2769,00 руб.  \n",
       "3  Расположение в торговом зале: Уровень 1, зал №...  Цена: 1359,00 руб.  \n",
       "4  Расположение в торговом зале: Уровень 1, зал №...  Цена: 1529,00 руб.  "
      ]
     },
     "execution_count": 37,
     "metadata": {},
     "output_type": "execute_result"
    }
   ],
   "source": [
    "df.head()"
   ]
  },
  {
   "cell_type": "markdown",
   "metadata": {},
   "source": [
    "Давайте приведем столбец с ценой к числовому типу. Уберем слова *Цена* и *руб*, а потом сконвертируем строки в числа с плавающей точкой. Напишем функцию `get_price()`,"
   ]
  },
  {
   "cell_type": "code",
   "execution_count": 38,
   "metadata": {},
   "outputs": [],
   "source": [
    "def get_price(price):\n",
    "    book_price = price.split(' ')[1]  # разобьем строку по пробелу и возьмем второй элемент\n",
    "    book_price = book_price.replace(',', '.')  # заменим запятую на точку\n",
    "    price_num = float(book_price)  # сконвертируем в float\n",
    "    return price_num"
   ]
  },
  {
   "cell_type": "code",
   "execution_count": 39,
   "metadata": {},
   "outputs": [
    {
     "data": {
      "text/plain": [
       "2769.0"
      ]
     },
     "execution_count": 39,
     "metadata": {},
     "output_type": "execute_result"
    }
   ],
   "source": [
    "# проверка\n",
    "get_price(df.price[0])"
   ]
  },
  {
   "cell_type": "markdown",
   "metadata": {},
   "source": [
    "Всё отлично работает! Применим функцию к столбцу *price* и создадим новый столбец *nprice*."
   ]
  },
  {
   "cell_type": "code",
   "execution_count": 40,
   "metadata": {},
   "outputs": [],
   "source": [
    "df['nprice'] = df.price.apply(get_price)"
   ]
  },
  {
   "cell_type": "code",
   "execution_count": 41,
   "metadata": {},
   "outputs": [
    {
     "data": {
      "text/html": [
       "<div>\n",
       "<style scoped>\n",
       "    .dataframe tbody tr th:only-of-type {\n",
       "        vertical-align: middle;\n",
       "    }\n",
       "\n",
       "    .dataframe tbody tr th {\n",
       "        vertical-align: top;\n",
       "    }\n",
       "\n",
       "    .dataframe thead th {\n",
       "        text-align: right;\n",
       "    }\n",
       "</style>\n",
       "<table border=\"1\" class=\"dataframe\">\n",
       "  <thead>\n",
       "    <tr style=\"text-align: right;\">\n",
       "      <th></th>\n",
       "      <th>book</th>\n",
       "      <th>author</th>\n",
       "      <th>placement</th>\n",
       "      <th>price</th>\n",
       "      <th>nprice</th>\n",
       "    </tr>\n",
       "  </thead>\n",
       "  <tbody>\n",
       "    <tr>\n",
       "      <th>0</th>\n",
       "      <td>Изучаем Python, том 2,</td>\n",
       "      <td>М.Лутц</td>\n",
       "      <td>Расположение в торговом зале: Уровень 1, зал №...</td>\n",
       "      <td>Цена: 2769,00 руб.</td>\n",
       "      <td>2769.0</td>\n",
       "    </tr>\n",
       "    <tr>\n",
       "      <th>1</th>\n",
       "      <td>Сумка-шоппер ErichKrause® 10L Python Print</td>\n",
       "      <td></td>\n",
       "      <td>Расположение в торговом зале: Уровень 1, зал №...</td>\n",
       "      <td>Цена: 419,00 руб.</td>\n",
       "      <td>419.0</td>\n",
       "    </tr>\n",
       "    <tr>\n",
       "      <th>2</th>\n",
       "      <td>Изучаем Python, том 1</td>\n",
       "      <td>М.  Лутц</td>\n",
       "      <td>Расположение в торговом зале: Уровень 1, зал №...</td>\n",
       "      <td>Цена: 2769,00 руб.</td>\n",
       "      <td>2769.0</td>\n",
       "    </tr>\n",
       "    <tr>\n",
       "      <th>3</th>\n",
       "      <td>Изучаем программирование на Python</td>\n",
       "      <td>П. Бэрри</td>\n",
       "      <td>Расположение в торговом зале: Уровень 1, зал №...</td>\n",
       "      <td>Цена: 1359,00 руб.</td>\n",
       "      <td>1359.0</td>\n",
       "    </tr>\n",
       "    <tr>\n",
       "      <th>4</th>\n",
       "      <td>Простой Python. Современный стиль программиров...</td>\n",
       "      <td>Б. Любанович</td>\n",
       "      <td>Расположение в торговом зале: Уровень 1, зал №...</td>\n",
       "      <td>Цена: 1529,00 руб.</td>\n",
       "      <td>1529.0</td>\n",
       "    </tr>\n",
       "  </tbody>\n",
       "</table>\n",
       "</div>"
      ],
      "text/plain": [
       "                                                book        author  \\\n",
       "0                             Изучаем Python, том 2,        М.Лутц   \n",
       "1         Сумка-шоппер ErichKrause® 10L Python Print                 \n",
       "2                              Изучаем Python, том 1      М.  Лутц   \n",
       "3                 Изучаем программирование на Python      П. Бэрри   \n",
       "4  Простой Python. Современный стиль программиров...  Б. Любанович   \n",
       "\n",
       "                                           placement               price  \\\n",
       "0  Расположение в торговом зале: Уровень 1, зал №...  Цена: 2769,00 руб.   \n",
       "1  Расположение в торговом зале: Уровень 1, зал №...   Цена: 419,00 руб.   \n",
       "2  Расположение в торговом зале: Уровень 1, зал №...  Цена: 2769,00 руб.   \n",
       "3  Расположение в торговом зале: Уровень 1, зал №...  Цена: 1359,00 руб.   \n",
       "4  Расположение в торговом зале: Уровень 1, зал №...  Цена: 1529,00 руб.   \n",
       "\n",
       "   nprice  \n",
       "0  2769.0  \n",
       "1   419.0  \n",
       "2  2769.0  \n",
       "3  1359.0  \n",
       "4  1529.0  "
      ]
     },
     "execution_count": 41,
     "metadata": {},
     "output_type": "execute_result"
    }
   ],
   "source": [
    "df.head()"
   ]
  },
  {
   "cell_type": "markdown",
   "metadata": {},
   "source": [
    "Теперь можем расположить книги по цене в порядке возрастания:"
   ]
  },
  {
   "cell_type": "code",
   "execution_count": 35,
   "metadata": {},
   "outputs": [
    {
     "data": {
      "text/html": [
       "<div>\n",
       "<style scoped>\n",
       "    .dataframe tbody tr th:only-of-type {\n",
       "        vertical-align: middle;\n",
       "    }\n",
       "\n",
       "    .dataframe tbody tr th {\n",
       "        vertical-align: top;\n",
       "    }\n",
       "\n",
       "    .dataframe thead th {\n",
       "        text-align: right;\n",
       "    }\n",
       "</style>\n",
       "<table border=\"1\" class=\"dataframe\">\n",
       "  <thead>\n",
       "    <tr style=\"text-align: right;\">\n",
       "      <th></th>\n",
       "      <th>book</th>\n",
       "      <th>author</th>\n",
       "      <th>placement</th>\n",
       "      <th>price</th>\n",
       "      <th>nprice</th>\n",
       "    </tr>\n",
       "  </thead>\n",
       "  <tbody>\n",
       "    <tr>\n",
       "      <th>7</th>\n",
       "      <td>Программирование на Python для начинающих</td>\n",
       "      <td>М. МакГрат</td>\n",
       "      <td>Расположение в торговом зале: Уровень 1, зал №...</td>\n",
       "      <td>Цена: 579,00 руб.</td>\n",
       "      <td>579.0</td>\n",
       "    </tr>\n",
       "    <tr>\n",
       "      <th>16</th>\n",
       "      <td>Легкий способ выучить Python</td>\n",
       "      <td>Легкий способ выучить Python</td>\n",
       "      <td>Расположение в торговом зале: Уровень 1, зал №...</td>\n",
       "      <td>Цена: 699,00 руб.</td>\n",
       "      <td>699.0</td>\n",
       "    </tr>\n",
       "    <tr>\n",
       "      <th>10</th>\n",
       "      <td>Легкий способ выучить Python 3</td>\n",
       "      <td>Легкий способ выучить Python 3</td>\n",
       "      <td>Расположение в торговом зале: Уровень 1, зал №...</td>\n",
       "      <td>Цена: 739,00 руб.</td>\n",
       "      <td>739.0</td>\n",
       "    </tr>\n",
       "    <tr>\n",
       "      <th>17</th>\n",
       "      <td>Язык программирования Python: практикум</td>\n",
       "      <td>Язык программирования Python: практикум</td>\n",
       "      <td>Расположение в торговом зале: Уровень 1, зал №...</td>\n",
       "      <td>Цена: 779,00 руб.</td>\n",
       "      <td>779.0</td>\n",
       "    </tr>\n",
       "    <tr>\n",
       "      <th>4</th>\n",
       "      <td>Основы программирования на языке Python</td>\n",
       "      <td>Д. М. Златопольский</td>\n",
       "      <td>Расположение в торговом зале: Уровень 1, зал №...</td>\n",
       "      <td>Цена: 839,00 руб.</td>\n",
       "      <td>839.0</td>\n",
       "    </tr>\n",
       "    <tr>\n",
       "      <th>1</th>\n",
       "      <td>Машинное обучение с использованием Python. Сбо...</td>\n",
       "      <td>К. Элбон</td>\n",
       "      <td>Расположение в торговом зале: Уровень 1, зал №...</td>\n",
       "      <td>Цена: 879,00 руб.</td>\n",
       "      <td>879.0</td>\n",
       "    </tr>\n",
       "    <tr>\n",
       "      <th>5</th>\n",
       "      <td>Python для детей : самоучитель по программиров...</td>\n",
       "      <td>Дж. Бриггс</td>\n",
       "      <td>Расположение в торговом зале: Уровень 1, зал №...</td>\n",
       "      <td>Цена: 1029,00 руб.</td>\n",
       "      <td>1029.0</td>\n",
       "    </tr>\n",
       "    <tr>\n",
       "      <th>19</th>\n",
       "      <td>Как устроен Python. Гид для разработчиков, про...</td>\n",
       "      <td>Как устроен Python. Гид для разработчиков, про...</td>\n",
       "      <td>Расположение в торговом зале: Уровень 1, зал №...</td>\n",
       "      <td>Цена: 1089,00 руб.</td>\n",
       "      <td>1089.0</td>\n",
       "    </tr>\n",
       "    <tr>\n",
       "      <th>0</th>\n",
       "      <td>Секреты Python: 59 рекомендаций по написанию э...</td>\n",
       "      <td>Б. Слаткин</td>\n",
       "      <td>Расположение в торговом зале: Уровень 1, зал №...</td>\n",
       "      <td>Цена: 1129,00 руб.</td>\n",
       "      <td>1129.0</td>\n",
       "    </tr>\n",
       "    <tr>\n",
       "      <th>8</th>\n",
       "      <td>Классические задачи Computer Science на языке ...</td>\n",
       "      <td>Д. Копец</td>\n",
       "      <td>Расположение в торговом зале: Уровень 1, зал №...</td>\n",
       "      <td>Цена: 1219,00 руб.</td>\n",
       "      <td>1219.0</td>\n",
       "    </tr>\n",
       "    <tr>\n",
       "      <th>13</th>\n",
       "      <td>Глубокое обучение на Python</td>\n",
       "      <td>Глубокое обучение на Python</td>\n",
       "      <td>Расположение в торговом зале: Уровень 1, зал №...</td>\n",
       "      <td>Цена: 1229,00 руб.</td>\n",
       "      <td>1229.0</td>\n",
       "    </tr>\n",
       "    <tr>\n",
       "      <th>11</th>\n",
       "      <td>Прикладной анализ текстовых данных на Python. ...</td>\n",
       "      <td>Прикладной анализ текстовых данных на Python. ...</td>\n",
       "      <td>Расположение в торговом зале: Уровень 1, зал №...</td>\n",
       "      <td>Цена: 1309,00 руб.</td>\n",
       "      <td>1309.0</td>\n",
       "    </tr>\n",
       "    <tr>\n",
       "      <th>18</th>\n",
       "      <td>Django 2.1. Практика создания веб-сайтов на Py...</td>\n",
       "      <td>Django 2.1. Практика создания веб-сайтов на Py...</td>\n",
       "      <td>Расположение в торговом зале: Уровень 1, зал №...</td>\n",
       "      <td>Цена: 1389,00 руб.</td>\n",
       "      <td>1389.0</td>\n",
       "    </tr>\n",
       "    <tr>\n",
       "      <th>2</th>\n",
       "      <td>Глубокое обучение и TensorFlow для профессиона...</td>\n",
       "      <td>С. Паттанаяк</td>\n",
       "      <td>Расположение в торговом зале: Уровень 1, зал №...</td>\n",
       "      <td>Цена: 1409,00 руб.</td>\n",
       "      <td>1409.0</td>\n",
       "    </tr>\n",
       "    <tr>\n",
       "      <th>12</th>\n",
       "      <td>Python 3 и PyQt 5. Разработка приложений</td>\n",
       "      <td>Python 3 и PyQt 5. Разработка приложений</td>\n",
       "      <td>Расположение в торговом зале: Уровень 1, зал №...</td>\n",
       "      <td>Цена: 1539,00 руб.</td>\n",
       "      <td>1539.0</td>\n",
       "    </tr>\n",
       "    <tr>\n",
       "      <th>15</th>\n",
       "      <td>Python для сложных задач: наука о данных и маш...</td>\n",
       "      <td>Python для сложных задач: наука о данных и маш...</td>\n",
       "      <td>Расположение в торговом зале: Уровень 1, зал №...</td>\n",
       "      <td>Цена: 1749,00 руб.</td>\n",
       "      <td>1749.0</td>\n",
       "    </tr>\n",
       "    <tr>\n",
       "      <th>6</th>\n",
       "      <td>Программирование на языке Python</td>\n",
       "      <td>Р. Седжвик</td>\n",
       "      <td>Расположение в торговом зале: Уровень 1, зал №...</td>\n",
       "      <td>Цена: 1879,00 руб.</td>\n",
       "      <td>1879.0</td>\n",
       "    </tr>\n",
       "    <tr>\n",
       "      <th>14</th>\n",
       "      <td>Python. Справочник. Полное описание языка</td>\n",
       "      <td>Python. Справочник. Полное описание языка</td>\n",
       "      <td>Расположение в торговом зале: Уровень 1, зал №...</td>\n",
       "      <td>Цена: 2349,00 руб.</td>\n",
       "      <td>2349.0</td>\n",
       "    </tr>\n",
       "    <tr>\n",
       "      <th>9</th>\n",
       "      <td>Python и машинное обучение: машинное и глубоко...</td>\n",
       "      <td>С. Рашка, В. Мирджалили</td>\n",
       "      <td>Расположение в торговом зале: Уровень 1, зал №...</td>\n",
       "      <td>Цена: 2349,00 руб.</td>\n",
       "      <td>2349.0</td>\n",
       "    </tr>\n",
       "    <tr>\n",
       "      <th>3</th>\n",
       "      <td>Стандартная библиотека Python 3</td>\n",
       "      <td>Д. Хеллман</td>\n",
       "      <td>Расположение в торговом зале: Уровень 1, зал №...</td>\n",
       "      <td>Цена: 2819,00 руб.</td>\n",
       "      <td>2819.0</td>\n",
       "    </tr>\n",
       "  </tbody>\n",
       "</table>\n",
       "</div>"
      ],
      "text/plain": [
       "                                                 book  \\\n",
       "7           Программирование на Python для начинающих   \n",
       "16                       Легкий способ выучить Python   \n",
       "10                     Легкий способ выучить Python 3   \n",
       "17            Язык программирования Python: практикум   \n",
       "4             Основы программирования на языке Python   \n",
       "1   Машинное обучение с использованием Python. Сбо...   \n",
       "5   Python для детей : самоучитель по программиров...   \n",
       "19  Как устроен Python. Гид для разработчиков, про...   \n",
       "0   Секреты Python: 59 рекомендаций по написанию э...   \n",
       "8   Классические задачи Computer Science на языке ...   \n",
       "13                        Глубокое обучение на Python   \n",
       "11  Прикладной анализ текстовых данных на Python. ...   \n",
       "18  Django 2.1. Практика создания веб-сайтов на Py...   \n",
       "2   Глубокое обучение и TensorFlow для профессиона...   \n",
       "12           Python 3 и PyQt 5. Разработка приложений   \n",
       "15  Python для сложных задач: наука о данных и маш...   \n",
       "6                    Программирование на языке Python   \n",
       "14          Python. Справочник. Полное описание языка   \n",
       "9   Python и машинное обучение: машинное и глубоко...   \n",
       "3                     Стандартная библиотека Python 3   \n",
       "\n",
       "                                               author  \\\n",
       "7                                          М. МакГрат   \n",
       "16                       Легкий способ выучить Python   \n",
       "10                     Легкий способ выучить Python 3   \n",
       "17            Язык программирования Python: практикум   \n",
       "4                                 Д. М. Златопольский   \n",
       "1                                            К. Элбон   \n",
       "5                                          Дж. Бриггс   \n",
       "19  Как устроен Python. Гид для разработчиков, про...   \n",
       "0                                          Б. Слаткин   \n",
       "8                                            Д. Копец   \n",
       "13                        Глубокое обучение на Python   \n",
       "11  Прикладной анализ текстовых данных на Python. ...   \n",
       "18  Django 2.1. Практика создания веб-сайтов на Py...   \n",
       "2                                        С. Паттанаяк   \n",
       "12           Python 3 и PyQt 5. Разработка приложений   \n",
       "15  Python для сложных задач: наука о данных и маш...   \n",
       "6                                          Р. Седжвик   \n",
       "14          Python. Справочник. Полное описание языка   \n",
       "9                             С. Рашка, В. Мирджалили   \n",
       "3                                          Д. Хеллман   \n",
       "\n",
       "                                            placement               price  \\\n",
       "7   Расположение в торговом зале: Уровень 1, зал №...   Цена: 579,00 руб.   \n",
       "16  Расположение в торговом зале: Уровень 1, зал №...   Цена: 699,00 руб.   \n",
       "10  Расположение в торговом зале: Уровень 1, зал №...   Цена: 739,00 руб.   \n",
       "17  Расположение в торговом зале: Уровень 1, зал №...   Цена: 779,00 руб.   \n",
       "4   Расположение в торговом зале: Уровень 1, зал №...   Цена: 839,00 руб.   \n",
       "1   Расположение в торговом зале: Уровень 1, зал №...   Цена: 879,00 руб.   \n",
       "5   Расположение в торговом зале: Уровень 1, зал №...  Цена: 1029,00 руб.   \n",
       "19  Расположение в торговом зале: Уровень 1, зал №...  Цена: 1089,00 руб.   \n",
       "0   Расположение в торговом зале: Уровень 1, зал №...  Цена: 1129,00 руб.   \n",
       "8   Расположение в торговом зале: Уровень 1, зал №...  Цена: 1219,00 руб.   \n",
       "13  Расположение в торговом зале: Уровень 1, зал №...  Цена: 1229,00 руб.   \n",
       "11  Расположение в торговом зале: Уровень 1, зал №...  Цена: 1309,00 руб.   \n",
       "18  Расположение в торговом зале: Уровень 1, зал №...  Цена: 1389,00 руб.   \n",
       "2   Расположение в торговом зале: Уровень 1, зал №...  Цена: 1409,00 руб.   \n",
       "12  Расположение в торговом зале: Уровень 1, зал №...  Цена: 1539,00 руб.   \n",
       "15  Расположение в торговом зале: Уровень 1, зал №...  Цена: 1749,00 руб.   \n",
       "6   Расположение в торговом зале: Уровень 1, зал №...  Цена: 1879,00 руб.   \n",
       "14  Расположение в торговом зале: Уровень 1, зал №...  Цена: 2349,00 руб.   \n",
       "9   Расположение в торговом зале: Уровень 1, зал №...  Цена: 2349,00 руб.   \n",
       "3   Расположение в торговом зале: Уровень 1, зал №...  Цена: 2819,00 руб.   \n",
       "\n",
       "    nprice  \n",
       "7    579.0  \n",
       "16   699.0  \n",
       "10   739.0  \n",
       "17   779.0  \n",
       "4    839.0  \n",
       "1    879.0  \n",
       "5   1029.0  \n",
       "19  1089.0  \n",
       "0   1129.0  \n",
       "8   1219.0  \n",
       "13  1229.0  \n",
       "11  1309.0  \n",
       "18  1389.0  \n",
       "2   1409.0  \n",
       "12  1539.0  \n",
       "15  1749.0  \n",
       "6   1879.0  \n",
       "14  2349.0  \n",
       "9   2349.0  \n",
       "3   2819.0  "
      ]
     },
     "execution_count": 35,
     "metadata": {},
     "output_type": "execute_result"
    }
   ],
   "source": [
    "df.sort_values('nprice')"
   ]
  },
  {
   "cell_type": "markdown",
   "metadata": {},
   "source": [
    "И сохраним всю таблицу в csv-файл:"
   ]
  },
  {
   "cell_type": "code",
   "execution_count": 42,
   "metadata": {},
   "outputs": [],
   "source": [
    "df.to_csv(\"books.csv\")"
   ]
  }
 ],
 "metadata": {
  "kernelspec": {
   "display_name": "Python 3",
   "language": "python",
   "name": "python3"
  },
  "language_info": {
   "codemirror_mode": {
    "name": "ipython",
    "version": 3
   },
   "file_extension": ".py",
   "mimetype": "text/x-python",
   "name": "python",
   "nbconvert_exporter": "python",
   "pygments_lexer": "ipython3",
   "version": "3.6.5"
  }
 },
 "nbformat": 4,
 "nbformat_minor": 2
}
