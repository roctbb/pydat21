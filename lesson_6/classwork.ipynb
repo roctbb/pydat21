{
 "cells": [
  {
   "cell_type": "code",
   "execution_count": 3,
   "metadata": {},
   "outputs": [
    {
     "name": "stdout",
     "output_type": "stream",
     "text": [
      "[1, 2, 3, 4, 5, 6]\n"
     ]
    }
   ],
   "source": [
    "c = [\n",
    "    [1, 2], [3, 4], [5, 6]\n",
    "]\n",
    "\n",
    "d = []\n",
    "\n",
    "for i in c:\n",
    "    d = [*d, *i]\n",
    "    \n",
    "print(d)"
   ]
  },
  {
   "cell_type": "code",
   "execution_count": 11,
   "metadata": {},
   "outputs": [
    {
     "name": "stdout",
     "output_type": "stream",
     "text": [
      "отогг\n",
      "2\n"
     ]
    }
   ],
   "source": [
    "def metro():\n",
    "    nmetro = {\"Ленинская\" : [\"Заельцовская\", \"Гагаринская\", \"Красный проспект\", \"Площадь Ленина\", \"Октябрьская\",\n",
    "                   \"Речной Вокзал\", \"Студенческая\", \"Площадь Маркса\"], \n",
    "              \"Дзержинская\" : [\"Площадь Гарина-Михайловского\", \"Сибирская\", \"Маршала Покрышкина\", \"Березовая Роща\",\n",
    "              \"Золотая Нива\"]}\n",
    "    station = input()\n",
    "    direction = input()\n",
    "    \n",
    "    for line_title, stations in nmetro.items():\n",
    "        if station in stations:\n",
    "            index = stations.index(station)\n",
    "            \n",
    "            if direction == '1':\n",
    "                next_index = index + 1\n",
    "            else:\n",
    "                next_index = index - 1\n",
    "            # если конечная\n",
    "            if next_index < 0 or next_index >= len(stations):\n",
    "                print(\"Просьбы выйти из вагона\")\n",
    "            else:\n",
    "                print(\"Ветка {}, следующая остановка - {}\".format(line_title, stations[next_index]))\n",
    "            break\n",
    "metro()"
   ]
  },
  {
   "cell_type": "code",
   "execution_count": null,
   "metadata": {},
   "outputs": [],
   "source": [
    "a = 3\n",
    "b = 4\n",
    "\n",
    "a, b = 3, 4"
   ]
  },
  {
   "cell_type": "code",
   "execution_count": 12,
   "metadata": {},
   "outputs": [
    {
     "name": "stdout",
     "output_type": "stream",
     "text": [
      "(3, 4) <class 'tuple'>\n"
     ]
    }
   ],
   "source": [
    "X = 3, 4\n",
    "print(X, type(X))"
   ]
  },
  {
   "cell_type": "code",
   "execution_count": 13,
   "metadata": {},
   "outputs": [
    {
     "name": "stdout",
     "output_type": "stream",
     "text": [
      "(3, 4)\n"
     ]
    }
   ],
   "source": [
    "X = (3, 4)\n",
    "X1 = X\n",
    "print(X1)"
   ]
  },
  {
   "cell_type": "code",
   "execution_count": 15,
   "metadata": {},
   "outputs": [
    {
     "name": "stdout",
     "output_type": "stream",
     "text": [
      "3 4\n"
     ]
    }
   ],
   "source": [
    "c, d = X\n",
    "\n",
    "print(c, d)"
   ]
  },
  {
   "cell_type": "code",
   "execution_count": 18,
   "metadata": {},
   "outputs": [
    {
     "ename": "ValueError",
     "evalue": "not enough values to unpack (expected 2, got 1)",
     "output_type": "error",
     "traceback": [
      "\u001b[1;31m---------------------------------------------------------------------------\u001b[0m",
      "\u001b[1;31mValueError\u001b[0m                                Traceback (most recent call last)",
      "\u001b[1;32m<ipython-input-18-eef69d14b03d>\u001b[0m in \u001b[0;36m<module>\u001b[1;34m\u001b[0m\n\u001b[1;32m----> 1\u001b[1;33m \u001b[0ma\u001b[0m\u001b[1;33m,\u001b[0m \u001b[0mb\u001b[0m \u001b[1;33m=\u001b[0m \u001b[1;33m[\u001b[0m\u001b[1;36m1\u001b[0m\u001b[1;33m,\u001b[0m \u001b[1;33m]\u001b[0m\u001b[1;33m\u001b[0m\u001b[1;33m\u001b[0m\u001b[0m\n\u001b[0m",
      "\u001b[1;31mValueError\u001b[0m: not enough values to unpack (expected 2, got 1)"
     ]
    }
   ],
   "source": [
    "a, b = [1, 2, 3]"
   ]
  },
  {
   "cell_type": "code",
   "execution_count": 21,
   "metadata": {},
   "outputs": [
    {
     "name": "stdout",
     "output_type": "stream",
     "text": [
      "фвыафва\n",
      "Баланс:  0\n",
      "фыва\n",
      "Ошибка ввода\n",
      "Иван\n",
      "Баланс:  0\n",
      "пополнить 400\n",
      "Продолжить? да\n",
      "Иван\n",
      "Баланс:  400\n",
      "вава\n",
      "Ошибка ввода\n",
      "Иван\n",
      "Баланс:  400\n",
      "снять 1\n",
      "Продолжить? выход\n"
     ]
    }
   ],
   "source": [
    "accounts = {}\n",
    "\n",
    "def create_if_new(client):\n",
    "    if client not in accounts:\n",
    "        # добавляем в словарь с нулевым балансом\n",
    "        accounts[client] = 0\n",
    "        \n",
    "        \n",
    "def process_operation(client)\n",
    "    operation, amount = input().split()\n",
    "    amount = int(amount)\n",
    "\n",
    "    if operation == \"пополнить\":\n",
    "        accounts[client] += amount\n",
    "    elif operation == \"снять\":\n",
    "        if accounts[client] - amount < 0:\n",
    "            print(\"Недостаточно средств\")\n",
    "        else:\n",
    "            accounts[client] -= amount\n",
    "    else:\n",
    "        print(\"Команда не распознана\")\n",
    "\n",
    "        \n",
    "while True:\n",
    "    try:\n",
    "        client = input()\n",
    "        create_if_new()\n",
    "        \n",
    "        print(\"Баланс: \", accounts[client])\n",
    "\n",
    "        process_operation(client)\n",
    "        \n",
    "        action = input(\"Продолжить? \")\n",
    "        if action == \"выход\":\n",
    "            break\n",
    "    except:\n",
    "        print(\"Ошибка ввода\")\n"
   ]
  },
  {
   "cell_type": "code",
   "execution_count": 24,
   "metadata": {},
   "outputs": [
    {
     "name": "stdout",
     "output_type": "stream",
     "text": [
      "N: 5\n",
      "K: 3\n",
      "C(n, k):  10\n"
     ]
    }
   ],
   "source": [
    "def fact(n):\n",
    "    result = 1\n",
    "    \n",
    "    for i in range(1, n + 1):\n",
    "        result = result * i\n",
    "    \n",
    "    return result\n",
    "\n",
    "def C(n, k):\n",
    "    return fact(n) // ( fact(k) * fact(n - k) )\n",
    "\n",
    "n = int(input(\"N: \"))\n",
    "k = int(input(\"K: \"))\n",
    "\n",
    "print(\"C(n, k): \", C(n, k))"
   ]
  },
  {
   "cell_type": "code",
   "execution_count": 25,
   "metadata": {},
   "outputs": [
    {
     "data": {
      "text/plain": [
       "120"
      ]
     },
     "execution_count": 25,
     "metadata": {},
     "output_type": "execute_result"
    }
   ],
   "source": [
    "fact(5)"
   ]
  },
  {
   "cell_type": "code",
   "execution_count": 26,
   "metadata": {},
   "outputs": [
    {
     "data": {
      "text/plain": [
       "1"
      ]
     },
     "execution_count": 26,
     "metadata": {},
     "output_type": "execute_result"
    }
   ],
   "source": [
    "fact(1)"
   ]
  },
  {
   "cell_type": "code",
   "execution_count": 27,
   "metadata": {},
   "outputs": [
    {
     "data": {
      "text/plain": [
       "1"
      ]
     },
     "execution_count": 27,
     "metadata": {},
     "output_type": "execute_result"
    }
   ],
   "source": [
    "fact(0)"
   ]
  },
  {
   "cell_type": "code",
   "execution_count": 30,
   "metadata": {},
   "outputs": [
    {
     "data": {
      "text/plain": [
       "35"
      ]
     },
     "execution_count": 30,
     "metadata": {},
     "output_type": "execute_result"
    }
   ],
   "source": [
    "round(34.5123)"
   ]
  },
  {
   "cell_type": "code",
   "execution_count": 34,
   "metadata": {},
   "outputs": [],
   "source": [
    "def C(n=10, k=2):\n",
    "    return fact(n) // ( fact(k) * fact(n - k) )"
   ]
  },
  {
   "cell_type": "code",
   "execution_count": 35,
   "metadata": {},
   "outputs": [
    {
     "data": {
      "text/plain": [
       "45"
      ]
     },
     "execution_count": 35,
     "metadata": {},
     "output_type": "execute_result"
    }
   ],
   "source": [
    "C()"
   ]
  },
  {
   "cell_type": "code",
   "execution_count": 37,
   "metadata": {},
   "outputs": [
    {
     "data": {
      "text/plain": [
       "10"
      ]
     },
     "execution_count": 37,
     "metadata": {},
     "output_type": "execute_result"
    }
   ],
   "source": [
    "C(5)"
   ]
  },
  {
   "cell_type": "code",
   "execution_count": 39,
   "metadata": {},
   "outputs": [
    {
     "data": {
      "text/plain": [
       "5"
      ]
     },
     "execution_count": 39,
     "metadata": {},
     "output_type": "execute_result"
    }
   ],
   "source": [
    "C(5, 4)"
   ]
  },
  {
   "cell_type": "code",
   "execution_count": 41,
   "metadata": {},
   "outputs": [
    {
     "data": {
      "text/plain": [
       "210"
      ]
     },
     "execution_count": 41,
     "metadata": {},
     "output_type": "execute_result"
    }
   ],
   "source": [
    "C(k=4)"
   ]
  },
  {
   "cell_type": "code",
   "execution_count": 42,
   "metadata": {},
   "outputs": [
    {
     "data": {
      "text/plain": [
       "252"
      ]
     },
     "execution_count": 42,
     "metadata": {},
     "output_type": "execute_result"
    }
   ],
   "source": [
    "C(n=10, k=5)"
   ]
  },
  {
   "cell_type": "code",
   "execution_count": 43,
   "metadata": {},
   "outputs": [
    {
     "data": {
      "text/plain": [
       "252"
      ]
     },
     "execution_count": 43,
     "metadata": {},
     "output_type": "execute_result"
    }
   ],
   "source": [
    "C(k=5, n=10)"
   ]
  },
  {
   "cell_type": "code",
   "execution_count": 55,
   "metadata": {},
   "outputs": [
    {
     "data": {
      "text/plain": [
       "34.73"
      ]
     },
     "execution_count": 55,
     "metadata": {},
     "output_type": "execute_result"
    }
   ],
   "source": [
    "def round(number, ndigits=0):\n",
    "    if ndigits != 0:\n",
    "        number = number * (10 ** ndigits)\n",
    "    \n",
    "    D = number - int(number)   \n",
    "    \n",
    "    if D >= 0.5:\n",
    "        number = int(number) + 1\n",
    "    else:\n",
    "        number = int(number)\n",
    "    \n",
    "    if ndigits != 0:\n",
    "        number = number / (10 ** ndigits)\n",
    "        \n",
    "    return number\n",
    "    \n",
    "round(34.725, 2)"
   ]
  },
  {
   "cell_type": "code",
   "execution_count": 56,
   "metadata": {},
   "outputs": [
    {
     "data": {
      "text/plain": [
       "34"
      ]
     },
     "execution_count": 56,
     "metadata": {},
     "output_type": "execute_result"
    }
   ],
   "source": [
    "round(34.2)"
   ]
  },
  {
   "cell_type": "code",
   "execution_count": null,
   "metadata": {},
   "outputs": [],
   "source": [
    "round(ndigits=3, number=123)"
   ]
  },
  {
   "cell_type": "code",
   "execution_count": 62,
   "metadata": {},
   "outputs": [
    {
     "name": "stdout",
     "output_type": "stream",
     "text": [
      "1-2-3+1*2*3\n",
      "1/2/3\n"
     ]
    }
   ],
   "source": [
    "print(1, 2, 3, sep='-', end='+')\n",
    "print(1, 2, 3, sep='*')\n",
    "print(1, 2, 3, sep='/')"
   ]
  },
  {
   "cell_type": "code",
   "execution_count": 63,
   "metadata": {},
   "outputs": [
    {
     "name": "stdout",
     "output_type": "stream",
     "text": [
      "1\n"
     ]
    }
   ],
   "source": [
    "print(1)"
   ]
  },
  {
   "cell_type": "code",
   "execution_count": 64,
   "metadata": {},
   "outputs": [
    {
     "name": "stdout",
     "output_type": "stream",
     "text": [
      "1 2\n"
     ]
    }
   ],
   "source": [
    "print(1, 2)"
   ]
  },
  {
   "cell_type": "code",
   "execution_count": 65,
   "metadata": {},
   "outputs": [
    {
     "name": "stdout",
     "output_type": "stream",
     "text": [
      "1 2 3\n"
     ]
    }
   ],
   "source": [
    "print(1, 2, 3)"
   ]
  },
  {
   "cell_type": "code",
   "execution_count": 69,
   "metadata": {},
   "outputs": [
    {
     "data": {
      "text/plain": [
       "28"
      ]
     },
     "execution_count": 69,
     "metadata": {},
     "output_type": "execute_result"
    }
   ],
   "source": [
    "def mySum(*numbers):\n",
    "    # return sum(numbers)\n",
    "    S = 0\n",
    "    \n",
    "    for number in numbers:\n",
    "        S += number\n",
    "    \n",
    "    return S\n",
    "\n",
    "mySum(1, 2, 3, 4, 5, 6, 7)"
   ]
  },
  {
   "cell_type": "code",
   "execution_count": 70,
   "metadata": {},
   "outputs": [
    {
     "name": "stdout",
     "output_type": "stream",
     "text": [
      "{'a': 1, 'b': 2, 'c': 3, 'd': 4}\n"
     ]
    }
   ],
   "source": [
    "D = dict(a=1, b=2, c=3, d=4)\n",
    "print(D)"
   ]
  },
  {
   "cell_type": "code",
   "execution_count": 72,
   "metadata": {},
   "outputs": [
    {
     "name": "stdout",
     "output_type": "stream",
     "text": [
      "<class 'dict'>\n",
      "{'first': 1, 'second': 2, 'third': 3}\n"
     ]
    }
   ],
   "source": [
    "def F(**kwarg):\n",
    "    print(type(kwarg))\n",
    "    print(kwarg)\n",
    "\n",
    "F(first=1, second=2, third=3)"
   ]
  },
  {
   "cell_type": "code",
   "execution_count": 79,
   "metadata": {},
   "outputs": [
    {
     "name": "stdout",
     "output_type": "stream",
     "text": [
      "2 3 a b (3, 4, 5) {'custom_arg1': 343, 'custom_arg2': 343}\n"
     ]
    }
   ],
   "source": [
    "def myComplexFunction(a, b, *args, c=4, d=5, **kwargs):\n",
    "    print(a, b, c, d, args, kwargs)\n",
    "    \n",
    "myComplexFunction(2, 3, 3, 4, 5, c=\"a\", d=\"b\", custom_arg1=343, custom_arg2=343)"
   ]
  },
  {
   "cell_type": "code",
   "execution_count": 81,
   "metadata": {},
   "outputs": [
    {
     "name": "stdout",
     "output_type": "stream",
     "text": [
      "1 2 3\n"
     ]
    }
   ],
   "source": [
    "print(*[1, 2, 3])"
   ]
  },
  {
   "cell_type": "code",
   "execution_count": null,
   "metadata": {},
   "outputs": [],
   "source": [
    "print(1, 2, 3)"
   ]
  },
  {
   "cell_type": "code",
   "execution_count": 88,
   "metadata": {},
   "outputs": [
    {
     "name": "stdout",
     "output_type": "stream",
     "text": [
      "1 2\n"
     ]
    }
   ],
   "source": [
    "def F():\n",
    "    return 1, 2\n",
    "\n",
    "a, b = F()\n",
    "print(a, b)"
   ]
  },
  {
   "cell_type": "code",
   "execution_count": 92,
   "metadata": {},
   "outputs": [
    {
     "name": "stdout",
     "output_type": "stream",
     "text": [
      "3 4\n"
     ]
    }
   ],
   "source": [
    "def F(b=2, a=1):\n",
    "    print(a, b)\n",
    "    \n",
    "d = {\n",
    "    \"a\": 3,\n",
    "    \"b\": 4\n",
    "}\n",
    "\n",
    "F(**d)"
   ]
  },
  {
   "cell_type": "code",
   "execution_count": 94,
   "metadata": {},
   "outputs": [
    {
     "name": "stdout",
     "output_type": "stream",
     "text": [
      "4 <class 'int'>\n"
     ]
    }
   ],
   "source": [
    "def F(a):\n",
    "    return a ** 2\n",
    "\n",
    "print(F(2), type(F(2)))"
   ]
  },
  {
   "cell_type": "code",
   "execution_count": 96,
   "metadata": {},
   "outputs": [
    {
     "data": {
      "text/plain": [
       "function"
      ]
     },
     "execution_count": 96,
     "metadata": {},
     "output_type": "execute_result"
    }
   ],
   "source": [
    "type(F)"
   ]
  },
  {
   "cell_type": "code",
   "execution_count": 97,
   "metadata": {},
   "outputs": [],
   "source": [
    "a = F"
   ]
  },
  {
   "cell_type": "code",
   "execution_count": 98,
   "metadata": {},
   "outputs": [
    {
     "data": {
      "text/plain": [
       "4"
      ]
     },
     "execution_count": 98,
     "metadata": {},
     "output_type": "execute_result"
    }
   ],
   "source": [
    "a(2)"
   ]
  },
  {
   "cell_type": "code",
   "execution_count": 99,
   "metadata": {},
   "outputs": [
    {
     "data": {
      "text/plain": [
       "34"
      ]
     },
     "execution_count": 99,
     "metadata": {},
     "output_type": "execute_result"
    }
   ],
   "source": [
    "def applyFunction(function, value):\n",
    "    return function(value)\n",
    "\n",
    "applyFunction(int, 34.5)"
   ]
  },
  {
   "cell_type": "code",
   "execution_count": 100,
   "metadata": {},
   "outputs": [
    {
     "data": {
      "text/plain": [
       "'34.5'"
      ]
     },
     "execution_count": 100,
     "metadata": {},
     "output_type": "execute_result"
    }
   ],
   "source": [
    "applyFunction(str, 34.5)"
   ]
  },
  {
   "cell_type": "code",
   "execution_count": 101,
   "metadata": {},
   "outputs": [
    {
     "data": {
      "text/plain": [
       "'#####'"
      ]
     },
     "execution_count": 101,
     "metadata": {},
     "output_type": "execute_result"
    }
   ],
   "source": [
    "def f(a):\n",
    "    return a * \"#\"\n",
    "\n",
    "applyFunction(f, 5)"
   ]
  },
  {
   "cell_type": "code",
   "execution_count": 113,
   "metadata": {},
   "outputs": [
    {
     "name": "stdout",
     "output_type": "stream",
     "text": [
      "4 5 6\n",
      "15\n"
     ]
    }
   ],
   "source": [
    "numbers = map(int, input().split())\n",
    "\n",
    "print(sum(numbers))"
   ]
  },
  {
   "cell_type": "code",
   "execution_count": 112,
   "metadata": {},
   "outputs": [
    {
     "name": "stdout",
     "output_type": "stream",
     "text": [
      "3 23.4 0.5\n",
      "26.9\n"
     ]
    }
   ],
   "source": [
    "numbers = map(float, input().split())\n",
    "\n",
    "print(sum(numbers))"
   ]
  },
  {
   "cell_type": "code",
   "execution_count": 117,
   "metadata": {},
   "outputs": [
    {
     "name": "stdout",
     "output_type": "stream",
     "text": [
      "1 2 3 4 5 4 3 2 1\n",
      "*\n",
      "**\n",
      "***\n",
      "****\n",
      "*****\n",
      "****\n",
      "***\n",
      "**\n",
      "*\n"
     ]
    }
   ],
   "source": [
    "def star(n):\n",
    "    return '*' * n\n",
    "\n",
    "stars = map(star, map(int, input().split()))\n",
    "\n",
    "print('\\n'.join(stars))"
   ]
  },
  {
   "cell_type": "code",
   "execution_count": 119,
   "metadata": {},
   "outputs": [
    {
     "name": "stdout",
     "output_type": "stream",
     "text": [
      "[12, 6, 7, 8, 10]\n"
     ]
    }
   ],
   "source": [
    "def greater_5(n):\n",
    "    return n > 5\n",
    "\n",
    "L = [12, 2, 1, 6, 7, 8, 10, 1]\n",
    "\n",
    "L2 = filter(greater_5, L)\n",
    "\n",
    "print(list(L2))"
   ]
  },
  {
   "cell_type": "code",
   "execution_count": 120,
   "metadata": {},
   "outputs": [
    {
     "name": "stdout",
     "output_type": "stream",
     "text": [
      "[12, 6, 7, 8, 10]\n"
     ]
    }
   ],
   "source": [
    "L = [12, 2, 1, 6, 7, 8, 10, 1]\n",
    "\n",
    "L2 = filter(lambda n: n > 5, L)\n",
    "\n",
    "print(list(L2))"
   ]
  },
  {
   "cell_type": "code",
   "execution_count": 123,
   "metadata": {},
   "outputs": [
    {
     "name": "stdout",
     "output_type": "stream",
     "text": [
      "[1234, 123, 34, 12, 3, 2]\n"
     ]
    }
   ],
   "source": [
    "L = [123, 34, 12, 2, 1234, 3, 34, 12, 9999, 23232]\n",
    "\n",
    "print(sorted(L, reverse=True))"
   ]
  },
  {
   "cell_type": "code",
   "execution_count": 124,
   "metadata": {},
   "outputs": [
    {
     "name": "stdout",
     "output_type": "stream",
     "text": [
      "[2, 3, 34, 12, 34, 12, 123, 1234, 9999, 23232]\n"
     ]
    }
   ],
   "source": [
    "L = [123, 34, 12, 2, 1234, 3, 34, 12, 9999, 23232]\n",
    "\n",
    "print(sorted(L, key=lambda x: len(str(x))))"
   ]
  },
  {
   "cell_type": "code",
   "execution_count": 137,
   "metadata": {},
   "outputs": [
    {
     "data": {
      "text/plain": [
       "[('Екатерина', 20000), ('Иван', 1000), ('Ксения', 500), ('Александр', 2)]"
      ]
     },
     "execution_count": 137,
     "metadata": {},
     "output_type": "execute_result"
    }
   ],
   "source": [
    "D = {\n",
    "    \"Александр\": 2,\n",
    "    \"Иван\": 1000,\n",
    "    \"Ксения\": 500,\n",
    "    \"Екатерина\": 20000\n",
    "}\n",
    "\n",
    "sorted(D.items(), key=lambda account:account[1], reverse=True)"
   ]
  },
  {
   "cell_type": "code",
   "execution_count": 138,
   "metadata": {},
   "outputs": [
    {
     "data": {
      "text/plain": [
       "['Екатерина', 'Иван', 'Ксения', 'Александр']"
      ]
     },
     "execution_count": 138,
     "metadata": {},
     "output_type": "execute_result"
    }
   ],
   "source": [
    "D = {\n",
    "    \"Александр\": 2,\n",
    "    \"Иван\": 1000,\n",
    "    \"Ксения\": 500,\n",
    "    \"Екатерина\": 20000\n",
    "}\n",
    "\n",
    "sorted(D, key=D.get, reverse=True)"
   ]
  },
  {
   "cell_type": "code",
   "execution_count": 133,
   "metadata": {},
   "outputs": [
    {
     "data": {
      "text/plain": [
       "[[2, 3, 4, 5], [2, 3, 4, 1, 2], [4, 5, 6, 21, 4, 5, 6]]"
      ]
     },
     "execution_count": 133,
     "metadata": {},
     "output_type": "execute_result"
    }
   ],
   "source": [
    "L = [\n",
    "    [4, 5, 6, 21, 4, 5, 6],\n",
    "    [2, 3, 4, 5],\n",
    "    [2, 3, 4, 1, 2]\n",
    "]\n",
    "\n",
    "sorted(L, key=len)"
   ]
  },
  {
   "cell_type": "code",
   "execution_count": 144,
   "metadata": {},
   "outputs": [
    {
     "name": "stdout",
     "output_type": "stream",
     "text": [
      "<class 'map'>\n",
      "1\n",
      "2\n",
      "3\n",
      "4\n"
     ]
    },
    {
     "ename": "StopIteration",
     "evalue": "",
     "output_type": "error",
     "traceback": [
      "\u001b[1;31m---------------------------------------------------------------------------\u001b[0m",
      "\u001b[1;31mStopIteration\u001b[0m                             Traceback (most recent call last)",
      "\u001b[1;32m<ipython-input-144-a67652e74535>\u001b[0m in \u001b[0;36m<module>\u001b[1;34m\u001b[0m\n\u001b[0;32m      6\u001b[0m \u001b[0mprint\u001b[0m\u001b[1;33m(\u001b[0m\u001b[0mnext\u001b[0m\u001b[1;33m(\u001b[0m\u001b[0mG\u001b[0m\u001b[1;33m)\u001b[0m\u001b[1;33m)\u001b[0m\u001b[1;33m\u001b[0m\u001b[1;33m\u001b[0m\u001b[0m\n\u001b[0;32m      7\u001b[0m \u001b[0mprint\u001b[0m\u001b[1;33m(\u001b[0m\u001b[0mnext\u001b[0m\u001b[1;33m(\u001b[0m\u001b[0mG\u001b[0m\u001b[1;33m)\u001b[0m\u001b[1;33m)\u001b[0m\u001b[1;33m\u001b[0m\u001b[1;33m\u001b[0m\u001b[0m\n\u001b[1;32m----> 8\u001b[1;33m \u001b[0mprint\u001b[0m\u001b[1;33m(\u001b[0m\u001b[0mnext\u001b[0m\u001b[1;33m(\u001b[0m\u001b[0mG\u001b[0m\u001b[1;33m)\u001b[0m\u001b[1;33m)\u001b[0m\u001b[1;33m\u001b[0m\u001b[1;33m\u001b[0m\u001b[0m\n\u001b[0m",
      "\u001b[1;31mStopIteration\u001b[0m: "
     ]
    }
   ],
   "source": [
    "G = map(int, \"1 2 3 4\".split())\n",
    "print(type(G))\n",
    "\n",
    "print(next(G))\n",
    "print(next(G))\n",
    "print(next(G))\n",
    "print(next(G))\n",
    "print(next(G))"
   ]
  },
  {
   "cell_type": "code",
   "execution_count": 151,
   "metadata": {},
   "outputs": [
    {
     "name": "stdout",
     "output_type": "stream",
     "text": [
      "0\n",
      "1\n",
      "2\n",
      "3\n"
     ]
    }
   ],
   "source": [
    "def g():\n",
    "    for i in range(4):\n",
    "        yield i\n",
    "    return\n",
    "\n",
    "for value in g():\n",
    "    print(value)"
   ]
  },
  {
   "cell_type": "code",
   "execution_count": 152,
   "metadata": {},
   "outputs": [
    {
     "data": {
      "text/plain": [
       "[0, 1, 2, 3]"
      ]
     },
     "execution_count": 152,
     "metadata": {},
     "output_type": "execute_result"
    }
   ],
   "source": [
    "list(g())"
   ]
  },
  {
   "cell_type": "code",
   "execution_count": null,
   "metadata": {},
   "outputs": [],
   "source": []
  }
 ],
 "metadata": {
  "kernelspec": {
   "display_name": "Python 3",
   "language": "python",
   "name": "python3"
  },
  "language_info": {
   "codemirror_mode": {
    "name": "ipython",
    "version": 3
   },
   "file_extension": ".py",
   "mimetype": "text/x-python",
   "name": "python",
   "nbconvert_exporter": "python",
   "pygments_lexer": "ipython3",
   "version": "3.7.3"
  }
 },
 "nbformat": 4,
 "nbformat_minor": 2
}
