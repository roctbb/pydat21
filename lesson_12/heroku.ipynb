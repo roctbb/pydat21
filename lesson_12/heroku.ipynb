{
 "cells": [
  {
   "cell_type": "markdown",
   "metadata": {},
   "source": [
    "## Как выложить бота на HEROKU\n",
    "\n",
    "*Подготовил Ян Пиле*"
   ]
  },
  {
   "cell_type": "markdown",
   "metadata": {},
   "source": [
    "Сразу оговоримся, что мы на heroku выкладываем\n",
    "\n",
    "**echo-Бота в телеграме, написанного с помощью библиотеки [pyTelegramBotAPI](https://github.com/eternnoir/pyTelegramBotAPI)**.\n",
    "\n",
    "А взаимодействие его с сервером мы сделаем с использованием [flask](http://flask.pocoo.org/)\n",
    "\n",
    "То есть вы боту пишете что-то, а он вам отвечает то же самое."
   ]
  },
  {
   "cell_type": "markdown",
   "metadata": {},
   "source": [
    "## Регистрация"
   ]
  },
  {
   "cell_type": "markdown",
   "metadata": {},
   "source": [
    "Идем к **@BotFather** в Telegram и по его инструкции создаем нового бота командой **/newbot**. \n",
    "\n",
    "Это должно закончиться выдачей вам токена вашего бота. Например последовательность команд, введенных мной:\n",
    "\n",
    "* **/newbot**\n",
    "* **my_echo_bot** (имя бота)\n",
    "* **ian_echo_bot** (ник бота в телеграме)\n",
    "\n",
    "Завершилась выдачей мне токена **1403467808:AAEaaLPkIqrhrQ62p7ToJclLtNNINdOopYk**\n",
    "\n",
    "И ссылки  t.me/ian_echo_bot\n",
    "\n",
    "<img src=\"botfather.png\">"
   ]
  },
  {
   "cell_type": "markdown",
   "metadata": {},
   "source": [
    "## Регистрация на HEROKU\n",
    " \n",
    "Идем сюда: https://signup.heroku.com/login\n",
    "\n",
    "Создаем пользователя (это бесплатно)\n",
    "\n",
    "Попадаем на https://dashboard.heroku.com/apps и там создаем новое приложение:\n",
    "<img src=\"newapp1.png\">"
   ]
  },
  {
   "cell_type": "markdown",
   "metadata": {},
   "source": [
    "Вводим название и регион (Я выбрал Европу), создаем.\n",
    "<img src=\"newapp2.png\">\n",
    "\n",
    "После того, как приложение создано, нажмите, \"Open App\" и скопируйте адрес оттуда. \n",
    "\n",
    "<img src=\"newapp3.png\">\n",
    "\n",
    "У меня это https://ian-echo-bot.herokuapp.com"
   ]
  },
  {
   "cell_type": "markdown",
   "metadata": {},
   "source": [
    "## Установить интерфейсы heroku и git для командной строки"
   ]
  },
  {
   "cell_type": "markdown",
   "metadata": {},
   "source": [
    "Теперь надо установить Интерфейсы командной строки heroku и git по ссылкам:\n",
    "\n",
    "* https://devcenter.heroku.com/articles/heroku-cli\n",
    "* https://git-scm.com/book/en/v2/Getting-Started-Installing-Git"
   ]
  },
  {
   "cell_type": "markdown",
   "metadata": {},
   "source": [
    "## Установить библиотеки"
   ]
  },
  {
   "cell_type": "markdown",
   "metadata": {},
   "source": [
    "Теперь в вашем редакторе (например PyCharm) надо установить библиотеку для Телеграма и flask:\n",
    "\n",
    "* pip install pyTelegramBotAPI\n",
    "* pip install flask"
   ]
  },
  {
   "cell_type": "markdown",
   "metadata": {},
   "source": [
    "## Код нашего echo-бота\n",
    "\n",
    "Вот этот код я уложил в файл main.py"
   ]
  },
  {
   "cell_type": "code",
   "execution_count": null,
   "metadata": {},
   "outputs": [],
   "source": [
    "import os\n",
    "import telebot\n",
    "from flask import Flask, request\n",
    "\n",
    "TOKEN = '1403467808:AAEaaLPkIqrhrQ62p7ToJclLtNNINdOopYk' # это мой токен\n",
    "bot = telebot.TeleBot(token=TOKEN)\n",
    "server = Flask(__name__)\n",
    "\n",
    "    \n",
    "# Если строка на входе непустая, то бот повторит ее\n",
    "@bot.message_handler(func=lambda msg: msg.text is not None)\n",
    "def reply_to_message(message):\n",
    "    bot.send_message(message.chat.id, message.text)\n",
    "\n",
    "@server.route('/' + TOKEN, methods=['POST'])\n",
    "def getMessage():\n",
    "    bot.process_new_updates([telebot.types.Update.de_json(request.stream.read().decode(\"utf-8\"))])\n",
    "    return \"!\", 200\n",
    "\n",
    "@server.route(\"/\")\n",
    "def webhook():\n",
    "    bot.remove_webhook()\n",
    "    bot.set_webhook(url='https://ian-echo-bot.herokuapp.com/' + TOKEN) #\n",
    "    return \"!\", 200\n",
    "\n",
    "if __name__ == \"__main__\":\n",
    "    server.run(host=\"0.0.0.0\", port=int(os.environ.get('PORT', 5000)))\n"
   ]
  },
  {
   "cell_type": "markdown",
   "metadata": {},
   "source": [
    "## Теперь создаем еще два файла для запуска"
   ]
  },
  {
   "cell_type": "markdown",
   "metadata": {},
   "source": [
    "**Procfile**(файл без расширения). Его надо открыть текстовым редактором и вписать туда строку:\n",
    "\n",
    "    web: python main.py"
   ]
  },
  {
   "cell_type": "markdown",
   "metadata": {},
   "source": [
    "**requirements.txt** - файл со списком версий необходимых библиотек. \n",
    "\n",
    "Зайдите в PyCharm, где вы делаете проект и введите в терминале команду:\n",
    "\n",
    "    pip list format freeze > requirements.txt\n",
    "\n",
    "В файле записи должны иметь вид:\n",
    "    \n",
    "    Название библиотеки   Версия библиотеки\n",
    "    \n",
    "Если вдруг вы выдите что-то такое:\n",
    "<img src=\"versions.png\">\n",
    "\n",
    "Удалите этот кусок текста, чтоб остался только номер версии и сохраните файл.\n",
    "\n",
    "Теперь надо все эти файлы уложить на гит, привязанный к Heroku и запустить приложение.\n",
    "\n"
   ]
  },
  {
   "cell_type": "markdown",
   "metadata": {},
   "source": [
    "## Последний шаг"
   ]
  },
  {
   "cell_type": "markdown",
   "metadata": {},
   "source": [
    "Надо залогиниться в heroku через командную строку.\n",
    "\n",
    "Введите:\n",
    "\n",
    "    heroku login\n",
    "\n",
    "Вас перебросит в браузер на вот такую страницу:\n",
    "<img src=\"login.png\">\n"
   ]
  },
  {
   "cell_type": "markdown",
   "metadata": {},
   "source": [
    "После того, как вы залогинились, удостоверьтесь, что вы находитесь в папке, где лежат фаши файлы:\n",
    "    \n",
    "    main.py\n",
    "    Procfile\n",
    "    requirements.txt"
   ]
  },
  {
   "cell_type": "markdown",
   "metadata": {},
   "source": [
    "**Вводите команды:**"
   ]
  },
  {
   "cell_type": "markdown",
   "metadata": {},
   "source": [
    "    git init \n",
    "    git add .\n",
    "    git commit -m \"first commit\"\n",
    "    heroku git:remote -a ian-echo-bot\n",
    "    git push heroku master"
   ]
  },
  {
   "cell_type": "markdown",
   "metadata": {},
   "source": [
    "По ходу выкатки вы увидите что-то такое:\n",
    "<img src=\"process.png\">\n",
    "    "
   ]
  },
  {
   "cell_type": "markdown",
   "metadata": {},
   "source": [
    "Готово, вы выложили вашего бота."
   ]
  },
  {
   "cell_type": "markdown",
   "metadata": {},
   "source": [
    "Материалы, которыми можно воспользоваться по ходу выкладки бота на сервер:\n",
    "\n",
    "https://towardsdatascience.com/how-to-deploy-a-telegram-bot-using-heroku-for-free-9436f89575d2\n",
    "\n",
    "https://mattrighetti.medium.com/build-your-first-telegram-bot-using-python-and-heroku-79d48950d4b0"
   ]
  },
  {
   "cell_type": "code",
   "execution_count": null,
   "metadata": {},
   "outputs": [],
   "source": []
  }
 ],
 "metadata": {
  "kernelspec": {
   "display_name": "Python 3",
   "language": "python",
   "name": "python3"
  },
  "language_info": {
   "codemirror_mode": {
    "name": "ipython",
    "version": 3
   },
   "file_extension": ".py",
   "mimetype": "text/x-python",
   "name": "python",
   "nbconvert_exporter": "python",
   "pygments_lexer": "ipython3",
   "version": "3.8.3"
  }
 },
 "nbformat": 4,
 "nbformat_minor": 4
}
