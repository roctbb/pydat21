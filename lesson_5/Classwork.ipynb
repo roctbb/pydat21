{
 "cells": [
  {
   "cell_type": "code",
   "execution_count": 1,
   "metadata": {},
   "outputs": [
    {
     "name": "stdout",
     "output_type": "stream",
     "text": [
      "Сколько шагов? 3\n",
      "Ход 0:Вверх 1\n",
      "Ход 1:Вниз 1\n",
      "Ход 2:Вверх 1\n",
      "Пришли в точку (0, 1)\n",
      "Могли дойти за 1 шагов\n"
     ]
    }
   ],
   "source": [
    "# Про Поросенка\n",
    "\n",
    "x = 0\n",
    "y = 0\n",
    "N = int(input('Сколько шагов? '))\n",
    "\n",
    "for i in range(N):\n",
    "    order = input(\"Ход {}:\".format(i))\n",
    "    order_parts = order.split()\n",
    "    \n",
    "    direction = order_parts[0]\n",
    "    steps = int(order_parts[1])\n",
    "    \n",
    "    if direction == 'Вверх':\n",
    "        y += steps\n",
    "    elif direction == 'Вниз':\n",
    "        y -= steps\n",
    "    elif direction == 'Влево':\n",
    "        x -= steps\n",
    "    else:\n",
    "        x += steps\n",
    "\n",
    "print(\"Пришли в точку ({}, {})\".format(x, y))\n",
    "\n",
    "print(\"Могли дойти за {} шагов\".format(abs(x) + abs(y)))\n",
    "    "
   ]
  },
  {
   "cell_type": "code",
   "execution_count": 2,
   "metadata": {},
   "outputs": [
    {
     "name": "stdout",
     "output_type": "stream",
     "text": [
      "абвгд 234\n",
      "Цифр: 3\n",
      "Букв: 5\n"
     ]
    }
   ],
   "source": [
    "# Про цифры и буквы\n",
    "\n",
    "digits = 0\n",
    "letters = 0\n",
    "\n",
    "S = input()\n",
    "\n",
    "for letter in S:\n",
    "    if letter.isdigit():\n",
    "        digits += 1\n",
    "    if letter.isalpha():\n",
    "        letters += 1\n",
    "        \n",
    "print(\"Цифр:\", digits)\n",
    "print(\"Букв:\", letters)"
   ]
  },
  {
   "cell_type": "code",
   "execution_count": 5,
   "metadata": {},
   "outputs": [
    {
     "data": {
      "text/plain": [
       "[0, 3, 5, 6, 9]"
      ]
     },
     "execution_count": 5,
     "metadata": {},
     "output_type": "execute_result"
    }
   ],
   "source": [
    "[i for i in range(10) if i % 3 == 0 or i % 5 == 0]"
   ]
  },
  {
   "cell_type": "markdown",
   "metadata": {},
   "source": [
    "### Повторение"
   ]
  },
  {
   "cell_type": "code",
   "execution_count": 11,
   "metadata": {},
   "outputs": [
    {
     "name": "stdout",
     "output_type": "stream",
     "text": [
      "103 µs ± 1.06 µs per loop (mean ± std. dev. of 7 runs, 10000 loops each)\n"
     ]
    }
   ],
   "source": [
    "%%timeit\n",
    "# project euler 1\n",
    "\n",
    "S = 0\n",
    "number = 0\n",
    "\n",
    "while number < 1000:\n",
    "    if number % 3 == 0 or number % 5 == 0:\n",
    "        S += number\n",
    "    number += 1"
   ]
  },
  {
   "cell_type": "code",
   "execution_count": 13,
   "metadata": {},
   "outputs": [
    {
     "name": "stdout",
     "output_type": "stream",
     "text": [
      "70.6 µs ± 474 ns per loop (mean ± std. dev. of 7 runs, 10000 loops each)\n"
     ]
    }
   ],
   "source": [
    "%%timeit\n",
    "S = 0\n",
    "\n",
    "for number in range(1000):\n",
    "    if number % 3 == 0 or number % 5 == 0:\n",
    "        S += number\n",
    "        \n"
   ]
  },
  {
   "cell_type": "code",
   "execution_count": 14,
   "metadata": {},
   "outputs": [
    {
     "name": "stdout",
     "output_type": "stream",
     "text": [
      "65.2 µs ± 295 ns per loop (mean ± std. dev. of 7 runs, 10000 loops each)\n"
     ]
    }
   ],
   "source": [
    "%%timeit\n",
    "L = [i for i in range(1000) if i % 3 == 0 or i % 5 == 0]"
   ]
  },
  {
   "cell_type": "code",
   "execution_count": 16,
   "metadata": {},
   "outputs": [
    {
     "name": "stdout",
     "output_type": "stream",
     "text": [
      "868 ns ± 5.23 ns per loop (mean ± std. dev. of 7 runs, 1000000 loops each)\n"
     ]
    }
   ],
   "source": [
    "%%timeit\n",
    "A = 3*int(999/3)*(1+int(999/3))/2 + 5*int(999/5)*(1+int(999/5))/2 - 15*int(999/15)*(1+int(999/15))/2"
   ]
  },
  {
   "cell_type": "markdown",
   "metadata": {},
   "source": [
    "### Словари"
   ]
  },
  {
   "cell_type": "code",
   "execution_count": 17,
   "metadata": {},
   "outputs": [],
   "source": [
    "# списки\n",
    "\n",
    "L = [1, 2, 3]\n",
    "L1 = []\n",
    "L2 = list(\"abcd\")\n",
    "\n",
    "L.append(4)\n",
    "L.remove(4)\n",
    "\n",
    "L[0]\n",
    "del L[0]\n",
    "\n",
    "L1 + L2\n",
    "L1.sort()"
   ]
  },
  {
   "cell_type": "code",
   "execution_count": 18,
   "metadata": {},
   "outputs": [
    {
     "name": "stdout",
     "output_type": "stream",
     "text": [
      "<class 'dict'>\n"
     ]
    }
   ],
   "source": [
    "D = {}\n",
    "\n",
    "print(type(D))"
   ]
  },
  {
   "cell_type": "code",
   "execution_count": 22,
   "metadata": {},
   "outputs": [],
   "source": [
    "# создаем словарь\n",
    "D = {\n",
    "    \"Россия\": \"Москва\",\n",
    "    \"Италия\": \"Рим\",\n",
    "    \"Украина\": \"Киев\"\n",
    "}"
   ]
  },
  {
   "cell_type": "code",
   "execution_count": 23,
   "metadata": {},
   "outputs": [
    {
     "data": {
      "text/plain": [
       "'Москва'"
      ]
     },
     "execution_count": 23,
     "metadata": {},
     "output_type": "execute_result"
    }
   ],
   "source": [
    "# Какая столица у России (Какое значение у словаря D по ключю \"Россия\")\n",
    "D[\"Россия\"]"
   ]
  },
  {
   "cell_type": "code",
   "execution_count": 25,
   "metadata": {},
   "outputs": [
    {
     "name": "stdout",
     "output_type": "stream",
     "text": [
      "Введите страну:Израиль\n"
     ]
    },
    {
     "ename": "KeyError",
     "evalue": "'Израиль'",
     "output_type": "error",
     "traceback": [
      "\u001b[1;31m---------------------------------------------------------------------------\u001b[0m",
      "\u001b[1;31mKeyError\u001b[0m                                  Traceback (most recent call last)",
      "\u001b[1;32m<ipython-input-25-618b1e1c8d03>\u001b[0m in \u001b[0;36m<module>\u001b[1;34m\u001b[0m\n\u001b[0;32m      1\u001b[0m \u001b[0mcountry\u001b[0m \u001b[1;33m=\u001b[0m \u001b[0minput\u001b[0m\u001b[1;33m(\u001b[0m\u001b[1;34m'Введите страну:'\u001b[0m\u001b[1;33m)\u001b[0m\u001b[1;33m\u001b[0m\u001b[1;33m\u001b[0m\u001b[0m\n\u001b[0;32m      2\u001b[0m \u001b[1;33m\u001b[0m\u001b[0m\n\u001b[1;32m----> 3\u001b[1;33m \u001b[0mprint\u001b[0m\u001b[1;33m(\u001b[0m\u001b[1;34m\"Столица страны {} - {}\"\u001b[0m\u001b[1;33m.\u001b[0m\u001b[0mformat\u001b[0m\u001b[1;33m(\u001b[0m\u001b[0mcountry\u001b[0m\u001b[1;33m,\u001b[0m \u001b[0mD\u001b[0m\u001b[1;33m[\u001b[0m\u001b[0mcountry\u001b[0m\u001b[1;33m]\u001b[0m\u001b[1;33m)\u001b[0m\u001b[1;33m)\u001b[0m\u001b[1;33m\u001b[0m\u001b[1;33m\u001b[0m\u001b[0m\n\u001b[0m",
      "\u001b[1;31mKeyError\u001b[0m: 'Израиль'"
     ]
    }
   ],
   "source": [
    "country = input('Введите страну:')\n",
    "\n",
    "print(\"Столица страны {} - {}\".format(country, D[country]))"
   ]
  },
  {
   "cell_type": "code",
   "execution_count": 27,
   "metadata": {},
   "outputs": [
    {
     "name": "stdout",
     "output_type": "stream",
     "text": [
      "Введите страну:Россия\n",
      "Столица страны Россия - Москва\n"
     ]
    }
   ],
   "source": [
    "country = input('Введите страну:')\n",
    "\n",
    "if country in D:\n",
    "    print(\"Столица страны {} - {}\".format(country, D[country]))\n",
    "else:\n",
    "    print('Такой страны нет?')"
   ]
  },
  {
   "cell_type": "code",
   "execution_count": 28,
   "metadata": {},
   "outputs": [
    {
     "name": "stdout",
     "output_type": "stream",
     "text": [
      "dict_keys(['Россия', 'Италия', 'Украина'])\n"
     ]
    }
   ],
   "source": [
    "print(D.keys())"
   ]
  },
  {
   "cell_type": "code",
   "execution_count": 29,
   "metadata": {},
   "outputs": [
    {
     "name": "stdout",
     "output_type": "stream",
     "text": [
      "dict_values(['Москва', 'Рим', 'Киев'])\n"
     ]
    }
   ],
   "source": [
    "print(D.values())"
   ]
  },
  {
   "cell_type": "code",
   "execution_count": 33,
   "metadata": {},
   "outputs": [
    {
     "data": {
      "text/plain": [
       "{'Россия': 'Москва',\n",
       " 'Италия': 'Рим',\n",
       " 'Украина': 'Киев',\n",
       " 'Венгрия': 'Буддапешт'}"
      ]
     },
     "execution_count": 33,
     "metadata": {},
     "output_type": "execute_result"
    }
   ],
   "source": [
    "D[\"Венгрия\"] = \"Буддапешт\"\n",
    "D"
   ]
  },
  {
   "cell_type": "code",
   "execution_count": 34,
   "metadata": {},
   "outputs": [
    {
     "data": {
      "text/plain": [
       "{'Россия': 'Москва', 'Италия': 'Рим', 'Украина': 'Киев', 'Венгрия': 'Будапешт'}"
      ]
     },
     "execution_count": 34,
     "metadata": {},
     "output_type": "execute_result"
    }
   ],
   "source": [
    "D[\"Венгрия\"] = \"Будапешт\"\n",
    "D"
   ]
  },
  {
   "cell_type": "code",
   "execution_count": 35,
   "metadata": {},
   "outputs": [],
   "source": [
    "A = {\n",
    "    \"Америка\": \"Вашингтон\",\n",
    "    \"Канада\": \"Торонто\"\n",
    "}"
   ]
  },
  {
   "cell_type": "code",
   "execution_count": 40,
   "metadata": {},
   "outputs": [
    {
     "data": {
      "text/plain": [
       "{'Россия': 'Москва',\n",
       " 'Италия': 'Рим',\n",
       " 'Украина': 'Киев',\n",
       " 'Венгрия': 'Будапешт',\n",
       " 'Канада': 'Торонто',\n",
       " 'Америка': 'Вашингтон'}"
      ]
     },
     "execution_count": 40,
     "metadata": {},
     "output_type": "execute_result"
    }
   ],
   "source": [
    "D.update(A)\n",
    "\n",
    "D"
   ]
  },
  {
   "cell_type": "code",
   "execution_count": 41,
   "metadata": {},
   "outputs": [
    {
     "data": {
      "text/plain": [
       "{'Россия': 'Москва',\n",
       " 'Италия': 'Рим',\n",
       " 'Украина': 'Киев',\n",
       " 'Венгрия': 'Будапешт',\n",
       " 'Канада': 'Торонто'}"
      ]
     },
     "execution_count": 41,
     "metadata": {},
     "output_type": "execute_result"
    }
   ],
   "source": [
    "del D[\"Америка\"]\n",
    "D"
   ]
  },
  {
   "cell_type": "code",
   "execution_count": 42,
   "metadata": {},
   "outputs": [
    {
     "name": "stdout",
     "output_type": "stream",
     "text": [
      "1\n",
      "2\n",
      "3\n",
      "4\n"
     ]
    }
   ],
   "source": [
    "for elem in [1, 2, 3, 4]:\n",
    "    print(elem)"
   ]
  },
  {
   "cell_type": "code",
   "execution_count": 60,
   "metadata": {},
   "outputs": [
    {
     "name": "stdout",
     "output_type": "stream",
     "text": [
      "Россия Москва\n",
      "Италия Рим\n",
      "Украина Киев\n",
      "Венгрия Будапешт\n",
      "Канада Торонто\n"
     ]
    }
   ],
   "source": [
    "for country in D: # D.keys()\n",
    "    print(country, D[country])"
   ]
  },
  {
   "cell_type": "code",
   "execution_count": 46,
   "metadata": {},
   "outputs": [
    {
     "name": "stdout",
     "output_type": "stream",
     "text": [
      "Москва\n",
      "Рим\n",
      "Киев\n",
      "Будапешт\n",
      "Торонто\n"
     ]
    }
   ],
   "source": [
    "for capital in D.values():\n",
    "    print(capital)"
   ]
  },
  {
   "cell_type": "code",
   "execution_count": 49,
   "metadata": {},
   "outputs": [
    {
     "name": "stdout",
     "output_type": "stream",
     "text": [
      "Россия Москва\n",
      "Италия Рим\n",
      "Украина Киев\n",
      "Венгрия Будапешт\n",
      "Канада Торонто\n"
     ]
    }
   ],
   "source": [
    "for country, capital in D.items(): # for name, country in pythons\n",
    "    print(country, capital)"
   ]
  },
  {
   "cell_type": "code",
   "execution_count": 48,
   "metadata": {},
   "outputs": [
    {
     "data": {
      "text/plain": [
       "['Венгрия', 'Италия', 'Канада', 'Россия', 'Украина']"
      ]
     },
     "execution_count": 48,
     "metadata": {},
     "output_type": "execute_result"
    }
   ],
   "source": [
    "sorted(D)"
   ]
  },
  {
   "cell_type": "code",
   "execution_count": 51,
   "metadata": {},
   "outputs": [
    {
     "data": {
      "text/plain": [
       "[('Россия', 'Москва'),\n",
       " ('Италия', 'Рим'),\n",
       " ('Украина', 'Киев'),\n",
       " ('Венгрия', 'Будапешт'),\n",
       " ('Канада', 'Торонто')]"
      ]
     },
     "execution_count": 51,
     "metadata": {},
     "output_type": "execute_result"
    }
   ],
   "source": [
    "list(D.items())"
   ]
  },
  {
   "cell_type": "code",
   "execution_count": 57,
   "metadata": {},
   "outputs": [],
   "source": [
    "number_names = {\n",
    "    1: \"Один\",\n",
    "    1.1: \"Один и еще чуть-чуть\",\n",
    "    2: \"Два\"\n",
    "}"
   ]
  },
  {
   "cell_type": "code",
   "execution_count": 58,
   "metadata": {},
   "outputs": [
    {
     "data": {
      "text/plain": [
       "'Один'"
      ]
     },
     "execution_count": 58,
     "metadata": {},
     "output_type": "execute_result"
    }
   ],
   "source": [
    "number_names[1]"
   ]
  },
  {
   "cell_type": "code",
   "execution_count": 59,
   "metadata": {},
   "outputs": [
    {
     "data": {
      "text/plain": [
       "'Один и еще чуть-чуть'"
      ]
     },
     "execution_count": 59,
     "metadata": {},
     "output_type": "execute_result"
    }
   ],
   "source": [
    "number_names[1.1]"
   ]
  },
  {
   "cell_type": "code",
   "execution_count": 62,
   "metadata": {},
   "outputs": [],
   "source": [
    "forest = {\n",
    "    (0, 0): \"Винни-Пух\",\n",
    "    (10, 5): \"Кролик\",\n",
    "    (100, 100): \"Осел\",\n",
    "}"
   ]
  },
  {
   "cell_type": "code",
   "execution_count": 64,
   "metadata": {},
   "outputs": [
    {
     "name": "stdout",
     "output_type": "stream",
     "text": [
      "23\n",
      "4\n",
      "Тут никто не живет\n"
     ]
    }
   ],
   "source": [
    "x = int(input())\n",
    "y = int(input())\n",
    "\n",
    "if (x, y) in forest:\n",
    "    print('Здесь живет {}'.format(forest[(x, y)]))\n",
    "else:\n",
    "    print(\"Тут никто не живет\")"
   ]
  },
  {
   "cell_type": "code",
   "execution_count": 67,
   "metadata": {},
   "outputs": [
    {
     "name": "stdout",
     "output_type": "stream",
     "text": [
      "Вижу A, в словаре - {'A': 1}\n",
      "Вижу B, в словаре - {'A': 1, 'B': 1}\n",
      "Вижу A, в словаре - {'A': 2, 'B': 1}\n",
      "Вижу B, в словаре - {'A': 2, 'B': 2}\n",
      "Вижу A, в словаре - {'A': 3, 'B': 2}\n",
      "Вижу B, в словаре - {'A': 3, 'B': 3}\n",
      "Вижу C, в словаре - {'A': 3, 'B': 3, 'C': 1}\n",
      "Вижу A, в словаре - {'A': 4, 'B': 3, 'C': 1}\n",
      "Вижу E, в словаре - {'A': 4, 'B': 3, 'C': 1, 'E': 1}\n",
      "Вижу A, в словаре - {'A': 5, 'B': 3, 'C': 1, 'E': 1}\n",
      "{'A': 5, 'B': 3, 'C': 1, 'E': 1}\n"
     ]
    }
   ],
   "source": [
    "emails = [\"A\", \"B\", \"A\", \"B\", \"A\", \"B\", \"C\", \"A\", \"E\", \"A\"]\n",
    "\n",
    "counter = {}\n",
    "\n",
    "for email in emails:\n",
    "    if email in counter:\n",
    "        counter[email] = counter[email] + 1 # counter[email] += 1\n",
    "    else:\n",
    "        counter[email] = 1\n",
    "    \n",
    "    print(\"Вижу {}, в словаре - {}\".format(email, counter))\n",
    "\n",
    "print(counter)"
   ]
  },
  {
   "cell_type": "code",
   "execution_count": 69,
   "metadata": {},
   "outputs": [
    {
     "data": {
      "text/plain": [
       "5"
      ]
     },
     "execution_count": 69,
     "metadata": {},
     "output_type": "execute_result"
    }
   ],
   "source": [
    "value = counter.get(\"A\")\n",
    "print(value)"
   ]
  },
  {
   "cell_type": "code",
   "execution_count": 73,
   "metadata": {},
   "outputs": [
    {
     "name": "stdout",
     "output_type": "stream",
     "text": [
      "None <class 'NoneType'>\n"
     ]
    }
   ],
   "source": [
    "value = counter.get(\"sfsdf\")\n",
    "print(value, type(value))"
   ]
  },
  {
   "cell_type": "code",
   "execution_count": 74,
   "metadata": {},
   "outputs": [
    {
     "data": {
      "text/plain": [
       "0"
      ]
     },
     "execution_count": 74,
     "metadata": {},
     "output_type": "execute_result"
    }
   ],
   "source": [
    "counter.get(\"sdfsdf\", 0)"
   ]
  },
  {
   "cell_type": "code",
   "execution_count": 75,
   "metadata": {},
   "outputs": [
    {
     "name": "stdout",
     "output_type": "stream",
     "text": [
      "Вижу A, в словаре - {'A': 1}\n",
      "Вижу B, в словаре - {'A': 1, 'B': 1}\n",
      "Вижу A, в словаре - {'A': 2, 'B': 1}\n",
      "Вижу B, в словаре - {'A': 2, 'B': 2}\n",
      "Вижу A, в словаре - {'A': 3, 'B': 2}\n",
      "Вижу B, в словаре - {'A': 3, 'B': 3}\n",
      "Вижу C, в словаре - {'A': 3, 'B': 3, 'C': 1}\n",
      "Вижу A, в словаре - {'A': 4, 'B': 3, 'C': 1}\n",
      "Вижу E, в словаре - {'A': 4, 'B': 3, 'C': 1, 'E': 1}\n",
      "Вижу A, в словаре - {'A': 5, 'B': 3, 'C': 1, 'E': 1}\n",
      "{'A': 5, 'B': 3, 'C': 1, 'E': 1}\n"
     ]
    }
   ],
   "source": [
    "emails = [\"A\", \"B\", \"A\", \"B\", \"A\", \"B\", \"C\", \"A\", \"E\", \"A\"]\n",
    "\n",
    "counter = {}\n",
    "\n",
    "for email in emails:\n",
    "    counter[email] = counter.get(email, 0) + 1\n",
    "    print(\"Вижу {}, в словаре - {}\".format(email, counter))\n",
    "\n",
    "print(counter)"
   ]
  },
  {
   "cell_type": "code",
   "execution_count": 76,
   "metadata": {},
   "outputs": [
    {
     "name": "stdout",
     "output_type": "stream",
     "text": [
      "A B V\n",
      "3 4 5\n",
      "{'A': '3', 'B': '4', 'V': '5'}\n"
     ]
    }
   ],
   "source": [
    "names = input().split()\n",
    "marks = input().split()\n",
    "\n",
    "D = {}\n",
    "\n",
    "for i in range(len(names)):\n",
    "    D[names[i]] = marks[i]\n",
    "    \n",
    "print(D)"
   ]
  },
  {
   "cell_type": "code",
   "execution_count": 78,
   "metadata": {},
   "outputs": [
    {
     "name": "stdout",
     "output_type": "stream",
     "text": [
      "a s d\n",
      "1 2 3\n",
      "{'a': '1', 's': '2', 'd': '3'}\n"
     ]
    }
   ],
   "source": [
    "names = input().split()\n",
    "marks = input().split()\n",
    "\n",
    "D = dict(zip(names, marks))\n",
    "print(D)"
   ]
  },
  {
   "cell_type": "markdown",
   "metadata": {},
   "source": [
    "### Обработка исключений"
   ]
  },
  {
   "cell_type": "code",
   "execution_count": 85,
   "metadata": {},
   "outputs": [
    {
     "name": "stdout",
     "output_type": "stream",
     "text": [
      "asdfa\n",
      "Введите целое число\n",
      "asdf\n",
      "Введите целое число\n",
      "asdf\n",
      "Введите целое число\n",
      "a23\n",
      "Введите целое число\n",
      "234\n",
      "30.42\n"
     ]
    }
   ],
   "source": [
    "while True:\n",
    "    try:\n",
    "        income = int(input())\n",
    "        print(income * 0.13)\n",
    "        break\n",
    "    except:\n",
    "        print(\"Введите целое число\")"
   ]
  },
  {
   "cell_type": "code",
   "execution_count": 98,
   "metadata": {},
   "outputs": [
    {
     "name": "stdout",
     "output_type": "stream",
     "text": [
      "10 / 0\n"
     ]
    },
    {
     "ename": "ZeroDivisionError",
     "evalue": "division by zero",
     "output_type": "error",
     "traceback": [
      "\u001b[1;31m---------------------------------------------------------------------------\u001b[0m",
      "\u001b[1;31mZeroDivisionError\u001b[0m                         Traceback (most recent call last)",
      "\u001b[1;32m<ipython-input-98-bf20b5fc1acf>\u001b[0m in \u001b[0;36m<module>\u001b[1;34m\u001b[0m\n\u001b[0;32m     12\u001b[0m     \u001b[0mprint\u001b[0m\u001b[1;33m(\u001b[0m\u001b[0mA\u001b[0m \u001b[1;33m*\u001b[0m \u001b[0mB\u001b[0m\u001b[1;33m)\u001b[0m\u001b[1;33m\u001b[0m\u001b[1;33m\u001b[0m\u001b[0m\n\u001b[0;32m     13\u001b[0m \u001b[1;32melif\u001b[0m \u001b[0msign\u001b[0m \u001b[1;33m==\u001b[0m \u001b[1;34m'/'\u001b[0m\u001b[1;33m:\u001b[0m\u001b[1;33m\u001b[0m\u001b[1;33m\u001b[0m\u001b[0m\n\u001b[1;32m---> 14\u001b[1;33m     \u001b[0mprint\u001b[0m\u001b[1;33m(\u001b[0m\u001b[0mA\u001b[0m \u001b[1;33m/\u001b[0m \u001b[0mB\u001b[0m\u001b[1;33m)\u001b[0m\u001b[1;33m\u001b[0m\u001b[1;33m\u001b[0m\u001b[0m\n\u001b[0m",
      "\u001b[1;31mZeroDivisionError\u001b[0m: division by zero"
     ]
    }
   ],
   "source": [
    "expression = input()\n",
    "parts = expression.split()\n",
    "A = int(parts[0])\n",
    "sign = parts[1]\n",
    "B = int(parts[2])\n",
    "\n",
    "if sign == '+':\n",
    "    print(A + B)\n",
    "elif sign == '-':\n",
    "    print(A - B)\n",
    "elif sign == '*':\n",
    "    print(A * B)\n",
    "elif sign == '/':\n",
    "    print(A / B)"
   ]
  },
  {
   "cell_type": "code",
   "execution_count": 92,
   "metadata": {},
   "outputs": [
    {
     "name": "stdout",
     "output_type": "stream",
     "text": [
      "3434\n",
      "Что то пошло не так\n"
     ]
    }
   ],
   "source": [
    "# 23 - 3\n",
    "try:\n",
    "    expression = input()\n",
    "    parts = expression.split()\n",
    "    A = int(parts[0])\n",
    "    sign = parts[1]\n",
    "    B = int(parts[2])\n",
    "\n",
    "    if sign == '+':\n",
    "        print(A + B)\n",
    "    elif sign == '-':\n",
    "        print(A - B)\n",
    "    elif sign == '*':\n",
    "        print(A * B)\n",
    "    elif sign == '/':\n",
    "        print(A / B)\n",
    "except:\n",
    "    print(\"Что то пошло не так\")"
   ]
  },
  {
   "cell_type": "code",
   "execution_count": 93,
   "metadata": {},
   "outputs": [
    {
     "name": "stdout",
     "output_type": "stream",
     "text": [
      "asdefsdf\n",
      "Возникла ошибка invalid literal for int() with base 10: 'asdefsdf'\n"
     ]
    }
   ],
   "source": [
    "# 23 - 3\n",
    "try:\n",
    "    expression = input()\n",
    "    parts = expression.split()\n",
    "    A = int(parts[0])\n",
    "    sign = parts[1]\n",
    "    B = int(parts[2])\n",
    "\n",
    "    if sign == '+':\n",
    "        print(A + B)\n",
    "    elif sign == '-':\n",
    "        print(A - B)\n",
    "    elif sign == '*':\n",
    "        print(A * B)\n",
    "    elif sign == '/':\n",
    "        print(A / B)\n",
    "except Exception as e:\n",
    "    print(\"Возникла ошибка\", e)"
   ]
  },
  {
   "cell_type": "code",
   "execution_count": 107,
   "metadata": {},
   "outputs": [
    {
     "name": "stdout",
     "output_type": "stream",
     "text": [
      "34 dg 34\n"
     ]
    },
    {
     "ename": "AttributeError",
     "evalue": "'Exception' object has no attribute 'message'",
     "output_type": "error",
     "traceback": [
      "\u001b[1;31m---------------------------------------------------------------------------\u001b[0m",
      "\u001b[1;31mException\u001b[0m                                 Traceback (most recent call last)",
      "\u001b[1;32m<ipython-input-107-8bbdd2a567b5>\u001b[0m in \u001b[0;36m<module>\u001b[1;34m\u001b[0m\n\u001b[0;32m     17\u001b[0m \u001b[1;33m\u001b[0m\u001b[0m\n\u001b[1;32m---> 18\u001b[1;33m     \u001b[1;32mraise\u001b[0m \u001b[0mException\u001b[0m\u001b[1;33m(\u001b[0m\u001b[1;34m\"Неверная операция\"\u001b[0m\u001b[1;33m)\u001b[0m\u001b[1;33m\u001b[0m\u001b[1;33m\u001b[0m\u001b[0m\n\u001b[0m\u001b[0;32m     19\u001b[0m \u001b[1;33m\u001b[0m\u001b[0m\n",
      "\u001b[1;31mException\u001b[0m: Неверная операция",
      "\nDuring handling of the above exception, another exception occurred:\n",
      "\u001b[1;31mAttributeError\u001b[0m                            Traceback (most recent call last)",
      "\u001b[1;32m<ipython-input-107-8bbdd2a567b5>\u001b[0m in \u001b[0;36m<module>\u001b[1;34m\u001b[0m\n\u001b[0;32m     23\u001b[0m     \u001b[0mprint\u001b[0m\u001b[1;33m(\u001b[0m\u001b[1;34m\"Введите корректное выражение с пробелами\"\u001b[0m\u001b[1;33m)\u001b[0m\u001b[1;33m\u001b[0m\u001b[1;33m\u001b[0m\u001b[0m\n\u001b[0;32m     24\u001b[0m \u001b[1;32mexcept\u001b[0m \u001b[0mException\u001b[0m \u001b[1;32mas\u001b[0m \u001b[0me\u001b[0m\u001b[1;33m:\u001b[0m\u001b[1;33m\u001b[0m\u001b[1;33m\u001b[0m\u001b[0m\n\u001b[1;32m---> 25\u001b[1;33m     \u001b[1;32mif\u001b[0m \u001b[0me\u001b[0m\u001b[1;33m.\u001b[0m\u001b[0mmessage\u001b[0m \u001b[1;33m==\u001b[0m \u001b[1;34m\"Неверная операция\"\u001b[0m\u001b[1;33m:\u001b[0m\u001b[1;33m\u001b[0m\u001b[1;33m\u001b[0m\u001b[0m\n\u001b[0m\u001b[0;32m     26\u001b[0m         \u001b[0mprint\u001b[0m\u001b[1;33m(\u001b[0m\u001b[0me\u001b[0m\u001b[1;33m)\u001b[0m\u001b[1;33m\u001b[0m\u001b[1;33m\u001b[0m\u001b[0m\n\u001b[0;32m     27\u001b[0m     \u001b[0mprint\u001b[0m\u001b[1;33m(\u001b[0m\u001b[1;34m\"Возникла ошибка\"\u001b[0m\u001b[1;33m,\u001b[0m \u001b[0mtype\u001b[0m\u001b[1;33m(\u001b[0m\u001b[0me\u001b[0m\u001b[1;33m)\u001b[0m\u001b[1;33m,\u001b[0m \u001b[0me\u001b[0m\u001b[1;33m)\u001b[0m\u001b[1;33m\u001b[0m\u001b[1;33m\u001b[0m\u001b[0m\n",
      "\u001b[1;31mAttributeError\u001b[0m: 'Exception' object has no attribute 'message'"
     ]
    }
   ],
   "source": [
    "# 23 - 3\n",
    "try:\n",
    "    expression = input()\n",
    "    parts = expression.split()\n",
    "    A = int(parts[0])\n",
    "    sign = parts[1]\n",
    "    B = int(parts[2])\n",
    "\n",
    "    if sign == '+':\n",
    "        print(A + B)\n",
    "    elif sign == '-':\n",
    "        print(A - B)\n",
    "    elif sign == '*':\n",
    "        print(A * B)\n",
    "    elif sign == '/':\n",
    "        print(A / B)\n",
    "    \n",
    "    raise Exception(\"Неверная операция\")\n",
    "    \n",
    "except ZeroDivisionError:\n",
    "    print(\"На ноль делить нельзя\")\n",
    "except ValueError:\n",
    "    print(\"Введите корректное выражение с пробелами\")\n",
    "except Exception as e:\n",
    "    print(\"Возникла ошибка\", type(e), e)"
   ]
  },
  {
   "cell_type": "code",
   "execution_count": 104,
   "metadata": {},
   "outputs": [
    {
     "name": "stdout",
     "output_type": "stream",
     "text": [
      "100\n"
     ]
    },
    {
     "ename": "Exception",
     "evalue": "Да как вы смеете вводить число больше 10!!!",
     "output_type": "error",
     "traceback": [
      "\u001b[1;31m---------------------------------------------------------------------------\u001b[0m",
      "\u001b[1;31mException\u001b[0m                                 Traceback (most recent call last)",
      "\u001b[1;32m<ipython-input-104-79e6d3334b78>\u001b[0m in \u001b[0;36m<module>\u001b[1;34m\u001b[0m\n\u001b[0;32m      2\u001b[0m \u001b[1;33m\u001b[0m\u001b[0m\n\u001b[0;32m      3\u001b[0m \u001b[1;32mif\u001b[0m \u001b[0mA\u001b[0m \u001b[1;33m>\u001b[0m \u001b[1;36m10\u001b[0m\u001b[1;33m:\u001b[0m\u001b[1;33m\u001b[0m\u001b[1;33m\u001b[0m\u001b[0m\n\u001b[1;32m----> 4\u001b[1;33m     \u001b[1;32mraise\u001b[0m \u001b[0mException\u001b[0m\u001b[1;33m(\u001b[0m\u001b[1;34m\"Да как вы смеете вводить число больше 10!!!\"\u001b[0m\u001b[1;33m)\u001b[0m\u001b[1;33m\u001b[0m\u001b[1;33m\u001b[0m\u001b[0m\n\u001b[0m\u001b[0;32m      5\u001b[0m \u001b[0mprint\u001b[0m\u001b[1;33m(\u001b[0m\u001b[1;34m\"Все ок\"\u001b[0m\u001b[1;33m)\u001b[0m\u001b[1;33m\u001b[0m\u001b[1;33m\u001b[0m\u001b[0m\n",
      "\u001b[1;31mException\u001b[0m: Да как вы смеете вводить число больше 10!!!"
     ]
    }
   ],
   "source": [
    "A = int(input())\n",
    "\n",
    "if A > 10:\n",
    "    raise Exception(\"Да как вы смеете вводить число больше 10!!!\")\n",
    "print(\"Все ок\")"
   ]
  },
  {
   "cell_type": "code",
   "execution_count": 108,
   "metadata": {},
   "outputs": [
    {
     "ename": "IndexError",
     "evalue": "list index out of range",
     "output_type": "error",
     "traceback": [
      "\u001b[1;31m---------------------------------------------------------------------------\u001b[0m",
      "\u001b[1;31mIndexError\u001b[0m                                Traceback (most recent call last)",
      "\u001b[1;32m<ipython-input-108-22b9e42ead64>\u001b[0m in \u001b[0;36m<module>\u001b[1;34m\u001b[0m\n\u001b[0;32m      1\u001b[0m \u001b[0mL\u001b[0m \u001b[1;33m=\u001b[0m \u001b[1;33m[\u001b[0m\u001b[1;33m]\u001b[0m\u001b[1;33m\u001b[0m\u001b[1;33m\u001b[0m\u001b[0m\n\u001b[0;32m      2\u001b[0m \u001b[1;33m\u001b[0m\u001b[0m\n\u001b[1;32m----> 3\u001b[1;33m \u001b[0mprint\u001b[0m\u001b[1;33m(\u001b[0m\u001b[0mL\u001b[0m\u001b[1;33m[\u001b[0m\u001b[1;36m1\u001b[0m\u001b[1;33m]\u001b[0m\u001b[1;33m)\u001b[0m\u001b[1;33m\u001b[0m\u001b[1;33m\u001b[0m\u001b[0m\n\u001b[0m",
      "\u001b[1;31mIndexError\u001b[0m: list index out of range"
     ]
    }
   ],
   "source": [
    "L = []\n",
    "\n",
    "print(L[1])"
   ]
  },
  {
   "cell_type": "code",
   "execution_count": null,
   "metadata": {},
   "outputs": [],
   "source": [
    "a = 3\n",
    "b = 5\n",
    "\n",
    "if a > b:\n",
    "    print(a)\n",
    "else:\n",
    "    print(b)"
   ]
  },
  {
   "cell_type": "markdown",
   "metadata": {},
   "source": [
    "### Функции"
   ]
  },
  {
   "cell_type": "code",
   "execution_count": 118,
   "metadata": {},
   "outputs": [
    {
     "name": "stdout",
     "output_type": "stream",
     "text": [
      "Привет, Василий!\n",
      "Рад вас видеть!\n"
     ]
    }
   ],
   "source": [
    "def say_hello(name):\n",
    "    print(\"Привет, {}!\".format(name))\n",
    "    print(\"Рад вас видеть!\")\n",
    "    \n",
    "say_hello(\"Василий\")"
   ]
  },
  {
   "cell_type": "code",
   "execution_count": 119,
   "metadata": {},
   "outputs": [
    {
     "name": "stdout",
     "output_type": "stream",
     "text": [
      "Привет, Александр!\n",
      "Рад вас видеть!\n",
      "Привет, Иван!\n",
      "Рад вас видеть!\n"
     ]
    }
   ],
   "source": [
    "say_hello(\"Александр\")\n",
    "say_hello(\"Иван\")"
   ]
  },
  {
   "cell_type": "code",
   "execution_count": 125,
   "metadata": {},
   "outputs": [
    {
     "data": {
      "text/plain": [
       "166833.0"
      ]
     },
     "execution_count": 125,
     "metadata": {},
     "output_type": "execute_result"
    }
   ],
   "source": [
    "def progression(step, last):\n",
    "    S = step*int(last/step)*(1+int(last/step))/2 \n",
    "    return S\n",
    "    \n",
    "progression(3, 999)"
   ]
  },
  {
   "cell_type": "code",
   "execution_count": 127,
   "metadata": {},
   "outputs": [
    {
     "name": "stdout",
     "output_type": "stream",
     "text": [
      "99500.0\n"
     ]
    }
   ],
   "source": [
    "R = progression(5, 999)\n",
    "print(R)"
   ]
  },
  {
   "cell_type": "code",
   "execution_count": 122,
   "metadata": {},
   "outputs": [
    {
     "name": "stdout",
     "output_type": "stream",
     "text": [
      "33165.0\n"
     ]
    }
   ],
   "source": [
    "progression(15, 999)"
   ]
  },
  {
   "cell_type": "code",
   "execution_count": 128,
   "metadata": {},
   "outputs": [
    {
     "data": {
      "text/plain": [
       "233168.0"
      ]
     },
     "execution_count": 128,
     "metadata": {},
     "output_type": "execute_result"
    }
   ],
   "source": [
    "progression(3, 999) + progression(5, 999) - progression(15, 999)"
   ]
  },
  {
   "cell_type": "code",
   "execution_count": 130,
   "metadata": {},
   "outputs": [
    {
     "name": "stdout",
     "output_type": "stream",
     "text": [
      "-234\n",
      "1\n"
     ]
    }
   ],
   "source": [
    "A = int(input())\n",
    "\n",
    "if A > 0:\n",
    "    B = 0\n",
    "else:\n",
    "    B = 1\n",
    "\n",
    "print(B)"
   ]
  },
  {
   "cell_type": "code",
   "execution_count": 139,
   "metadata": {},
   "outputs": [
    {
     "name": "stdout",
     "output_type": "stream",
     "text": [
      "5\n",
      "5\n",
      "5\n",
      "-234\n"
     ]
    }
   ],
   "source": [
    "def F():\n",
    "    global B\n",
    "    A = 5\n",
    "    B += 4\n",
    "    print(A)\n",
    "    print(B)\n",
    "    \n",
    "F()\n",
    "print(B)\n",
    "print(A)"
   ]
  },
  {
   "cell_type": "code",
   "execution_count": null,
   "metadata": {},
   "outputs": [],
   "source": []
  }
 ],
 "metadata": {
  "kernelspec": {
   "display_name": "Python 3",
   "language": "python",
   "name": "python3"
  },
  "language_info": {
   "codemirror_mode": {
    "name": "ipython",
    "version": 3
   },
   "file_extension": ".py",
   "mimetype": "text/x-python",
   "name": "python",
   "nbconvert_exporter": "python",
   "pygments_lexer": "ipython3",
   "version": "3.7.3"
  }
 },
 "nbformat": 4,
 "nbformat_minor": 2
}
