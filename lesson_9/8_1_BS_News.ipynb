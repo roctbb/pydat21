{
 "cells": [
  {
   "cell_type": "markdown",
   "metadata": {},
   "source": [
    "# Python для анализа данных\n",
    "\n",
    "## Web-scraping: скрэйпинг новостного сайта\n",
    "\n",
    "*Автор: Алла Тамбовцева, НИУ ВШЭ*  "
   ]
  },
  {
   "cell_type": "markdown",
   "metadata": {},
   "source": [
    "Мы уже немного познакомились со структурой html-файлов, теперь попробуем выгрузить информацию из реальной страницы, а точнее, с реального сайта [nplus1.ru](https://nplus1.ru/).\n",
    "\n",
    "**Наша задача:** выгрузить недавние новости в датафрейм `pandas`, чтобы потом сохранить все в csv-файл.\n",
    "\n",
    "Сначала сгрузим весь html-код страницы и сохраним его в отдельную переменную. Для этого нам понадобится библиотека `requests`. Импортируем её:"
   ]
  },
  {
   "cell_type": "code",
   "execution_count": 1,
   "metadata": {},
   "outputs": [],
   "source": [
    "import requests"
   ]
  },
  {
   "cell_type": "markdown",
   "metadata": {},
   "source": [
    "Сохраним ссылку на главную страницу сайта в переменную `url` для удобства и выгрузим страницу. (Разумеется, это будет работать при подключении к интернету. Если соединение будет отключено, Python выдаст `NewConnectionError`)."
   ]
  },
  {
   "cell_type": "code",
   "execution_count": 2,
   "metadata": {},
   "outputs": [],
   "source": [
    "url = 'https://nplus1.ru/' # сохраняем\n",
    "page = requests.get(url) # загружаем страницу по ссылке"
   ]
  },
  {
   "cell_type": "markdown",
   "metadata": {},
   "source": [
    "Если мы просто посмотрим на объект, мы ничего особенного не увидим:"
   ]
  },
  {
   "cell_type": "code",
   "execution_count": 3,
   "metadata": {},
   "outputs": [
    {
     "data": {
      "text/plain": [
       "<Response [200]>"
      ]
     },
     "execution_count": 3,
     "metadata": {},
     "output_type": "execute_result"
    }
   ],
   "source": [
    "page  # response 200 - страница загружена"
   ]
  },
  {
   "cell_type": "markdown",
   "metadata": {},
   "source": [
    "Импортируем функцию `BeautifulSoup` из библиотеки `bs4` (от *beautifulsoup4*) и заберём со страницы `page` код html в виде текста. "
   ]
  },
  {
   "cell_type": "code",
   "execution_count": 4,
   "metadata": {},
   "outputs": [],
   "source": [
    "from bs4 import BeautifulSoup  # не спрашивайте, почему BeautifulSoup"
   ]
  },
  {
   "cell_type": "code",
   "execution_count": 5,
   "metadata": {},
   "outputs": [],
   "source": [
    "soup = BeautifulSoup(page.text, 'lxml')"
   ]
  },
  {
   "cell_type": "markdown",
   "metadata": {},
   "source": [
    "Если выведем `soup` на экран, мы увидим то же самое, что в режиме разработчика или в режиме происмотра исходного кода (`view-source` через *Ctrl+U* в Google Chrome)."
   ]
  },
  {
   "cell_type": "code",
   "execution_count": null,
   "metadata": {},
   "outputs": [],
   "source": [
    "# soup"
   ]
  },
  {
   "cell_type": "markdown",
   "metadata": {},
   "source": [
    "Для просмотра выглядит не очень удобно.  «Причешем» наш `soup` – воспользуемся методом `.prettify()` в сочетании с функцией `print()`."
   ]
  },
  {
   "cell_type": "code",
   "execution_count": null,
   "metadata": {},
   "outputs": [],
   "source": [
    "# print(soup.prettify())"
   ]
  },
  {
   "cell_type": "markdown",
   "metadata": {},
   "source": [
    "В такой выдаче ориентироваться гораздо удобнее (но при желании, то же можно увидеть в браузере, на большом экране)."
   ]
  },
  {
   "cell_type": "markdown",
   "metadata": {},
   "source": [
    "Чтобы сгрузить все новости с главной страницы сайта, нужно собрать все ссылки на страницы с этими новостями. Ссылки в html-файле всегда заключены в тэг `<a></a>` и имеют атрибут `href`. Посмотрим на кусочки кода, соответствующие всем ссылкам на главной странице сайта:"
   ]
  },
  {
   "cell_type": "code",
   "execution_count": 6,
   "metadata": {},
   "outputs": [
    {
     "name": "stdout",
     "output_type": "stream",
     "text": [
      "#\n",
      "/\n",
      "#\n",
      "#\n",
      "/rubric/astronomy\n",
      "/rubric/physics\n",
      "/rubric/biology\n",
      "/rubric/robots-drones\n",
      "/theme/explainatorium\n",
      "/theme/bookshelf\n",
      "/theme/Courses\n",
      "/theme/coronavirus-history\n",
      "/\n",
      "#\n",
      "/rubric/astronomy\n",
      "/rubric/physics\n",
      "/rubric/biology\n",
      "/rubric/robots-drones\n",
      "#\n",
      "/theme/explainatorium\n",
      "/theme/bookshelf\n",
      "/theme/Courses\n",
      "/theme/coronavirus-history\n",
      "https://nplus1.ru/blog/2020/04/02/marsphone\n",
      "https://nplus1.ru/blog/2020/04/02/marsphone\n",
      "https://nplus1.ru/blog/2020/04/02/low\n",
      "https://nplus1.ru/blog/2020/03/23/pompeiis-best-houses\n",
      "https://nplus1.ru/blog/2020/03/22/infodemia\n",
      "https://nplus1.ru/blog/2020/03/17/isolation-and-iss\n",
      "https://nplus1.ru/blog/2020/03/16/ludere-ridere-occest-vivere\n",
      "https://nplus1.ru/blog/2020/03/12/onemoredelay\n",
      "https://nplus1.ru/blog/2020/03/12/public-opinion-yudin\n",
      "https://nplus1.ru/blog/2020/03/06/death-from-the-skies\n",
      "https://nplus1.ru/blog/2020/04/06/maps-of-meaning\n",
      "/news/2020/04/08/three-fireballs-europe\n",
      "/news/2020/04/08/apple-patent\n",
      "/news/2020/04/08/modernize\n",
      "/news/2020/04/08/no-chronic-diseases\n",
      "/news/2020/04/08/Maxwell-demon-measurement\n",
      "/news/2020/04/08/ATLAS-no-bright\n",
      "/news/2020/04/08/skyguardian\n",
      "/material/2020/04/06/weapons\n",
      "/rubric/weapon\n",
      "/material/2020/04/04/citi-surge-pricing\n",
      "/rubric/partners\n",
      "/theme/math\n",
      "/news/2020/04/07/innovative-birds\n",
      "/news/2020/04/07/giant-viruses-metabolism\n",
      "/news/2020/04/07/background-greenscreen\n",
      "/news/2020/04/07/volcano-global-warming\n",
      "/news/2020/04/07/classical-learning\n",
      "/news/2020/04/07/gripen\n",
      "/blog/2020/04/07/troubled-oculudentavis\n",
      "/blog/2020/04/06/maps-of-meaning\n",
      "/news/2020/04/02/films-to-science\n",
      "/rubric/mezzanine\n",
      "/news/2020/03/31/hightech-garbage\n",
      "/rubric/gadgets\n",
      "/news/2020/04/07/polyamorphous-so2\n",
      "/news/2020/04/07/chinese-wild-blueberry\n",
      "/news/2020/04/07/Venus-magma-oceans\n",
      "/news/2020/04/07/penguin-watch\n",
      "/news/2020/04/07/starliner\n",
      "/news/2020/04/07/network\n",
      "/blog/2020/04/02/marsphone\n",
      "/blog/2020/01/30/2019-nCoV\n",
      "/material/2020/04/01/ecovirus\n",
      "/rubric/ecology\n",
      "/theme/coronavirus-history\n",
      "/material/2020/03/25/coronavirus-is-not-man-made\n",
      "/rubric/biology\n",
      "/theme/coronavirus-history\n",
      "/news/2020/04/08/Maxwell-demon-measurement\n",
      "/material/2020/04/04/citi-surge-pricing\n",
      "/news/2020/04/03/sperm-trans-fertility\n",
      "/news/2020/04/07/polyamorphous-so2\n",
      "/news/2020/04/01/mistery-of-colours\n",
      "/news/2020/03/31/deep-carbon\n",
      "/news/2020/03/31/asteroid-impact-models\n",
      "/news/2020/03/31/mind-reading\n",
      "/news/2020/04/07/giant-viruses-metabolism\n",
      "/news/2020/04/03/life-in-solid-rock-deep-beneath-sea\n",
      "https://nplus1.ru/blog/2020/04/02/marsphone\n",
      "https://nplus1.ru/blog/2020/04/02/marsphone\n",
      "https://nplus1.ru/blog/2020/04/02/low\n",
      "https://nplus1.ru/blog/2020/03/23/pompeiis-best-houses\n",
      "https://nplus1.ru/blog/2020/03/22/infodemia\n",
      "https://nplus1.ru/blog/2020/03/17/isolation-and-iss\n",
      "https://nplus1.ru/blog/2020/03/16/ludere-ridere-occest-vivere\n",
      "https://nplus1.ru/blog/2020/03/12/onemoredelay\n",
      "https://nplus1.ru/blog/2020/03/12/public-opinion-yudin\n",
      "https://nplus1.ru/blog/2020/03/06/death-from-the-skies\n",
      "https://nplus1.ru/blog/2020/04/06/maps-of-meaning\n",
      "/\n",
      "/about\n",
      "/adv\n",
      "/rules\n",
      "/vacancy\n",
      "/difficult\n",
      "https://nplus1.ru/personal-data-policy\n",
      "#\n",
      "https://t.me/nplusone\n",
      "http://vk.com/nplusone\n",
      "https://www.facebook.com/nplusone\n",
      "https://twitter.com/nplusodin\n",
      "https://ok.ru/nplus1\n",
      "https://soundcloud.com/nplus_1\n",
      "/rss\n"
     ]
    }
   ],
   "source": [
    "for link in soup.find_all('a'):\n",
    "    print(link.get('href'))"
   ]
  },
  {
   "cell_type": "markdown",
   "metadata": {},
   "source": [
    "Ссылок много. Но нам нужны только новости – ссылки, которые начинаются со слова `/news`. Добавим условие: будем выбирать только те ссылки, в которых есть `/news`. Создадим пустой список `urls` и будем добавлять в него только ссылки, которые удовлетворяют этому условию."
   ]
  },
  {
   "cell_type": "code",
   "execution_count": 7,
   "metadata": {},
   "outputs": [
    {
     "data": {
      "text/plain": [
       "['/news/2020/04/08/three-fireballs-europe',\n",
       " '/news/2020/04/08/apple-patent',\n",
       " '/news/2020/04/08/modernize',\n",
       " '/news/2020/04/08/no-chronic-diseases',\n",
       " '/news/2020/04/08/Maxwell-demon-measurement',\n",
       " '/news/2020/04/08/ATLAS-no-bright',\n",
       " '/news/2020/04/08/skyguardian',\n",
       " '/news/2020/04/07/innovative-birds',\n",
       " '/news/2020/04/07/giant-viruses-metabolism',\n",
       " '/news/2020/04/07/background-greenscreen',\n",
       " '/news/2020/04/07/volcano-global-warming',\n",
       " '/news/2020/04/07/classical-learning',\n",
       " '/news/2020/04/07/gripen',\n",
       " '/news/2020/04/02/films-to-science',\n",
       " '/news/2020/03/31/hightech-garbage',\n",
       " '/news/2020/04/07/polyamorphous-so2',\n",
       " '/news/2020/04/07/chinese-wild-blueberry',\n",
       " '/news/2020/04/07/Venus-magma-oceans',\n",
       " '/news/2020/04/07/penguin-watch',\n",
       " '/news/2020/04/07/starliner',\n",
       " '/news/2020/04/07/network',\n",
       " '/news/2020/04/08/Maxwell-demon-measurement',\n",
       " '/news/2020/04/03/sperm-trans-fertility',\n",
       " '/news/2020/04/07/polyamorphous-so2',\n",
       " '/news/2020/04/01/mistery-of-colours',\n",
       " '/news/2020/03/31/deep-carbon',\n",
       " '/news/2020/03/31/asteroid-impact-models',\n",
       " '/news/2020/03/31/mind-reading',\n",
       " '/news/2020/04/07/giant-viruses-metabolism',\n",
       " '/news/2020/04/03/life-in-solid-rock-deep-beneath-sea']"
      ]
     },
     "execution_count": 7,
     "metadata": {},
     "output_type": "execute_result"
    }
   ],
   "source": [
    "urls = []\n",
    "\n",
    "for link in soup.find_all('a'):\n",
    "    if '/news' in link.get('href'):\n",
    "        urls.append(link.get('href'))\n",
    "urls"
   ]
  },
  {
   "cell_type": "markdown",
   "metadata": {},
   "source": [
    "Ссылки, которые у нас есть в списке `urls`, относительные: они неполные, начало ссылки (название сайта) отсутствует. Давайте превратим их в абсолютные ‒ склеим с ссылкой https://nplus1.ru."
   ]
  },
  {
   "cell_type": "code",
   "execution_count": 8,
   "metadata": {},
   "outputs": [
    {
     "data": {
      "text/plain": [
       "['https://nplus1.ru/news/2020/04/08/three-fireballs-europe',\n",
       " 'https://nplus1.ru/news/2020/04/08/apple-patent',\n",
       " 'https://nplus1.ru/news/2020/04/08/modernize',\n",
       " 'https://nplus1.ru/news/2020/04/08/no-chronic-diseases',\n",
       " 'https://nplus1.ru/news/2020/04/08/Maxwell-demon-measurement',\n",
       " 'https://nplus1.ru/news/2020/04/08/ATLAS-no-bright',\n",
       " 'https://nplus1.ru/news/2020/04/08/skyguardian',\n",
       " 'https://nplus1.ru/news/2020/04/07/innovative-birds',\n",
       " 'https://nplus1.ru/news/2020/04/07/giant-viruses-metabolism',\n",
       " 'https://nplus1.ru/news/2020/04/07/background-greenscreen',\n",
       " 'https://nplus1.ru/news/2020/04/07/volcano-global-warming',\n",
       " 'https://nplus1.ru/news/2020/04/07/classical-learning',\n",
       " 'https://nplus1.ru/news/2020/04/07/gripen',\n",
       " 'https://nplus1.ru/news/2020/04/02/films-to-science',\n",
       " 'https://nplus1.ru/news/2020/03/31/hightech-garbage',\n",
       " 'https://nplus1.ru/news/2020/04/07/polyamorphous-so2',\n",
       " 'https://nplus1.ru/news/2020/04/07/chinese-wild-blueberry',\n",
       " 'https://nplus1.ru/news/2020/04/07/Venus-magma-oceans',\n",
       " 'https://nplus1.ru/news/2020/04/07/penguin-watch',\n",
       " 'https://nplus1.ru/news/2020/04/07/starliner',\n",
       " 'https://nplus1.ru/news/2020/04/07/network',\n",
       " 'https://nplus1.ru/news/2020/04/08/Maxwell-demon-measurement',\n",
       " 'https://nplus1.ru/news/2020/04/03/sperm-trans-fertility',\n",
       " 'https://nplus1.ru/news/2020/04/07/polyamorphous-so2',\n",
       " 'https://nplus1.ru/news/2020/04/01/mistery-of-colours',\n",
       " 'https://nplus1.ru/news/2020/03/31/deep-carbon',\n",
       " 'https://nplus1.ru/news/2020/03/31/asteroid-impact-models',\n",
       " 'https://nplus1.ru/news/2020/03/31/mind-reading',\n",
       " 'https://nplus1.ru/news/2020/04/07/giant-viruses-metabolism',\n",
       " 'https://nplus1.ru/news/2020/04/03/life-in-solid-rock-deep-beneath-sea']"
      ]
     },
     "execution_count": 8,
     "metadata": {},
     "output_type": "execute_result"
    }
   ],
   "source": [
    "full_urls = []\n",
    "\n",
    "for u in urls:\n",
    "    res = 'https://nplus1.ru' + u\n",
    "    full_urls.append(res) \n",
    "\n",
    "full_urls"
   ]
  },
  {
   "cell_type": "markdown",
   "metadata": {},
   "source": [
    "Теперь наша задача сводится к следующему: изучить одну страницу с новостью, научиться из нее вытаскивать текст и всю необходимую информацию, а потом применить весь набор действий к каждой ссылке из `full_urls` в цикле. Посмотрим на новость с индексом 1, у вас может быть другая, новости обновляются."
   ]
  },
  {
   "cell_type": "code",
   "execution_count": 9,
   "metadata": {},
   "outputs": [],
   "source": [
    "url0 = full_urls[1]\n",
    "\n",
    "page0 = requests.get(url0)\n",
    "soup0 = BeautifulSoup(page0.text, 'lxml')"
   ]
  },
  {
   "cell_type": "markdown",
   "metadata": {},
   "source": [
    "В коде каждой страницы с новостью есть часть с мета-информацией: датой, именем автора и проч. Такая информация окружена тэгом `<meta></meta>`. Посмотрим:"
   ]
  },
  {
   "cell_type": "code",
   "execution_count": 10,
   "metadata": {},
   "outputs": [
    {
     "data": {
      "text/plain": [
       "[<meta charset=\"utf-8\"/>,\n",
       " <meta content=\"ie=edge\" http-equiv=\"x-ua-compatible\"/>,\n",
       " <meta content=\"width=device-width, initial-scale=1\" name=\"viewport\"/>,\n",
       " <meta content=\"yes\" name=\"apple-mobile-web-app-capable\"/>,\n",
       " <meta content=\"black\" name=\"apple-mobile-web-app-status-bar-style\"/>,\n",
       " <meta content=\"2020-04-08\" itemprop=\"datePublished\"/>,\n",
       " <meta content=\"Григорий Копиев\" name=\"mediator_author\"/>,\n",
       " <meta content=\"Направление взгляда может отслеживать умная колонка или смартфон\" name=\"description\"/>,\n",
       " <meta content=\"Григорий Копиев\" name=\"author\"/>,\n",
       " <meta content=\"\" name=\"copyright\"/>,\n",
       " <meta content=\"Apple предложила уточнять голосовые команды взглядом\" property=\"og:title\"/>,\n",
       " <meta content=\"https://nplus1.ru/images/2020/04/08/0b532928396f8a9fb7247a2ac279d042.jpg\" property=\"og:image\"/>,\n",
       " <meta content=\"https://nplus1.ru/news/2020/04/08/apple-patent\" property=\"og:url\"/>,\n",
       " <meta content=\"Направление взгляда может отслеживать умная колонка или смартфон\" property=\"og:description\"/>,\n",
       " <meta content=\"summary_large_image\" name=\"twitter:card\"/>,\n",
       " <meta content=\"@nplusodin\" name=\"twitter:site\"/>,\n",
       " <meta content=\"Apple предложила уточнять голосовые команды взглядом\" name=\"twitter:title\"/>,\n",
       " <meta content=\"Направление взгляда может отслеживать умная колонка или смартфон\" name=\"twitter:description\"/>,\n",
       " <meta content=\"https://nplus1.ru/images/2020/04/08/0b532928396f8a9fb7247a2ac279d042.jpg\" name=\"twitter:image\"/>,\n",
       " <meta content=\"8c90b02c84ac3b72\" name=\"yandex-verification\"/>]"
      ]
     },
     "execution_count": 10,
     "metadata": {},
     "output_type": "execute_result"
    }
   ],
   "source": [
    "soup0.find_all('meta')"
   ]
  },
  {
   "cell_type": "markdown",
   "metadata": {},
   "source": [
    "Из этого списка нам нужны части с именем автора, датой, заголовком и кратким описанием. Воспользуемся поиском по атрибуту `name`. Передадим функции `find_all()` в качестве аргумента словарь с названием и значением атрибута: "
   ]
  },
  {
   "cell_type": "code",
   "execution_count": 11,
   "metadata": {},
   "outputs": [
    {
     "data": {
      "text/plain": [
       "[<meta content=\"Григорий Копиев\" name=\"author\"/>]"
      ]
     },
     "execution_count": 11,
     "metadata": {},
     "output_type": "execute_result"
    }
   ],
   "source": [
    "soup0.find_all('meta', {'name' : 'author'}) # например, автор"
   ]
  },
  {
   "cell_type": "markdown",
   "metadata": {},
   "source": [
    "Теперь выберем единственный элемент полученного списка (с индексом 0):"
   ]
  },
  {
   "cell_type": "code",
   "execution_count": 12,
   "metadata": {},
   "outputs": [
    {
     "data": {
      "text/plain": [
       "<meta content=\"Григорий Копиев\" name=\"author\"/>"
      ]
     },
     "execution_count": 12,
     "metadata": {},
     "output_type": "execute_result"
    }
   ],
   "source": [
    "soup0.find_all('meta', {'name' : 'author'})[0]"
   ]
  },
  {
   "cell_type": "markdown",
   "metadata": {},
   "source": [
    "Нам нужно вытащить из этого объекта `content` – имя автора. Посмотрим на атрибуты:"
   ]
  },
  {
   "cell_type": "code",
   "execution_count": 13,
   "metadata": {},
   "outputs": [
    {
     "data": {
      "text/plain": [
       "{'name': 'author', 'content': 'Григорий Копиев'}"
      ]
     },
     "execution_count": 13,
     "metadata": {},
     "output_type": "execute_result"
    }
   ],
   "source": [
    "soup0.find_all('meta', {'name' : 'author'})[0].attrs"
   ]
  },
  {
   "cell_type": "markdown",
   "metadata": {},
   "source": [
    "Как получить отсюда `content`? Очень просто, ведь это словарь! А доставать из словаря значение по ключу мы умеем."
   ]
  },
  {
   "cell_type": "code",
   "execution_count": 14,
   "metadata": {},
   "outputs": [
    {
     "data": {
      "text/plain": [
       "'Григорий Копиев'"
      ]
     },
     "execution_count": 14,
     "metadata": {},
     "output_type": "execute_result"
    }
   ],
   "source": [
    "author = soup0.find_all('meta', {'name' : 'author'})[0].attrs['content']\n",
    "author"
   ]
  },
  {
   "cell_type": "markdown",
   "metadata": {},
   "source": [
    "Аналогичным образом извлечем дату, заголовок и описание."
   ]
  },
  {
   "cell_type": "code",
   "execution_count": 15,
   "metadata": {},
   "outputs": [],
   "source": [
    "date = soup0.find_all('meta', {'itemprop' : 'datePublished'})[0].attrs['content']\n",
    "title = soup0.find_all('meta', {'property' : 'og:title'})[0].attrs['content']\n",
    "description = soup0.find_all('meta', {'name' : 'description'})[0].attrs['content']"
   ]
  },
  {
   "cell_type": "markdown",
   "metadata": {},
   "source": [
    "Осталось вытащить рубрики и сложность текста. Если мы посмотрим на исходный код страницы, мы увидим, что нужная нам информация находится в тэгах `<p></p>`:"
   ]
  },
  {
   "cell_type": "code",
   "execution_count": 16,
   "metadata": {},
   "outputs": [
    {
     "data": {
      "text/plain": [
       "[<p class=\"table\">\n",
       " <a data-rubric=\"gadgets\" href=\"/rubric/gadgets\">Гаджеты</a>\n",
       " <a data-rubric=\"it\" href=\"/rubric/it\">IT</a>\n",
       " </p>, <p class=\"table\">\n",
       " <a href=\"/news/2020/04/08\">\n",
       " <time content=\"2020-04-08\" data-unix=\"1586349836\" itemprop=\"datePublished\">\n",
       " <span>15:43</span>\n",
       " <span>08 Апр. 2020</span>\n",
       " </time>\n",
       " </a>\n",
       " </p>, <p class=\"table\">\n",
       " <a href=\"/difficult/1.6\">\n",
       " <span>Сложность</span>\n",
       " <span class=\"difficult-value\">1.6</span>\n",
       " </a>\n",
       " </p>, <p class=\"title\"></p>, <p class=\"credits\">Apple / USPTO</p>, <p>Компания Apple предложила дополнять умные колонки камерами, чтобы пользователь мог активировать их взглядом и указывать на другие объекты, с которыми он хочет взаимодействовать. Например, если он хочет включить один из умных светильников в комнате, он может попросить колонку об этом и показать взглядом, какой именно из светильников его интересует. Патентная заявка <a href=\"http://appft.uspto.gov/netacgi/nph-Parser?Sect1=PTO1&amp;Sect2=HITOFF&amp;d=PG01&amp;p=1&amp;u=%2Fnetahtml%2FPTO%2Fsrchnum.html&amp;r=1&amp;f=G&amp;l=50&amp;s1=%2220200103963%22.PGNR.&amp;OS=DN/20200103963&amp;RS=DN/20200103963\" rel=\"nofollow\" target=\"_blank\" title=\"Link: http://appft.uspto.gov/netacgi/nph-Parser?Sect1=PTO1&amp;Sect2=HITOFF&amp;d=PG01&amp;p=1&amp;u=%2Fnetahtml%2FPTO%2Fsrchnum.html&amp;r=1&amp;f=G&amp;l=50&amp;s1=%2220200103963%22.PGNR.&amp;OS=DN/20200103963&amp;RS=DN/20200103963\">опубликована</a> на сайте ведомства по патентам и товарным знакам США (USPTO).<br/></p>, <p>У умных колонок есть несколько основных функций, одна из которых — это управление устройствами умного дома. Благодаря тому, что все больше предметов бытовой техники поддерживает платформы умного дома, уже сейчас при желании можно создать дом, в котором почти все электронные устройства управляются голосом. Но в таком случае возникают проблемы, потому что некоторые устройства в доме или даже одной комнате дублируются. Существующие сегодня платформы умного дома, например, от Яндекса, позволяют называть некоторые устройства разными именами, но и это трудно назвать идеальным решением, потому что гости могут не знать название конкретного устройства, а хозяин может попросту его забыть.<br/></p>, <p>Инженеры из Apple, которая имеет собственную платформу умного дома HomeKit и умную колонку HomePod, предложили упростить процесс выбора устройства и сделать его аналогичным тому, как эту проблему решают люди. Для этого авторы патентной заявки предлагают оснащать умные колонки одной или несколькими камерами. Кроме того, колонка может работать и с внешними камерами, расставленными по комнате для того, чтобы увеличить поле зрения.</p>, <p></p>, <p class=\"title\">Пример взаимодействия с умной колонкой</p>, <p class=\"credits\">Apple / USPTO</p>, <p class=\"title\">Пример взаимодействия с умной колонкой</p>, <p class=\"credits\">Apple / USPTO</p>, <p class=\"title\">Пример взаимодействия с умной колонкой</p>, <p class=\"credits\">Apple / USPTO</p>, <p>В патентной заявке также написано, что в качестве внешних камер или замены колонки для управления устройствами могут использоваться смартфон или умные часы.<br/></p>, <p>В начале года Samsung <a href=\"https://nplus1.ru/news/2020/01/11/ballie\" target=\"_blank\" title=\"Link: https://nplus1.ru/news/2020/01/11/ballie\">представила</a> альтернативу умной колонке в виде робошара, который катается по дому и управляет устройствами в нем. Он способен распознавать людей и их команды, а также различные предметы и ситуации. Например, если он увидит мусор на полу, он поручит уборку умному пылесосу.<br/></p>, <p><i>Григорий Копиев</i></p>, <p>Нашли опечатку? Выделите фрагмент и нажмите Ctrl+Enter.</p>, <p class=\"subtitle\">Неокончательная энциклопедия слухов вокруг пандемии</p>, <p>Коэффициент сложности</p>, <p>Коэффициент сложности</p>, <p>Коэффициент сложности</p>, <p>Коэффициент сложности</p>, <p>Коэффициент сложности</p>, <p>Коэффициент сложности</p>, <p>Коэффициент сложности</p>, <p>Коэффициент сложности</p>, <p>Коэффициент сложности</p>, <p>Коэффициент сложности</p>, <p>© 2020 N+1 Интернет-издание   Свидетельство о регистрации СМИ Эл № ФС77-67614</p>, <p>Использование всех текстовых материалов без изменений в некоммерческих целях разрешается со ссылкой на N+1. \n",
       "                         Все аудиовизуальные произведения являются собственностью своих авторов и правообладателей и используются \n",
       "                         только в образовательных и информационных целях. Если вы являетесь собственником того или иного произведения \n",
       "                         и не согласны с его размещением на нашем сайте, пожалуйста, напишите на kirill@nplus1.ru</p>, <p>Материалы, опубликованные в разделе «Блоги», отражают позиции их авторов, которые могут не совпадать с мнением редакции.</p>, <p>Сайт может содержать контент, не предназначенный для лиц младше 18 лет.</p>, <p>\n",
       " <a class=\"pd\" href=\"https://nplus1.ru/personal-data-policy\">Политика обработки персональных данных пользователей сайта</a>\n",
       " </p>, <p>\n",
       " <script async=\"\" src=\"//s.luxupcdnc.com/t/consent_195458.js\" type=\"text/javascript\"></script>\n",
       " <a href=\"#\" onclick=\"if(window.__lxG__consent__ !== undefined) {window.__lxG__consent__.showConsent()} else {alert('This function works only for users from the European Economic Area (EEA).')}; return false\">Change privacy settings</a>\n",
       " </p>, <p>\n",
       " </p>]"
      ]
     },
     "execution_count": 16,
     "metadata": {},
     "output_type": "execute_result"
    }
   ],
   "source": [
    "soup0.find_all('p')"
   ]
  },
  {
   "cell_type": "markdown",
   "metadata": {},
   "source": [
    "Выберем из полученного списка первый элемент и найдем в нем все тэги `<a>`:"
   ]
  },
  {
   "cell_type": "code",
   "execution_count": 17,
   "metadata": {},
   "outputs": [
    {
     "data": {
      "text/plain": [
       "[<a data-rubric=\"gadgets\" href=\"/rubric/gadgets\">Гаджеты</a>,\n",
       " <a data-rubric=\"it\" href=\"/rubric/it\">IT</a>]"
      ]
     },
     "execution_count": 17,
     "metadata": {},
     "output_type": "execute_result"
    }
   ],
   "source": [
    "soup0.find_all('p')[0].find_all('a')"
   ]
  },
  {
   "cell_type": "markdown",
   "metadata": {},
   "source": [
    "Получился список из одного элемента. Применим списковые включения – вытащим из каждого элемента (их могло бы быть больше) текст и поместим его в новый список `rubrics`."
   ]
  },
  {
   "cell_type": "code",
   "execution_count": 18,
   "metadata": {},
   "outputs": [
    {
     "data": {
      "text/plain": [
       "['Гаджеты', 'IT']"
      ]
     },
     "execution_count": 18,
     "metadata": {},
     "output_type": "execute_result"
    }
   ],
   "source": [
    "rubrics = [r.text for r in soup0.find_all('p')[0].find_all('a')]\n",
    "rubrics"
   ]
  },
  {
   "cell_type": "markdown",
   "metadata": {},
   "source": [
    "Осталась только сложность. Возьмем соответствующий кусок кода:"
   ]
  },
  {
   "cell_type": "code",
   "execution_count": 19,
   "metadata": {},
   "outputs": [
    {
     "data": {
      "text/plain": [
       "[<span class=\"difficult-value\">1.6</span>]"
      ]
     },
     "execution_count": 19,
     "metadata": {},
     "output_type": "execute_result"
    }
   ],
   "source": [
    "soup0.find_all('span', {'class' : 'difficult-value'})"
   ]
  },
  {
   "cell_type": "markdown",
   "metadata": {},
   "source": [
    "И выберем оттуда текст."
   ]
  },
  {
   "cell_type": "code",
   "execution_count": 20,
   "metadata": {},
   "outputs": [
    {
     "data": {
      "text/plain": [
       "'1.6'"
      ]
     },
     "execution_count": 20,
     "metadata": {},
     "output_type": "execute_result"
    }
   ],
   "source": [
    "diff = soup0.find_all('span', {'class' : 'difficult-value'})[0].text\n",
    "diff"
   ]
  },
  {
   "cell_type": "markdown",
   "metadata": {},
   "source": [
    "Теперь перейдем к тексту самой новости. Как можно заметить, текст сохранен в абзацах `<p></p>`, причем безо всяких атрибутов. Сообщим Python, что нас интересуют куски с пустым атрибутом `class`:"
   ]
  },
  {
   "cell_type": "code",
   "execution_count": 21,
   "metadata": {},
   "outputs": [],
   "source": [
    "text_list = soup0.find_all('p', {'class' : None})"
   ]
  },
  {
   "cell_type": "markdown",
   "metadata": {},
   "source": [
    "«Выцепим» все тексты (без тэгов) из полученного списка:"
   ]
  },
  {
   "cell_type": "code",
   "execution_count": 22,
   "metadata": {},
   "outputs": [],
   "source": [
    "text = [t.text for t in text_list]"
   ]
  },
  {
   "cell_type": "markdown",
   "metadata": {},
   "source": [
    "Склеим все элементы списка `text` через пробел:"
   ]
  },
  {
   "cell_type": "code",
   "execution_count": 23,
   "metadata": {},
   "outputs": [
    {
     "data": {
      "text/plain": [
       "'Компания Apple предложила дополнять умные колонки камерами, чтобы пользователь мог активировать их\\xa0взглядом и\\xa0указывать на\\xa0другие объекты, с\\xa0которыми он\\xa0хочет взаимодействовать. Например, если он\\xa0хочет включить один из\\xa0умных светильников в\\xa0комнате, он\\xa0может попросить колонку об\\xa0этом и\\xa0показать взглядом, какой именно из\\xa0светильников его интересует. Патентная заявка опубликована на\\xa0сайте ведомства по\\xa0патентам и\\xa0товарным знакам США (USPTO). У\\xa0умных колонок есть несколько основных функций, одна из\\xa0которых\\xa0— это управление устройствами умного дома. Благодаря тому, что все больше предметов бытовой техники поддерживает платформы умного дома, уже сейчас при желании можно создать дом, в\\xa0котором почти все электронные устройства управляются голосом. Но\\xa0в\\xa0таком случае возникают проблемы, потому что некоторые устройства в\\xa0доме или даже одной комнате дублируются. Существующие сегодня платформы умного дома, например, от\\xa0Яндекса, позволяют называть некоторые устройства разными именами, но\\xa0и\\xa0это трудно назвать идеальным решением, потому что гости могут не\\xa0знать название конкретного устройства, а\\xa0хозяин может попросту его забыть. Инженеры из\\xa0Apple, которая имеет собственную платформу умного дома HomeKit и\\xa0умную колонку HomePod, предложили упростить процесс выбора устройства и\\xa0сделать его аналогичным тому, как эту проблему решают люди. Для этого авторы патентной заявки предлагают оснащать умные колонки одной или несколькими камерами. Кроме того, колонка может работать и\\xa0с\\xa0внешними камерами, расставленными по\\xa0комнате для того, чтобы увеличить поле зрения.  В\\xa0патентной заявке также написано, что в\\xa0качестве внешних камер или замены колонки для управления устройствами могут использоваться смартфон или умные часы. В начале года Samsung представила альтернативу умной колонке в виде робошара, который катается по дому и управляет устройствами в нем. Он способен распознавать людей и их команды, а также различные предметы и ситуации. Например, если он увидит мусор на полу, он поручит уборку умному пылесосу. Григорий Копиев Нашли опечатку? Выделите фрагмент и нажмите Ctrl+Enter. Коэффициент сложности Коэффициент сложности Коэффициент сложности Коэффициент сложности Коэффициент сложности Коэффициент сложности Коэффициент сложности Коэффициент сложности Коэффициент сложности Коэффициент сложности © 2020 N+1 Интернет-издание \\xa0 Свидетельство о регистрации СМИ Эл № ФС77-67614 Использование всех текстовых материалов без изменений в некоммерческих целях разрешается со ссылкой на N+1. \\n                        Все аудиовизуальные произведения являются собственностью своих авторов и правообладателей и используются \\n                        только в образовательных и информационных целях. Если вы являетесь собственником того или иного произведения \\n                        и не согласны с его размещением на нашем сайте, пожалуйста, напишите на kirill@nplus1.ru Материалы, опубликованные в разделе «Блоги», отражают позиции их авторов, которые могут не совпадать с мнением редакции. Сайт может содержать контент, не предназначенный для лиц младше 18 лет. \\nПолитика обработки персональных данных пользователей сайта\\n \\n\\nChange privacy settings\\n \\n'"
      ]
     },
     "execution_count": 23,
     "metadata": {},
     "output_type": "execute_result"
    }
   ],
   "source": [
    "final_text = ' '.join(text)\n",
    "final_text"
   ]
  },
  {
   "cell_type": "markdown",
   "metadata": {},
   "source": [
    "Все здорово, только мешают отступы-переходы на новую строку `\\n`. Заменим их на пробелы с помощью метода `.replace`:"
   ]
  },
  {
   "cell_type": "code",
   "execution_count": 24,
   "metadata": {},
   "outputs": [],
   "source": [
    "final_text = final_text.replace('\\n', ' ')"
   ]
  },
  {
   "cell_type": "markdown",
   "metadata": {},
   "source": [
    "Теперь осталось совсем чуть-чуть. Написать готовую функцию для всех проделанных нами действий и применить ее в цикле для всех ссылок в списке `full_urls`. Напишем! Аргументом функции будет ссылка на новость, а возвращать она будет текст новости и всю необходимую информацию (дата, автор, сложность и проч.). Скопируем все строки кода выше."
   ]
  },
  {
   "cell_type": "code",
   "execution_count": 26,
   "metadata": {},
   "outputs": [],
   "source": [
    "def GetNews(url0):\n",
    "    \"\"\"\n",
    "    Returns a tuple with url0, date, author, description, title, final_text, rubrics, diff.\n",
    "    Parameters:\n",
    "    \n",
    "    url0 is a link to the news (string)\n",
    "    \"\"\"\n",
    "    page0 = requests.get(url0)\n",
    "    soup0 = BeautifulSoup(page0.text, 'lxml')\n",
    "    author = soup0.find_all('meta', {'name' : 'author'})[0].attrs['content']\n",
    "    date = soup0.find_all('meta', {'itemprop' : 'datePublished'})[0].attrs['content']\n",
    "    title = soup0.find_all('meta', {'property' : 'og:title'})[0].attrs['content']\n",
    "    description = soup0.find_all('meta', {'name' : 'description'})[0].attrs['content']\n",
    "    rubrics = [r.text for r in soup0.find_all('p')[0].find_all('a')]\n",
    "    diff = soup0.find_all('span', {'class' : 'difficult-value'})[0].text\n",
    "    text_list = soup0.find_all('p', {'class' : None})\n",
    "    text = [t.text for t in text_list]\n",
    "    final_text = ' '.join(text)\n",
    "    final_text = final_text.replace('\\n', ' ')\n",
    "    \n",
    "    return url0, date, author, description, title, final_text, rubrics, diff"
   ]
  },
  {
   "cell_type": "markdown",
   "metadata": {},
   "source": [
    "Уфф. Осталось применить ее в цикле. Но давайте не будем спешить: импортируем функцию `sleep` для задержки, чтобы на каждой итерации цикла, прежде чем перейти к следующей новости, Python ждал несколько секунд. Во-первых, это нужно, чтобы сайт «не понял», чтобы мы его грабим, да еще автоматически. Во-вторых, с небольшой задержкой всегда есть гарантия, что страница прогрузится (сейчас это пока не очень важно, но особенно актуально будет, когда будем обсуждать встраивание в браузер с Selenium). Приступим."
   ]
  },
  {
   "cell_type": "code",
   "execution_count": 27,
   "metadata": {},
   "outputs": [],
   "source": [
    "from time import sleep"
   ]
  },
  {
   "cell_type": "code",
   "execution_count": 28,
   "metadata": {},
   "outputs": [],
   "source": [
    "news = [] # это будет список из кортежей, в которых будут храниться данные по каждой новости\n",
    "\n",
    "for link in full_urls:\n",
    "    res = GetNews(link)\n",
    "    news.append(res)\n",
    "    sleep(3) # задержка в 3 секунды"
   ]
  },
  {
   "cell_type": "markdown",
   "metadata": {},
   "source": [
    "Так теперь выглядит первый элемент списка:"
   ]
  },
  {
   "cell_type": "code",
   "execution_count": 29,
   "metadata": {},
   "outputs": [
    {
     "data": {
      "text/plain": [
       "('https://nplus1.ru/news/2020/04/08/three-fireballs-europe',\n",
       " '2020-04-08',\n",
       " 'Евгения Скареднева',\n",
       " 'Две ярких вспышки над Бельгией и одну над Германией и Австрией зафиксировали сети мониторинга метеоров',\n",
       " 'Три болида пролетели над Центральной Европой за три часа',\n",
       " 'В ночь с 1 на 2 апреля над Центральной Европой в течение трех часов пролетели три болида, причем два из них — за один час. Об этом\\xa0сообщает\\xa0Международная метеорная организация (International Meteor Organization, IMO). По разным оценкам в\\xa0атмосферу Земли за\\xa0день попадает от\\xa05\\xa0до\\xa0300 тонн космической пыли. Сгорающие в\\xa0верхних слоях частицы, оставляющие светящийся след, называют метеорами. Очень яркие метеоры, или болиды, возникают, когда в\\xa0атмосферу попадает тело метровых размеров и\\xa0больше\\xa0— яркость вспышки в\\xa0таком случае превышает яркость Венеры. Как правило, такие метеоры\\xa0— одиночное явление.  Теперь же IMO сообщила сразу о трех таких событиях, произошедших за короткий промежуток времени. Два болида\\xa0— метеора, более ярких, чем Венера, — попали в\\xa0объектив камеры проекта CAMS\\xa0NASA, которая находится в\\xa0бельгийском городе Графонтен. Они также были зафиксированы камерами сети FRIPON, которая объединяет более 100 камер полного неба и\\xa0приемников радиосигнала на\\xa0территории Франции, Бельгии и\\xa0Испании. Первый метеор пролетел в\\xa022:57 по Гринвичу, его наблюдали четыре станции сети, второй\\xa0— в\\xa023:33, он\\xa0был запечатлен на\\xa0трех камерах. Обработав данные этих станций, FRIPON вычислила траектории обоих метеороидов. Они выглядят как практически параллельные линии. Станции приема радиосигнала BRAMS\\xa0также зафиксировали оба метеора. Первый оставил небольшое, но\\xa0насыщенное эхо\\xa0— его поймали только станции в\\xa0Лимбурге и\\xa0на\\xa0востоке Бельгии. В\\xa0центре страны это явление было едва заметно, а\\xa0на\\xa0западе неразличимо вовсе. Второй метеор породил гораздо более сильный сигнал, который зафиксировали почти все станции сети, кроме тех, что находились на\\xa0самом западе Бельгии.   Через два часа после этих вспышек, 2\\xa0апреля в\\xa001:52, еще один метеор запечатлели камеры полного неба в\\xa0городе Сейсдорф на\\xa0юге Германии и\\xa0в\\xa0обсерватории Габерг в\\xa0Австрии. Метеоры на\\xa0небе можно увидеть в\\xa0любой момент, поскольку частицы пыли в\\xa0Солнечной системе разбросаны везде. Такие метеоры называют спорадическими. Но\\xa0существуют также метеорные потоки, порожденные пылевыми хвостами комет. Когда Земля проходит через такие пылевые облака, оставленные кометами, можно наблюдать десятки и\\xa0сотни метеоров в\\xa0час. Ближайший метеорный поток\\xa0— Лириды\\xa0— можно будет увидеть с\\xa016\\xa0по\\xa025\\xa0апреля, его пик обычно приходится на\\xa022\\xa0апреля\\xa0— в\\xa0этом году это очень близкое к\\xa0новолунию время, а\\xa0значит, ночи будут темными и\\xa0Луна не\\xa0помешает наблюдениям. Если вы\\xa0увидите яркий метеор, вы\\xa0можете разместить сообщение о\\xa0нем на\\xa0сайте IMO и\\xa0помочь сбору данных об\\xa0этих явлениях. Евгения Скареднева Нашли опечатку? Выделите фрагмент и нажмите Ctrl+Enter. Коэффициент сложности Коэффициент сложности Коэффициент сложности Коэффициент сложности Коэффициент сложности Коэффициент сложности Коэффициент сложности Коэффициент сложности Коэффициент сложности Коэффициент сложности © 2020 N+1 Интернет-издание \\xa0 Свидетельство о регистрации СМИ Эл № ФС77-67614 Использование всех текстовых материалов без изменений в некоммерческих целях разрешается со ссылкой на N+1.                          Все аудиовизуальные произведения являются собственностью своих авторов и правообладателей и используются                          только в образовательных и информационных целях. Если вы являетесь собственником того или иного произведения                          и не согласны с его размещением на нашем сайте, пожалуйста, напишите на kirill@nplus1.ru Материалы, опубликованные в разделе «Блоги», отражают позиции их авторов, которые могут не совпадать с мнением редакции. Сайт может содержать контент, не предназначенный для лиц младше 18 лет.  Политика обработки персональных данных пользователей сайта    Change privacy settings   ',\n",
       " ['Астрономия'],\n",
       " '1.5')"
      ]
     },
     "execution_count": 29,
     "metadata": {},
     "output_type": "execute_result"
    }
   ],
   "source": [
    "news[0]"
   ]
  },
  {
   "cell_type": "markdown",
   "metadata": {},
   "source": [
    "Импортируем `pandas` и создадим датафрейм из списка кортежей: "
   ]
  },
  {
   "cell_type": "code",
   "execution_count": 30,
   "metadata": {},
   "outputs": [],
   "source": [
    "import pandas as pd"
   ]
  },
  {
   "cell_type": "code",
   "execution_count": 31,
   "metadata": {},
   "outputs": [],
   "source": [
    "df = pd.DataFrame(news)"
   ]
  },
  {
   "cell_type": "code",
   "execution_count": 32,
   "metadata": {},
   "outputs": [
    {
     "data": {
      "text/html": [
       "<div>\n",
       "<style scoped>\n",
       "    .dataframe tbody tr th:only-of-type {\n",
       "        vertical-align: middle;\n",
       "    }\n",
       "\n",
       "    .dataframe tbody tr th {\n",
       "        vertical-align: top;\n",
       "    }\n",
       "\n",
       "    .dataframe thead th {\n",
       "        text-align: right;\n",
       "    }\n",
       "</style>\n",
       "<table border=\"1\" class=\"dataframe\">\n",
       "  <thead>\n",
       "    <tr style=\"text-align: right;\">\n",
       "      <th></th>\n",
       "      <th>0</th>\n",
       "      <th>1</th>\n",
       "      <th>2</th>\n",
       "      <th>3</th>\n",
       "      <th>4</th>\n",
       "      <th>5</th>\n",
       "      <th>6</th>\n",
       "      <th>7</th>\n",
       "    </tr>\n",
       "  </thead>\n",
       "  <tbody>\n",
       "    <tr>\n",
       "      <th>0</th>\n",
       "      <td>https://nplus1.ru/news/2020/04/08/three-fireba...</td>\n",
       "      <td>2020-04-08</td>\n",
       "      <td>Евгения Скареднева</td>\n",
       "      <td>Две ярких вспышки над Бельгией и одну над Герм...</td>\n",
       "      <td>Три болида пролетели над Центральной Европой з...</td>\n",
       "      <td>В ночь с 1 на 2 апреля над Центральной Европой...</td>\n",
       "      <td>[Астрономия]</td>\n",
       "      <td>1.5</td>\n",
       "    </tr>\n",
       "    <tr>\n",
       "      <th>1</th>\n",
       "      <td>https://nplus1.ru/news/2020/04/08/apple-patent</td>\n",
       "      <td>2020-04-08</td>\n",
       "      <td>Григорий Копиев</td>\n",
       "      <td>Направление взгляда может отслеживать умная ко...</td>\n",
       "      <td>Apple предложила уточнять голосовые команды вз...</td>\n",
       "      <td>Компания Apple предложила дополнять умные коло...</td>\n",
       "      <td>[Гаджеты, IT]</td>\n",
       "      <td>1.6</td>\n",
       "    </tr>\n",
       "  </tbody>\n",
       "</table>\n",
       "</div>"
      ],
      "text/plain": [
       "                                                   0           1  \\\n",
       "0  https://nplus1.ru/news/2020/04/08/three-fireba...  2020-04-08   \n",
       "1     https://nplus1.ru/news/2020/04/08/apple-patent  2020-04-08   \n",
       "\n",
       "                    2                                                  3  \\\n",
       "0  Евгения Скареднева  Две ярких вспышки над Бельгией и одну над Герм...   \n",
       "1     Григорий Копиев  Направление взгляда может отслеживать умная ко...   \n",
       "\n",
       "                                                   4  \\\n",
       "0  Три болида пролетели над Центральной Европой з...   \n",
       "1  Apple предложила уточнять голосовые команды вз...   \n",
       "\n",
       "                                                   5              6    7  \n",
       "0  В ночь с 1 на 2 апреля над Центральной Европой...   [Астрономия]  1.5  \n",
       "1  Компания Apple предложила дополнять умные коло...  [Гаджеты, IT]  1.6  "
      ]
     },
     "execution_count": 32,
     "metadata": {},
     "output_type": "execute_result"
    }
   ],
   "source": [
    "df.head(2)"
   ]
  },
  {
   "cell_type": "markdown",
   "metadata": {},
   "source": [
    "Переименуем столбцы в базе."
   ]
  },
  {
   "cell_type": "code",
   "execution_count": 33,
   "metadata": {},
   "outputs": [],
   "source": [
    "df.columns = ['link', 'date', 'author', 'desc', 'title', 'text', 'rubric', 'diffc']"
   ]
  },
  {
   "cell_type": "code",
   "execution_count": 34,
   "metadata": {},
   "outputs": [
    {
     "data": {
      "text/html": [
       "<div>\n",
       "<style scoped>\n",
       "    .dataframe tbody tr th:only-of-type {\n",
       "        vertical-align: middle;\n",
       "    }\n",
       "\n",
       "    .dataframe tbody tr th {\n",
       "        vertical-align: top;\n",
       "    }\n",
       "\n",
       "    .dataframe thead th {\n",
       "        text-align: right;\n",
       "    }\n",
       "</style>\n",
       "<table border=\"1\" class=\"dataframe\">\n",
       "  <thead>\n",
       "    <tr style=\"text-align: right;\">\n",
       "      <th></th>\n",
       "      <th>link</th>\n",
       "      <th>date</th>\n",
       "      <th>author</th>\n",
       "      <th>desc</th>\n",
       "      <th>title</th>\n",
       "      <th>text</th>\n",
       "      <th>rubric</th>\n",
       "      <th>diffc</th>\n",
       "    </tr>\n",
       "  </thead>\n",
       "  <tbody>\n",
       "    <tr>\n",
       "      <th>0</th>\n",
       "      <td>https://nplus1.ru/news/2020/04/08/three-fireba...</td>\n",
       "      <td>2020-04-08</td>\n",
       "      <td>Евгения Скареднева</td>\n",
       "      <td>Две ярких вспышки над Бельгией и одну над Герм...</td>\n",
       "      <td>Три болида пролетели над Центральной Европой з...</td>\n",
       "      <td>В ночь с 1 на 2 апреля над Центральной Европой...</td>\n",
       "      <td>[Астрономия]</td>\n",
       "      <td>1.5</td>\n",
       "    </tr>\n",
       "    <tr>\n",
       "      <th>1</th>\n",
       "      <td>https://nplus1.ru/news/2020/04/08/apple-patent</td>\n",
       "      <td>2020-04-08</td>\n",
       "      <td>Григорий Копиев</td>\n",
       "      <td>Направление взгляда может отслеживать умная ко...</td>\n",
       "      <td>Apple предложила уточнять голосовые команды вз...</td>\n",
       "      <td>Компания Apple предложила дополнять умные коло...</td>\n",
       "      <td>[Гаджеты, IT]</td>\n",
       "      <td>1.6</td>\n",
       "    </tr>\n",
       "  </tbody>\n",
       "</table>\n",
       "</div>"
      ],
      "text/plain": [
       "                                                link        date  \\\n",
       "0  https://nplus1.ru/news/2020/04/08/three-fireba...  2020-04-08   \n",
       "1     https://nplus1.ru/news/2020/04/08/apple-patent  2020-04-08   \n",
       "\n",
       "               author                                               desc  \\\n",
       "0  Евгения Скареднева  Две ярких вспышки над Бельгией и одну над Герм...   \n",
       "1     Григорий Копиев  Направление взгляда может отслеживать умная ко...   \n",
       "\n",
       "                                               title  \\\n",
       "0  Три болида пролетели над Центральной Европой з...   \n",
       "1  Apple предложила уточнять голосовые команды вз...   \n",
       "\n",
       "                                                text         rubric diffc  \n",
       "0  В ночь с 1 на 2 апреля над Центральной Европой...   [Астрономия]   1.5  \n",
       "1  Компания Apple предложила дополнять умные коло...  [Гаджеты, IT]   1.6  "
      ]
     },
     "execution_count": 34,
     "metadata": {},
     "output_type": "execute_result"
    }
   ],
   "source": [
    "df.head(2)"
   ]
  },
  {
   "cell_type": "markdown",
   "metadata": {},
   "source": [
    "Теперь внесем изменения: сделаем столбец `diffc` числовым – типа *float*."
   ]
  },
  {
   "cell_type": "code",
   "execution_count": 35,
   "metadata": {},
   "outputs": [],
   "source": [
    "df['diffc'] = [float(i) for i in df.diffc]"
   ]
  },
  {
   "cell_type": "markdown",
   "metadata": {},
   "source": [
    "Теперь сложность представлена в базе как количественный показатель, и описывать ее можно соответствующим образом:"
   ]
  },
  {
   "cell_type": "code",
   "execution_count": 36,
   "metadata": {},
   "outputs": [
    {
     "data": {
      "text/plain": [
       "count    30.000000\n",
       "mean      3.846667\n",
       "std       1.644999\n",
       "min       1.100000\n",
       "25%       2.950000\n",
       "50%       3.450000\n",
       "75%       5.375000\n",
       "max       6.200000\n",
       "Name: diffc, dtype: float64"
      ]
     },
     "execution_count": 36,
     "metadata": {},
     "output_type": "execute_result"
    }
   ],
   "source": [
    "df.diffc.describe()"
   ]
  },
  {
   "cell_type": "markdown",
   "metadata": {},
   "source": [
    "Теперь столбец со сложностью точно числовой. Можем даже построить для него гистограмму."
   ]
  },
  {
   "cell_type": "code",
   "execution_count": 37,
   "metadata": {},
   "outputs": [
    {
     "data": {
      "text/plain": [
       "<matplotlib.axes._subplots.AxesSubplot at 0x23fa6c78f28>"
      ]
     },
     "execution_count": 37,
     "metadata": {},
     "output_type": "execute_result"
    },
    {
     "data": {
      "image/png": "[encoded data removed]",
      "text/plain": [
       "<Figure size 432x288 with 1 Axes>"
      ]
     },
     "metadata": {},
     "output_type": "display_data"
    }
   ],
   "source": [
    "%matplotlib inline\n",
    "df.diffc.plot.hist()"
   ]
  },
  {
   "cell_type": "markdown",
   "metadata": {},
   "source": [
    "Объединим рубрики в *text* в одну строку через запятую:"
   ]
  },
  {
   "cell_type": "code",
   "execution_count": 38,
   "metadata": {},
   "outputs": [],
   "source": [
    "df['rubric'] = [','.join(r) for r in df.rubric]"
   ]
  },
  {
   "cell_type": "markdown",
   "metadata": {},
   "source": [
    "Давайте почистим текст новостей – уберем оттуда текст, не относящийся к новостям. Найдем лишнее:"
   ]
  },
  {
   "cell_type": "code",
   "execution_count": 39,
   "metadata": {},
   "outputs": [
    {
     "data": {
      "text/plain": [
       "'В ночь с 1 на 2 апреля над Центральной Европой в течение трех часов пролетели три болида, причем два из них — за один час. Об этом\\xa0сообщает\\xa0Международная метеорная организация (International Meteor Organization, IMO). По разным оценкам в\\xa0атмосферу Земли за\\xa0день попадает от\\xa05\\xa0до\\xa0300 тонн космической пыли. Сгорающие в\\xa0верхних слоях частицы, оставляющие светящийся след, называют метеорами. Очень яркие метеоры, или болиды, возникают, когда в\\xa0атмосферу попадает тело метровых размеров и\\xa0больше\\xa0— яркость вспышки в\\xa0таком случае превышает яркость Венеры. Как правило, такие метеоры\\xa0— одиночное явление.  Теперь же IMO сообщила сразу о трех таких событиях, произошедших за короткий промежуток времени. Два болида\\xa0— метеора, более ярких, чем Венера, — попали в\\xa0объектив камеры проекта CAMS\\xa0NASA, которая находится в\\xa0бельгийском городе Графонтен. Они также были зафиксированы камерами сети FRIPON, которая объединяет более 100 камер полного неба и\\xa0приемников радиосигнала на\\xa0территории Франции, Бельгии и\\xa0Испании. Первый метеор пролетел в\\xa022:57 по Гринвичу, его наблюдали четыре станции сети, второй\\xa0— в\\xa023:33, он\\xa0был запечатлен на\\xa0трех камерах. Обработав данные этих станций, FRIPON вычислила траектории обоих метеороидов. Они выглядят как практически параллельные линии. Станции приема радиосигнала BRAMS\\xa0также зафиксировали оба метеора. Первый оставил небольшое, но\\xa0насыщенное эхо\\xa0— его поймали только станции в\\xa0Лимбурге и\\xa0на\\xa0востоке Бельгии. В\\xa0центре страны это явление было едва заметно, а\\xa0на\\xa0западе неразличимо вовсе. Второй метеор породил гораздо более сильный сигнал, который зафиксировали почти все станции сети, кроме тех, что находились на\\xa0самом западе Бельгии.   Через два часа после этих вспышек, 2\\xa0апреля в\\xa001:52, еще один метеор запечатлели камеры полного неба в\\xa0городе Сейсдорф на\\xa0юге Германии и\\xa0в\\xa0обсерватории Габерг в\\xa0Австрии. Метеоры на\\xa0небе можно увидеть в\\xa0любой момент, поскольку частицы пыли в\\xa0Солнечной системе разбросаны везде. Такие метеоры называют спорадическими. Но\\xa0существуют также метеорные потоки, порожденные пылевыми хвостами комет. Когда Земля проходит через такие пылевые облака, оставленные кометами, можно наблюдать десятки и\\xa0сотни метеоров в\\xa0час. Ближайший метеорный поток\\xa0— Лириды\\xa0— можно будет увидеть с\\xa016\\xa0по\\xa025\\xa0апреля, его пик обычно приходится на\\xa022\\xa0апреля\\xa0— в\\xa0этом году это очень близкое к\\xa0новолунию время, а\\xa0значит, ночи будут темными и\\xa0Луна не\\xa0помешает наблюдениям. Если вы\\xa0увидите яркий метеор, вы\\xa0можете разместить сообщение о\\xa0нем на\\xa0сайте IMO и\\xa0помочь сбору данных об\\xa0этих явлениях. Евгения Скареднева Нашли опечатку? Выделите фрагмент и нажмите Ctrl+Enter. Коэффициент сложности Коэффициент сложности Коэффициент сложности Коэффициент сложности Коэффициент сложности Коэффициент сложности Коэффициент сложности Коэффициент сложности Коэффициент сложности Коэффициент сложности © 2020 N+1 Интернет-издание \\xa0 Свидетельство о регистрации СМИ Эл № ФС77-67614 Использование всех текстовых материалов без изменений в некоммерческих целях разрешается со ссылкой на N+1.                          Все аудиовизуальные произведения являются собственностью своих авторов и правообладателей и используются                          только в образовательных и информационных целях. Если вы являетесь собственником того или иного произведения                          и не согласны с его размещением на нашем сайте, пожалуйста, напишите на kirill@nplus1.ru Материалы, опубликованные в разделе «Блоги», отражают позиции их авторов, которые могут не совпадать с мнением редакции. Сайт может содержать контент, не предназначенный для лиц младше 18 лет.  Политика обработки персональных данных пользователей сайта    Change privacy settings   '"
      ]
     },
     "execution_count": 39,
     "metadata": {},
     "output_type": "execute_result"
    }
   ],
   "source": [
    "df.text[0]"
   ]
  },
  {
   "cell_type": "markdown",
   "metadata": {},
   "source": [
    "Лишний текст находится после фразы 'Нашли опечатку?'. Так давайте будем разбивать строки по этой фразе с помощью метода `.split()` и брать все, что до нее (элемент с индексом 0)."
   ]
  },
  {
   "cell_type": "code",
   "execution_count": 40,
   "metadata": {},
   "outputs": [],
   "source": [
    "df['clean_text'] = [t.split('Нашли опечатку?')[0] for t in df.text]"
   ]
  },
  {
   "cell_type": "markdown",
   "metadata": {},
   "source": [
    "Осталось только заменить непонятные символы `\\xa0` на пробелы:"
   ]
  },
  {
   "cell_type": "code",
   "execution_count": 41,
   "metadata": {},
   "outputs": [],
   "source": [
    "df['clean_text'] = [t.replace(\"\\xa0\", \" \") for t in df.clean_text]"
   ]
  },
  {
   "cell_type": "code",
   "execution_count": 42,
   "metadata": {},
   "outputs": [
    {
     "data": {
      "text/plain": [
       "'В ночь с 1 на 2 апреля над Центральной Европой в течение трех часов пролетели три болида, причем два из них — за один час. Об этом сообщает Международная метеорная организация (International Meteor Organization, IMO). По разным оценкам в атмосферу Земли за день попадает от 5 до 300 тонн космической пыли. Сгорающие в верхних слоях частицы, оставляющие светящийся след, называют метеорами. Очень яркие метеоры, или болиды, возникают, когда в атмосферу попадает тело метровых размеров и больше — яркость вспышки в таком случае превышает яркость Венеры. Как правило, такие метеоры — одиночное явление.  Теперь же IMO сообщила сразу о трех таких событиях, произошедших за короткий промежуток времени. Два болида — метеора, более ярких, чем Венера, — попали в объектив камеры проекта CAMS NASA, которая находится в бельгийском городе Графонтен. Они также были зафиксированы камерами сети FRIPON, которая объединяет более 100 камер полного неба и приемников радиосигнала на территории Франции, Бельгии и Испании. Первый метеор пролетел в 22:57 по Гринвичу, его наблюдали четыре станции сети, второй — в 23:33, он был запечатлен на трех камерах. Обработав данные этих станций, FRIPON вычислила траектории обоих метеороидов. Они выглядят как практически параллельные линии. Станции приема радиосигнала BRAMS также зафиксировали оба метеора. Первый оставил небольшое, но насыщенное эхо — его поймали только станции в Лимбурге и на востоке Бельгии. В центре страны это явление было едва заметно, а на западе неразличимо вовсе. Второй метеор породил гораздо более сильный сигнал, который зафиксировали почти все станции сети, кроме тех, что находились на самом западе Бельгии.   Через два часа после этих вспышек, 2 апреля в 01:52, еще один метеор запечатлели камеры полного неба в городе Сейсдорф на юге Германии и в обсерватории Габерг в Австрии. Метеоры на небе можно увидеть в любой момент, поскольку частицы пыли в Солнечной системе разбросаны везде. Такие метеоры называют спорадическими. Но существуют также метеорные потоки, порожденные пылевыми хвостами комет. Когда Земля проходит через такие пылевые облака, оставленные кометами, можно наблюдать десятки и сотни метеоров в час. Ближайший метеорный поток — Лириды — можно будет увидеть с 16 по 25 апреля, его пик обычно приходится на 22 апреля — в этом году это очень близкое к новолунию время, а значит, ночи будут темными и Луна не помешает наблюдениям. Если вы увидите яркий метеор, вы можете разместить сообщение о нем на сайте IMO и помочь сбору данных об этих явлениях. Евгения Скареднева '"
      ]
     },
     "execution_count": 42,
     "metadata": {},
     "output_type": "execute_result"
    }
   ],
   "source": [
    "df.clean_text[0]"
   ]
  },
  {
   "cell_type": "markdown",
   "metadata": {},
   "source": [
    "Всё! Сохраняем датафрейм в файл. Для разнообразия сохраним в Excel:"
   ]
  },
  {
   "cell_type": "code",
   "execution_count": 43,
   "metadata": {},
   "outputs": [],
   "source": [
    "df.to_excel('nplus-news.xlsx')"
   ]
  },
  {
   "cell_type": "code",
   "execution_count": null,
   "metadata": {},
   "outputs": [],
   "source": []
  }
 ],
 "metadata": {
  "kernelspec": {
   "display_name": "Python 3",
   "language": "python",
   "name": "python3"
  },
  "language_info": {
   "codemirror_mode": {
    "name": "ipython",
    "version": 3
   },
   "file_extension": ".py",
   "mimetype": "text/x-python",
   "name": "python",
   "nbconvert_exporter": "python",
   "pygments_lexer": "ipython3",
   "version": "3.6.5"
  }
 },
 "nbformat": 4,
 "nbformat_minor": 2
}
