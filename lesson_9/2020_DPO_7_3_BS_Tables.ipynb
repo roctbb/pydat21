{
 "cells": [
  {
   "cell_type": "markdown",
   "metadata": {
    "colab_type": "text",
    "id": "6coq6VkPKjBn"
   },
   "source": [
    "# Python для анализа данных\n",
    "\n",
    "## Web-Scraping. BeautifulSoup. Парсинг таблиц в html.\n",
    "\n",
    "Автор: *Татьяна Рогович, НИУ ВШЭ*"
   ]
  },
  {
   "cell_type": "markdown",
   "metadata": {},
   "source": [
    "Мы с вами посмотрели как создавать html-файлы. Давайте начнем с игрушечного примера, чтобы теперь разобраться, как информацию из таблиц доставать."
   ]
  },
  {
   "cell_type": "markdown",
   "metadata": {
    "colab_type": "text",
    "id": "4V_Cb2t2KjEN"
   },
   "source": [
    "Сначала мы импортируем библиотеку `requests`. Она позволяет нам просто  и удобно посылать HTTP/1.1 запросы, не утруждаясь ручным трудом."
   ]
  },
  {
   "cell_type": "code",
   "execution_count": 1,
   "metadata": {
    "colab": {},
    "colab_type": "code",
    "id": "GCHfTwnWKjEO"
   },
   "outputs": [],
   "source": [
    "import requests"
   ]
  },
  {
   "cell_type": "code",
   "execution_count": 2,
   "metadata": {},
   "outputs": [],
   "source": [
    "link = 'https://raw.githubusercontent.com/rogovich/2020_DPO_PythonProg/in-progress/6_Sorting_Files/simple_table.html'"
   ]
  },
  {
   "cell_type": "markdown",
   "metadata": {
    "colab_type": "text",
    "id": "PyXOofPIKjET"
   },
   "source": [
    "Теперь мы должны указать адрес страницы с которой мы будем скрейпить данные и сохраним ее в переменную `website_url`.\n",
    "`requests.get(url).text` обратиться к сайту и вернет `HTML` код сайта."
   ]
  },
  {
   "cell_type": "code",
   "execution_count": 3,
   "metadata": {},
   "outputs": [],
   "source": [
    "website_url = requests.get(link).text"
   ]
  },
  {
   "cell_type": "markdown",
   "metadata": {},
   "source": [
    "По ссылке совсем небольшой файл - почти такой же как тот, который мы с вами сделали в интерактивном тренажере."
   ]
  },
  {
   "cell_type": "code",
   "execution_count": 4,
   "metadata": {},
   "outputs": [
    {
     "data": {
      "text/plain": [
       "'<!DOCTYPE html>\\n<html>\\n<head>\\n<title>Page Title</title>\\n</head>\\n<body>\\n\\n<h1>Моя первая html-страница</h1>\\n<h2>О себе</h2>\\n<p>Я учусь создавать html-страницы.</p>\\n\\n<table border=\"1\">\\n<caption>Информация</caption>\\n<tr>\\n<th>Фамилия</th>\\n<th>Имя</th>\\n<th>Возраст</th>\\n</tr>\\n<tr>\\n<td>Тамбовцева</td>\\n<td>Алла</td>\\n<td>24</td>\\n</tr>\\n<tr>\\n<td>Иванов</td>\\n<td>Петр</td>\\n<td>32</td>\\n</tr>\\n<tr>\\n<td>Константинопольский</td>\\n<td>Константин</td>\\n<td>29</td>\\n</tr>\\n</table>\\n    \\n<table>\\n<tr>\\n<td>Тамбовцева</td>\\n<td>Алла</td>\\n<td>24</td>\\n</tr>\\n</table>\\n\\n</body>\\n</html>'"
      ]
     },
     "execution_count": 4,
     "metadata": {},
     "output_type": "execute_result"
    }
   ],
   "source": [
    "website_url"
   ]
  },
  {
   "cell_type": "markdown",
   "metadata": {
    "colab_type": "text",
    "id": "bT9LVvyEKjEX"
   },
   "source": [
    "Как мы видим, весь код представлен просто блоком текста, который неудобно читать и разбирать. Поэтому мы создадим объект `BeautifulSoup` с помощью функциии `BeautifulSoup`, предварительно импортировав саму библиотеку. `Beautiful Soup` это библиотека для парсинга `HTML` и `XML` документов. Она создает дерево из `HTML` кода, что очень полезно при скрейпинге. Функция `prettify()` позволяет видеть код в более удобном виде, в том числе с разбивкой по тегам."
   ]
  },
  {
   "cell_type": "code",
   "execution_count": 5,
   "metadata": {},
   "outputs": [
    {
     "name": "stdout",
     "output_type": "stream",
     "text": [
      "<!DOCTYPE html>\n",
      "<html>\n",
      " <head>\n",
      "  <title>\n",
      "   Page Title\n",
      "  </title>\n",
      " </head>\n",
      " <body>\n",
      "  <h1>\n",
      "   Моя первая html-страница\n",
      "  </h1>\n",
      "  <h2>\n",
      "   О себе\n",
      "  </h2>\n",
      "  <p>\n",
      "   Я учусь создавать html-страницы.\n",
      "  </p>\n",
      "  <table border=\"1\">\n",
      "   <caption>\n",
      "    Информация\n",
      "   </caption>\n",
      "   <tr>\n",
      "    <th>\n",
      "     Фамилия\n",
      "    </th>\n",
      "    <th>\n",
      "     Имя\n",
      "    </th>\n",
      "    <th>\n",
      "     Возраст\n",
      "    </th>\n",
      "   </tr>\n",
      "   <tr>\n",
      "    <td>\n",
      "     Тамбовцева\n",
      "    </td>\n",
      "    <td>\n",
      "     Алла\n",
      "    </td>\n",
      "    <td>\n",
      "     24\n",
      "    </td>\n",
      "   </tr>\n",
      "   <tr>\n",
      "    <td>\n",
      "     Иванов\n",
      "    </td>\n",
      "    <td>\n",
      "     Петр\n",
      "    </td>\n",
      "    <td>\n",
      "     32\n",
      "    </td>\n",
      "   </tr>\n",
      "   <tr>\n",
      "    <td>\n",
      "     Константинопольский\n",
      "    </td>\n",
      "    <td>\n",
      "     Константин\n",
      "    </td>\n",
      "    <td>\n",
      "     29\n",
      "    </td>\n",
      "   </tr>\n",
      "  </table>\n",
      "  <table>\n",
      "   <tr>\n",
      "    <td>\n",
      "     Тамбовцева\n",
      "    </td>\n",
      "    <td>\n",
      "     Алла\n",
      "    </td>\n",
      "    <td>\n",
      "     24\n",
      "    </td>\n",
      "   </tr>\n",
      "  </table>\n",
      " </body>\n",
      "</html>\n"
     ]
    }
   ],
   "source": [
    "from bs4 import BeautifulSoup\n",
    "\n",
    "soup = BeautifulSoup(website_url, 'lxml')\n",
    "print(soup.prettify())"
   ]
  },
  {
   "cell_type": "markdown",
   "metadata": {},
   "source": [
    "Видим, что .preffify() упорядочил наш html код и представил его в видел дерева и вложенных узлов. Давайте попробуем найти таблицу. За поиск отвечает метод .find_all(), которому мы передаем тэг для поиска."
   ]
  },
  {
   "cell_type": "code",
   "execution_count": 6,
   "metadata": {},
   "outputs": [
    {
     "name": "stdout",
     "output_type": "stream",
     "text": [
      "[<table border=\"1\">\n",
      "<caption>Информация</caption>\n",
      "<tr>\n",
      "<th>Фамилия</th>\n",
      "<th>Имя</th>\n",
      "<th>Возраст</th>\n",
      "</tr>\n",
      "<tr>\n",
      "<td>Тамбовцева</td>\n",
      "<td>Алла</td>\n",
      "<td>24</td>\n",
      "</tr>\n",
      "<tr>\n",
      "<td>Иванов</td>\n",
      "<td>Петр</td>\n",
      "<td>32</td>\n",
      "</tr>\n",
      "<tr>\n",
      "<td>Константинопольский</td>\n",
      "<td>Константин</td>\n",
      "<td>29</td>\n",
      "</tr>\n",
      "</table>, <table>\n",
      "<tr>\n",
      "<td>Тамбовцева</td>\n",
      "<td>Алла</td>\n",
      "<td>24</td>\n",
      "</tr>\n",
      "</table>]\n"
     ]
    }
   ],
   "source": [
    "tables = soup.find_all('table')\n",
    "print(tables)"
   ]
  },
  {
   "cell_type": "markdown",
   "metadata": {},
   "source": [
    "Получили на выходе список, который содержит все элементы, принадлежащие к тэгу. В этом примере таблиц у нас две, каждая из них является отдельным элементом списка."
   ]
  },
  {
   "cell_type": "code",
   "execution_count": 7,
   "metadata": {},
   "outputs": [
    {
     "data": {
      "text/plain": [
       "<table>\n",
       "<tr>\n",
       "<td>Тамбовцева</td>\n",
       "<td>Алла</td>\n",
       "<td>24</td>\n",
       "</tr>\n",
       "</table>"
      ]
     },
     "execution_count": 7,
     "metadata": {},
     "output_type": "execute_result"
    }
   ],
   "source": [
    "tables[1]"
   ]
  },
  {
   "cell_type": "markdown",
   "metadata": {},
   "source": [
    "Иногда таблиц очень много (уже скоро увидим такое на реальном примере), поэтому поисковый запрос можно уточнить с помощью аттрибутов тэга. Так, если посмотрим на код, увидим, что у нашей первой таблицы есть атрибут border со значением 1. Передадим это уточнение в bs в виде словаря. То, что до знака равно (атрибут) - ключ, а его значение - значение."
   ]
  },
  {
   "cell_type": "code",
   "execution_count": 8,
   "metadata": {},
   "outputs": [
    {
     "name": "stdout",
     "output_type": "stream",
     "text": [
      "[<table border=\"1\">\n",
      "<caption>Информация</caption>\n",
      "<tr>\n",
      "<th>Фамилия</th>\n",
      "<th>Имя</th>\n",
      "<th>Возраст</th>\n",
      "</tr>\n",
      "<tr>\n",
      "<td>Тамбовцева</td>\n",
      "<td>Алла</td>\n",
      "<td>24</td>\n",
      "</tr>\n",
      "<tr>\n",
      "<td>Иванов</td>\n",
      "<td>Петр</td>\n",
      "<td>32</td>\n",
      "</tr>\n",
      "<tr>\n",
      "<td>Константинопольский</td>\n",
      "<td>Константин</td>\n",
      "<td>29</td>\n",
      "</tr>\n",
      "</table>]\n"
     ]
    }
   ],
   "source": [
    "tables = soup.find_all('table', {'border':1}) # так поиск вернет только одну таблицу.\n",
    "print(tables)"
   ]
  },
  {
   "cell_type": "markdown",
   "metadata": {},
   "source": [
    "Давайте теперь, например, в один список сохраним фамилии людей из нашей таблицы, а в другой возраст."
   ]
  },
  {
   "cell_type": "code",
   "execution_count": 9,
   "metadata": {},
   "outputs": [
    {
     "name": "stdout",
     "output_type": "stream",
     "text": [
      "<tr>\n",
      "<th>Фамилия</th>\n",
      "<th>Имя</th>\n",
      "<th>Возраст</th>\n",
      "</tr>\n"
     ]
    }
   ],
   "source": [
    "rows = tables[0].find_all('tr') # нашли теперь все ряды в таблице\n",
    "print(rows[0])"
   ]
  },
  {
   "cell_type": "markdown",
   "metadata": {},
   "source": [
    "Нашли все ряды. Первый ряд с заголовками колонок (тэги th, можно его пропустить)."
   ]
  },
  {
   "cell_type": "code",
   "execution_count": 10,
   "metadata": {},
   "outputs": [
    {
     "data": {
      "text/plain": [
       "[<td>Тамбовцева</td>, <td>Алла</td>, <td>24</td>]"
      ]
     },
     "execution_count": 10,
     "metadata": {},
     "output_type": "execute_result"
    }
   ],
   "source": [
    "rows[1].find_all('td') "
   ]
  },
  {
   "cell_type": "markdown",
   "metadata": {},
   "source": [
    "Добрались до внутреннего тэга td - глубже идти некуда. Тут три элемента (три колонки). Давайте забирать отсюда возраст и фамилию."
   ]
  },
  {
   "cell_type": "code",
   "execution_count": 11,
   "metadata": {},
   "outputs": [
    {
     "data": {
      "text/plain": [
       "'Тамбовцева'"
      ]
     },
     "execution_count": 11,
     "metadata": {},
     "output_type": "execute_result"
    }
   ],
   "source": [
    "rows[1].find_all('td')[0].text.strip()"
   ]
  },
  {
   "cell_type": "markdown",
   "metadata": {},
   "source": [
    "Чтобы избавиться от тэгов используем атрибут text - выводит текст, который лежит между тэгами. Еще для надежности можно использовать strip() - удалит невидимые символы, если они есть, а если их нет, то ошибки тоже не выдаст."
   ]
  },
  {
   "cell_type": "code",
   "execution_count": 12,
   "metadata": {},
   "outputs": [
    {
     "name": "stdout",
     "output_type": "stream",
     "text": [
      "['Тамбовцева', 'Иванов', 'Константинопольский'] ['24', '32', '29']\n"
     ]
    }
   ],
   "source": [
    "surnames = []\n",
    "ages = []\n",
    "\n",
    "for row in rows[1:]: # начинаем цикл со второго объекта\n",
    "    surnames.append(row.find_all('td')[0].text.strip())\n",
    "    ages.append(row.find_all('td')[2].text.strip())\n",
    "    \n",
    "print(surnames, ages)"
   ]
  },
  {
   "cell_type": "markdown",
   "metadata": {},
   "source": [
    "А теперь давайте запишем собранную информацию в файл. Табличные данные часто хранятся в формате csv - comma separated values, поэтому будем просто записывать значения в текстовый файл через запятую."
   ]
  },
  {
   "cell_type": "code",
   "execution_count": 13,
   "metadata": {},
   "outputs": [],
   "source": [
    "f = open('table.csv', 'w', encoding = 'utf8')\n",
    "\n",
    "for idx in range(len(surnames)):\n",
    "    f.write(f'{surnames[idx]},{ages[idx]}\\n')\n",
    "    \n",
    "f.close()"
   ]
  },
  {
   "cell_type": "code",
   "execution_count": 14,
   "metadata": {},
   "outputs": [
    {
     "name": "stdout",
     "output_type": "stream",
     "text": [
      "Тамбовцева,24\n",
      "\n",
      "Иванов,32\n",
      "\n",
      "Константинопольский,29\n",
      "\n"
     ]
    }
   ],
   "source": [
    "with open('table.csv', encoding='utf8') as f:\n",
    "    for line in f:\n",
    "        print(line)"
   ]
  },
  {
   "cell_type": "markdown",
   "metadata": {},
   "source": [
    "Сейчас не будем углубляться в детали библиотеки pandas, но просто посмотрим, как красиво выглядят  в таблице только что собранные данные."
   ]
  },
  {
   "cell_type": "code",
   "execution_count": 15,
   "metadata": {},
   "outputs": [
    {
     "data": {
      "text/html": [
       "<div>\n",
       "<style scoped>\n",
       "    .dataframe tbody tr th:only-of-type {\n",
       "        vertical-align: middle;\n",
       "    }\n",
       "\n",
       "    .dataframe tbody tr th {\n",
       "        vertical-align: top;\n",
       "    }\n",
       "\n",
       "    .dataframe thead th {\n",
       "        text-align: right;\n",
       "    }\n",
       "</style>\n",
       "<table border=\"1\" class=\"dataframe\">\n",
       "  <thead>\n",
       "    <tr style=\"text-align: right;\">\n",
       "      <th></th>\n",
       "      <th>0</th>\n",
       "      <th>1</th>\n",
       "    </tr>\n",
       "  </thead>\n",
       "  <tbody>\n",
       "    <tr>\n",
       "      <th>0</th>\n",
       "      <td>Тамбовцева</td>\n",
       "      <td>24</td>\n",
       "    </tr>\n",
       "    <tr>\n",
       "      <th>1</th>\n",
       "      <td>Иванов</td>\n",
       "      <td>32</td>\n",
       "    </tr>\n",
       "    <tr>\n",
       "      <th>2</th>\n",
       "      <td>Константинопольский</td>\n",
       "      <td>29</td>\n",
       "    </tr>\n",
       "  </tbody>\n",
       "</table>\n",
       "</div>"
      ],
      "text/plain": [
       "                     0   1\n",
       "0           Тамбовцева  24\n",
       "1               Иванов  32\n",
       "2  Константинопольский  29"
      ]
     },
     "execution_count": 15,
     "metadata": {},
     "output_type": "execute_result"
    }
   ],
   "source": [
    "import pandas as pd\n",
    "df = pd.read_csv('table.csv', encoding='utf8', header=None)\n",
    "df.head()"
   ]
  },
  {
   "cell_type": "markdown",
   "metadata": {},
   "source": [
    "# А теперь парсим реальную табличку с wiki"
   ]
  },
  {
   "cell_type": "markdown",
   "metadata": {},
   "source": [
    "Будем работать со страницей вики, на которой находится информация о испытаниях ядерного оружия. \n",
    "https://en.wikipedia.org/wiki/List_of_nuclear_weapons_tests\n",
    "\n",
    "Нашей задачей будет достать вторую таблицу Worldwide nuclear test with a yield of 1.4 Mt TNT equivalent and more и сохранить из нее в три списка три колонки - Date, Yield (мощность взрыва) и Country."
   ]
  },
  {
   "cell_type": "code",
   "execution_count": 16,
   "metadata": {
    "colab": {
     "base_uri": "https://localhost:8080/",
     "height": 54
    },
    "colab_type": "code",
    "id": "x2WEjHmOKjEU",
    "outputId": "12930b62-1106-4505-c841-ff4660314201"
   },
   "outputs": [],
   "source": [
    "website_url = requests.get('https://en.wikipedia.org/wiki/List_of_nuclear_weapons_tests').text\n",
    "# print(website_url)"
   ]
  },
  {
   "cell_type": "code",
   "execution_count": 17,
   "metadata": {
    "colab": {
     "base_uri": "https://localhost:8080/",
     "height": 1000
    },
    "colab_type": "code",
    "id": "hRGbPlOgKjEZ",
    "outputId": "2aa7d599-9c1e-4b4f-9e20-dc9a30022fac"
   },
   "outputs": [],
   "source": [
    "from bs4 import BeautifulSoup\n",
    "\n",
    "soup = BeautifulSoup(website_url,'lxml')\n",
    "\n",
    "# print(soup.prettify())"
   ]
  },
  {
   "cell_type": "markdown",
   "metadata": {},
   "source": [
    "Здесь таблиц уже будет много, и чтобы найти нужную уже точно понадобится атрибут."
   ]
  },
  {
   "cell_type": "code",
   "execution_count": 18,
   "metadata": {},
   "outputs": [
    {
     "data": {
      "text/plain": [
       "19"
      ]
     },
     "execution_count": 18,
     "metadata": {},
     "output_type": "execute_result"
    }
   ],
   "source": [
    "len(soup.find_all('table'))"
   ]
  },
  {
   "cell_type": "markdown",
   "metadata": {
    "colab_type": "text",
    "id": "KzzCs4YwKjEe"
   },
   "source": [
    "Если внимательно изучить код `HTML` искомой таблицы, то можно обнаружить что вся таблица находится в классе `Wikitable Sortable` (для включения отображения кода сайта в вашем браузере можно нажать правкой кнопкой мыши на таблицу и выбрать пункт *Исследовать элемент* или в любом месте страницы и *Показать исходный код*)."
   ]
  },
  {
   "cell_type": "markdown",
   "metadata": {
    "colab_type": "text",
    "id": "F6ggqHkBKjEg"
   },
   "source": [
    "Поэтому первой задачей будет найти класс *wikitable sortable* в коде `HTML`. Это можно сделать с помощью функции `find_all`, указав в качестве аргументов, что мы ищем тэг `table` с классом `wikitable sortable`."
   ]
  },
  {
   "cell_type": "code",
   "execution_count": 19,
   "metadata": {
    "colab": {
     "base_uri": "https://localhost:8080/",
     "height": 1000
    },
    "colab_type": "code",
    "id": "JxwjvVxxKjEh",
    "outputId": "de27b6e0-0669-411f-999c-5289774e175a"
   },
   "outputs": [],
   "source": [
    "My_table = soup.find_all('table',{'class':'wikitable sortable'})\n",
    "# My_table"
   ]
  },
  {
   "cell_type": "markdown",
   "metadata": {
    "colab_type": "text",
    "id": "nQZZEFpUKjEn"
   },
   "source": [
    "Но как вы могли заметить, то на страницы есть две таблицы, которые принадлежат этому классу. Функция `find_all` вернет все найденные объекты в виде списка. Поэтому проверим второй найденный элемент."
   ]
  },
  {
   "cell_type": "code",
   "execution_count": 20,
   "metadata": {
    "colab": {
     "base_uri": "https://localhost:8080/",
     "height": 1000
    },
    "colab_type": "code",
    "id": "p3SqtX1DKjEp",
    "outputId": "e12724cd-15d1-4df1-82db-1c59c0cfd688"
   },
   "outputs": [],
   "source": [
    "#My_table[1]"
   ]
  },
  {
   "cell_type": "markdown",
   "metadata": {
    "colab_type": "text",
    "id": "FkYcIKRTKjEv"
   },
   "source": [
    "Все верно, это наша искомая таблица. Если дальше изучить содержимое таблицы, то станет понятно что внутри тега `th` находится заголовок таблицы, а внутри `td` строки таблицы. А оба этих тега находятся внутри тегов `tr` что является по факту строкой таблицы. Давайте извлечем все строки таблицы также используя функцию `find_all`."
   ]
  },
  {
   "cell_type": "code",
   "execution_count": 21,
   "metadata": {
    "colab": {
     "base_uri": "https://localhost:8080/",
     "height": 1000
    },
    "colab_type": "code",
    "id": "F5QYpbNzKjEw",
    "outputId": "2e60d107-6b57-4221-a612-a6899fa07bc1"
   },
   "outputs": [],
   "source": [
    "rows = My_table[1].find_all('tr')\n",
    "# print(rows)"
   ]
  },
  {
   "cell_type": "markdown",
   "metadata": {
    "colab_type": "text",
    "id": "mZQYvyv4KjE2"
   },
   "source": [
    "Давайте внимательно изучим содержимое одной строки, вытащим все `td`. Отобразим вторую строчку:"
   ]
  },
  {
   "cell_type": "code",
   "execution_count": 22,
   "metadata": {
    "colab": {
     "base_uri": "https://localhost:8080/",
     "height": 137
    },
    "colab_type": "code",
    "id": "OYHYLlvKKjE3",
    "outputId": "a6d852aa-5ae5-4488-bacd-a2d93fe2691c"
   },
   "outputs": [
    {
     "data": {
      "text/plain": [
       "[<td>October 30, 1961</td>,\n",
       " <td>50</td>,\n",
       " <td>parachute air drop</td>,\n",
       " <td>Soviet Union</td>,\n",
       " <td><a href=\"/wiki/Novaya_Zemlya\" title=\"Novaya Zemlya\">Novaya Zemlya</a></td>,\n",
       " <td><a href=\"/wiki/Tsar_Bomba\" title=\"Tsar Bomba\">Tsar Bomba</a>, Test #130\n",
       " </td>]"
      ]
     },
     "execution_count": 22,
     "metadata": {},
     "output_type": "execute_result"
    }
   ],
   "source": [
    "rows[1].find_all('td')"
   ]
  },
  {
   "cell_type": "markdown",
   "metadata": {
    "colab_type": "text",
    "id": "ytmoYTZfKjE8"
   },
   "source": [
    "Мы видим нужные нам данные между тегов `<td><\\td>`, а также ссылки с тегом `<a>` и даже смешанные ячейки с обоими этими вариантами. Давайте сначала извлечем просто данные. Для этого используем функцию `get_text()` - она вернет все что между тегами."
   ]
  },
  {
   "cell_type": "markdown",
   "metadata": {
    "colab_type": "text",
    "id": "qCNsBY7FKjE9"
   },
   "source": [
    "Возьмем, например, дату (она будет первым элементом):"
   ]
  },
  {
   "cell_type": "code",
   "execution_count": 23,
   "metadata": {
    "colab": {
     "base_uri": "https://localhost:8080/",
     "height": 34
    },
    "colab_type": "code",
    "id": "7N3ERSqEKjE-",
    "outputId": "0c36a552-5199-42c5-babb-19034055989b"
   },
   "outputs": [
    {
     "data": {
      "text/plain": [
       "'October 30, 1961'"
      ]
     },
     "execution_count": 23,
     "metadata": {},
     "output_type": "execute_result"
    }
   ],
   "source": [
    "rows[1].find_all('td')[0].get_text()"
   ]
  },
  {
   "cell_type": "markdown",
   "metadata": {
    "colab_type": "text",
    "id": "NKExPVoTKjFC"
   },
   "source": [
    "Единственное, нам нужно отдельно обработать, это первую строку, в которой хранится заголовок ряда (table header)"
   ]
  },
  {
   "cell_type": "code",
   "execution_count": 24,
   "metadata": {
    "colab": {
     "base_uri": "https://localhost:8080/",
     "height": 34
    },
    "colab_type": "code",
    "id": "D6FMSQ24KjFD",
    "outputId": "67c3f383-2f87-4568-e655-028de61c7964"
   },
   "outputs": [
    {
     "data": {
      "text/plain": [
       "'Date (GMT)\\n'"
      ]
     },
     "execution_count": 24,
     "metadata": {},
     "output_type": "execute_result"
    }
   ],
   "source": [
    "rows[0].find_all('th')[0].get_text()"
   ]
  },
  {
   "cell_type": "markdown",
   "metadata": {
    "colab_type": "text",
    "id": "fF_onkH1KjFH"
   },
   "source": [
    "Все классно, только давайте избавимся от знака переноса строки."
   ]
  },
  {
   "cell_type": "code",
   "execution_count": 25,
   "metadata": {
    "colab": {
     "base_uri": "https://localhost:8080/",
     "height": 34
    },
    "colab_type": "code",
    "id": "o7VP8de2KjFI",
    "outputId": "802f3948-1b76-4040-c081-10e2f08c3904"
   },
   "outputs": [
    {
     "data": {
      "text/plain": [
       "'Date (GMT)'"
      ]
     },
     "execution_count": 25,
     "metadata": {},
     "output_type": "execute_result"
    }
   ],
   "source": [
    "rows[0].find_all('th')[0].get_text().strip()"
   ]
  },
  {
   "cell_type": "markdown",
   "metadata": {
    "colab_type": "text",
    "id": "UzfvB4coKjFN"
   },
   "source": [
    "Давайте теперь извлечем все даты. Создадим список для их хранения `Dates` и будет итерироваться по всем элементам:"
   ]
  },
  {
   "cell_type": "code",
   "execution_count": 26,
   "metadata": {
    "colab": {
     "base_uri": "https://localhost:8080/",
     "height": 1000
    },
    "colab_type": "code",
    "id": "TaORSTo3KjFO",
    "outputId": "98f1d75e-7588-42e1-8b53-9794c0eae984"
   },
   "outputs": [
    {
     "name": "stdout",
     "output_type": "stream",
     "text": [
      "['Date (GMT)', 'October 30, 1961', 'December 24, 1962', 'August 5, 1962', 'September 27, 1962', 'September 25, 1962', 'March 1, 1954', 'May 5, 1954', 'October 23, 1961', 'March 26, 1954', 'October 31, 1952', 'August 25, 1962', 'September 19, 1962', 'July 11, 1958', 'June 28, 1958', 'October 30, 1962', 'October 22, 1962', 'June 27, 1962', 'April 25, 1954', 'July 20, 1956', 'October 31, 1961', 'November 6, 1971', 'July 10, 1956', 'August 27, 1962', 'October 6, 1961', 'October 27, 1973', 'November 17, 1976', 'July 11, 1962', 'May 20, 1956', 'August 1, 1958', 'August 12, 1958', 'September 12, 1973', 'May 27, 1956', 'October 14, 1970', 'September 16, 1962', 'June 17, 1967', 'September 15, 1962', 'December 25, 1962', 'April 28, 1958', 'October 4, 1961', 'June 10, 1962', 'December 27, 1968', 'September 29, 1969', 'June 27, 1973', 'October 6, 1957', 'October 18, 1958', 'October 22, 1958', 'August 20, 1962', 'September 10, 1961', 'August 24, 1968', 'September 27, 1971', 'September 21, 1962', 'November 2, 1974', 'October 14, 1970', 'July 26, 1958', 'July 8, 1956', 'September 8, 1962', 'March 26, 1970', 'November 8, 1957', 'May 13, 1954', 'November 22, 1955', 'September 24, 1957', 'August 22, 1962', 'October 18, 1962', 'February 27, 1958', 'June 14, 1958', 'October 12, 1958', 'October 15, 1958', 'September 20, 1961', 'October 20, 1961', 'November 4, 1961', 'May 11, 1958', 'May 12, 1958', 'July 9, 1962', 'September 18, 1962']\n"
     ]
    }
   ],
   "source": [
    "Dates = []\n",
    "\n",
    "Dates.append(rows[0].find_all('th')[0].get_text().strip()) # отдельно добавляем заголовок\n",
    "\n",
    "for row in rows[1:]: # начинаем со второго ряда таблицы, потому что 0 уже обработали выше\n",
    "    r = row.find_all('td') # находим все теги td для строки таблицы\n",
    "    Dates.append(r[0].get_text().strip()) # сохраняем данные в наш список\n",
    "\n",
    "print(Dates)"
   ]
  },
  {
   "cell_type": "markdown",
   "metadata": {
    "colab_type": "text",
    "id": "lrWAxB80KjFR"
   },
   "source": [
    "Ок! Следующие колонки, которые нам нужны - мощность взрыва и страна. Давайте поймем, где их искать."
   ]
  },
  {
   "cell_type": "code",
   "execution_count": 27,
   "metadata": {
    "colab": {
     "base_uri": "https://localhost:8080/",
     "height": 241
    },
    "colab_type": "code",
    "id": "yxBedDPLKjFS",
    "outputId": "e284fd84-b244-477d-d8a1-5e43fa723ab1"
   },
   "outputs": [
    {
     "data": {
      "text/plain": [
       "<tr>\n",
       "<th>Date (GMT)\n",
       "</th>\n",
       "<th>Yield (megatons)\n",
       "</th>\n",
       "<th>Deployment\n",
       "</th>\n",
       "<th>Country\n",
       "</th>\n",
       "<th>Test Site\n",
       "</th>\n",
       "<th>Name or Number\n",
       "</th></tr>"
      ]
     },
     "execution_count": 27,
     "metadata": {},
     "output_type": "execute_result"
    }
   ],
   "source": [
    "rows[0]"
   ]
  },
  {
   "cell_type": "markdown",
   "metadata": {
    "colab_type": "text",
    "id": "qWwWexaeKjFV"
   },
   "source": [
    "Видим, что Yield вторая колонка, а страна третья. Соберем их в отдельные списки по той же схеме, что дату. Но сначала проверим, что правильно посчитали номера."
   ]
  },
  {
   "cell_type": "code",
   "execution_count": 28,
   "metadata": {
    "colab": {
     "base_uri": "https://localhost:8080/",
     "height": 51
    },
    "colab_type": "code",
    "id": "U_wHxWlqKjFX",
    "outputId": "8a4c6e2d-8d52-4400-befd-e064801c9c84"
   },
   "outputs": [
    {
     "data": {
      "text/plain": [
       "<th>Yield (megatons)\n",
       "</th>"
      ]
     },
     "execution_count": 28,
     "metadata": {},
     "output_type": "execute_result"
    }
   ],
   "source": [
    "rows[0].find_all('th')[1]"
   ]
  },
  {
   "cell_type": "code",
   "execution_count": 29,
   "metadata": {
    "colab": {
     "base_uri": "https://localhost:8080/",
     "height": 51
    },
    "colab_type": "code",
    "id": "HcuXz-LsKjFa",
    "outputId": "3c310980-37d9-440a-d48d-2abb1ef672a8"
   },
   "outputs": [
    {
     "data": {
      "text/plain": [
       "<th>Country\n",
       "</th>"
      ]
     },
     "execution_count": 29,
     "metadata": {},
     "output_type": "execute_result"
    }
   ],
   "source": [
    "rows[0].find_all('th')[3]"
   ]
  },
  {
   "cell_type": "markdown",
   "metadata": {
    "colab_type": "text",
    "id": "Fh9zlgKKKjFe"
   },
   "source": [
    "Вроде все правильно. Единственно, не забудем хранить числа как float."
   ]
  },
  {
   "cell_type": "code",
   "execution_count": 30,
   "metadata": {
    "colab": {
     "base_uri": "https://localhost:8080/",
     "height": 1000
    },
    "colab_type": "code",
    "id": "iHUOvwyLKjFf",
    "outputId": "8495bf4c-e9ee-4b18-cbc7-0cc010e14062"
   },
   "outputs": [
    {
     "name": "stdout",
     "output_type": "stream",
     "text": [
      "['Yield (megatons)', 50.0, 24.2, 21.1, 20.0, 19.1, 15.0, 13.5, 12.5, 11.0, 10.4, 10.0, 10.0, 9.3, 8.9, 8.3, 8.2, 7.7, 6.9, 5.0, 5.0, 4.8, 4.5, 4.2, 4.0, 4.0, 4.0, 3.9, 3.8, 3.8, 3.8, 3.8, 3.5, 3.4, 3.3, 3.3, 3.1, 3.1, 3.0, 3.0, 3.0, 3.0, 3.0, 3.0, 2.9, 2.9, 2.8, 2.8, 2.7, 2.6, 2.5, 2.4, 2.3, 2.2, 2.0, 1.9, 1.9, 1.9, 1.8, 1.7, 1.6, 1.6, 1.6, 1.6, 1.5, 1.5, 1.5, 1.5, 1.5, 1.5, 1.5, 1.4, 1.4, 1.4, 1.4]\n"
     ]
    }
   ],
   "source": [
    "Yield = []\n",
    "\n",
    "Yield.append(rows[0].find_all('th')[1].get_text().strip()) # отдельно добавляем заголовок\n",
    "\n",
    "for row in rows[1:]: # начинаем со второго ряда таблицы, потому что 0 уже обработали выше\n",
    "    r = row.find_all('td') # находим все теги td для строки таблицы\n",
    "    Yield.append(float(r[1].get_text().strip())) # сохраняем данные в наш список и переводим в float\n",
    "\n",
    "print(Yield)"
   ]
  },
  {
   "cell_type": "code",
   "execution_count": 31,
   "metadata": {
    "colab": {
     "base_uri": "https://localhost:8080/",
     "height": 1000
    },
    "colab_type": "code",
    "id": "cAjfGoVAKjFh",
    "outputId": "d929d3ea-d267-4f1c-bf48-181ccc794e73"
   },
   "outputs": [
    {
     "name": "stdout",
     "output_type": "stream",
     "text": [
      "['Country', 'Soviet Union', 'Soviet Union', 'Soviet Union', 'Soviet Union', 'Soviet Union', 'USA', 'USA', 'Soviet Union', 'USA', 'USA', 'Soviet Union', 'Soviet Union', 'USA', 'USA', 'USA', 'Soviet Union', 'USA', 'USA', 'USA', 'Soviet Union', 'USA', 'USA', 'Soviet Union', 'Soviet Union', 'Soviet Union', 'China', 'USA', 'USA', 'USA', 'USA', 'Soviet Union', 'USA', 'China', 'Soviet Union', 'China', 'Soviet Union', 'Soviet Union', 'UK', 'Soviet Union', 'USA', 'China', 'China', 'China', 'Soviet Union', 'Soviet Union', 'Soviet Union', 'Soviet Union', 'Soviet Union', 'France', 'Soviet Union', 'Soviet Union', 'Soviet Union', 'Soviet Union', 'USA', 'USA', 'Soviet Union', 'USA', 'UK', 'USA', 'Soviet Union', 'Soviet Union', 'Soviet Union', 'USA', 'Soviet Union', 'USA', 'Soviet Union', 'Soviet Union', 'Soviet Union', 'Soviet Union', 'Soviet Union', 'USA', 'USA', 'USA', 'Soviet Union']\n"
     ]
    }
   ],
   "source": [
    "Country = []\n",
    "\n",
    "Country.append(rows[0].find_all('th')[3].get_text().strip()) # отдельно добавляем заголовок\n",
    "\n",
    "for row in rows[1:]: # начинаем со второго ряда таблицы, потому что 0 уже обработали выше\n",
    "    r = row.find_all('td') # находим все теги td для строки таблицы\n",
    "    Country.append(r[3].get_text().strip()) # сохраняем данные в наш список и переводим в float\n",
    "\n",
    "print(Country)"
   ]
  },
  {
   "cell_type": "code",
   "execution_count": 32,
   "metadata": {
    "colab": {
     "base_uri": "https://localhost:8080/",
     "height": 89
    },
    "colab_type": "code",
    "id": "MHhQI6fWKjFj",
    "outputId": "882ac651-3270-4007-a59e-f5abf44a3660"
   },
   "outputs": [
    {
     "name": "stdout",
     "output_type": "stream",
     "text": [
      "['Date (GMT)', 'October 30, 1961', 'December 24, 1962', 'August 5, 1962', 'September 27, 1962', 'September 25, 1962', 'March 1, 1954', 'May 5, 1954', 'October 23, 1961', 'March 26, 1954', 'October 31, 1952', 'August 25, 1962', 'September 19, 1962', 'July 11, 1958', 'June 28, 1958', 'October 30, 1962', 'October 22, 1962', 'June 27, 1962', 'April 25, 1954', 'July 20, 1956', 'October 31, 1961', 'November 6, 1971', 'July 10, 1956', 'August 27, 1962', 'October 6, 1961', 'October 27, 1973', 'November 17, 1976', 'July 11, 1962', 'May 20, 1956', 'August 1, 1958', 'August 12, 1958', 'September 12, 1973', 'May 27, 1956', 'October 14, 1970', 'September 16, 1962', 'June 17, 1967', 'September 15, 1962', 'December 25, 1962', 'April 28, 1958', 'October 4, 1961', 'June 10, 1962', 'December 27, 1968', 'September 29, 1969', 'June 27, 1973', 'October 6, 1957', 'October 18, 1958', 'October 22, 1958', 'August 20, 1962', 'September 10, 1961', 'August 24, 1968', 'September 27, 1971', 'September 21, 1962', 'November 2, 1974', 'October 14, 1970', 'July 26, 1958', 'July 8, 1956', 'September 8, 1962', 'March 26, 1970', 'November 8, 1957', 'May 13, 1954', 'November 22, 1955', 'September 24, 1957', 'August 22, 1962', 'October 18, 1962', 'February 27, 1958', 'June 14, 1958', 'October 12, 1958', 'October 15, 1958', 'September 20, 1961', 'October 20, 1961', 'November 4, 1961', 'May 11, 1958', 'May 12, 1958', 'July 9, 1962', 'September 18, 1962']\n",
      "['Yield (megatons)', 50.0, 24.2, 21.1, 20.0, 19.1, 15.0, 13.5, 12.5, 11.0, 10.4, 10.0, 10.0, 9.3, 8.9, 8.3, 8.2, 7.7, 6.9, 5.0, 5.0, 4.8, 4.5, 4.2, 4.0, 4.0, 4.0, 3.9, 3.8, 3.8, 3.8, 3.8, 3.5, 3.4, 3.3, 3.3, 3.1, 3.1, 3.0, 3.0, 3.0, 3.0, 3.0, 3.0, 2.9, 2.9, 2.8, 2.8, 2.7, 2.6, 2.5, 2.4, 2.3, 2.2, 2.0, 1.9, 1.9, 1.9, 1.8, 1.7, 1.6, 1.6, 1.6, 1.6, 1.5, 1.5, 1.5, 1.5, 1.5, 1.5, 1.5, 1.4, 1.4, 1.4, 1.4]\n",
      "['Country', 'Soviet Union', 'Soviet Union', 'Soviet Union', 'Soviet Union', 'Soviet Union', 'USA', 'USA', 'Soviet Union', 'USA', 'USA', 'Soviet Union', 'Soviet Union', 'USA', 'USA', 'USA', 'Soviet Union', 'USA', 'USA', 'USA', 'Soviet Union', 'USA', 'USA', 'Soviet Union', 'Soviet Union', 'Soviet Union', 'China', 'USA', 'USA', 'USA', 'USA', 'Soviet Union', 'USA', 'China', 'Soviet Union', 'China', 'Soviet Union', 'Soviet Union', 'UK', 'Soviet Union', 'USA', 'China', 'China', 'China', 'Soviet Union', 'Soviet Union', 'Soviet Union', 'Soviet Union', 'Soviet Union', 'France', 'Soviet Union', 'Soviet Union', 'Soviet Union', 'Soviet Union', 'USA', 'USA', 'Soviet Union', 'USA', 'UK', 'USA', 'Soviet Union', 'Soviet Union', 'Soviet Union', 'USA', 'Soviet Union', 'USA', 'Soviet Union', 'Soviet Union', 'Soviet Union', 'Soviet Union', 'Soviet Union', 'USA', 'USA', 'USA', 'Soviet Union']\n"
     ]
    }
   ],
   "source": [
    "print(Dates)\n",
    "print(Yield)\n",
    "print(Country)"
   ]
  },
  {
   "cell_type": "markdown",
   "metadata": {},
   "source": [
    "Давайте опять сохраним данные в файл. Тут обратите внимание на запятую в дате - давайте сделаем разделителем табуляцию."
   ]
  },
  {
   "cell_type": "code",
   "execution_count": 33,
   "metadata": {},
   "outputs": [],
   "source": [
    "f = open('nuclear.csv', 'w')\n",
    "\n",
    "for idx in range(len(Dates)):\n",
    "    f.write(f'{Dates[idx]}\\t{Yield[idx]}\\t{Country[idx]}\\n')\n",
    "    \n",
    "f.close()"
   ]
  },
  {
   "cell_type": "code",
   "execution_count": 34,
   "metadata": {},
   "outputs": [
    {
     "data": {
      "text/html": [
       "<div>\n",
       "<style scoped>\n",
       "    .dataframe tbody tr th:only-of-type {\n",
       "        vertical-align: middle;\n",
       "    }\n",
       "\n",
       "    .dataframe tbody tr th {\n",
       "        vertical-align: top;\n",
       "    }\n",
       "\n",
       "    .dataframe thead th {\n",
       "        text-align: right;\n",
       "    }\n",
       "</style>\n",
       "<table border=\"1\" class=\"dataframe\">\n",
       "  <thead>\n",
       "    <tr style=\"text-align: right;\">\n",
       "      <th></th>\n",
       "      <th>Date (GMT)</th>\n",
       "      <th>Yield (megatons)</th>\n",
       "      <th>Country</th>\n",
       "    </tr>\n",
       "  </thead>\n",
       "  <tbody>\n",
       "    <tr>\n",
       "      <th>0</th>\n",
       "      <td>October 30, 1961</td>\n",
       "      <td>50.0</td>\n",
       "      <td>Soviet Union</td>\n",
       "    </tr>\n",
       "    <tr>\n",
       "      <th>1</th>\n",
       "      <td>December 24, 1962</td>\n",
       "      <td>24.2</td>\n",
       "      <td>Soviet Union</td>\n",
       "    </tr>\n",
       "    <tr>\n",
       "      <th>2</th>\n",
       "      <td>August 5, 1962</td>\n",
       "      <td>21.1</td>\n",
       "      <td>Soviet Union</td>\n",
       "    </tr>\n",
       "    <tr>\n",
       "      <th>3</th>\n",
       "      <td>September 27, 1962</td>\n",
       "      <td>20.0</td>\n",
       "      <td>Soviet Union</td>\n",
       "    </tr>\n",
       "    <tr>\n",
       "      <th>4</th>\n",
       "      <td>September 25, 1962</td>\n",
       "      <td>19.1</td>\n",
       "      <td>Soviet Union</td>\n",
       "    </tr>\n",
       "  </tbody>\n",
       "</table>\n",
       "</div>"
      ],
      "text/plain": [
       "           Date (GMT)  Yield (megatons)       Country\n",
       "0    October 30, 1961              50.0  Soviet Union\n",
       "1   December 24, 1962              24.2  Soviet Union\n",
       "2      August 5, 1962              21.1  Soviet Union\n",
       "3  September 27, 1962              20.0  Soviet Union\n",
       "4  September 25, 1962              19.1  Soviet Union"
      ]
     },
     "execution_count": 34,
     "metadata": {},
     "output_type": "execute_result"
    }
   ],
   "source": [
    "df = pd.read_csv('nuclear.csv', sep='\\t', index_col=None)\n",
    "df.head()"
   ]
  },
  {
   "cell_type": "markdown",
   "metadata": {
    "colab_type": "text",
    "id": "sOGC8QvBKjFl"
   },
   "source": [
    "# И давайте немного задачек, чтобы освежить в памяти прошлые занятия."
   ]
  },
  {
   "cell_type": "markdown",
   "metadata": {
    "colab_type": "text",
    "id": "Lp5wi55DKjFm"
   },
   "source": [
    "1. Напишите функцию, которая берет аргументом название страны и возвращает (return) среднюю мощность взрыва для этой страны (нужно сложить все значения из колонки 'Yield (megatons)', которым соответствует страна, например, США, и раделить на количество этих значений). Для подсчета используйте списки, которые мы извлекли выше.\n",
    "2. Из списка Country оставьте только уникальные значения для стран и запустите вашу функцию в цикле для каждого значения Country. Внутри цикла сделайте следующий вывод \"{название страны}: средняя мощность взрыва {средняя мощность} мегатон\"\n",
    "3. Создайте словарь, ключом в котором будет страна, а значением список из количества испытаний и максимальной мощности взрыва.\n",
    "4. Выведите ключи словаря из пункта 3 и максимальную мощность взрыва, отсортированные по максимальной мощности взрыва, от меньшего к большему."
   ]
  },
  {
   "cell_type": "code",
   "execution_count": 35,
   "metadata": {
    "colab": {},
    "colab_type": "code",
    "id": "AjvuRuV5KjFn"
   },
   "outputs": [],
   "source": [
    "# 1\n",
    "def average_yield(country):\n",
    "    yield_sum = 0 # создаем счетчитк, в который будем приплюсовывать мощность каждого испытания в заданной стране\n",
    "    yield_count = 0 # создаем счетчик, в котором будем хранить количество испытаний\n",
    "    for idx in range(len(Country)): # запускаем цикл для всех значений индексов списка Country\n",
    "        if Country[idx] == country:   # проверяем, равно ли значение в списке Country стране, для которой вызвана функция\n",
    "            yield_sum += Yield[idx]     # если да, то добавляем мощность взрыва под этим же индексом\n",
    "            yield_count += 1            # считаем это исптание\n",
    "    return round(yield_sum / yield_count,2)  # после окончания работы цикла возвращаем среднюю мощность"
   ]
  },
  {
   "cell_type": "code",
   "execution_count": 36,
   "metadata": {
    "colab": {
     "base_uri": "https://localhost:8080/",
     "height": 103
    },
    "colab_type": "code",
    "id": "9SCRs4utYkM_",
    "outputId": "e3cb3341-a75d-4b13-a029-ed27d62f178e"
   },
   "outputs": [
    {
     "name": "stdout",
     "output_type": "stream",
     "text": [
      "USA : средняя мощность взрыва 5.26 мегатон\n",
      "France : средняя мощность взрыва 2.6 мегатон\n",
      "China : средняя мощность взрыва 3.28 мегатон\n",
      "UK : средняя мощность взрыва 2.4 мегатон\n",
      "Soviet Union : средняя мощность взрыва 6.56 мегатон\n"
     ]
    }
   ],
   "source": [
    "# 2\n",
    "for country in set(Country[1:]): # чтобы оставить только уникальные значения - делаем множество из списка + с помощью среза избавляемся от от заголовка колонки под индексом [0]\n",
    "  print(country, ': средняя мощность взрыва', average_yield(country), 'мегатон')"
   ]
  },
  {
   "cell_type": "code",
   "execution_count": 37,
   "metadata": {},
   "outputs": [
    {
     "data": {
      "text/plain": [
       "27"
      ]
     },
     "execution_count": 37,
     "metadata": {},
     "output_type": "execute_result"
    }
   ],
   "source": [
    "Country.count('USA')"
   ]
  },
  {
   "cell_type": "code",
   "execution_count": 38,
   "metadata": {
    "colab": {
     "base_uri": "https://localhost:8080/",
     "height": 34
    },
    "colab_type": "code",
    "id": "gcmB_lfTYq5D",
    "outputId": "06f7ebfb-f12c-4550-ce57-cefac7114c1c"
   },
   "outputs": [
    {
     "name": "stdout",
     "output_type": "stream",
     "text": [
      "{'USA': [27, 15.0], 'France': [1, 2.6], 'China': [6, 4.0], 'UK': [2, 3.0], 'Soviet Union': [38, 50.0]}\n"
     ]
    }
   ],
   "source": [
    "# 3\n",
    "d = {}\n",
    "for x in set(Country[1:]):\n",
    "    y = []\n",
    "    for idx in range(len(Country[1:])):\n",
    "        if Country[idx] == x:\n",
    "            y.append(Yield[idx])        \n",
    "    d[x] = [Country.count(x), max(y)]\n",
    "\n",
    "print(d)"
   ]
  },
  {
   "cell_type": "code",
   "execution_count": 39,
   "metadata": {},
   "outputs": [
    {
     "name": "stdout",
     "output_type": "stream",
     "text": [
      "France 2.6\n",
      "UK 3.0\n",
      "China 4.0\n",
      "USA 15.0\n",
      "Soviet Union 50.0\n"
     ]
    }
   ],
   "source": [
    "# 4\n",
    "for value in sorted(d.values(), key=lambda x:x[1]):\n",
    "    for key in d:\n",
    "        if d[key] == value:\n",
    "            print(key, value[1])"
   ]
  }
 ],
 "metadata": {
  "colab": {
   "collapsed_sections": [],
   "name": "RISO_Exam.ipynb",
   "provenance": []
  },
  "kernelspec": {
   "display_name": "Python 3",
   "language": "python",
   "name": "python3"
  },
  "language_info": {
   "codemirror_mode": {
    "name": "ipython",
    "version": 3
   },
   "file_extension": ".py",
   "mimetype": "text/x-python",
   "name": "python",
   "nbconvert_exporter": "python",
   "pygments_lexer": "ipython3",
   "version": "3.6.5"
  }
 },
 "nbformat": 4,
 "nbformat_minor": 2
}
