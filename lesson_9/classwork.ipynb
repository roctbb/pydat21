{
 "cells": [
  {
   "cell_type": "code",
   "execution_count": null,
   "metadata": {},
   "outputs": [],
   "source": [
    "with open('page.html', 'r', encoding='utf-8') as file:\n",
    "    html_page = file.read()\n",
    "    \n",
    "print(html_page)"
   ]
  },
  {
   "cell_type": "code",
   "execution_count": null,
   "metadata": {},
   "outputs": [],
   "source": [
    "!pip install bs4"
   ]
  },
  {
   "cell_type": "code",
   "execution_count": null,
   "metadata": {},
   "outputs": [],
   "source": [
    "from bs4 import BeautifulSoup\n",
    "\n",
    "page = BeautifulSoup(html_page)\n",
    "\n",
    "print(page)"
   ]
  },
  {
   "cell_type": "code",
   "execution_count": 9,
   "metadata": {},
   "outputs": [
    {
     "name": "stdout",
     "output_type": "stream",
     "text": [
      "[<ul>\n",
      "<li>метро</li>\n",
      "<li><s>трамвай</s></li>\n",
      "<li>автобус</li>\n",
      "<li>такси <small><a href=\"http://yandex.ru\" target=\"_blank\"><span style=\"color: purple;\">от 549 руб</span></a></small></li>\n",
      "</ul>, <ul>\n",
      "<li><i>10:00</i> - отменен</li>\n",
      "<li><i>12:00</i> - отменен</li>\n",
      "<li><i>14:00</i> - отменен</li>\n",
      "<li><i>16:00</i> - отменен</li>\n",
      "<li><i>18:00</i> - отменен</li>\n",
      "</ul>]\n",
      "<class 'bs4.element.Tag'>\n"
     ]
    }
   ],
   "source": [
    "lists = page.find_all('ul')\n",
    "\n",
    "print(lists)\n",
    "print(type(lists[0]))"
   ]
  },
  {
   "cell_type": "code",
   "execution_count": 12,
   "metadata": {},
   "outputs": [
    {
     "name": "stdout",
     "output_type": "stream",
     "text": [
      "[<li><i>10:00</i> - отменен</li>, <li><i>12:00</i> - отменен</li>, <li><i>14:00</i> - отменен</li>, <li><i>16:00</i> - отменен</li>, <li><i>18:00</i> - отменен</li>]\n"
     ]
    }
   ],
   "source": [
    "list_elements = lists[1].find_all('li')\n",
    "\n",
    "print(list_elements)"
   ]
  },
  {
   "cell_type": "code",
   "execution_count": 16,
   "metadata": {},
   "outputs": [
    {
     "name": "stdout",
     "output_type": "stream",
     "text": [
      "['10:00', '12:00', '14:00', '16:00', '18:00']\n"
     ]
    }
   ],
   "source": [
    "times = []\n",
    "\n",
    "for elem in list_elements:\n",
    "    times.append(elem.find('i').get_text())\n",
    "    \n",
    "print(times)"
   ]
  },
  {
   "cell_type": "code",
   "execution_count": 17,
   "metadata": {},
   "outputs": [
    {
     "data": {
      "text/plain": [
       "'\\n\\nСтраница о транспорте\\n\\n\\nБеды транспорта в Москве\\nКуда пропали трамваи?!\\nПридется ехать на метро!\\nПрочитать про метро подробнее\\nВиды транспорта\\n\\nметро\\nтрамвай\\nавтобус\\nтакси от 549 руб\\n\\n\\n\\nРасписание движения трамваев\\nРасписание движения метро\\n\\n\\n\\n\\n10:00 - отменен\\n12:00 - отменен\\n14:00 - отменен\\n16:00 - отменен\\n18:00 - отменен\\n\\n\\n\\n\\t\\t\\t\\t\\tХодит каждые 5 минут\\n\\t\\t\\t\\t\\n\\n\\nКарта метро\\n\\n\\n\\n'"
      ]
     },
     "execution_count": 17,
     "metadata": {},
     "output_type": "execute_result"
    }
   ],
   "source": [
    "page.get_text()"
   ]
  },
  {
   "cell_type": "code",
   "execution_count": 19,
   "metadata": {},
   "outputs": [
    {
     "data": {
      "text/plain": [
       "['10:00', '12:00', '14:00', '16:00', '18:00']"
      ]
     },
     "execution_count": 19,
     "metadata": {},
     "output_type": "execute_result"
    }
   ],
   "source": [
    "list(map(lambda t: t.get_text(), page.find_all('i')))"
   ]
  },
  {
   "cell_type": "code",
   "execution_count": null,
   "metadata": {},
   "outputs": [],
   "source": []
  }
 ],
 "metadata": {
  "kernelspec": {
   "display_name": "Python 3",
   "language": "python",
   "name": "python3"
  },
  "language_info": {
   "codemirror_mode": {
    "name": "ipython",
    "version": 3
   },
   "file_extension": ".py",
   "mimetype": "text/x-python",
   "name": "python",
   "nbconvert_exporter": "python",
   "pygments_lexer": "ipython3",
   "version": "3.7.3"
  }
 },
 "nbformat": 4,
 "nbformat_minor": 2
}
