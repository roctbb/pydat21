{
 "cells": [
  {
   "cell_type": "code",
   "execution_count": null,
   "metadata": {},
   "outputs": [],
   "source": [
    "!pip install requests"
   ]
  },
  {
   "cell_type": "code",
   "execution_count": null,
   "metadata": {},
   "outputs": [],
   "source": [
    "import requests\n",
    "\n",
    "answer = requests.get(\"https://en.wikipedia.org/wiki/List_of_nuclear_weapons_tests\")\n",
    "\n",
    "print(answer.text)\n",
    "# print(answer.content.decode('utf-8'))"
   ]
  },
  {
   "cell_type": "code",
   "execution_count": null,
   "metadata": {},
   "outputs": [],
   "source": [
    "answer.text.find('wikitable sortable')"
   ]
  },
  {
   "cell_type": "code",
   "execution_count": null,
   "metadata": {},
   "outputs": [],
   "source": [
    "from bs4 import BeautifulSoup\n",
    "\n",
    "page = BeautifulSoup(answer.text)\n",
    "\n",
    "tables = page.find_all('table', {'class': 'wikitable sortable'})"
   ]
  },
  {
   "cell_type": "code",
   "execution_count": null,
   "metadata": {},
   "outputs": [],
   "source": [
    "len(tables)"
   ]
  },
  {
   "cell_type": "code",
   "execution_count": null,
   "metadata": {},
   "outputs": [],
   "source": [
    "tables[0]"
   ]
  },
  {
   "cell_type": "code",
   "execution_count": 22,
   "metadata": {},
   "outputs": [
    {
     "name": "stdout",
     "output_type": "stream",
     "text": [
      "['', 'October 30, 1961', '50', 'parachute air drop', 'Soviet Union', 'Novaya Zemlya', 'Tsar Bomba, Test #130', '']\n",
      "['', 'December 24, 1962', '24.2', 'missile warhead', 'Soviet Union', 'Novaya Zemlya', 'Test #219', '']\n",
      "['', 'August 5, 1962', '21.1', 'air drop', 'Soviet Union', 'Novaya Zemlya', 'Test #147', '']\n",
      "['', 'September 27, 1962', '20.0', 'air drop', 'Soviet Union', 'Novaya Zemlya', 'Test #174', '']\n",
      "['', 'September 25, 1962', '19.1', 'air drop', 'Soviet Union', 'Novaya Zemlya', 'Test #173', '']\n",
      "['', 'March 1, 1954', '15', 'ground', 'USA', 'Bikini Atoll', 'Castle Bravo', '']\n",
      "['', 'May 5, 1954', '13.5', 'barge', 'USA', 'Bikini Atoll', 'Castle Yankee', '']\n",
      "['', 'October 23, 1961', '12.5', 'air drop', 'Soviet Union', 'Novaya Zemlya', 'Test #123', '']\n",
      "['', 'March 26, 1954', '11.0', 'barge', 'USA', 'Bikini Atoll', 'Castle Romeo', '']\n",
      "['', 'October 31, 1952', '10.4', 'ground', 'USA', 'Enewetak Atoll', 'Ivy Mike', '']\n",
      "['', 'August 25, 1962', '10.0', 'air drop', 'Soviet Union', 'Novaya Zemlya', 'Test #158', '']\n",
      "['', 'September 19, 1962', '10.0', 'air drop', 'Soviet Union', 'Novaya Zemlya', 'Test #168', '']\n",
      "['', 'July 11, 1958', '9.3', 'barge', 'USA', 'Bikini Atoll', 'Poplar', '']\n",
      "['', 'June 28, 1958', '8.9', 'barge', 'USA', 'Enewetak Atoll', 'Oak', '']\n",
      "['', 'October 30, 1962', '8.3', 'air drop', 'USA', 'Johnston Atoll', 'Housatonic', '']\n",
      "['', 'October 22, 1962', '8.2', 'air drop', 'Soviet Union', 'Novaya Zemlya', 'Test #183', '']\n",
      "['', 'June 27, 1962', '7.7', 'air drop', 'USA', 'Kiritimati', 'Bighorn', '']\n",
      "['', 'April 25, 1954', '6.9', 'barge', 'USA', 'Bikini Atoll', 'Castle Union', '']\n",
      "['', 'July 20, 1956', '5.0', 'barge', 'USA', 'Bikini Atoll', 'Tewa', '']\n",
      "['', 'October 31, 1961', '5.0', 'air drop', 'Soviet Union', 'Novaya Zemlya', 'Test #131', '']\n",
      "['', 'November 6, 1971', '4.8', 'underground shaft', 'USA', 'Amchitka', 'Cannikin', '']\n",
      "['', 'July 10, 1956', '4.5', 'barge', 'USA', 'Bikini Atoll', 'Navajo', '']\n",
      "['', 'August 27, 1962', '4.2', 'air drop', 'Soviet Union', 'Novaya Zemlya', 'Test #160', '']\n",
      "['', 'October 6, 1961', '4.0', 'air drop', 'Soviet Union', 'Novaya Zemlya', 'Test #114', '']\n",
      "['', 'October 27, 1973', '4.0', 'underground shaft', 'Soviet Union', 'Novaya Zemlya', 'Test #392', '']\n",
      "['', 'November 17, 1976', '4.0', 'air drop', 'China', 'Lop Nur', 'Test (21)', '']\n",
      "['', 'July 11, 1962', '3.9', 'parachuted', 'USA', 'Kiritimati', 'Pamlico', '']\n",
      "['', 'May 20, 1956', '3.8', 'free air drop', 'USA', 'Bikini Atoll', 'Cherokee', '']\n",
      "['', 'August 1, 1958', '3.8', 'high alt rocket', 'USA', 'Johnston Atoll', 'Teak', '']\n",
      "['', 'August 12, 1958', '3.8', 'high alt rocket', 'USA', 'Johnston Atoll', 'Orange', '']\n",
      "['', 'September 12, 1973', '3.8', 'tunnel', 'Soviet Union', 'Novaya Zemlya', 'Test #385 - 1', '']\n",
      "['', 'May 27, 1956', '3.5', 'dry surface', 'USA', 'Bikini Atoll', 'Zuni', '']\n",
      "['', 'October 14, 1970', '3.4', 'air drop', 'China', 'Lop Nur', 'CHIC-11', '']\n",
      "['', 'September 16, 1962', '3.3', 'air drop', 'Soviet Union', 'Novaya Zemlya', 'Test #166', '']\n",
      "['', 'June 17, 1967', '3.3', 'parachuted', 'China', 'Lop Nur', 'CHIC-6', '']\n",
      "['', 'September 15, 1962', '3.1', 'air drop', 'Soviet Union', 'Novaya Zemlya', 'Test #165', '']\n",
      "['', 'December 25, 1962', '3.1', 'air drop', 'Soviet Union', 'Novaya Zemlya', 'Test #220', '']\n",
      "['', 'April 28, 1958', '3.0', 'air drop', 'UK', 'Kiritimati', 'Grapple Y', '']\n",
      "['', 'October 4, 1961', '3.0', 'air drop', 'Soviet Union', 'Novaya Zemlya', 'Test #113', '']\n",
      "['', 'June 10, 1962', '3.0', 'free air drop', 'USA', 'Kiritimati', 'Yeso', '']\n",
      "['', 'December 27, 1968', '3.0', 'air drop', 'China', 'Lop Nur', 'CHIC-8', '']\n",
      "['', 'September 29, 1969', '3.0', 'air drop', 'China', 'Lop Nur', 'CHIC-10', '']\n",
      "['', 'June 27, 1973', '3.0', 'air drop', 'China', 'Lop Nur', 'Test (15)', '']\n",
      "['', 'October 6, 1957', '2.9', 'air drop', 'Soviet Union', 'Novaya Zemlya', 'Test #47', '']\n",
      "['', 'October 18, 1958', '2.9', 'air drop', 'Soviet Union', 'Novaya Zemlya', 'Test #73', '']\n",
      "['', 'October 22, 1958', '2.8', 'air drop', 'Soviet Union', 'Novaya Zemlya', 'Test #78', '']\n",
      "['', 'August 20, 1962', '2.8', 'air drop', 'Soviet Union', 'Novaya Zemlya', 'Test #152', '']\n",
      "['', 'September 10, 1961', '2.7', 'air drop', 'Soviet Union', 'Novaya Zemlya', '90 Vozduj', '']\n",
      "['', 'August 24, 1968', '2.6', 'balloon', 'France', 'Fangataufa', 'Canopus', '']\n",
      "['', 'September 27, 1971', '2.5', 'tunnel', 'Soviet Union', 'Novaya Zemlya', 'Test #345 - 1', '']\n",
      "['', 'September 21, 1962', '2.4', 'air drop', 'Soviet Union', 'Novaya Zemlya', 'Test #169', '']\n",
      "['', 'November 2, 1974', '2.3', 'underground shaft', 'Soviet Union', 'Novaya Zemlya', 'Test #411', '']\n",
      "['', 'October 14, 1970', '2.2', 'tunnel', 'Soviet Union', 'Novaya Zemlya', 'Test #327 - 1', '']\n",
      "['', 'July 26, 1958', '2.0', 'barge', 'USA', 'Enewetak Atoll', 'Pine', '']\n",
      "['', 'July 8, 1956', '1.9', 'barge', 'USA', 'Enewetak Atoll', 'Apache', '']\n",
      "['', 'September 8, 1962', '1.9', 'high alt rocket', 'Soviet Union', 'Novaya Zemlya', '164 Tyulpan', '']\n",
      "['', 'March 26, 1970', '1.9', 'underground shaft', 'USA', 'Nevada', 'Handley', '']\n",
      "['', 'November 8, 1957', '1.8', 'air drop', 'UK', 'Kiritimati', 'Grapple X', '']\n",
      "['', 'May 13, 1954', '1.7', 'barge', 'USA', 'Enewetak Atoll', 'Nectar', '']\n",
      "['', 'November 22, 1955', '1.6', 'air drop', 'Soviet Union', 'Semipalatinsk', '24 Binarnaya', '']\n",
      "['', 'September 24, 1957', '1.6', 'air drop', 'Soviet Union', 'Novaya Zemlya', 'Test #45', '']\n",
      "['', 'August 22, 1962', '1.6', 'air drop', 'Soviet Union', 'Novaya Zemlya', 'Test #154', '']\n",
      "['', 'October 18, 1962', '1.6', 'parachuted', 'USA', 'Johnston Atoll', 'Chama', '']\n",
      "['', 'February 27, 1958', '1.5', 'air drop', 'Soviet Union', 'Novaya Zemlya', 'Test #54', '']\n",
      "['', 'June 14, 1958', '1.5', 'barge', 'USA', 'Enewetak Atoll', 'Walnut', '']\n",
      "['', 'October 12, 1958', '1.5', 'air drop', 'Soviet Union', 'Novaya Zemlya', 'Test #71', '']\n",
      "['', 'October 15, 1958', '1.5', 'air drop', 'Soviet Union', 'Novaya Zemlya', 'Test #72', '']\n",
      "['', 'September 20, 1961', '1.5', 'high alt rocket', 'Soviet Union', 'Novaya Zemlya', '106 Volga1', '']\n",
      "['', 'October 20, 1961', '1.5', 'high alt rocket', 'Soviet Union', 'Novaya Zemlya', '121 Raduga', '']\n",
      "['', 'November 4, 1961', '1.5', 'air drop', 'Soviet Union', 'Novaya Zemlya', 'Test #140', '']\n",
      "['', 'May 11, 1958', '1.4', 'barge', 'USA', 'Bikini Atoll', 'Fir', '']\n",
      "['', 'May 12, 1958', '1.4', 'dry surface', 'USA', 'Enewetak Atoll', 'Koa', '']\n",
      "['', 'July 9, 1962', '1.4', 'space rocket', 'USA', 'Johnston Atoll', 'Starfish Prime', '']\n",
      "['', 'September 18, 1962', '1.4', 'air drop', 'Soviet Union', 'Novaya Zemlya', 'Test #167', '']\n"
     ]
    }
   ],
   "source": [
    "for row in tables[1].find_all('tr')[1:]:\n",
    "    print(row.get_text().split('\\n'))"
   ]
  },
  {
   "cell_type": "code",
   "execution_count": null,
   "metadata": {},
   "outputs": [],
   "source": []
  }
 ],
 "metadata": {
  "kernelspec": {
   "display_name": "Python 3",
   "language": "python",
   "name": "python3"
  },
  "language_info": {
   "codemirror_mode": {
    "name": "ipython",
    "version": 3
   },
   "file_extension": ".py",
   "mimetype": "text/x-python",
   "name": "python",
   "nbconvert_exporter": "python",
   "pygments_lexer": "ipython3",
   "version": "3.7.3"
  }
 },
 "nbformat": 4,
 "nbformat_minor": 2
}
