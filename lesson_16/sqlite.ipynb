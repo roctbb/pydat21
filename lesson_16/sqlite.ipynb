{
 "cells": [
  {
   "cell_type": "code",
   "execution_count": 1,
   "id": "72160bb2",
   "metadata": {},
   "outputs": [
    {
     "name": "stdout",
     "output_type": "stream",
     "text": [
      "2020_DPO_16_1_Viz.ipynb        Gapminder_step1992.png\r\n",
      "2020_DPO_17_1_Viz_Plotly.ipynb Gapminder_step1997.png\r\n",
      "Gapminder_step1952.png         Gapminder_step2002.png\r\n",
      "Gapminder_step1957.png         Gapminder_step2007.png\r\n",
      "Gapminder_step1962.png         Untitled.ipynb\r\n",
      "Gapminder_step1967.png         crimes.png\r\n",
      "Gapminder_step1972.png         dolphins.sqlite\r\n",
      "Gapminder_step1977.png         medium_data_2019_01_06\r\n",
      "Gapminder_step1982.png         my_new_plot.png\r\n",
      "Gapminder_step1987.png\r\n"
     ]
    }
   ],
   "source": [
    "!ls"
   ]
  },
  {
   "cell_type": "code",
   "execution_count": 12,
   "id": "94330a08",
   "metadata": {},
   "outputs": [],
   "source": [
    "# редактор - db browser for sqlite / dbeawer\n",
    "# как выучить sql быстро? sqlbolt.com"
   ]
  },
  {
   "cell_type": "code",
   "execution_count": 8,
   "id": "d24ec094",
   "metadata": {},
   "outputs": [],
   "source": [
    "import sqlite3\n",
    "con = sqlite3.connect('dolphins.sqlite')"
   ]
  },
  {
   "cell_type": "code",
   "execution_count": 9,
   "id": "31c72341",
   "metadata": {},
   "outputs": [],
   "source": [
    "cur = con.cursor()\n",
    "\n",
    "res = cur.execute(\"SELECT * FROM dolphins\")"
   ]
  },
  {
   "cell_type": "code",
   "execution_count": 10,
   "id": "8fc2bcb3",
   "metadata": {},
   "outputs": [],
   "source": [
    "#res.fetchall()"
   ]
  },
  {
   "cell_type": "code",
   "execution_count": 11,
   "id": "82720cf6",
   "metadata": {},
   "outputs": [
    {
     "name": "stdout",
     "output_type": "stream",
     "text": [
      "Flipper is alive\n",
      "Вася is dead\n",
      "Петя is alive\n"
     ]
    }
   ],
   "source": [
    "for row in res.fetchall():\n",
    "    print(\"{} is {}\".format(row[1], \"alive\" if row[2] == 1 else \"dead\"))"
   ]
  },
  {
   "cell_type": "code",
   "execution_count": 5,
   "id": "24895ee3",
   "metadata": {},
   "outputs": [
    {
     "data": {
      "text/plain": [
       "<sqlite3.Cursor at 0x7fadfca46ce0>"
      ]
     },
     "execution_count": 5,
     "metadata": {},
     "output_type": "execute_result"
    }
   ],
   "source": [
    "cur.execute(\"INSERT INTO dolphins (name, is_alive) VALUES (?, ?)\", (\"Петя\", 1))"
   ]
  },
  {
   "cell_type": "code",
   "execution_count": 6,
   "id": "dc0c00b2",
   "metadata": {},
   "outputs": [],
   "source": [
    "con.commit()"
   ]
  },
  {
   "cell_type": "code",
   "execution_count": 7,
   "id": "317fd224",
   "metadata": {},
   "outputs": [],
   "source": [
    "con.close()"
   ]
  },
  {
   "cell_type": "code",
   "execution_count": null,
   "id": "084852ce",
   "metadata": {},
   "outputs": [],
   "source": [
    "with sqlite3.connect('dolphins.sqlite') as con:\n",
    "    cur = con.cursor()\n",
    "    cur.execute(\"INSERT INTO dolphins (name, is_alive) VALUES (?, ?)\", (\"Петя\", 1))\n",
    "    con.commit()"
   ]
  }
 ],
 "metadata": {
  "kernelspec": {
   "display_name": "Python 3",
   "language": "python",
   "name": "python3"
  },
  "language_info": {
   "codemirror_mode": {
    "name": "ipython",
    "version": 3
   },
   "file_extension": ".py",
   "mimetype": "text/x-python",
   "name": "python",
   "nbconvert_exporter": "python",
   "pygments_lexer": "ipython3",
   "version": "3.7.0"
  }
 },
 "nbformat": 4,
 "nbformat_minor": 5
}
