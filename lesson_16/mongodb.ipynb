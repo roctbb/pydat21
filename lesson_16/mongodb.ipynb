{
 "cells": [
  {
   "cell_type": "code",
   "execution_count": 1,
   "id": "d9090036",
   "metadata": {},
   "outputs": [
    {
     "name": "stdout",
     "output_type": "stream",
     "text": [
      "Requirement already satisfied: pymongo in /Library/Frameworks/Python.framework/Versions/3.7/lib/python3.7/site-packages (3.7.2)\r\n"
     ]
    }
   ],
   "source": [
    "!pip install pymongo"
   ]
  },
  {
   "cell_type": "code",
   "execution_count": 10,
   "id": "e416081c",
   "metadata": {},
   "outputs": [],
   "source": [
    "from pymongo import MongoClient\n",
    "\n",
    "client = MongoClient(\"mongodb+srv://myuser:<password>@cluster0.snctg.mongodb.net/myFirstDatabase?retryWrites=true&w=majority\")"
   ]
  },
  {
   "cell_type": "code",
   "execution_count": 4,
   "id": "332b32af",
   "metadata": {},
   "outputs": [
    {
     "name": "stderr",
     "output_type": "stream",
     "text": [
      "/Library/Frameworks/Python.framework/Versions/3.7/lib/python3.7/site-packages/ipykernel_launcher.py:1: DeprecationWarning: database_names is deprecated. Use list_database_names instead.\n",
      "  \"\"\"Entry point for launching an IPython kernel.\n"
     ]
    },
    {
     "data": {
      "text/plain": [
       "['admin', 'local']"
      ]
     },
     "execution_count": 4,
     "metadata": {},
     "output_type": "execute_result"
    }
   ],
   "source": [
    "client.database_names()"
   ]
  },
  {
   "cell_type": "code",
   "execution_count": 5,
   "id": "bc0714ef",
   "metadata": {},
   "outputs": [],
   "source": [
    "db = client[\"dolphins\"]"
   ]
  },
  {
   "cell_type": "code",
   "execution_count": 6,
   "id": "bb0d1b7a",
   "metadata": {},
   "outputs": [],
   "source": [
    "collection = db[\"dolphins\"]"
   ]
  },
  {
   "cell_type": "code",
   "execution_count": 7,
   "id": "43349f88",
   "metadata": {},
   "outputs": [
    {
     "data": {
      "text/plain": [
       "<pymongo.results.InsertOneResult at 0x7fc401a66dc8>"
      ]
     },
     "execution_count": 7,
     "metadata": {},
     "output_type": "execute_result"
    }
   ],
   "source": [
    "new_dolphin = {\n",
    "    \"name\": \"Flipper\",\n",
    "    \"is_alive\": True\n",
    "}\n",
    "\n",
    "collection.insert_one(new_dolphin)"
   ]
  },
  {
   "cell_type": "code",
   "execution_count": 8,
   "id": "428e4930",
   "metadata": {},
   "outputs": [
    {
     "data": {
      "text/plain": [
       "<pymongo.results.InsertOneResult at 0x7fc401dec1c8>"
      ]
     },
     "execution_count": 8,
     "metadata": {},
     "output_type": "execute_result"
    }
   ],
   "source": [
    "new_dolphin = {\n",
    "    \"name\": \"Вася\",\n",
    "    \"is_alive\": False\n",
    "}\n",
    "\n",
    "collection.insert_one(new_dolphin)"
   ]
  },
  {
   "cell_type": "code",
   "execution_count": 9,
   "id": "feac03e0",
   "metadata": {},
   "outputs": [
    {
     "name": "stdout",
     "output_type": "stream",
     "text": [
      "{'_id': ObjectId('60cb998e57ced3029bc2384b'), 'name': 'Flipper', 'is_alive': True}\n",
      "{'_id': ObjectId('60cb99b857ced3029bc2384c'), 'name': 'Вася', 'is_alive': False}\n"
     ]
    }
   ],
   "source": [
    "for dolphin in collection.find():\n",
    "    print(dolphin)"
   ]
  },
  {
   "cell_type": "code",
   "execution_count": null,
   "id": "ffa36625",
   "metadata": {},
   "outputs": [],
   "source": []
  }
 ],
 "metadata": {
  "kernelspec": {
   "display_name": "Python 3",
   "language": "python",
   "name": "python3"
  },
  "language_info": {
   "codemirror_mode": {
    "name": "ipython",
    "version": 3
   },
   "file_extension": ".py",
   "mimetype": "text/x-python",
   "name": "python",
   "nbconvert_exporter": "python",
   "pygments_lexer": "ipython3",
   "version": "3.7.0"
  }
 },
 "nbformat": 4,
 "nbformat_minor": 5
}
