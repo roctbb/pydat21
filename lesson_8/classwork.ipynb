{
 "cells": [
  {
   "cell_type": "markdown",
   "metadata": {},
   "source": [
    "### Refresher: Project Euler 15"
   ]
  },
  {
   "cell_type": "code",
   "execution_count": 6,
   "metadata": {},
   "outputs": [
    {
     "data": {
      "text/plain": [
       "6"
      ]
     },
     "execution_count": 6,
     "metadata": {},
     "output_type": "execute_result"
    }
   ],
   "source": [
    "def count_paths(x, y, W, H):\n",
    "    if x < W and y < H:\n",
    "        return count_paths(x + 1, y, W, H) + count_paths(x, y + 1, W, H)\n",
    "    if x == W and y < H:\n",
    "        return count_paths(x, y + 1, W, H)\n",
    "    if x < W and y == H:\n",
    "        return count_paths(x + 1, y, W, H)\n",
    "    else:\n",
    "        return 1\n",
    "    \n",
    "count_paths(0, 0, 2, 2)"
   ]
  },
  {
   "cell_type": "markdown",
   "metadata": {},
   "source": [
    "## Генераторы"
   ]
  },
  {
   "cell_type": "code",
   "execution_count": 7,
   "metadata": {},
   "outputs": [
    {
     "data": {
      "text/plain": [
       "<map at 0x17631736b70>"
      ]
     },
     "execution_count": 7,
     "metadata": {},
     "output_type": "execute_result"
    }
   ],
   "source": [
    "map(int, \"1 2 3 4\".split())"
   ]
  },
  {
   "cell_type": "code",
   "execution_count": 8,
   "metadata": {},
   "outputs": [
    {
     "data": {
      "text/plain": [
       "[1, 2, 3, 4]"
      ]
     },
     "execution_count": 8,
     "metadata": {},
     "output_type": "execute_result"
    }
   ],
   "source": [
    "list(map(int, \"1 2 3 4\".split()))"
   ]
  },
  {
   "cell_type": "code",
   "execution_count": 9,
   "metadata": {},
   "outputs": [
    {
     "data": {
      "text/plain": [
       "[1, 2, 3, 4, 5]"
      ]
     },
     "execution_count": 9,
     "metadata": {},
     "output_type": "execute_result"
    }
   ],
   "source": [
    "def get_list(a, b):\n",
    "    L = []\n",
    "    \n",
    "    for i in range(a, b + 1):\n",
    "        L.append(i)\n",
    "    \n",
    "    return L\n",
    "\n",
    "get_list(1, 5)"
   ]
  },
  {
   "cell_type": "code",
   "execution_count": 16,
   "metadata": {},
   "outputs": [
    {
     "name": "stdout",
     "output_type": "stream",
     "text": [
      "1\n",
      "2\n",
      "3\n",
      "4\n",
      "5\n"
     ]
    },
    {
     "ename": "StopIteration",
     "evalue": "",
     "output_type": "error",
     "traceback": [
      "\u001b[1;31m---------------------------------------------------------------------------\u001b[0m",
      "\u001b[1;31mStopIteration\u001b[0m                             Traceback (most recent call last)",
      "\u001b[1;32m<ipython-input-16-69799f77d039>\u001b[0m in \u001b[0;36m<module>\u001b[1;34m\u001b[0m\n\u001b[0;32m      9\u001b[0m \u001b[0mprint\u001b[0m\u001b[1;33m(\u001b[0m\u001b[0mnext\u001b[0m\u001b[1;33m(\u001b[0m\u001b[0mnumbers\u001b[0m\u001b[1;33m)\u001b[0m\u001b[1;33m)\u001b[0m\u001b[1;33m\u001b[0m\u001b[1;33m\u001b[0m\u001b[0m\n\u001b[0;32m     10\u001b[0m \u001b[0mprint\u001b[0m\u001b[1;33m(\u001b[0m\u001b[0mnext\u001b[0m\u001b[1;33m(\u001b[0m\u001b[0mnumbers\u001b[0m\u001b[1;33m)\u001b[0m\u001b[1;33m)\u001b[0m\u001b[1;33m\u001b[0m\u001b[1;33m\u001b[0m\u001b[0m\n\u001b[1;32m---> 11\u001b[1;33m \u001b[0mprint\u001b[0m\u001b[1;33m(\u001b[0m\u001b[0mnext\u001b[0m\u001b[1;33m(\u001b[0m\u001b[0mnumbers\u001b[0m\u001b[1;33m)\u001b[0m\u001b[1;33m)\u001b[0m\u001b[1;33m\u001b[0m\u001b[1;33m\u001b[0m\u001b[0m\n\u001b[0m",
      "\u001b[1;31mStopIteration\u001b[0m: "
     ]
    }
   ],
   "source": [
    "def get_list_generator(a, b):\n",
    "    for i in range(a, b + 1):\n",
    "        yield i # вернуть одно число и поставить на паузу\n",
    "        \n",
    "numbers = get_list_generator(1, 5)\n",
    "print(next(numbers))\n",
    "print(next(numbers))\n",
    "print(next(numbers))\n",
    "print(next(numbers))\n",
    "print(next(numbers))\n",
    "print(next(numbers))"
   ]
  },
  {
   "cell_type": "code",
   "execution_count": 17,
   "metadata": {},
   "outputs": [
    {
     "name": "stdout",
     "output_type": "stream",
     "text": [
      "1\n",
      "2\n",
      "3\n",
      "4\n",
      "5\n"
     ]
    }
   ],
   "source": [
    "for number in get_list_generator(1, 5):\n",
    "    print(number)"
   ]
  },
  {
   "cell_type": "code",
   "execution_count": 18,
   "metadata": {},
   "outputs": [
    {
     "data": {
      "text/plain": [
       "[1, 2, 3, 4, 5]"
      ]
     },
     "execution_count": 18,
     "metadata": {},
     "output_type": "execute_result"
    }
   ],
   "source": [
    "list(get_list_generator(1, 5))"
   ]
  },
  {
   "cell_type": "code",
   "execution_count": 21,
   "metadata": {},
   "outputs": [
    {
     "name": "stdout",
     "output_type": "stream",
     "text": [
      "15\n"
     ]
    }
   ],
   "source": [
    "S = 0\n",
    "\n",
    "def process(a):\n",
    "    global S\n",
    "    S += a\n",
    "    return a\n",
    "\n",
    "list(map(process, [1, 2, 3, 4, 5]))\n",
    "\n",
    "print(S)"
   ]
  },
  {
   "cell_type": "code",
   "execution_count": 22,
   "metadata": {},
   "outputs": [
    {
     "name": "stdout",
     "output_type": "stream",
     "text": [
      "8\n"
     ]
    }
   ],
   "source": [
    "import random\n",
    "\n",
    "print(random.randint(1, 10))"
   ]
  },
  {
   "cell_type": "code",
   "execution_count": 27,
   "metadata": {},
   "outputs": [
    {
     "name": "stdout",
     "output_type": "stream",
     "text": [
      "стиральная машина\n"
     ]
    }
   ],
   "source": [
    "prizes = [\"огурцы\", \"автомобиль\", \"стиральная машина\"]\n",
    "\n",
    "pos = random.randint(0, len(prizes) - 1)\n",
    "print(prizes[pos])"
   ]
  },
  {
   "cell_type": "code",
   "execution_count": 28,
   "metadata": {},
   "outputs": [
    {
     "data": {
      "text/plain": [
       "'стиральная машина'"
      ]
     },
     "execution_count": 28,
     "metadata": {},
     "output_type": "execute_result"
    }
   ],
   "source": [
    "random.choice(prizes)"
   ]
  },
  {
   "cell_type": "code",
   "execution_count": 31,
   "metadata": {},
   "outputs": [
    {
     "name": "stdout",
     "output_type": "stream",
     "text": [
      "огурцы\n",
      "стиральная машина\n",
      "огурцы\n",
      "стиральная машина\n",
      "огурцы\n"
     ]
    }
   ],
   "source": [
    "default_prizes = [\"огурцы\", \"автомобиль\", \"стиральная машина\"]\n",
    "\n",
    "def prizes(n, prizes):\n",
    "    for i in range(n):\n",
    "        yield random.choice(prizes)\n",
    "\n",
    "for prize in prizes(5, default_prizes):\n",
    "    print(prize)"
   ]
  },
  {
   "cell_type": "markdown",
   "metadata": {},
   "source": [
    "### Файлы"
   ]
  },
  {
   "cell_type": "code",
   "execution_count": 32,
   "metadata": {},
   "outputs": [
    {
     "data": {
      "text/plain": [
       "'C:\\\\Users\\\\Student'"
      ]
     },
     "execution_count": 32,
     "metadata": {},
     "output_type": "execute_result"
    }
   ],
   "source": [
    "import os\n",
    "\n",
    "os.getcwd()"
   ]
  },
  {
   "cell_type": "code",
   "execution_count": 35,
   "metadata": {},
   "outputs": [],
   "source": [
    "os.chdir(r\"C:\\Users\")"
   ]
  },
  {
   "cell_type": "code",
   "execution_count": 36,
   "metadata": {},
   "outputs": [
    {
     "data": {
      "text/plain": [
       "'C:\\\\Users'"
      ]
     },
     "execution_count": 36,
     "metadata": {},
     "output_type": "execute_result"
    }
   ],
   "source": [
    "os.getcwd()"
   ]
  },
  {
   "cell_type": "code",
   "execution_count": 37,
   "metadata": {},
   "outputs": [
    {
     "data": {
      "text/plain": [
       "['All Users',\n",
       " 'Default',\n",
       " 'Default User',\n",
       " 'desktop.ini',\n",
       " 'ksnproxy',\n",
       " 'Public',\n",
       " 'Student',\n",
       " 'Администратор',\n",
       " 'Все пользователи']"
      ]
     },
     "execution_count": 37,
     "metadata": {},
     "output_type": "execute_result"
    }
   ],
   "source": [
    "os.listdir()"
   ]
  },
  {
   "cell_type": "code",
   "execution_count": 38,
   "metadata": {},
   "outputs": [
    {
     "data": {
      "text/plain": [
       "['DirEntry',\n",
       " 'F_OK',\n",
       " 'MutableMapping',\n",
       " 'O_APPEND',\n",
       " 'O_BINARY',\n",
       " 'O_CREAT',\n",
       " 'O_EXCL',\n",
       " 'O_NOINHERIT',\n",
       " 'O_RANDOM',\n",
       " 'O_RDONLY',\n",
       " 'O_RDWR',\n",
       " 'O_SEQUENTIAL',\n",
       " 'O_SHORT_LIVED',\n",
       " 'O_TEMPORARY',\n",
       " 'O_TEXT',\n",
       " 'O_TRUNC',\n",
       " 'O_WRONLY',\n",
       " 'P_DETACH',\n",
       " 'P_NOWAIT',\n",
       " 'P_NOWAITO',\n",
       " 'P_OVERLAY',\n",
       " 'P_WAIT',\n",
       " 'PathLike',\n",
       " 'R_OK',\n",
       " 'SEEK_CUR',\n",
       " 'SEEK_END',\n",
       " 'SEEK_SET',\n",
       " 'TMP_MAX',\n",
       " 'W_OK',\n",
       " 'X_OK',\n",
       " '_Environ',\n",
       " '__all__',\n",
       " '__builtins__',\n",
       " '__cached__',\n",
       " '__doc__',\n",
       " '__file__',\n",
       " '__loader__',\n",
       " '__name__',\n",
       " '__package__',\n",
       " '__spec__',\n",
       " '_execvpe',\n",
       " '_exists',\n",
       " '_exit',\n",
       " '_fspath',\n",
       " '_get_exports_list',\n",
       " '_putenv',\n",
       " '_unsetenv',\n",
       " '_wrap_close',\n",
       " 'abc',\n",
       " 'abort',\n",
       " 'access',\n",
       " 'altsep',\n",
       " 'chdir',\n",
       " 'chmod',\n",
       " 'close',\n",
       " 'closerange',\n",
       " 'cpu_count',\n",
       " 'curdir',\n",
       " 'defpath',\n",
       " 'device_encoding',\n",
       " 'devnull',\n",
       " 'dup',\n",
       " 'dup2',\n",
       " 'environ',\n",
       " 'error',\n",
       " 'execl',\n",
       " 'execle',\n",
       " 'execlp',\n",
       " 'execlpe',\n",
       " 'execv',\n",
       " 'execve',\n",
       " 'execvp',\n",
       " 'execvpe',\n",
       " 'extsep',\n",
       " 'fdopen',\n",
       " 'fsdecode',\n",
       " 'fsencode',\n",
       " 'fspath',\n",
       " 'fstat',\n",
       " 'fsync',\n",
       " 'ftruncate',\n",
       " 'get_exec_path',\n",
       " 'get_handle_inheritable',\n",
       " 'get_inheritable',\n",
       " 'get_terminal_size',\n",
       " 'getcwd',\n",
       " 'getcwdb',\n",
       " 'getenv',\n",
       " 'getlogin',\n",
       " 'getpid',\n",
       " 'getppid',\n",
       " 'isatty',\n",
       " 'kill',\n",
       " 'linesep',\n",
       " 'link',\n",
       " 'listdir',\n",
       " 'lseek',\n",
       " 'lstat',\n",
       " 'makedirs',\n",
       " 'mkdir',\n",
       " 'name',\n",
       " 'open',\n",
       " 'pardir',\n",
       " 'path',\n",
       " 'pathsep',\n",
       " 'pipe',\n",
       " 'popen',\n",
       " 'putenv',\n",
       " 'read',\n",
       " 'readlink',\n",
       " 'remove',\n",
       " 'removedirs',\n",
       " 'rename',\n",
       " 'renames',\n",
       " 'replace',\n",
       " 'rmdir',\n",
       " 'scandir',\n",
       " 'sep',\n",
       " 'set_handle_inheritable',\n",
       " 'set_inheritable',\n",
       " 'spawnl',\n",
       " 'spawnle',\n",
       " 'spawnv',\n",
       " 'spawnve',\n",
       " 'st',\n",
       " 'startfile',\n",
       " 'stat',\n",
       " 'stat_result',\n",
       " 'statvfs_result',\n",
       " 'strerror',\n",
       " 'supports_bytes_environ',\n",
       " 'supports_dir_fd',\n",
       " 'supports_effective_ids',\n",
       " 'supports_fd',\n",
       " 'supports_follow_symlinks',\n",
       " 'symlink',\n",
       " 'sys',\n",
       " 'system',\n",
       " 'terminal_size',\n",
       " 'times',\n",
       " 'times_result',\n",
       " 'truncate',\n",
       " 'umask',\n",
       " 'uname_result',\n",
       " 'unlink',\n",
       " 'urandom',\n",
       " 'utime',\n",
       " 'waitpid',\n",
       " 'walk',\n",
       " 'write']"
      ]
     },
     "execution_count": 38,
     "metadata": {},
     "output_type": "execute_result"
    }
   ],
   "source": [
    "dir(os)"
   ]
  },
  {
   "cell_type": "code",
   "execution_count": 39,
   "metadata": {},
   "outputs": [],
   "source": [
    "os.chdir(r\"C:\\Users\\Student\")"
   ]
  },
  {
   "cell_type": "markdown",
   "metadata": {},
   "source": [
    "* r - read\n",
    "* w - write\n",
    "\n",
    "* \\n - перенос строки"
   ]
  },
  {
   "cell_type": "code",
   "execution_count": 41,
   "metadata": {},
   "outputs": [],
   "source": [
    "file = open(\"myfile.txt\", \"w\")\n",
    "file.write(\"I am working!!!\\n\")\n",
    "file.write(\"Awesome!!!\")\n",
    "file.close()"
   ]
  },
  {
   "cell_type": "code",
   "execution_count": 45,
   "metadata": {},
   "outputs": [],
   "source": [
    "file = open(\"myfile.txt\", \"a\")\n",
    "file.write(\"\\nUnbelievable!!!\")\n",
    "file.close()"
   ]
  },
  {
   "cell_type": "code",
   "execution_count": 46,
   "metadata": {},
   "outputs": [
    {
     "name": "stdout",
     "output_type": "stream",
     "text": [
      "I am working!!!\n",
      "Awesome!!!\n",
      "Unbelievable!!!\n",
      "Unbelievable!!!\n",
      "Unbelievable!!!\n"
     ]
    }
   ],
   "source": [
    "file = open(\"myfile.txt\", \"r\")\n",
    "content = file.read()\n",
    "file.close()\n",
    "\n",
    "print(content)"
   ]
  },
  {
   "cell_type": "code",
   "execution_count": 48,
   "metadata": {},
   "outputs": [
    {
     "name": "stdout",
     "output_type": "stream",
     "text": [
      "['I am working!!!\\n', 'Awesome!!!\\n', 'Unbelievable!!!\\n', 'Unbelievable!!!\\n', 'Unbelievable!!!']\n"
     ]
    }
   ],
   "source": [
    "file = open(\"myfile.txt\", \"r\")\n",
    "content = file.readlines()\n",
    "file.close()\n",
    "\n",
    "print(content)"
   ]
  },
  {
   "cell_type": "code",
   "execution_count": 53,
   "metadata": {},
   "outputs": [
    {
     "name": "stdout",
     "output_type": "stream",
     "text": [
      "I am working!!!\n",
      "Awesome!!!\n",
      "Unbelievable!!!\n",
      "Unbelievable!!!\n",
      "Unbelievable!!!I am working!!!\n",
      "Awesome!!!\n",
      "Unbelievable!!!\n",
      "Unbelievable!!!\n",
      "Unbelievable!!!"
     ]
    }
   ],
   "source": [
    "file = open(r\"myfile.txt\", \"r\")\n",
    "for line in file:\n",
    "    print(line, end='')\n",
    "    \n",
    "file.seek(0)  \n",
    "\n",
    "for line in file:\n",
    "    print(line, end='')\n",
    "    \n",
    "file.close()"
   ]
  },
  {
   "cell_type": "code",
   "execution_count": 56,
   "metadata": {},
   "outputs": [
    {
     "name": "stdout",
     "output_type": "stream",
     "text": [
      "( ͡° ͜ʖ ͡°)\n",
      "¯\\_(ツ)_/¯ \n",
      "(ง ͠° ͟ل͜ ͡°)ง \n",
      "( ͡° ͜ʖ ͡°) \n",
      "¯\\_(ツ)_/¯ \n",
      "(ง ͠° ͟ل͜ ͡°)ง\n",
      "( ͡ᵔ ͜ʖ ͡ᵔ ) \n",
      "ʕ•ᴥ•ʔ \n",
      "(ᵔᴥᵔ) \n",
      "(ಥ﹏ಥ) \n",
      "(ง°ل͜°)ง \n",
      "ᕦ(ò_óˇ)ᕤ \n",
      "┌( ಠ_ಠ)┘ \n",
      "(ಠ_ಠ) \n",
      "(ಥ_ಥ) \n",
      "◘_◘ \n",
      "ب_ب \n",
      "ಠoಠ \n",
      "(⊙ヮ⊙) \n",
      "(✿｡✿) \n",
      "⊙﹏⊙ \n",
      "◉◡◉ \n",
      "◉_◉ \n",
      "⊙︿⊙ \n",
      "ಠ▃ಠ \n",
      "( ･_･)♡ \n",
      "( ﾟヮﾟ) \n",
      "(¬‿¬) \n",
      "(╥_╥) \n",
      "(◕‿◕) \n",
      "(ʘᗩʘ') \n",
      "(✪㉨✪) \n",
      "|◔◡◉| \n",
      "(⊙ω⊙) \n",
      "(◑‿◐) \n",
      "(╯3╰) \n",
      "┌( ಠ‿ಠ)┘ \n",
      "(ಠ╭╮ಠ) \n",
      "╘[◉﹃◉]╕\n",
      "o(╥﹏╥)o \n",
      "\\ (•◡•) / \n",
      "｡゜(｀Д´)゜｡ \n",
      "(ﾉ◕ヮ◕)ﾉ*:･ﾟ✧ \n",
      "(づ｡◕‿‿◕｡)づ \n",
      "(づ￣ ³￣)づ \n",
      "( ́ ◕◞ε◟◕`) \n",
      "(✿◠‿◠) \n",
      "(●´ω｀●) \n",
      "(；一_一) \n",
      "(/) (°,,°) (/) \n",
      "(☞ﾟヮﾟ)☞ \n",
      "(☞ﾟ∀ﾟ)☞ \n",
      "☜(˚▽˚)☞ \n",
      "ლ(´ڡ`ლ) \n",
      "ლ(ಠ益ಠლ) \n",
      "ლ(╹◡╹ლ) \n",
      "ლ(́◉◞౪◟◉‵ლ \n",
      "ヾ(⌐■_■)ノ♪ \n",
      "(｡◕‿‿◕｡) \n",
      "| (• ◡•)| \n",
      "(❍ᴥ❍ʋ) \n",
      "┬──┬ ノ( ゜-゜ノ) \n",
      "(ノಠ益ಠ)ノ彡┻━┻ \n",
      "┬┴┬┴┤( ͡° ͜ʖ├┬┴┬┴ \n",
      "┬┴┬┴┤(･_├┬┴┬┴ \n",
      "♪└|∵|┐♪└|∵|┘♪┌|∵|┘♪ \n",
      "＼(▽￣＼(￣▽￣)／￣▽)／\n"
     ]
    }
   ],
   "source": [
    "f = open(r'D:\\Downloads\\smiles.txt', 'r', encoding='utf-8')\n",
    "print(f.read())\n",
    "f.close()"
   ]
  },
  {
   "cell_type": "code",
   "execution_count": null,
   "metadata": {},
   "outputs": [],
   "source": [
    "f = open(r'D:\\Downloads\\smiles.txt', 'r', encoding='utf-8')\n",
    "print(f.read())\n",
    "f.close()"
   ]
  },
  {
   "cell_type": "code",
   "execution_count": null,
   "metadata": {},
   "outputs": [],
   "source": [
    "with open(r'D:\\Downloads\\smiles.txt', 'r', encoding='utf-8') as f:\n",
    "    print(f.read())"
   ]
  },
  {
   "cell_type": "markdown",
   "metadata": {},
   "source": [
    "#### Письмо в Великий Устюг"
   ]
  },
  {
   "cell_type": "code",
   "execution_count": 58,
   "metadata": {},
   "outputs": [
    {
     "name": "stdout",
     "output_type": "stream",
     "text": [
      "Nvidia 3090\n",
      "Porshe 911\n",
      "Стиральная машина\n",
      "Огурцы\n",
      "Остров\n"
     ]
    }
   ],
   "source": [
    "with open(\"letter.txt\", \"w\", encoding='utf8') as file:\n",
    "    for i in range(5):\n",
    "        present = input()\n",
    "        file.write(\"* {}\\n\".format(present))"
   ]
  },
  {
   "cell_type": "code",
   "execution_count": 62,
   "metadata": {},
   "outputs": [
    {
     "name": "stdout",
     "output_type": "stream",
     "text": [
      "5\n",
      "(ง°ل͜°)ง \n",
      "ಠoಠ \n",
      "(⊙ヮ⊙) \n",
      "(ʘᗩʘ') \n",
      "(◕‿◕) \n"
     ]
    }
   ],
   "source": [
    "import random\n",
    "\n",
    "n = int(input())\n",
    "\n",
    "with open(r'D:\\Downloads\\smiles.txt', 'r', encoding='utf-8') as f:\n",
    "    smiles = f.readlines()\n",
    "    \n",
    "    for i in range(n):\n",
    "        print(random.choice(smiles).strip('\\n'))"
   ]
  },
  {
   "cell_type": "code",
   "execution_count": null,
   "metadata": {},
   "outputs": [],
   "source": [
    "import random\n",
    "\n",
    "n = int(input())\n",
    "\n",
    "f = open(r'D:\\Downloads\\smiles.txt', 'r', encoding='utf-8')\n",
    "smiles = f.readlines()\n",
    "\n",
    "for i in range(n):\n",
    "    print(random.choice(smiles).strip('\\n'))\n",
    "\n",
    "f.close()"
   ]
  },
  {
   "cell_type": "markdown",
   "metadata": {},
   "source": [
    "### CSV"
   ]
  },
  {
   "cell_type": "code",
   "execution_count": 65,
   "metadata": {},
   "outputs": [
    {
     "name": "stdout",
     "output_type": "stream",
     "text": [
      "[['Иванов Иван', 'Генеральный директор', '300000'], ['Александрова Александра', 'Бухгалтер', '100000'], ['Павлов Павел', 'Менеджер', '125000'], ['Семенов Семен', 'Слесарь', '25000']]\n"
     ]
    }
   ],
   "source": [
    "with open('staff.csv', 'r') as file:\n",
    "    lines = file.readlines()\n",
    "    del lines[0]\n",
    "    \n",
    "    lines = list(map(lambda line: line.rstrip('\\n').split(';'), lines))\n",
    "    print(lines)"
   ]
  },
  {
   "cell_type": "code",
   "execution_count": 68,
   "metadata": {},
   "outputs": [],
   "source": [
    "import csv\n",
    "with open('staff.csv') as csvfile:\n",
    "    staffreader = csv.reader(csvfile, delimiter=';')\n",
    "    lines = [row for row in staffreader]"
   ]
  },
  {
   "cell_type": "code",
   "execution_count": 75,
   "metadata": {},
   "outputs": [
    {
     "name": "stdout",
     "output_type": "stream",
     "text": [
      "[{'name': 'Иванов Иван', 'position': 'Генеральный директор', 'salary': '300000'}, {'name': 'Александрова Александра', 'position': 'Бухгалтер', 'salary': '100000'}, {'name': 'Павлов Павел', 'position': 'Менеджер', 'salary': '125000'}, {'name': 'Семенов Семен', 'position': 'Слесарь', 'salary': '25000'}]\n"
     ]
    }
   ],
   "source": [
    "staff = []\n",
    "\n",
    "for line in lines[1:]:\n",
    "    staff.append({\n",
    "        \"name\": line[0],\n",
    "        \"position\": line[1],\n",
    "        \"salary\": line[2],\n",
    "    })\n",
    "    \n",
    "print(staff)"
   ]
  },
  {
   "cell_type": "code",
   "execution_count": 77,
   "metadata": {},
   "outputs": [
    {
     "name": "stdout",
     "output_type": "stream",
     "text": [
      "[{'name': 'Иванов Иван', 'position': 'Генеральный директор', 'salary': 300000}, {'name': 'Александрова Александра', 'position': 'Бухгалтер', 'salary': 100000}, {'name': 'Павлов Павел', 'position': 'Менеджер', 'salary': 125000}, {'name': 'Семенов Семен', 'position': 'Слесарь', 'salary': 25000}]\n"
     ]
    }
   ],
   "source": [
    "staff = [\n",
    "    {\n",
    "        \"name\": line[0],\n",
    "        \"position\": line[1],\n",
    "        \"salary\": int(line[2]),\n",
    "    }\n",
    "    for line in lines[1:]\n",
    "]\n",
    "    \n",
    "print(staff)"
   ]
  },
  {
   "cell_type": "code",
   "execution_count": 82,
   "metadata": {},
   "outputs": [
    {
     "name": "stdout",
     "output_type": "stream",
     "text": [
      "<class 'str'>\n"
     ]
    }
   ],
   "source": [
    "import json\n",
    "\n",
    "S = json.dumps(staff)\n",
    "print(type(S))"
   ]
  },
  {
   "cell_type": "code",
   "execution_count": 81,
   "metadata": {},
   "outputs": [
    {
     "data": {
      "text/plain": [
       "list"
      ]
     },
     "execution_count": 81,
     "metadata": {},
     "output_type": "execute_result"
    }
   ],
   "source": [
    "type(json.loads(S))"
   ]
  },
  {
   "cell_type": "code",
   "execution_count": null,
   "metadata": {},
   "outputs": [],
   "source": []
  }
 ],
 "metadata": {
  "kernelspec": {
   "display_name": "Python 3",
   "language": "python",
   "name": "python3"
  },
  "language_info": {
   "codemirror_mode": {
    "name": "ipython",
    "version": 3
   },
   "file_extension": ".py",
   "mimetype": "text/x-python",
   "name": "python",
   "nbconvert_exporter": "python",
   "pygments_lexer": "ipython3",
   "version": "3.7.3"
  }
 },
 "nbformat": 4,
 "nbformat_minor": 2
}
