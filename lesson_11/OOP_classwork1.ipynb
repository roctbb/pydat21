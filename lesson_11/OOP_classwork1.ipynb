{
 "cells": [
  {
   "cell_type": "code",
   "execution_count": 16,
   "metadata": {},
   "outputs": [
    {
     "name": "stdout",
     "output_type": "stream",
     "text": [
      "['Пятерочка', 174, 105, 147, 162, 112, 132, 110, 122, 144, 159, 185, 105] 105\n",
      "['Магнит', 118, 117, 148, 156, 120, 196, 150, 127, 114, 141, 145, 100] 100\n",
      "['Перекресток', 123, 159, 163, 173, 132, 123, 103, 118, 171, 190, 101, 102] 101\n",
      "['SPAR', 165, 187, 119, 110, 185, 176, 181, 115, 161, 122, 198, 116] 110\n",
      "['Prisma', 178, 102, 159, 143, 121, 173, 116, 112, 115, 114, 164, 168] 102\n",
      "['Сахарный лев', 109, 185, 100, 132, 175, 119, 103, 124, 138, 174, 158, 171] 100\n",
      "['Дикси', 171, 183, 112, 162, 192, 131, 200, 146, 153, 162, 128, 117] 112\n",
      "['Billa', 163, 125, 110, 174, 151, 165, 114, 152, 142, 158, 145, 127] 110\n",
      "['Ашан', 123, 103, 135, 168, 114, 179, 161, 103, 126, 150, 115, 167] 103\n",
      "['Азбука вкуса', 129, 197, 155, 121, 131, 199, 171, 186, 141, 135, 106, 149] 106\n",
      "['Глобус-гурмэ', 102, 150, 124, 113, 186, 190, 160, 156, 175, 200, 156, 134] 102\n",
      "Листья собачьей петрушки 100 Магнит\n"
     ]
    }
   ],
   "source": [
    "def preprocess(line):\n",
    "    line = line.split(';')\n",
    "    for i in range(1, len(line)):\n",
    "        line[i] = int(line[i])\n",
    "    return line\n",
    "\n",
    "with open('problem5.csv', 'r', encoding='utf8') as file:\n",
    "    data = file.read()\n",
    "    \n",
    "lines = data.split('\\n')\n",
    "\n",
    "products = lines[0].split(';')[1:]\n",
    "\n",
    "market_prices = list(map(preprocess, lines[1:len(lines)-1]))\n",
    "\n",
    "min_price = min(market_prices[0][1:])\n",
    "min_price_store = market_prices[0][0]\n",
    "min_price_product = products[line.index(min_price)-1]\n",
    "\n",
    "for line in market_prices[1:]:\n",
    "    print(line, min(line[1:]))\n",
    "    current_min_price = min(line[1:])\n",
    "    if current_min_price < min_price:\n",
    "        min_price_store = line[0]\n",
    "        min_price = current_min_price\n",
    "        min_price_product = products[line.index(min_price)-1]\n",
    "        \n",
    "print(min_price_product, min_price, min_price_store)"
   ]
  },
  {
   "cell_type": "code",
   "execution_count": 13,
   "metadata": {},
   "outputs": [
    {
     "data": {
      "text/plain": [
       "1"
      ]
     },
     "execution_count": 13,
     "metadata": {},
     "output_type": "execute_result"
    }
   ],
   "source": [
    "[1, 2, 3].index(2)"
   ]
  },
  {
   "cell_type": "code",
   "execution_count": null,
   "metadata": {},
   "outputs": [],
   "source": []
  },
  {
   "cell_type": "code",
   "execution_count": 14,
   "metadata": {},
   "outputs": [],
   "source": [
    "import random\n",
    "\n",
    "class Tiger:\n",
    "    # конструктор\n",
    "    def __init__(self, name):\n",
    "        self.name = name\n",
    "        self.hunger = random.randint(1,5)\n",
    "        print(f\"{self.name} is born\")\n",
    "        \n",
    "    def voice(self):\n",
    "        print(\"R\" + 'r' * self.hunger)\n",
    "    \n",
    "    def who_am_i(self):\n",
    "        print(f\"I'am tiger {self.name}\")\n",
    "    \n",
    "    # деструктор\n",
    "    def __del__(self):\n",
    "        print(\"I'm dying...\")"
   ]
  },
  {
   "cell_type": "code",
   "execution_count": 13,
   "metadata": {},
   "outputs": [
    {
     "name": "stdout",
     "output_type": "stream",
     "text": [
      "Vasya is born\n",
      "I'm dying...\n",
      "Samson is born\n",
      "I'm dying...\n",
      "I'am tiger Vasya\n"
     ]
    },
    {
     "ename": "TypeError",
     "evalue": "voice() missing 1 required positional argument: 'name'",
     "output_type": "error",
     "traceback": [
      "\u001b[1;31m---------------------------------------------------------------------------\u001b[0m",
      "\u001b[1;31mTypeError\u001b[0m                                 Traceback (most recent call last)",
      "\u001b[1;32m<ipython-input-13-c895ddcaf597>\u001b[0m in \u001b[0;36m<module>\u001b[1;34m\u001b[0m\n\u001b[0;32m      3\u001b[0m \u001b[1;33m\u001b[0m\u001b[0m\n\u001b[0;32m      4\u001b[0m \u001b[0mtiger1\u001b[0m\u001b[1;33m.\u001b[0m\u001b[0mwho_am_i\u001b[0m\u001b[1;33m(\u001b[0m\u001b[1;33m)\u001b[0m\u001b[1;33m\u001b[0m\u001b[1;33m\u001b[0m\u001b[0m\n\u001b[1;32m----> 5\u001b[1;33m \u001b[0mtiger1\u001b[0m\u001b[1;33m.\u001b[0m\u001b[0mvoice\u001b[0m\u001b[1;33m(\u001b[0m\u001b[1;33m)\u001b[0m\u001b[1;33m\u001b[0m\u001b[1;33m\u001b[0m\u001b[0m\n\u001b[0m\u001b[0;32m      6\u001b[0m \u001b[1;33m\u001b[0m\u001b[0m\n\u001b[0;32m      7\u001b[0m \u001b[0mtiger2\u001b[0m\u001b[1;33m.\u001b[0m\u001b[0mwho_am_i\u001b[0m\u001b[1;33m(\u001b[0m\u001b[1;33m)\u001b[0m\u001b[1;33m\u001b[0m\u001b[1;33m\u001b[0m\u001b[0m\n",
      "\u001b[1;31mTypeError\u001b[0m: voice() missing 1 required positional argument: 'name'"
     ]
    }
   ],
   "source": [
    "tiger1 = Tiger(\"Vasya\")\n",
    "tiger2 = Tiger(\"Samson\")\n",
    "\n",
    "tiger1.who_am_i()\n",
    "tiger1.voice()\n",
    "\n",
    "tiger2.who_am_i()\n",
    "tiger2.voice()"
   ]
  },
  {
   "cell_type": "code",
   "execution_count": 6,
   "metadata": {},
   "outputs": [
    {
     "data": {
      "text/plain": [
       "3"
      ]
     },
     "execution_count": 6,
     "metadata": {},
     "output_type": "execute_result"
    }
   ],
   "source": [
    "tiger1.hunger"
   ]
  },
  {
   "cell_type": "code",
   "execution_count": 8,
   "metadata": {},
   "outputs": [],
   "source": [
    "tiger1.hunger = 6"
   ]
  },
  {
   "cell_type": "code",
   "execution_count": 9,
   "metadata": {},
   "outputs": [
    {
     "name": "stdout",
     "output_type": "stream",
     "text": [
      "Rrrrrrr\n"
     ]
    }
   ],
   "source": [
    "tiger1.voice()"
   ]
  },
  {
   "cell_type": "code",
   "execution_count": 25,
   "metadata": {},
   "outputs": [
    {
     "data": {
      "text/plain": [
       "__main__.Tiger"
      ]
     },
     "execution_count": 25,
     "metadata": {},
     "output_type": "execute_result"
    }
   ],
   "source": [
    "type(tiger1)"
   ]
  },
  {
   "cell_type": "code",
   "execution_count": 26,
   "metadata": {},
   "outputs": [
    {
     "data": {
      "text/plain": [
       "__main__.Tiger"
      ]
     },
     "execution_count": 26,
     "metadata": {},
     "output_type": "execute_result"
    }
   ],
   "source": [
    "type(tiger2)"
   ]
  },
  {
   "cell_type": "code",
   "execution_count": 27,
   "metadata": {},
   "outputs": [
    {
     "name": "stdout",
     "output_type": "stream",
     "text": [
      "I'm dying...\n"
     ]
    }
   ],
   "source": [
    "del(tiger1)"
   ]
  },
  {
   "cell_type": "code",
   "execution_count": 28,
   "metadata": {},
   "outputs": [
    {
     "ename": "NameError",
     "evalue": "name 'tiger1' is not defined",
     "output_type": "error",
     "traceback": [
      "\u001b[1;31m---------------------------------------------------------------------------\u001b[0m",
      "\u001b[1;31mNameError\u001b[0m                                 Traceback (most recent call last)",
      "\u001b[1;32m<ipython-input-28-235a5041dae5>\u001b[0m in \u001b[0;36m<module>\u001b[1;34m\u001b[0m\n\u001b[1;32m----> 1\u001b[1;33m \u001b[0mprint\u001b[0m\u001b[1;33m(\u001b[0m\u001b[0mtiger1\u001b[0m\u001b[1;33m)\u001b[0m\u001b[1;33m\u001b[0m\u001b[1;33m\u001b[0m\u001b[0m\n\u001b[0m",
      "\u001b[1;31mNameError\u001b[0m: name 'tiger1' is not defined"
     ]
    }
   ],
   "source": [
    "print(tiger1)"
   ]
  },
  {
   "cell_type": "code",
   "execution_count": 29,
   "metadata": {},
   "outputs": [
    {
     "name": "stdout",
     "output_type": "stream",
     "text": [
      "I'm born\n",
      "I'm born\n",
      "I'm dying...\n"
     ]
    }
   ],
   "source": [
    "L = [Tiger(), Tiger()]\n",
    "\n",
    "del L[0]"
   ]
  },
  {
   "cell_type": "code",
   "execution_count": 25,
   "metadata": {},
   "outputs": [],
   "source": [
    "import random\n",
    "\n",
    "class Tiger:\n",
    "    country = \"Russia\"\n",
    "    # конструктор\n",
    "    def __init__(self, name, country=None):\n",
    "        self.name = name\n",
    "        self.hunger = random.randint(1,5)\n",
    "        \n",
    "        if country:\n",
    "            self.country = country\n",
    "        \n",
    "        print(f\"{self.name} is born\")\n",
    "        \n",
    "    def voice(self):\n",
    "        print(\"R\" + 'r' * self.hunger)\n",
    "    \n",
    "    def who_am_i(self):\n",
    "        print(f\"I'am tiger {self.name} from {self.country}\")\n",
    "    \n",
    "    # деструктор\n",
    "    def __del__(self):\n",
    "        print(\"I'm dying...\")"
   ]
  },
  {
   "cell_type": "code",
   "execution_count": 26,
   "metadata": {},
   "outputs": [
    {
     "name": "stdout",
     "output_type": "stream",
     "text": [
      "Volodya is born\n",
      "I'm dying...\n",
      "I'am tiger Volodya from Russia\n"
     ]
    }
   ],
   "source": [
    "tiger3 = Tiger(\"Volodya\", \"Russia\")\n",
    "\n",
    "tiger3.who_am_i()"
   ]
  },
  {
   "cell_type": "code",
   "execution_count": 27,
   "metadata": {},
   "outputs": [
    {
     "name": "stdout",
     "output_type": "stream",
     "text": [
      "I'am tiger Volodya from Russia\n"
     ]
    }
   ],
   "source": [
    "Tiger.who_am_i(tiger3)"
   ]
  },
  {
   "cell_type": "code",
   "execution_count": 28,
   "metadata": {},
   "outputs": [
    {
     "data": {
      "text/plain": [
       "'Russia'"
      ]
     },
     "execution_count": 28,
     "metadata": {},
     "output_type": "execute_result"
    }
   ],
   "source": [
    "Tiger.country"
   ]
  },
  {
   "cell_type": "code",
   "execution_count": 32,
   "metadata": {},
   "outputs": [],
   "source": [
    "Tiger.country = \"America\""
   ]
  },
  {
   "cell_type": "code",
   "execution_count": 33,
   "metadata": {},
   "outputs": [
    {
     "name": "stdout",
     "output_type": "stream",
     "text": [
      "John is born\n",
      "I'm dying...\n",
      "I'am tiger John from America\n"
     ]
    }
   ],
   "source": [
    "tiger4 = Tiger(\"John\")\n",
    "\n",
    "tiger4.who_am_i()"
   ]
  },
  {
   "cell_type": "code",
   "execution_count": 34,
   "metadata": {},
   "outputs": [
    {
     "name": "stdout",
     "output_type": "stream",
     "text": [
      "I'am tiger Volodya from Russia\n"
     ]
    }
   ],
   "source": [
    "tiger3.who_am_i()"
   ]
  },
  {
   "cell_type": "code",
   "execution_count": null,
   "metadata": {},
   "outputs": [],
   "source": []
  },
  {
   "cell_type": "code",
   "execution_count": null,
   "metadata": {},
   "outputs": [],
   "source": []
  }
 ],
 "metadata": {
  "kernelspec": {
   "display_name": "Python 3",
   "language": "python",
   "name": "python3"
  },
  "language_info": {
   "codemirror_mode": {
    "name": "ipython",
    "version": 3
   },
   "file_extension": ".py",
   "mimetype": "text/x-python",
   "name": "python",
   "nbconvert_exporter": "python",
   "pygments_lexer": "ipython3",
   "version": "3.7.3"
  }
 },
 "nbformat": 4,
 "nbformat_minor": 2
}
