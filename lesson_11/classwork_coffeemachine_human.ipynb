{
 "cells": [
  {
   "cell_type": "code",
   "execution_count": 11,
   "metadata": {},
   "outputs": [],
   "source": [
    "import random\n",
    "import time\n",
    "\n",
    "class Human:\n",
    "    def __init__(self):\n",
    "        self.happiness = random.randint(1, 3)\n",
    "    \n",
    "    def drink(self, cup):\n",
    "        if cup.isHot():\n",
    "            self.happiness += 1\n",
    "        else:\n",
    "            self.happiness -= 1\n",
    "    \n",
    "    def isDepressed(self):\n",
    "        return self.happiness < 0\n",
    "    \n",
    "    def isHappy(self):\n",
    "        return self.happiness > 2\n",
    "\n",
    "class Cup:\n",
    "    def __init__(self):\n",
    "        self.created_at = time.time()\n",
    "    \n",
    "    def isHot(self):\n",
    "        return time.time() - self.created_at < 10\n",
    "\n",
    "class CoffeeMachine:\n",
    "    milk_size = 10\n",
    "    water_size = 10\n",
    "    coffee_size = 10\n",
    "    \n",
    "    def __init__(self):\n",
    "        self.milk = 0\n",
    "        self.coffee = 0\n",
    "        self.water = 0\n",
    "    \n",
    "    def hasMilk(self):\n",
    "        return self.milk > 0\n",
    "    \n",
    "    def hasCoffee(self):\n",
    "        return self.coffee > 0\n",
    "    \n",
    "    def hasWater(self):\n",
    "        return self.water > 0\n",
    "    \n",
    "    def addMilk(self):\n",
    "        self.milk = self.milk_size\n",
    "    \n",
    "    def addWater(self):\n",
    "        self.water = self.water_size\n",
    "        \n",
    "    def addCoffee(self):\n",
    "        self.coffee = self.coffee_size\n",
    "        \n",
    "    def makeEspresso(self):\n",
    "        if self.hasCoffee() and self.hasWater():\n",
    "            self.water -= 1\n",
    "            self.coffee -= 1\n",
    "            return Cup()\n",
    "        return None\n",
    "    \n",
    "    def makeCappucino(self):\n",
    "        if self.hasCoffee() and self.hasWater() and self.hasMilk():\n",
    "            self.water -= 1\n",
    "            self.coffee -= 1\n",
    "            self.milk -= 1\n",
    "            return Cup()\n",
    "        return None"
   ]
  },
  {
   "cell_type": "code",
   "execution_count": 12,
   "metadata": {},
   "outputs": [
    {
     "data": {
      "text/plain": [
       "False"
      ]
     },
     "execution_count": 12,
     "metadata": {},
     "output_type": "execute_result"
    }
   ],
   "source": [
    "Vasya = Human()\n",
    "Vasya.isHappy()"
   ]
  },
  {
   "cell_type": "code",
   "execution_count": 13,
   "metadata": {},
   "outputs": [
    {
     "data": {
      "text/plain": [
       "False"
      ]
     },
     "execution_count": 13,
     "metadata": {},
     "output_type": "execute_result"
    }
   ],
   "source": [
    "Vasya.isDepressed()"
   ]
  },
  {
   "cell_type": "code",
   "execution_count": 14,
   "metadata": {},
   "outputs": [],
   "source": [
    "machine = CoffeeMachine()\n",
    "machine.addWater()\n",
    "machine.addCoffee()\n",
    "\n",
    "cup = machine.makeEspresso()"
   ]
  },
  {
   "cell_type": "code",
   "execution_count": 18,
   "metadata": {},
   "outputs": [
    {
     "data": {
      "text/plain": [
       "False"
      ]
     },
     "execution_count": 18,
     "metadata": {},
     "output_type": "execute_result"
    }
   ],
   "source": [
    "cup.isHot()"
   ]
  },
  {
   "cell_type": "code",
   "execution_count": 21,
   "metadata": {},
   "outputs": [
    {
     "data": {
      "text/plain": [
       "True"
      ]
     },
     "execution_count": 21,
     "metadata": {},
     "output_type": "execute_result"
    }
   ],
   "source": [
    "Vasya.drink(cup)\n",
    "Vasya.isDepressed()"
   ]
  },
  {
   "cell_type": "code",
   "execution_count": null,
   "metadata": {},
   "outputs": [],
   "source": []
  }
 ],
 "metadata": {
  "kernelspec": {
   "display_name": "Python 3",
   "language": "python",
   "name": "python3"
  },
  "language_info": {
   "codemirror_mode": {
    "name": "ipython",
    "version": 3
   },
   "file_extension": ".py",
   "mimetype": "text/x-python",
   "name": "python",
   "nbconvert_exporter": "python",
   "pygments_lexer": "ipython3",
   "version": "3.7.3"
  }
 },
 "nbformat": 4,
 "nbformat_minor": 2
}
