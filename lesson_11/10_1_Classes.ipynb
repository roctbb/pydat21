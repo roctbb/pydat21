{
 "cells": [
  {
   "cell_type": "markdown",
   "metadata": {},
   "source": [
    "Центр непрерывного образования\n",
    "\n",
    "# Программа «Python для автоматизации и анализа данных»\n",
    "\n",
    "## Классы\n",
    "\n",
    "*Автор: Татьяна Рогович, НИУ ВШЭ*"
   ]
  },
  {
   "cell_type": "markdown",
   "metadata": {},
   "source": [
    "### Объектно-Ориентированное Программирование (ООП)\n",
    "\n",
    "Объектно-ориентированное программирование (ООП) является методологией разработки программного обеспечения, в основе которой лежит понятие класса и объекта, при этом сама программа создается как некоторая совокупность объектов, которые взаимодействуют друг с другом и с внешним миром. Каждый объект является экземпляром некоторого класса. Классы образуют иерархии. Классы, как и функции, создаются и используются для удобства и упрощения разработки программ. Более подробно о понятии ООП можно прочитать на [википедии](https://ru.wikipedia.org/wiki/%D0%9E%D0%B1%D1%8A%D0%B5%D0%BA%D1%82%D0%BD%D0%BE-%D0%BE%D1%80%D0%B8%D0%B5%D0%BD%D1%82%D0%B8%D1%80%D0%BE%D0%B2%D0%B0%D0%BD%D0%BD%D0%BE%D0%B5_%D0%BF%D1%80%D0%BE%D0%B3%D1%80%D0%B0%D0%BC%D0%BC%D0%B8%D1%80%D0%BE%D0%B2%D0%B0%D0%BD%D0%B8%D0%B5).\n",
    "\n",
    "Выделяют три основных “столпа” ООП - это инкапсуляция, наследование и полиморфизм.\n",
    "\n",
    "### Инкапсуляция\n",
    "\n",
    "Под инкапсуляцией понимается сокрытие деталей реализации, данных и т.п. от внешней стороны. Например, можно определить класс `холодильник`, который будет содержать следующие данные: `производитель`, `объем`, `количество камер хранения`, `потребляемая мощность` и т.п., и методы: `открыть/закрыть холодильник`, `включить/выключить`, но при этом реализация того, как происходит непосредственно включение и выключение пользователю вашего класса не доступна, что позволяет ее менять без опасения, что это может отразиться на использующей класс «холодильник» программе. При этом класс становится новым типом данных в рамках разрабатываемой программы. Можно создавать переменные этого нового типа, такие переменные называются объекты.\n",
    "\n",
    "### Наследование\n",
    "\n",
    "Под наследованием понимается возможность создания нового класса на базе существующего. При этом класс потомок будет содержать те же атрибуты и методы, что и базовый класс, но при этом его можно (и нужно) расширять через добавление новых методов и атрибутов.\n",
    "\n",
    "Примером базового класса, демонстрирующего наследование, можно определить класс `автомобиль`, имеющий атрибуты: масса, мощность двигателя, объем топливного бака и методы: завести и заглушить. У такого класса может быть потомок – `грузовой автомобиль`, он будет содержать те же атрибуты и методы, что и класс `автомобиль`, и дополнительные свойства: количество осей, мощность компрессора и т.п..\n",
    "\n",
    "### Полиморфизм\n",
    "\n",
    "Полиморфизм позволяет одинаково обращаться с объектами, имеющими однотипный интерфейс, независимо от внутренней реализации объекта. Например, с объектом класса `грузовой автомобиль` можно производить те же операции, что и с объектом класса `автомобиль`, т.к. первый является наследником второго, при этом обратное утверждение неверно (во всяком случае не всегда). Другими словами полиморфизм предполагает разную реализацию методов с одинаковыми именами. Это очень полезно при наследовании, когда в классе наследнике можно переопределить методы класса родителя. Простым примером полиморфизма может служить функция `count()`, выполняющая одинаковое действие для различных типов обьектов: `'abc'.count('a')` и `[1, 2, 'a'].count('a')`. Оператор плюс полиморфичен при сложении чисел и при сложении строк."
   ]
  },
  {
   "cell_type": "markdown",
   "metadata": {},
   "source": [
    "### Мы уже встречались с классами\n",
    "На самом деле мы постоянно работаем с классами. По сути, все типы данных в python - это классы. Если мы вызовем функцию dir() от любого объекта, то мы увидим все его атрибуты и атрибуты его фундамента."
   ]
  },
  {
   "cell_type": "code",
   "execution_count": 16,
   "metadata": {},
   "outputs": [
    {
     "name": "stdout",
     "output_type": "stream",
     "text": [
      "['__add__', '__class__', '__contains__', '__delattr__', '__dir__', '__doc__', '__eq__', '__format__', '__ge__', '__getattribute__', '__getitem__', '__getnewargs__', '__gt__', '__hash__', '__init__', '__init_subclass__', '__iter__', '__le__', '__len__', '__lt__', '__mod__', '__mul__', '__ne__', '__new__', '__reduce__', '__reduce_ex__', '__repr__', '__rmod__', '__rmul__', '__setattr__', '__sizeof__', '__str__', '__subclasshook__', 'capitalize', 'casefold', 'center', 'count', 'encode', 'endswith', 'expandtabs', 'find', 'format', 'format_map', 'index', 'isalnum', 'isalpha', 'isdecimal', 'isdigit', 'isidentifier', 'islower', 'isnumeric', 'isprintable', 'isspace', 'istitle', 'isupper', 'join', 'ljust', 'lower', 'lstrip', 'maketrans', 'partition', 'replace', 'rfind', 'rindex', 'rjust', 'rpartition', 'rsplit', 'rstrip', 'split', 'splitlines', 'startswith', 'strip', 'swapcase', 'title', 'translate', 'upper', 'zfill']\n"
     ]
    }
   ],
   "source": [
    "x = 'Marc'\n",
    "print(dir(x))"
   ]
  },
  {
   "cell_type": "markdown",
   "metadata": {},
   "source": [
    "Переменная x - экземпляр класса str и обладает всеми атрибутами этого класса."
   ]
  },
  {
   "cell_type": "code",
   "execution_count": 17,
   "metadata": {},
   "outputs": [
    {
     "name": "stdout",
     "output_type": "stream",
     "text": [
      "['__add__', '__class__', '__contains__', '__delattr__', '__dir__', '__doc__', '__eq__', '__format__', '__ge__', '__getattribute__', '__getitem__', '__getnewargs__', '__gt__', '__hash__', '__init__', '__init_subclass__', '__iter__', '__le__', '__len__', '__lt__', '__mod__', '__mul__', '__ne__', '__new__', '__reduce__', '__reduce_ex__', '__repr__', '__rmod__', '__rmul__', '__setattr__', '__sizeof__', '__str__', '__subclasshook__', 'capitalize', 'casefold', 'center', 'count', 'encode', 'endswith', 'expandtabs', 'find', 'format', 'format_map', 'index', 'isalnum', 'isalpha', 'isdecimal', 'isdigit', 'isidentifier', 'islower', 'isnumeric', 'isprintable', 'isspace', 'istitle', 'isupper', 'join', 'ljust', 'lower', 'lstrip', 'maketrans', 'partition', 'replace', 'rfind', 'rindex', 'rjust', 'rpartition', 'rsplit', 'rstrip', 'split', 'splitlines', 'startswith', 'strip', 'swapcase', 'title', 'translate', 'upper', 'zfill']\n"
     ]
    }
   ],
   "source": [
    "print(dir(str)) # сравним"
   ]
  },
  {
   "cell_type": "markdown",
   "metadata": {},
   "source": [
    "## Создание классов в Python\n",
    "\n",
    "Создание класса в Python начинается с инструкции `class`. Вот так будет выглядеть минимальный класс:"
   ]
  },
  {
   "cell_type": "code",
   "execution_count": 18,
   "metadata": {},
   "outputs": [],
   "source": [
    "class Car:\n",
    "   \"\"\"Необязательная строка документации класса\"\"\"  \n",
    "   pass"
   ]
  },
  {
   "cell_type": "markdown",
   "metadata": {},
   "source": [
    "Класс состоит из объявления (инструкция `class`), имени класса (нашем случае это имя `Car`) и тела класса, которое содержит атрибуты и методы (в нашем минимальном классе есть только одна инструкция `pass`). Также хорошим тоном считается описывать что делает этот класс и его методы, сразу после его объявления.\n",
    "\n",
    "Несмотря на пустое тело класса `Car`, на его основе уже можно создать определенный объект, обладающий уникальным идентификатором. Для того чтобы создать объект класса необходимо воспользоваться следующим синтаксисом:"
   ]
  },
  {
   "cell_type": "code",
   "execution_count": 19,
   "metadata": {},
   "outputs": [],
   "source": [
    "audi = Car()"
   ]
  },
  {
   "cell_type": "markdown",
   "metadata": {},
   "source": [
    "Определив новый класс, можно создавать сколько угодно объектов на его основе. Как уже было сказано выше, такая структура данных может включать в себя некие свойства, то есть переменные, которыми будет наделен каждый экземпляр класса.\n"
   ]
  },
  {
   "cell_type": "code",
   "execution_count": 20,
   "metadata": {},
   "outputs": [
    {
     "name": "stdout",
     "output_type": "stream",
     "text": [
      "['__class__', '__delattr__', '__dict__', '__dir__', '__doc__', '__eq__', '__format__', '__ge__', '__getattribute__', '__gt__', '__hash__', '__init__', '__init_subclass__', '__le__', '__lt__', '__module__', '__ne__', '__new__', '__reduce__', '__reduce_ex__', '__repr__', '__setattr__', '__sizeof__', '__str__', '__subclasshook__', '__weakref__']\n"
     ]
    }
   ],
   "source": [
    "print(dir(audi)) # пока никаких свойств не видим"
   ]
  },
  {
   "cell_type": "code",
   "execution_count": 21,
   "metadata": {},
   "outputs": [
    {
     "name": "stdout",
     "output_type": "stream",
     "text": [
      "<class '__main__.Car'>\n"
     ]
    }
   ],
   "source": [
    "print(type(audi))"
   ]
  },
  {
   "cell_type": "markdown",
   "metadata": {},
   "source": [
    "`__main__` в питоне значит \"файл, который сечас исполняется\". Поэтому наша переменная класса audi класса Car 'созданного в файле, который сейчас исполняется'."
   ]
  },
  {
   "cell_type": "markdown",
   "metadata": {},
   "source": [
    "### Статические и динамические атрибуты класса\n",
    "\n",
    "Как уже было сказано выше, класс может содержать `атрибуты` и `методы`. `Атрибут` может быть статическим и динамическим. Суть в том, что для работы со статическим атрибутом, вам не нужно создавать экземпляр класса, а для работы с динамическим – нужно. Например, создадим такой класс `Car`:"
   ]
  },
  {
   "cell_type": "code",
   "execution_count": 22,
   "metadata": {},
   "outputs": [],
   "source": [
    "class Car:\n",
    "    default_color = \"green\"\n",
    "    \n",
    "    def __init__(self, color, brand, doors_num):\n",
    "        if color == None:\n",
    "            self.color = self.default_color\n",
    "        else:\n",
    "            self.color = color\n",
    "            \n",
    "        self.brand = brand\n",
    "        self.doors_num = doors_num"
   ]
  },
  {
   "cell_type": "markdown",
   "metadata": {},
   "source": [
    "Метод `__init__` вызывается всякий раз, когда вы создаете объект на основе этого класса. Метод `__init__` вызывается единожды, и не может быть вызван снова внутри программы. Другое определение метода `__init__` — это конструктор. Почему метод, а не функцией? Функция меняет свое имя на «method», когда она находится внутри класса. Обратите внимание на то, что каждый метод должен иметь как минимум один аргумент, что в случае с обычной функцией уже не вяжется.\n",
    "\n",
    "Методы вида `__init__` иногда называют \"magic\" потому что они ведут себя не совсем как обычные методы. Еще можно встретить название 'dunder' (double-underscore).\n",
    "\n",
    "\n",
    "В представленном выше классе, атрибут default_color – это статический атрибут, и доступ к нему, как было сказано выше, можно получить не создавая объект класса Car"
   ]
  },
  {
   "cell_type": "code",
   "execution_count": 23,
   "metadata": {},
   "outputs": [
    {
     "data": {
      "text/plain": [
       "'green'"
      ]
     },
     "execution_count": 23,
     "metadata": {},
     "output_type": "execute_result"
    }
   ],
   "source": [
    "Car.default_color"
   ]
  },
  {
   "cell_type": "markdown",
   "metadata": {},
   "source": [
    "`color`, `brand` и `doors_num` – это динамические атрибуты, при их создании было использовано ключевое слово `self`. Про `self` и будет рассказано далее. Также обратите внимание на то, что внутри класса мы используем статический атрибут `default_color` для присвоения цвета машины, если мы его явно не задали.\n",
    "\n",
    "Для доступа к `color`, `brand` и `doors_num` предварительно нужно создать объект класса Car:"
   ]
  },
  {
   "cell_type": "code",
   "execution_count": 24,
   "metadata": {},
   "outputs": [
    {
     "name": "stdout",
     "output_type": "stream",
     "text": [
      "BMW\n",
      "green\n",
      "2\n"
     ]
    }
   ],
   "source": [
    "bmw = Car(None,\"BMW\", 2)\n",
    "print(bmw.brand)\n",
    "print(bmw.color)\n",
    "print(bmw.doors_num)"
   ]
  },
  {
   "cell_type": "markdown",
   "metadata": {},
   "source": [
    "Мы создали объект класса, не задав ему конкретный цвет, поэтмоу был использован стандартный.\n",
    "\n",
    "Если к динамическому атрибуту обратиться через класс, то получим ошибку:"
   ]
  },
  {
   "cell_type": "code",
   "execution_count": 25,
   "metadata": {},
   "outputs": [
    {
     "ename": "AttributeError",
     "evalue": "type object 'Car' has no attribute 'brand'",
     "output_type": "error",
     "traceback": [
      "\u001b[1;31m---------------------------------------------------------------------------\u001b[0m",
      "\u001b[1;31mAttributeError\u001b[0m                            Traceback (most recent call last)",
      "\u001b[1;32m<ipython-input-25-8f98c7c91512>\u001b[0m in \u001b[0;36m<module>\u001b[1;34m()\u001b[0m\n\u001b[1;32m----> 1\u001b[1;33m \u001b[0mCar\u001b[0m\u001b[1;33m.\u001b[0m\u001b[0mbrand\u001b[0m\u001b[1;33m\u001b[0m\u001b[0m\n\u001b[0m",
      "\u001b[1;31mAttributeError\u001b[0m: type object 'Car' has no attribute 'brand'"
     ]
    }
   ],
   "source": [
    "Car.brand"
   ]
  },
  {
   "cell_type": "markdown",
   "metadata": {},
   "source": [
    "Иными словами статический атрибут - это стандартный атрибут класса, который общий для всех объектов этого класса. Давайте присвоим новое значение цвету."
   ]
  },
  {
   "cell_type": "code",
   "execution_count": 26,
   "metadata": {},
   "outputs": [],
   "source": [
    "Car.default_color = \"red\""
   ]
  },
  {
   "cell_type": "code",
   "execution_count": 27,
   "metadata": {},
   "outputs": [
    {
     "data": {
      "text/plain": [
       "'red'"
      ]
     },
     "execution_count": 27,
     "metadata": {},
     "output_type": "execute_result"
    }
   ],
   "source": [
    "Car.default_color"
   ]
  },
  {
   "cell_type": "markdown",
   "metadata": {},
   "source": [
    "Создадим два объекта класса `Car` и проверим, что `default_color` у них совпадает:"
   ]
  },
  {
   "cell_type": "code",
   "execution_count": 28,
   "metadata": {},
   "outputs": [],
   "source": [
    "bmw = Car(None,\"BMW\",2)\n",
    "audi = Car(None,\"AUDI\", 4)"
   ]
  },
  {
   "cell_type": "code",
   "execution_count": 29,
   "metadata": {},
   "outputs": [
    {
     "data": {
      "text/plain": [
       "'red'"
      ]
     },
     "execution_count": 29,
     "metadata": {},
     "output_type": "execute_result"
    }
   ],
   "source": [
    "bmw.default_color"
   ]
  },
  {
   "cell_type": "code",
   "execution_count": 30,
   "metadata": {},
   "outputs": [
    {
     "data": {
      "text/plain": [
       "'red'"
      ]
     },
     "execution_count": 30,
     "metadata": {},
     "output_type": "execute_result"
    }
   ],
   "source": [
    "audi.default_color"
   ]
  },
  {
   "cell_type": "markdown",
   "metadata": {},
   "source": [
    "Если поменять значение default_color через имя класса `Car`, то все будет ожидаемо: у объектов `bmw` и `audi` это значение изменится, но если поменять его через экземпляр класса, то у экземпляра будет создан атрибут с таким же именем как статический, а доступ к последнему будет потерян:"
   ]
  },
  {
   "cell_type": "code",
   "execution_count": 31,
   "metadata": {},
   "outputs": [
    {
     "data": {
      "text/plain": [
       "'blue'"
      ]
     },
     "execution_count": 31,
     "metadata": {},
     "output_type": "execute_result"
    }
   ],
   "source": [
    "bmw.default_color = \"blue\"\n",
    "bmw.default_color"
   ]
  },
  {
   "cell_type": "markdown",
   "metadata": {},
   "source": [
    "А у `audi` и класса все останется по-прежнему:"
   ]
  },
  {
   "cell_type": "code",
   "execution_count": 32,
   "metadata": {},
   "outputs": [
    {
     "data": {
      "text/plain": [
       "'red'"
      ]
     },
     "execution_count": 32,
     "metadata": {},
     "output_type": "execute_result"
    }
   ],
   "source": [
    "audi.default_color"
   ]
  },
  {
   "cell_type": "code",
   "execution_count": 33,
   "metadata": {},
   "outputs": [
    {
     "data": {
      "text/plain": [
       "'red'"
      ]
     },
     "execution_count": 33,
     "metadata": {},
     "output_type": "execute_result"
    }
   ],
   "source": [
    "Car.default_color"
   ]
  },
  {
   "cell_type": "markdown",
   "metadata": {},
   "source": [
    "Наш класс можем представить в виде автозавода. Все машины изначально делают в одном цвете `default_color = green` - зеленом. Если мы, покупая машину, хотим перекрасить ее, мы задаем цвет `color` - Car(\"black\",\"BMW\",2). Т.е. мы перекрасим машину в черный цвет, а если его не укажем, то он автоматоматически будет в стандартном зеленом цвете. Через некоторое время завод меняет стандартный цвет, допустим на красный - `Car.default_color = \"red\"` И теперь все машины будут создаваться изначально в красном цвете."
   ]
  },
  {
   "cell_type": "code",
   "execution_count": 34,
   "metadata": {},
   "outputs": [
    {
     "name": "stdout",
     "output_type": "stream",
     "text": [
      "green green green black\n",
      "green green green black\n",
      "red olive red red\n"
     ]
    }
   ],
   "source": [
    "# изначально красим в зеленый\n",
    "Car.default_color = \"green\"\n",
    "\n",
    "car1 = Car(None,\"Niva\",2)\n",
    "car2 = Car(None,\"Niva\",2)\n",
    "car3 = Car(None,\"Niva\",4)\n",
    "car4 = Car(\"black\",\"Niva\",4) # Покрасили машину в другой цвет\n",
    "\n",
    "print(car1.color,car2.color,car3.color,car4.color)\n",
    "\n",
    "# Завод перешел на новый цвет\n",
    "Car.default_color = \"red\"\n",
    "\n",
    "car5 = Car(None,\"Niva\",2)\n",
    "car6 = Car(\"olive\",\"Niva\",2)\n",
    "car7 = Car(None,\"Niva\",4)\n",
    "car8 = Car(None,\"Niva\",4) # Покрасили машину в другой цвет\n",
    "\n",
    "print(car1.color,car2.color,car3.color,car4.color)\n",
    "print(car5.color,car6.color,car7.color,car8.color)"
   ]
  },
  {
   "cell_type": "markdown",
   "metadata": {},
   "source": [
    "## Аргумент self\n",
    "\n",
    "Рассмотрим зачем нужен и что означает `self` в функциях Python. Классам нужен способ, что ссылаться на самих себя.  Это способ сообщения между экземплярами. Потому что мы должны взять значении атрибута класса именно своего экземпляра, а не чужого. `Self` таким образом заменяет идентификатор объекта. Помещать его нужно в каждый метод, чтобы иметь возможность вызвать его на текущем объекте. Также с помощью этого ключевого слова можно получать доступ к полям класса в описываемом методе. \n",
    "\n",
    "Мы уже обращались с помощью `self` к `default_color` в нашем классе `Car`.\n",
    "\n",
    "Это показывает, как экземпляр отслеживает свой аргумент self. Также вы позже увидите, что мы можем переместить переменные атрибутов из метода `__init__` в другие методы. Это возможно потому, что все эти атрибуты связанны с аргументом self. Если бы мы этого не сделали, переменные были бы вне области видимости в конце метода `__init__`."
   ]
  },
  {
   "cell_type": "code",
   "execution_count": 18,
   "metadata": {},
   "outputs": [
    {
     "data": {
      "text/plain": [
       "'green'"
      ]
     },
     "execution_count": 18,
     "metadata": {},
     "output_type": "execute_result"
    }
   ],
   "source": [
    "class Car:\n",
    "    default_color = \"green\"\n",
    "    \n",
    "    def __init__(self, color, brand, doors_num):\n",
    "        if color == None:\n",
    "            self.color = self.default_color\n",
    "        else:\n",
    "            self.color = color\n",
    "            \n",
    "        self.brand = brand\n",
    "        self.doors_num = doors_num\n",
    "        \n",
    "fiat = Car(None,\"Fiat\",5)\n",
    "fiat.color"
   ]
  },
  {
   "cell_type": "markdown",
   "metadata": {},
   "source": [
    "Если бы в качестве первого параметра не было указано `self`, то при попытке создать класс, вылезла ошибка:"
   ]
  },
  {
   "cell_type": "code",
   "execution_count": 35,
   "metadata": {},
   "outputs": [
    {
     "ename": "NameError",
     "evalue": "name 'default_color' is not defined",
     "output_type": "error",
     "traceback": [
      "\u001b[1;31m---------------------------------------------------------------------------\u001b[0m",
      "\u001b[1;31mNameError\u001b[0m                                 Traceback (most recent call last)",
      "\u001b[1;32m<ipython-input-35-be5ff8aa2a7b>\u001b[0m in \u001b[0;36m<module>\u001b[1;34m()\u001b[0m\n\u001b[0;32m     11\u001b[0m         \u001b[0mself\u001b[0m\u001b[1;33m.\u001b[0m\u001b[0mdoors_num\u001b[0m \u001b[1;33m=\u001b[0m \u001b[0mdoors_num\u001b[0m\u001b[1;33m\u001b[0m\u001b[0m\n\u001b[0;32m     12\u001b[0m \u001b[1;33m\u001b[0m\u001b[0m\n\u001b[1;32m---> 13\u001b[1;33m \u001b[0mfiat\u001b[0m \u001b[1;33m=\u001b[0m \u001b[0mCar\u001b[0m\u001b[1;33m(\u001b[0m\u001b[1;32mNone\u001b[0m\u001b[1;33m,\u001b[0m\u001b[1;34m\"Fiat\"\u001b[0m\u001b[1;33m,\u001b[0m\u001b[1;36m5\u001b[0m\u001b[1;33m)\u001b[0m\u001b[1;33m\u001b[0m\u001b[0m\n\u001b[0m\u001b[0;32m     14\u001b[0m \u001b[0mfiat\u001b[0m\u001b[1;33m.\u001b[0m\u001b[0mcolor\u001b[0m\u001b[1;33m\u001b[0m\u001b[0m\n",
      "\u001b[1;32m<ipython-input-35-be5ff8aa2a7b>\u001b[0m in \u001b[0;36m__init__\u001b[1;34m(self, color, brand, doors_num)\u001b[0m\n\u001b[0;32m      4\u001b[0m     \u001b[1;32mdef\u001b[0m \u001b[0m__init__\u001b[0m\u001b[1;33m(\u001b[0m\u001b[0mself\u001b[0m\u001b[1;33m,\u001b[0m \u001b[0mcolor\u001b[0m\u001b[1;33m,\u001b[0m \u001b[0mbrand\u001b[0m\u001b[1;33m,\u001b[0m \u001b[0mdoors_num\u001b[0m\u001b[1;33m)\u001b[0m\u001b[1;33m:\u001b[0m\u001b[1;33m\u001b[0m\u001b[0m\n\u001b[0;32m      5\u001b[0m         \u001b[1;32mif\u001b[0m \u001b[0mcolor\u001b[0m \u001b[1;33m==\u001b[0m \u001b[1;32mNone\u001b[0m\u001b[1;33m:\u001b[0m\u001b[1;33m\u001b[0m\u001b[0m\n\u001b[1;32m----> 6\u001b[1;33m             \u001b[0mself\u001b[0m\u001b[1;33m.\u001b[0m\u001b[0mcolor\u001b[0m \u001b[1;33m=\u001b[0m \u001b[0mdefault_color\u001b[0m \u001b[1;31m# нет обращения к self.default_color\u001b[0m\u001b[1;33m\u001b[0m\u001b[0m\n\u001b[0m\u001b[0;32m      7\u001b[0m         \u001b[1;32melse\u001b[0m\u001b[1;33m:\u001b[0m\u001b[1;33m\u001b[0m\u001b[0m\n\u001b[0;32m      8\u001b[0m             \u001b[0mself\u001b[0m\u001b[1;33m.\u001b[0m\u001b[0mcolor\u001b[0m \u001b[1;33m=\u001b[0m \u001b[0mcolor\u001b[0m\u001b[1;33m\u001b[0m\u001b[0m\n",
      "\u001b[1;31mNameError\u001b[0m: name 'default_color' is not defined"
     ]
    }
   ],
   "source": [
    "class Car:\n",
    "    default_color = \"green\"\n",
    "    \n",
    "    def __init__(self, color, brand, doors_num):\n",
    "        if color == None:\n",
    "            self.color = default_color # нет обращения к self.default_color\n",
    "        else:\n",
    "            self.color = color\n",
    "            \n",
    "        self.brand = brand\n",
    "        self.doors_num = doors_num\n",
    "        \n",
    "fiat = Car(None,\"Fiat\",5)\n",
    "fiat.color"
   ]
  },
  {
   "cell_type": "markdown",
   "metadata": {},
   "source": [
    "Класс не знает к переменной какого экземпляра класса он обращается, а `self` говорит ему обратиться к тому экземпляру, в котором он вызывается\\создается"
   ]
  },
  {
   "cell_type": "markdown",
   "metadata": {},
   "source": [
    "## Конструктор класса\n",
    "\n",
    "Обычно при создании класса, нам хочется его сразу инициализровать некоторыми данными. Например, когда мы создадем список `a = []`, мы можем сразу передать в него некоторые значения - `a = [1,2,3,4,5]`. Точно также можно сделать с нашими самописными классами. Для этой цели в ООП используется конструктор, принимающий необходимые параметры. До этого мы уже создавали его в нашем классе:"
   ]
  },
  {
   "cell_type": "code",
   "execution_count": 21,
   "metadata": {},
   "outputs": [
    {
     "name": "stdout",
     "output_type": "stream",
     "text": [
      "Красивый желтый Ford c 4 дверьми\n"
     ]
    }
   ],
   "source": [
    "class Car:\n",
    "    default_color = \"зеленый\"\n",
    "    \n",
    "    def __init__(self, color, brand, doors_num):\n",
    "        if color == None:\n",
    "            self.color = default_color\n",
    "        else:\n",
    "            self.color = color\n",
    "            \n",
    "        self.brand = brand\n",
    "        self.doors_num = doors_num\n",
    "\n",
    "ford = Car(\"желтый\", \"Ford\", 4)\n",
    "\n",
    "print(\"Красивый \" + ford.color + \" \" + ford.brand + \" c \"+ str(ford.doors_num) + \" дверьми\")"
   ]
  },
  {
   "cell_type": "markdown",
   "metadata": {},
   "source": [
    "Внешне конструктор похож на обычный метод, однако вызвать его явным образом нельзя. Вместо этого он автоматически срабатывает каждый раз, когда программа создает новый объект для класса, в котором он расположен. Имя у каждого конструктора задается в виде идентификатора `__init__`. Получаемые им параметры можно присвоить полям будущего объекта, воспользовавшись ключевым словом `self`, как в вышеописанном примере.\n",
    "\n",
    "Таким образом, класс `Car` содержит три поля: `color` (цвет), `brand` (марка) и `doors_num` (количество дверей). Конструктор принимает параметры для изменения этих свойств во время инициализации нового объекта под названием `ford`. Каждый класс содержит в себе по крайней мере один конструктор по умолчанию, если ни одного из них не было задано явно (т.е. если мы не создадим конструктор в нашем классе, то будет использованпустой конструктор по умолчанию и класс все равно будет работать). "
   ]
  },
  {
   "cell_type": "markdown",
   "metadata": {},
   "source": [
    "### Методы класса\n",
    "\n",
    "Добавим к нашему классу методы. Метод – это функция, находящаяся внутри класса и выполняющая определенную работу.\n",
    "\n",
    "Методы бывают статическими, классовыми и уровня экземпляра класса (будем их называть обычными меотдами). Статический метод создается с декоратором `@staticmethod`, классовый – с декоратором `@classmethod`, первым аргументом в него передается `cls` (ссылка на вызываемый класс), обычный метод создается без специального декоратора, ему первым аргументом передается `self`. Подробнее про сами декораторы, можно почитать [здесь](https://pythonworld.ru/osnovy/dekoratory.html)."
   ]
  },
  {
   "cell_type": "code",
   "execution_count": 40,
   "metadata": {},
   "outputs": [],
   "source": [
    "class Car:\n",
    "    \n",
    "    @staticmethod\n",
    "    def ex_static_method():\n",
    "        print(\"static method\")\n",
    "        \n",
    "    @classmethod\n",
    "    def ex_class_method(cls):\n",
    "        print(\"class method\")\n",
    "        \n",
    "    def ex_method(self):\n",
    "        print(\"method\")"
   ]
  },
  {
   "cell_type": "markdown",
   "metadata": {},
   "source": [
    "Статический и классовый метод можно вызвать, не создавая экземпляр класса, для вызова ex_method() нужен объект:"
   ]
  },
  {
   "cell_type": "code",
   "execution_count": 41,
   "metadata": {},
   "outputs": [
    {
     "name": "stdout",
     "output_type": "stream",
     "text": [
      "static method\n",
      "class method\n"
     ]
    },
    {
     "ename": "TypeError",
     "evalue": "ex_method() missing 1 required positional argument: 'self'",
     "output_type": "error",
     "traceback": [
      "\u001b[1;31m---------------------------------------------------------------------------\u001b[0m",
      "\u001b[1;31mTypeError\u001b[0m                                 Traceback (most recent call last)",
      "\u001b[1;32m<ipython-input-41-0b19c3763437>\u001b[0m in \u001b[0;36m<module>\u001b[1;34m()\u001b[0m\n\u001b[0;32m      3\u001b[0m \u001b[0mCar\u001b[0m\u001b[1;33m.\u001b[0m\u001b[0mex_class_method\u001b[0m\u001b[1;33m(\u001b[0m\u001b[1;33m)\u001b[0m\u001b[1;33m\u001b[0m\u001b[0m\n\u001b[0;32m      4\u001b[0m \u001b[1;33m\u001b[0m\u001b[0m\n\u001b[1;32m----> 5\u001b[1;33m \u001b[0mCar\u001b[0m\u001b[1;33m.\u001b[0m\u001b[0mex_method\u001b[0m\u001b[1;33m(\u001b[0m\u001b[1;33m)\u001b[0m\u001b[1;33m\u001b[0m\u001b[0m\n\u001b[0m",
      "\u001b[1;31mTypeError\u001b[0m: ex_method() missing 1 required positional argument: 'self'"
     ]
    }
   ],
   "source": [
    "Car.ex_static_method()\n",
    "\n",
    "Car.ex_class_method()\n",
    "\n",
    "Car.ex_method()"
   ]
  },
  {
   "cell_type": "code",
   "execution_count": 42,
   "metadata": {},
   "outputs": [
    {
     "name": "stdout",
     "output_type": "stream",
     "text": [
      "method\n"
     ]
    }
   ],
   "source": [
    "m = Car()\n",
    "m.ex_method()"
   ]
  },
  {
   "cell_type": "markdown",
   "metadata": {},
   "source": [
    "**Статическим методам** не нужен определённый первый аргумент (ни self, ни cls). Их можно воспринимать как методы, которые `не знают, к какому классу относятся`.\n",
    "\n",
    "Таким образом, статические методы прикреплены к классу лишь для удобства и не могут менять состояние ни класса, ни его экземпляра. То есть статические методы не могут получить доступ к параметрам класса или объекта. Они работают только с теми данными, которые им передаются в качестве аргументов."
   ]
  },
  {
   "cell_type": "markdown",
   "metadata": {},
   "source": [
    "**Классовые методы** принимают класс в качестве параметра, который принято обозначать как `cls`. В данном случае он указывает на класс `Car`, а не на объект этого класса.\n",
    "\n",
    "Методы класса привязаны к самому классу, а не его экземпляру. Они могут менять состояние класса, что отразится на всех объектах этого класса, но не могут менять конкретный объект.\n",
    "\n",
    "Встроенный пример метода класса — `dict.fromkeys()` — возвращает новый словарь с переданными элементами в качестве ключей."
   ]
  },
  {
   "cell_type": "code",
   "execution_count": 43,
   "metadata": {},
   "outputs": [
    {
     "data": {
      "text/plain": [
       "{'A': None, 'E': None, 'I': None, 'O': None, 'U': None}"
      ]
     },
     "execution_count": 43,
     "metadata": {},
     "output_type": "execute_result"
    }
   ],
   "source": [
    "dict.fromkeys('AEIOU')  # <- вызывается при помощи класса dict"
   ]
  },
  {
   "cell_type": "markdown",
   "metadata": {},
   "source": [
    "**Метод экземпляра класса** это наиболее часто используемый вид методов. Методы экземпляра класса принимают объект класса как первый аргумент, который принято называть `self` и который указывает на сам экземпляр. Количество параметров метода не ограничено.\n",
    "\n",
    "Используя параметр `self`, мы можем менять состояние объекта и обращаться к другим его методам и параметрам. К тому же, используя атрибут `self.__class__`, мы получаем доступ к атрибутам класса и возможности менять состояние самого класса. То есть методы экземпляров класса позволяют менять как состояние определённого объекта, так и класса.\n",
    "\n",
    "Встроенный пример метода экземпляра — `str.upper()`:"
   ]
  },
  {
   "cell_type": "code",
   "execution_count": 44,
   "metadata": {},
   "outputs": [
    {
     "data": {
      "text/plain": [
       "'WELCOME'"
      ]
     },
     "execution_count": 44,
     "metadata": {},
     "output_type": "execute_result"
    }
   ],
   "source": [
    "\"welcome\".upper()   # <- вызывается на строковых данных"
   ]
  },
  {
   "cell_type": "markdown",
   "metadata": {},
   "source": [
    "### Когда какой тип метода когда применять?\n",
    "\n",
    "Давайте рассмотрим более естественный пример и выясним в чем разница между методами."
   ]
  },
  {
   "cell_type": "code",
   "execution_count": 50,
   "metadata": {},
   "outputs": [],
   "source": [
    "from datetime import date\n",
    "\n",
    "class Car:\n",
    "    def __init__(self, brand, age):\n",
    "        self.brand = brand\n",
    "        self.age = age\n",
    "    \n",
    "    @staticmethod\n",
    "    def is_warranty_active(age):\n",
    "        return age < 3\n",
    "    \n",
    "    @classmethod\n",
    "    def from_production_year(cls, brand, prod_year):\n",
    "        return cls(brand, date.today().year - prod_year)\n",
    "      \n",
    "    def info(self):\n",
    "        print(\"Car: \" + self.brand)\n",
    "        print(\"Age: \" + str(self.age))\n",
    "        if self.is_warranty_active(self.age):\n",
    "            print(\"Warranty is ACTIVE\")\n",
    "        else:\n",
    "            print(\"Warranty is NOT active\")\n",
    "    \n",
    "car1 = Car('Subaru', 5)\n",
    "car2 = Car.from_production_year('Skoda', 2018)"
   ]
  },
  {
   "cell_type": "code",
   "execution_count": 51,
   "metadata": {},
   "outputs": [
    {
     "data": {
      "text/plain": [
       "('Subaru', 5)"
      ]
     },
     "execution_count": 51,
     "metadata": {},
     "output_type": "execute_result"
    }
   ],
   "source": [
    "car1.brand, car1.age"
   ]
  },
  {
   "cell_type": "code",
   "execution_count": 52,
   "metadata": {},
   "outputs": [
    {
     "data": {
      "text/plain": [
       "('Skoda', 2)"
      ]
     },
     "execution_count": 52,
     "metadata": {},
     "output_type": "execute_result"
    }
   ],
   "source": [
    "car2.brand, car2.age"
   ]
  },
  {
   "cell_type": "code",
   "execution_count": 56,
   "metadata": {},
   "outputs": [
    {
     "data": {
      "text/plain": [
       "False"
      ]
     },
     "execution_count": 56,
     "metadata": {},
     "output_type": "execute_result"
    }
   ],
   "source": [
    "Car.is_warranty_active(25)"
   ]
  },
  {
   "cell_type": "code",
   "execution_count": 58,
   "metadata": {},
   "outputs": [
    {
     "name": "stdout",
     "output_type": "stream",
     "text": [
      "Car: Subaru\n",
      "Age: 5\n",
      "Warranty is NOT active\n"
     ]
    }
   ],
   "source": [
    "car1.info()"
   ]
  },
  {
   "cell_type": "code",
   "execution_count": 59,
   "metadata": {},
   "outputs": [
    {
     "name": "stdout",
     "output_type": "stream",
     "text": [
      "Car: Skoda\n",
      "Age: 2\n",
      "Warranty is ACTIVE\n"
     ]
    }
   ],
   "source": [
    "car2.info()"
   ]
  },
  {
   "cell_type": "markdown",
   "metadata": {},
   "source": [
    "Метод класса - `from_production_year` возвращает нам СОЗДАННЫЙ внутри функции экземпляр класса `Car` с вычисленным возрастом. Т.к. мы не можем внутри класса `Car` вызвать класс `Car`, мы и используем `cls`.\n",
    "\n",
    "Статический метод - `is_warranty_active` выясняет действительна ли еще гарантия. Как вы видете, он не обращается к возрасту машины в классе, а принимает ее в качестве аргумента - `age`.\n",
    "\n",
    "Метод экземпляра класса - `info`, через `self` обращается к своим атрибутам, вызывает статическую функцию, передавая туда возраст машины.\n",
    "\n",
    "Выбор того, какой из методов использовать, может показаться достаточно сложным. Тем не менее с опытом этот выбор делать гораздо проще. Чаще всего **метод класса** используется тогда, когда нужен генерирующий метод, возвращающий объект класса. Как видим, метод класса `from_production_year` используется для создания объекта класса `Car` по году производства машины, а не по указанному возрасту. \n",
    "\n",
    "Статические методы в основном используются как вспомогательные функции и работают с данными, которые им передаются.\n",
    "\n",
    "Итак:\n",
    "- Методы экземпляра класса получают доступ к объекту класса через параметр `self` и к классу через `self.__class__`.\n",
    "- Методы класса не могут получить доступ к определённому объекту класса, но имеют доступ к самому классу через `cls`.\n",
    "- Статические методы работают как обычные функции, но принадлежат области имён класса. Они не имеют доступа ни к самому классу, ни к его экземплярам."
   ]
  },
  {
   "cell_type": "markdown",
   "metadata": {},
   "source": [
    "## Деструктор\n",
    "\n",
    "Работа с деструктором, как правило, является прерогативой языков, предоставляющих более широкие возможности для управления памятью. Несмотря на грамотную работу сборщика мусора, обеспечивающего своевременное удаление ненужных объектов, вызов деструктора все еще остается доступным. Переопределить его можно в классе, задав имя `__del__`."
   ]
  },
  {
   "cell_type": "code",
   "execution_count": 60,
   "metadata": {},
   "outputs": [
    {
     "name": "stdout",
     "output_type": "stream",
     "text": [
      "The object is destroyed\n"
     ]
    }
   ],
   "source": [
    "class Data:\n",
    "    def __del__(self):\n",
    "        print(\"The object is destroyed\")\n",
    "        \n",
    "data = Data()\n",
    "del(data)"
   ]
  },
  {
   "cell_type": "markdown",
   "metadata": {},
   "source": [
    "Как и конструктор, деструктор может содержать некий пользовательский код, сообщающий об успешном завершении работы метода. В данном примере создается экземпляр класса `Data` и вызывается его деструктор, принимающий в качестве параметра сам объект."
   ]
  },
  {
   "cell_type": "markdown",
   "metadata": {},
   "source": [
    "## Задание\n",
    "\n",
    "1. Определите класс Student(). Его конструктор должен принимать два параметра: имя и курс обучения (год) и сохранять их в переменные name (str) и year (int).\n",
    "\n",
    "2. Создате класс Grade() с атрибутом класса minimum_passing равным 4.\n",
    "\n",
    "3. Добавьте в Grade конструктор, который должен принимать один аргумент (оценку) и сохранять ее в переменную score. Добавьте в Grade динамический метод, который проверяет оценку на минимальный балл и возвращает True, если она больше или равна четырем.\n",
    "\n",
    "4. В конструкторе класса Student объявите self.grades и присвойте пустой список.\n",
    "\n",
    "5. Создайте два экземпляра класса ivan (Иван Смирнов, 2 курс) и olga (Ольга Петрова, 4 курс).\n",
    "\n",
    "6. Добавьте в класс Student динамический метод add_grade(), который принимает параметр grade. add_grade() должен проверять, что введенная оценка является проходной (is_passing()). Если да, то добавьте .score оценки в список студента, если нет, то ничего не делайте.\n",
    "\n",
    "7. Создайте новый экземпляр Grade() с параметром 10 и добавьте его в оценки Ивана. Добавьте в оценки Ивана еще две оценки - 5 и 7. Выведите оценки Ивана. Добавьте в оценки Ольги 2 и 4. Выведите оценки Ольги.\n",
    "\n",
    "8. В классе Student создайте метод get_average, который возвращает среднее оценок студента. Выведите среднее оценок Ивана."
   ]
  },
  {
   "cell_type": "code",
   "execution_count": 110,
   "metadata": {},
   "outputs": [
    {
     "name": "stdout",
     "output_type": "stream",
     "text": [
      "[10, 5, 7]\n",
      "[4]\n"
     ]
    },
    {
     "data": {
      "text/plain": [
       "7.333333333333333"
      ]
     },
     "execution_count": 110,
     "metadata": {},
     "output_type": "execute_result"
    }
   ],
   "source": [
    "class Student:\n",
    "  def __init__(self,name, year):\n",
    "    self.name = name\n",
    "    self.year = year\n",
    "    self.grades = []\n",
    "\n",
    "  def add_grade(self, grade):\n",
    "    if grade.is_passing():\n",
    "        self.grades.append(grade.score)\n",
    "  def get_average(self):\n",
    "    return sum(self.grades) / len(self.grades)\n",
    "\n",
    "class Grade:\n",
    "  minimum_passing = 4\n",
    "  def __init__(self, score):\n",
    "    self.score = score\n",
    "  def is_passing(self):\n",
    "    return self.score >= 4\n",
    "\n",
    "ivan = Student('Иван Смирнов', 2)\n",
    "olga = Student('Ольга Петрова', 4)\n",
    "\n",
    "ivan.add_grade(Grade(10))\n",
    "ivan.add_grade(Grade(5))\n",
    "ivan.add_grade(Grade(7))\n",
    "print(ivan.grades)\n",
    "olga.add_grade(Grade(2))\n",
    "olga.add_grade(Grade(4))\n",
    "print(olga.grades)\n",
    "ivan.get_average()"
   ]
  },
  {
   "cell_type": "code",
   "execution_count": 61,
   "metadata": {},
   "outputs": [],
   "source": [
    "class Car:\n",
    "    def __init__(self, brand, doors_num):\n",
    "        self._brand = brand\n",
    "        self._doors_num = doors_num\n",
    "        \n",
    "    def get_brand(self):\n",
    "        return self._brand\n",
    "    \n",
    "    def set_brand(self, b):\n",
    "        self._brand = b\n",
    "        \n",
    "    def get_doors(self):\n",
    "        return self._doors_num\n",
    "    \n",
    "    def set_doors(self, d):\n",
    "        self._doors = d\n",
    "        \n",
    "    def info(self):\n",
    "        return \"Nice car with \" + str(self._doors) + \" doors\""
   ]
  },
  {
   "cell_type": "markdown",
   "metadata": {},
   "source": [
    "В приведенном примере для доступа к `_brand` и` _doors_num` используются специальные методы, но ничего не мешает вам обратиться к ним (атрибутам) напрямую."
   ]
  },
  {
   "cell_type": "code",
   "execution_count": 62,
   "metadata": {},
   "outputs": [
    {
     "data": {
      "text/plain": [
       "'Mersedes'"
      ]
     },
     "execution_count": 62,
     "metadata": {},
     "output_type": "execute_result"
    }
   ],
   "source": [
    "mersedes = Car(\"Mersedes\", 6)\n",
    "mersedes.get_brand()"
   ]
  },
  {
   "cell_type": "code",
   "execution_count": 63,
   "metadata": {},
   "outputs": [
    {
     "data": {
      "text/plain": [
       "'Mersedes'"
      ]
     },
     "execution_count": 63,
     "metadata": {},
     "output_type": "execute_result"
    }
   ],
   "source": [
    "mersedes._brand"
   ]
  },
  {
   "cell_type": "markdown",
   "metadata": {},
   "source": [
    "Если же атрибут или метод начинается с двух подчеркиваний, то тут напрямую вы к нему уже не обратитесь (простым образом). Модифицируем наш класс `Car`:"
   ]
  },
  {
   "cell_type": "code",
   "execution_count": 64,
   "metadata": {},
   "outputs": [],
   "source": [
    "class Car:\n",
    "    def __init__(self, brand, doors_num):\n",
    "        self.__brand = brand\n",
    "        self.__doors_num = doors_num\n",
    "        \n",
    "    def get_brand(self):\n",
    "        return self.__brand\n",
    "    \n",
    "    def set_brand(self, b):\n",
    "        self.__brand = b\n",
    "    \n",
    "    def get_doors(self):\n",
    "        return self.__doors_num\n",
    "    \n",
    "    def set_doors(self, d):\n",
    "        self.__doors = d\n",
    "        \n",
    "    def info(self):\n",
    "        return \"Nice car with \" + str(self.__doors_num) + \" doors\""
   ]
  },
  {
   "cell_type": "markdown",
   "metadata": {},
   "source": [
    "Попытка обратиться к `__brand` напрямую вызовет ошибку, нужно работать только через get_brand():"
   ]
  },
  {
   "cell_type": "code",
   "execution_count": 65,
   "metadata": {},
   "outputs": [
    {
     "data": {
      "text/plain": [
       "'Mersedes'"
      ]
     },
     "execution_count": 65,
     "metadata": {},
     "output_type": "execute_result"
    }
   ],
   "source": [
    "mersedes = Car(\"Mersedes\", 6)\n",
    "mersedes.get_brand()"
   ]
  },
  {
   "cell_type": "code",
   "execution_count": 66,
   "metadata": {},
   "outputs": [
    {
     "ename": "AttributeError",
     "evalue": "'Car' object has no attribute '__brand'",
     "output_type": "error",
     "traceback": [
      "\u001b[1;31m---------------------------------------------------------------------------\u001b[0m",
      "\u001b[1;31mAttributeError\u001b[0m                            Traceback (most recent call last)",
      "\u001b[1;32m<ipython-input-66-4bb8311b9cb4>\u001b[0m in \u001b[0;36m<module>\u001b[1;34m()\u001b[0m\n\u001b[1;32m----> 1\u001b[1;33m \u001b[0mmersedes\u001b[0m\u001b[1;33m.\u001b[0m\u001b[0m__brand\u001b[0m\u001b[1;33m\u001b[0m\u001b[0m\n\u001b[0m",
      "\u001b[1;31mAttributeError\u001b[0m: 'Car' object has no attribute '__brand'"
     ]
    }
   ],
   "source": [
    "mersedes.__brand"
   ]
  },
  {
   "cell_type": "markdown",
   "metadata": {},
   "source": [
    "Но на самом деле это сделать можно, просто этот атрибут теперь для внешнего использования носит название: `_Car__brand`:"
   ]
  },
  {
   "cell_type": "code",
   "execution_count": 67,
   "metadata": {},
   "outputs": [
    {
     "data": {
      "text/plain": [
       "'Mersedes'"
      ]
     },
     "execution_count": 67,
     "metadata": {},
     "output_type": "execute_result"
    }
   ],
   "source": [
    "mersedes._Car__brand"
   ]
  },
  {
   "cell_type": "markdown",
   "metadata": {},
   "source": [
    "## Наследование\n",
    "\n",
    "Возможность одному классу выступать в качестве наследника для другого, перенимая тем самым его свойства и методы, является важной особенностью ООП. Благодаря этой важной особенности пропадает необходимость переписывания кода для подобных или родственных по назначению классов.\n",
    "\n",
    "При наследовании классов в Python обязательно следует соблюдать одно условие: `класс-наследник` должен представлять собой более частный случай `класса-родителя`. В следующем примере показывается как класс `Car` наследуется классом `Truck`. При описании подкласса в Python, имя родительского класса записывается в круглых скобках."
   ]
  },
  {
   "cell_type": "code",
   "execution_count": 68,
   "metadata": {},
   "outputs": [],
   "source": [
    "class Car:\n",
    "    def __init__(self, brand, doors_num):\n",
    "        self.__brand = brand\n",
    "        self.__doors_num = doors_num\n",
    "        \n",
    "    def get_brand(self):\n",
    "        return self.__brand\n",
    "    \n",
    "    def set_brand(self, b):\n",
    "        self.__brand = b\n",
    "    \n",
    "    def get_doors(self):\n",
    "        return self.__doors_num\n",
    "    \n",
    "    def set_doors(self, d):\n",
    "        self.__doors = d\n",
    "        \n",
    "    def info(self):\n",
    "        return \"Nice car with \" + str(self.__doors_num) + \" doors\""
   ]
  },
  {
   "cell_type": "code",
   "execution_count": 69,
   "metadata": {},
   "outputs": [],
   "source": [
    "class Truck(Car):\n",
    "    \n",
    "    def __init__(self, brand, doors_num, load_weight, axes):\n",
    "        super().__init__(brand, doors_num)\n",
    "        self.__load_weight = load_weight\n",
    "        self.__axes = axes\n",
    "    \n",
    "    def get_load(self):\n",
    "        return self.__load_weight\n",
    "    \n",
    "    def set_load(self, l):\n",
    "        self.__load_weight = l\n",
    "        \n",
    "    def get_axes(self):\n",
    "        return self.__axes\n",
    "    \n",
    "    def set_axes(self, a):\n",
    "        self.__axes = a"
   ]
  },
  {
   "cell_type": "markdown",
   "metadata": {},
   "source": [
    "Родительским классом является `Car`, который при инициализации принимает бренд машины и количество дверей и предоставляет его через свойства. `Truck` – класс наследник от `Car`. Обратите внимание на его метод `__init__`: в нем первым делом вызывается конструктор его родительского класса: `super().__init__(brand, doors_num)`\n",
    "\n",
    "`super` – это ключевое слово, которое используется для обращения к родительскому классу. Теперь у объекта класса `Truck` помимо уже знакомых свойств `brand` и `doors_num` появились свойства `load_weight` и `axes`:"
   ]
  },
  {
   "cell_type": "code",
   "execution_count": 70,
   "metadata": {},
   "outputs": [
    {
     "data": {
      "text/plain": [
       "'Kamaz'"
      ]
     },
     "execution_count": 70,
     "metadata": {},
     "output_type": "execute_result"
    }
   ],
   "source": [
    "truck = Truck(\"Kamaz\",2,13000,6)\n",
    "\n",
    "truck.get_brand()"
   ]
  },
  {
   "cell_type": "markdown",
   "metadata": {},
   "source": [
    "И смотрите, методы из родительского класса работают!"
   ]
  },
  {
   "cell_type": "code",
   "execution_count": 71,
   "metadata": {},
   "outputs": [
    {
     "data": {
      "text/plain": [
       "13000"
      ]
     },
     "execution_count": 71,
     "metadata": {},
     "output_type": "execute_result"
    }
   ],
   "source": [
    "truck.get_load()"
   ]
  },
  {
   "cell_type": "code",
   "execution_count": 72,
   "metadata": {},
   "outputs": [
    {
     "data": {
      "text/plain": [
       "8"
      ]
     },
     "execution_count": 72,
     "metadata": {},
     "output_type": "execute_result"
    }
   ],
   "source": [
    "truck.set_axes(8)\n",
    "truck.get_axes()"
   ]
  },
  {
   "cell_type": "markdown",
   "metadata": {},
   "source": [
    "### Множественное наследование\n",
    "\n",
    "Наследовать можно не только один класс, но и несколько одновременно, обретая тем самым их свойства и методы. В данном примере класс `Dog` выступает в роли подкласса для `Animal` и `Pet` , поскольку может являться и тем, и другим. От `Animal Dog` получает способность спать (метод `sleep`), в то время как `Pet` дает возможность играть с хозяином (метод `play`). В свою очередь, оба родительских класса унаследовали поле `name` от `Creature`. Класс `Dog` также получил это свойство и может его использовать. Так как мы не используем конструкторы в наследованных классах, то и вызывать через `super()` ничего не надо. Конструктор родительского класса, вызовется автоматически."
   ]
  },
  {
   "cell_type": "code",
   "execution_count": 73,
   "metadata": {},
   "outputs": [
    {
     "name": "stdout",
     "output_type": "stream",
     "text": [
      "Buddy is sleeping\n",
      "Buddy is playing\n",
      "Buddy is barking\n"
     ]
    }
   ],
   "source": [
    "class Creature:\n",
    "    def __init__(self, name):\n",
    "        self.name = name\n",
    "        \n",
    "class Animal(Creature):\n",
    "    def sleep(self):\n",
    "        print(self.name + \" is sleeping\")\n",
    "        \n",
    "class Pet(Creature):\n",
    "    def play(self):\n",
    "        print(self.name + \" is playing\")\n",
    "        \n",
    "class Dog(Animal, Pet):\n",
    "    def bark(self):\n",
    "        print(self.name + \" is barking\")\n",
    "        \n",
    "beast = Dog(\"Buddy\")\n",
    "beast.sleep()\n",
    "beast.play()\n",
    "beast.bark()"
   ]
  },
  {
   "cell_type": "markdown",
   "metadata": {},
   "source": [
    "В вышеописанном примере создается объект класса `Dog`, получающий имя в конструкторе. Затем по очереди выполняются методы `sleep`, `play` и `bark`, двое из которых были унаследованы. Способность лаять является уникальной особенностью собаки, поскольку не каждое животное или домашний питомец умеет это делать."
   ]
  },
  {
   "cell_type": "markdown",
   "metadata": {},
   "source": [
    "## Полиморфизм\n",
    "\n",
    "Как уже было сказано во введении в рамках ООП полиморфизм, как правило, используется с позиции переопределения методов базового класса в классе наследнике. Проще всего это рассмотреть на примере. В нашем базовом класс `Car` есть метод `info()`, который печатает сводную информацию по объекту класса `Car` и переопределим этот метод в классе `Truck`, добавим  в него дополнительные данные:"
   ]
  },
  {
   "cell_type": "code",
   "execution_count": 75,
   "metadata": {},
   "outputs": [],
   "source": [
    "class Car:\n",
    "    def __init__(self, brand, doors_num):\n",
    "        self.__brand = brand\n",
    "        self.__doors_num = doors_num\n",
    "        \n",
    "    def get_brand(self):\n",
    "        return self.__brand\n",
    "    \n",
    "    def set_brand(self, b):\n",
    "        self.__brand = b\n",
    "    \n",
    "    def get_doors(self):\n",
    "        return self.__doors_num\n",
    "    \n",
    "    def set_doors(self, d):\n",
    "        self.__doors = d\n",
    "        \n",
    "    def info(self):\n",
    "        return \"Nice car with \" + str(self.__doors_num) + \" doors\""
   ]
  },
  {
   "cell_type": "code",
   "execution_count": 76,
   "metadata": {},
   "outputs": [],
   "source": [
    "class Truck(Car):\n",
    "    \n",
    "    def __init__(self, brand, doors_num, load_weight, axes):\n",
    "        super().__init__(brand, doors_num)\n",
    "        self.__load_weight = load_weight\n",
    "        self.__axes = axes\n",
    "        \n",
    "    def get_load(self):\n",
    "        return self.__load_weight\n",
    "    \n",
    "    def set_load(self, l):\n",
    "        self.__load_weight = l\n",
    "        \n",
    "    def get_axes(self):\n",
    "        return self.__axes\n",
    "    \n",
    "    def set_axes(self, a):\n",
    "        self.__axes = a\n",
    "        \n",
    "    def info(self):\n",
    "        return \"Nice car with \" + str(self.get_doors()) + \" doors and can carry \" + str(self.__load_weight) + \" kg of cargo\""
   ]
  },
  {
   "cell_type": "markdown",
   "metadata": {},
   "source": [
    "Посмотрим, как это работает"
   ]
  },
  {
   "cell_type": "code",
   "execution_count": 77,
   "metadata": {},
   "outputs": [
    {
     "data": {
      "text/plain": [
       "'Nice car with 4 doors'"
      ]
     },
     "execution_count": 77,
     "metadata": {},
     "output_type": "execute_result"
    }
   ],
   "source": [
    "audi = Car(\"Audi\", 4)\n",
    "audi.info()"
   ]
  },
  {
   "cell_type": "code",
   "execution_count": 78,
   "metadata": {},
   "outputs": [
    {
     "data": {
      "text/plain": [
       "'Nice car with 2 doors and can carry 6500 kg of cargo'"
      ]
     },
     "execution_count": 78,
     "metadata": {},
     "output_type": "execute_result"
    }
   ],
   "source": [
    "scania = Truck(\"Scania\",2,6500,4)\n",
    "scania.info()"
   ]
  },
  {
   "cell_type": "markdown",
   "metadata": {},
   "source": [
    "Таким образом, класс наследник может расширять функционал класса родителя.\n",
    "\n",
    "## Задание\n",
    "\n",
    "1. Создайте класс InsurancePolicy, конструктор которого принимает один аргумент - стоимость застрахованного объекта.\n",
    "2. Создайте класс VehicleInsurance, который наследуется от первого класса и определите в нем метод класса get_rate, который возвращает 0.1% от стоимости машины.\n",
    "3. Создайте класс HomeInsurance, который наследуется от первого класса и определите в нем метод класса get_rate, который возвращает 0.005% от стоимости дома.\n",
    "4. Создайте экземпляр второго и третьего класса и для каждого вызовите get_rate()"
   ]
  },
  {
   "cell_type": "code",
   "execution_count": 103,
   "metadata": {},
   "outputs": [
    {
     "name": "stdout",
     "output_type": "stream",
     "text": [
      "850.0\n",
      "375.0\n"
     ]
    }
   ],
   "source": [
    "class InsurancePolicy:\n",
    "  def __init__(self, price_of_item):\n",
    "    self.price_of_insured_item = price_of_item\n",
    "\n",
    "class VehicleInsurance(InsurancePolicy):\n",
    "  def get_rate(self):\n",
    "    return 0.001 * self.price_of_insured_item\n",
    "\n",
    "class HomeInsurance(InsurancePolicy):\n",
    "  def get_rate(self):\n",
    "    return 0.00005 * self.price_of_insured_item\n",
    "\n",
    "my_car = VehicleInsurance(850000)\n",
    "my_home = HomeInsurance(7500000)\n",
    "print(my_car.get_rate())\n",
    "print(my_home.get_rate())"
   ]
  },
  {
   "cell_type": "markdown",
   "metadata": {},
   "source": [
    "## Задание\n",
    "\n",
    "1. Напишите класс SortedList, который наследуется от встроенного класса list.\n",
    "2. Переопределите метод append - ваш класс должен сначала делать .append(), но после добавления каждого элемента сортировать список. Чтобы использовать методы родительского класса, можно использовать super().\n",
    "3. Дополните конструктор вашего класса, чтобы он сортировал список, который в него приходит.\n"
   ]
  },
  {
   "cell_type": "code",
   "execution_count": 79,
   "metadata": {},
   "outputs": [
    {
     "name": "stdout",
     "output_type": "stream",
     "text": [
      "[2, 2, 4]\n",
      "[2, 2, 4, 5]\n"
     ]
    }
   ],
   "source": [
    "class SortedList(list):\n",
    "    def __init__(self, lst):\n",
    "        super().__init__(lst)\n",
    "        self.sort()  \n",
    "\n",
    "    def append(self, value):\n",
    "        super().append(value)\n",
    "        super().sort()\n",
    "\n",
    "\n",
    "x = SortedList([2,4,2])\n",
    "print(x)\n",
    "x.append(5)\n",
    "print(x)"
   ]
  },
  {
   "cell_type": "markdown",
   "metadata": {},
   "source": [
    "## Абстрактные методы\n",
    "\n",
    "Поскольку в ООП присутствует возможность наследовать поведение родительского класса, иногда возникает необходимость в специфической реализации соответствующих методов. В качестве примера можно привести следующий код, где классы `Truck` и `Bus` являются потомками класса `Car`. Как и положено, они оба наследуют метод `horn` (гудеть), однако в родительском классе для него не существует реализации.\n",
    "\n",
    "Все потому, что машина представляет собой абстрактное понятие, а значит она не способна издавать какой-то конкретный гудок. Однако для грузовика и автобуса данная команда зачастую имеет общепринятое значение. В таком случае можно утверждать, что метод `honk` из `Car` является абстрактным, поскольку не имеет собственного тела реализации."
   ]
  },
  {
   "cell_type": "code",
   "execution_count": 80,
   "metadata": {},
   "outputs": [
    {
     "name": "stdout",
     "output_type": "stream",
     "text": [
      "UUUUUU\n",
      "RRRRrrrr\n"
     ]
    }
   ],
   "source": [
    "class Car:\n",
    "    def __init__(self, brand):\n",
    "        self.__brand = brand\n",
    "        \n",
    "    def honk(self):\n",
    "        pass\n",
    "    \n",
    "class Truck(Car):\n",
    "    def honk(self):\n",
    "        print(\"RRRRrrrr\")\n",
    "        \n",
    "class Bus(Car):\n",
    "    def honk(self):\n",
    "        print(\"UUUUUU\")\n",
    "        \n",
    "        \n",
    "Vanhool = Bus(\"Vanhool\")\n",
    "Iveco = Truck(\"Iveco\")\n",
    "\n",
    "Vanhool.honk()\n",
    "Iveco.honk()"
   ]
  },
  {
   "cell_type": "markdown",
   "metadata": {},
   "source": [
    "Как видно из примера, потомки `Truck` и `Bus` получают `horn`, после чего переопределяют его каждый по-своему. В этом заключается суть полиморфизма, позволяющего изменять ход работы определенного метода исходя из нужд конкретного класса. При этом название у него остается общим для всех наследников, что помогает избежать путаницы с именами."
   ]
  },
  {
   "cell_type": "markdown",
   "metadata": {},
   "source": [
    "## Перегрузка операторов\n",
    "\n",
    "Для обработки примитивных типов данных в языках программирования используются специальные операторы. К примеру, арифметические операции выполняются при помощи обычных знаков плюс, минус, умножить, разделить. Однако при работе с собственными типами информации вполне может потребоваться помощь этих операторов. Благодаря специальным функциям, их можно самостоятельно настроить под свои задачи.\n",
    "\n",
    "В данном примере создается класс `Point`, обладающий двумя полями: `x` и `y`. Для сравнения двух разных объектов такого типа можно написать специальный метод либо же просто перегрузить соответствующий оператор. Для этого потребуется переопределить функцию `__eq__` в собственном классе, реализовав новое поведение в ее теле."
   ]
  },
  {
   "cell_type": "code",
   "execution_count": 81,
   "metadata": {},
   "outputs": [
    {
     "name": "stdout",
     "output_type": "stream",
     "text": [
      "True\n",
      "False\n"
     ]
    }
   ],
   "source": [
    "class Point:\n",
    "    \n",
    "    def __init__(self, x, y):\n",
    "        self.x = x\n",
    "        self.y = y\n",
    "        \n",
    "    def __eq__(self, other):\n",
    "        return self.x == other.x and self.y == other.y\n",
    "    \n",
    "print(Point(2, 5) == Point(2, 5))\n",
    "print(Point(3, 8) == Point(4, 6))"
   ]
  },
  {
   "cell_type": "markdown",
   "metadata": {},
   "source": [
    "Переопределенный метод возвращает результат сравнения двух полей у различных объектов. Благодаря этому появилась возможность сравнивать две разных точки, пользуясь всего лишь обычным оператором. Результат его работы выводится при помощи метода `print`.\n",
    "\n",
    "Аналогично сравнению, можно реализовать в Python перегрузку операторов сложения, вычитания и других арифметических и логических действий. Так же можно сделать перегрузку стандартных функций str и len.\n",
    "\n",
    "Если мы не перегрузим оператор, то наш класс выдаст ошибку или будет работать некорректно:"
   ]
  },
  {
   "cell_type": "code",
   "execution_count": 82,
   "metadata": {},
   "outputs": [
    {
     "name": "stdout",
     "output_type": "stream",
     "text": [
      "False\n",
      "False\n"
     ]
    }
   ],
   "source": [
    "class Point:\n",
    "    \n",
    "    def __init__(self, x, y):\n",
    "        self.x = x\n",
    "        self.y = y\n",
    "        \n",
    "    \n",
    "print(Point(2, 5) == Point(2, 5))\n",
    "print(Point(3, 8) == Point(4, 6))"
   ]
  },
  {
   "cell_type": "markdown",
   "metadata": {},
   "source": [
    "Так же можно переопределить строковую репрезентацию класса через метод `__repr__` - он может иметь только аргумент self и обязан вовзращать строку."
   ]
  },
  {
   "cell_type": "code",
   "execution_count": 99,
   "metadata": {},
   "outputs": [
    {
     "name": "stdout",
     "output_type": "stream",
     "text": [
      "<__main__.Car object at 0x0000021176E2E8D0>\n"
     ]
    }
   ],
   "source": [
    "class Car:\n",
    "    pass\n",
    "audi = Car()\n",
    "print(audi)"
   ]
  },
  {
   "cell_type": "code",
   "execution_count": 100,
   "metadata": {},
   "outputs": [
    {
     "name": "stdout",
     "output_type": "stream",
     "text": [
      "Instance of class Car\n"
     ]
    }
   ],
   "source": [
    "class Car:\n",
    "    def __repr__(self):\n",
    "        return 'Instance of class Car'\n",
    "audi = Car()\n",
    "print(audi)"
   ]
  },
  {
   "cell_type": "markdown",
   "metadata": {},
   "source": [
    "## Задание\n",
    "\n",
    "1. Создайте класс Team, конструктор должен брать два аргумента sport (в каком виде спорта выступает команда) и players (список имен игроков).\n",
    "2. Переопределите функцию `__len__`, чтобы при вызове от экземпляра класса Team она возвращала количество игроков в команде.\n",
    "3. Переопределите функцию `__contains__`, чтобы конструкция ___ in {экземпляр Team} показывала наличие игрока в команде.\n",
    "4. Переопределите строковое представление вашего класса. Строка должна содержать вид спорта, в котором выступает команда."
   ]
  },
  {
   "cell_type": "code",
   "execution_count": 95,
   "metadata": {},
   "outputs": [
    {
     "name": "stdout",
     "output_type": "stream",
     "text": [
      "True\n",
      "4\n",
      "Football team\n"
     ]
    }
   ],
   "source": [
    "class Team:\n",
    "  def __init__(self, sport, players):\n",
    "    self.sport = sport\n",
    "    self.players = players\n",
    "\n",
    "  def __len__(self):\n",
    "    return len(self.players)\n",
    "\n",
    "  def __contains__(self, player):\n",
    "    return player in self.players\n",
    "\n",
    "  def __repr__(self):\n",
    "        return f'{self.sport} team'\n",
    "    \n",
    "denmark92 = Team(\"Football\", [\"Schmeichel\", \"Laudrup\", 'Vilfort', 'Faxe'])\n",
    "\n",
    "print('Vilfort' in denmark92)\n",
    "print(len(denmark92))\n",
    "print(denmark92)"
   ]
  }
 ],
 "metadata": {
  "kernelspec": {
   "display_name": "Python 3",
   "language": "python",
   "name": "python3"
  },
  "language_info": {
   "codemirror_mode": {
    "name": "ipython",
    "version": 3
   },
   "file_extension": ".py",
   "mimetype": "text/x-python",
   "name": "python",
   "nbconvert_exporter": "python",
   "pygments_lexer": "ipython3",
   "version": "3.6.5"
  }
 },
 "nbformat": 4,
 "nbformat_minor": 2
}
